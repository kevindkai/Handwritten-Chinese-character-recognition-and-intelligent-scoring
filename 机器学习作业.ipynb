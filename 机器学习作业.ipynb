{
 "cells": [
  {
   "cell_type": "code",
   "execution_count": 1,
   "metadata": {},
   "outputs": [],
   "source": [
    "import numpy as np\n",
    "import pandas as pd \n",
    "import matplotlib.pyplot as plt\n",
    "%matplotlib inline"
   ]
  },
  {
   "cell_type": "markdown",
   "metadata": {},
   "source": [
    "# 回归"
   ]
  },
  {
   "cell_type": "markdown",
   "metadata": {},
   "source": [
    "## 多元线性回归"
   ]
  },
  {
   "cell_type": "code",
   "execution_count": 2,
   "metadata": {},
   "outputs": [
    {
     "name": "stdout",
     "output_type": "stream",
     "text": [
      "样本的个数 = 506,     特征的个数 = 13\n",
      "Boston房价数据集描述: .. _boston_dataset:\n",
      "\n",
      "Boston house prices dataset\n",
      "---------------------------\n",
      "\n",
      "**Data Set Characteristics:**  \n",
      "\n",
      "    :Number of Instances: 506 \n",
      "\n",
      "    :Number of Attributes: 13 numeric/categorical predictive. Median Value (attribute 14) is usually the target.\n",
      "\n",
      "    :Attribute Information (in order):\n",
      "        - CRIM     per capita crime rate by town\n",
      "        - ZN       proportion of residential land zoned for lots over 25,000 sq.ft.\n",
      "        - INDUS    proportion of non-retail business acres per town\n",
      "        - CHAS     Charles River dummy variable (= 1 if tract bounds river; 0 otherwise)\n",
      "        - NOX      nitric oxides concentration (parts per 10 million)\n",
      "        - RM       average number of rooms per dwelling\n",
      "        - AGE      proportion of owner-occupied units built prior to 1940\n",
      "        - DIS      weighted distances to five Boston employment centres\n",
      "        - RAD      index of accessibility to radial highways\n",
      "        - TAX      full-value property-tax rate per $10,000\n",
      "        - PTRATIO  pupil-teacher ratio by town\n",
      "        - B        1000(Bk - 0.63)^2 where Bk is the proportion of blacks by town\n",
      "        - LSTAT    % lower status of the population\n",
      "        - MEDV     Median value of owner-occupied homes in $1000's\n",
      "\n",
      "    :Missing Attribute Values: None\n",
      "\n",
      "    :Creator: Harrison, D. and Rubinfeld, D.L.\n",
      "\n",
      "This is a copy of UCI ML housing dataset.\n",
      "https://archive.ics.uci.edu/ml/machine-learning-databases/housing/\n",
      "\n",
      "\n",
      "This dataset was taken from the StatLib library which is maintained at Carnegie Mellon University.\n",
      "\n",
      "The Boston house-price data of Harrison, D. and Rubinfeld, D.L. 'Hedonic\n",
      "prices and the demand for clean air', J. Environ. Economics & Management,\n",
      "vol.5, 81-102, 1978.   Used in Belsley, Kuh & Welsch, 'Regression diagnostics\n",
      "...', Wiley, 1980.   N.B. Various transformations are used in the table on\n",
      "pages 244-261 of the latter.\n",
      "\n",
      "The Boston house-price data has been used in many machine learning papers that address regression\n",
      "problems.   \n",
      "     \n",
      ".. topic:: References\n",
      "\n",
      "   - Belsley, Kuh & Welsch, 'Regression diagnostics: Identifying Influential Data and Sources of Collinearity', Wiley, 1980. 244-261.\n",
      "   - Quinlan,R. (1993). Combining Instance-Based and Model-Based Learning. In Proceedings on the Tenth International Conference of Machine Learning, 236-243, University of Massachusetts, Amherst. Morgan Kaufmann.\n",
      "\n"
     ]
    }
   ],
   "source": [
    "# 使用python自带的波士顿房价数据集\n",
    "from sklearn.datasets import load_boston\n",
    "X,y=load_boston(return_X_y=True)\n",
    "print(\"样本的个数 = {},     特征的个数 = {}\".format(X.shape[0],X.shape[1]))\n",
    "print(\"Boston房价数据集描述:\",load_boston().DESCR)\n",
    "# 采用留出法划分数据集\n",
    "from sklearn.model_selection import train_test_split\n",
    "X_train,X_test,y_train,y_test=train_test_split(X,y,test_size=0.25,random_state=123)\n",
    "# 将数据进行标准化\n",
    "from sklearn.preprocessing import StandardScaler\n",
    "scaler=StandardScaler().fit(X_train)\n",
    "X_train=scaler.transform(X_train)\n",
    "X_test=scaler.transform(X_test)"
   ]
  },
  {
   "cell_type": "code",
   "execution_count": 3,
   "metadata": {},
   "outputs": [
    {
     "name": "stdout",
     "output_type": "stream",
     "text": [
      "多元线性回归模型拟合的均方误差为:24.769\n",
      "多元线性回归可以解释原变量60.536%的信息\n"
     ]
    }
   ],
   "source": [
    "# 导入多元线性回归函数\n",
    "from sklearn.linear_model import LinearRegression\n",
    "model_lr=LinearRegression()  # 模型实例化\n",
    "# 模型训练及预测\n",
    "model_lr=model_lr.fit(X_train,y_train)\n",
    "y_pred=model_lr.predict(X_test)\n",
    "# 模型评价：采用MSE和R^2来进行评价\n",
    "from sklearn.metrics import mean_squared_error\n",
    "from sklearn.metrics import r2_score\n",
    "MSE=mean_squared_error(y_pred,y_test)\n",
    "r2=r2_score(y_pred,y_test)\n",
    "print(\"多元线性回归模型拟合的均方误差为:{}\".format(round(MSE,3)))\n",
    "print(\"多元线性回归可以解释原变量%.3f%%的信息\"% (r2 *100))"
   ]
  },
  {
   "cell_type": "markdown",
   "metadata": {},
   "source": [
    "## 多项式回归"
   ]
  },
  {
   "cell_type": "code",
   "execution_count": 4,
   "metadata": {},
   "outputs": [
    {
     "name": "stdout",
     "output_type": "stream",
     "text": [
      "样本的个数 = 506,    特征的个数 = 13\n"
     ]
    }
   ],
   "source": [
    "# 使用python自带的波士顿房价数据集\n",
    "from sklearn.datasets import load_boston\n",
    "X,y=load_boston(return_X_y=True)\n",
    "print(\"样本的个数 = {},    特征的个数 = {}\".format(X.shape[0],X.shape[1]))\n",
    "\n",
    "# 采用留出法划分数据集\n",
    "from sklearn.model_selection import train_test_split\n",
    "X_train,X_test,y_train,y_test=train_test_split(X,y,test_size=0.25,random_state=123)\n",
    "# 将数据进行标准化\n",
    "from sklearn.preprocessing import StandardScaler\n",
    "scaler=StandardScaler().fit(X_train)\n",
    "X_train=scaler.transform(X_train)\n",
    "X_test=scaler.transform(X_test)"
   ]
  },
  {
   "cell_type": "code",
   "execution_count": 5,
   "metadata": {},
   "outputs": [
    {
     "name": "stdout",
     "output_type": "stream",
     "text": [
      "多项式回归模型拟合的均方误差为:13.787\n",
      "多项式回归可以解释原变量81.615%的信息\n"
     ]
    }
   ],
   "source": [
    "# 导入线性回归函数和将特征生成多项式的函数，并将其结合为pipeline\n",
    "from sklearn.linear_model import LinearRegression\n",
    "from sklearn.preprocessing import PolynomialFeatures\n",
    "from sklearn.pipeline import make_pipeline\n",
    "poly=PolynomialFeatures(degree=3)  # 将degree设为3,3次多项式\n",
    "model_poly=make_pipeline(PolynomialFeatures(degree=2),LinearRegression())\n",
    "# 模型训练及预测\n",
    "model_poly=model_poly.fit(X_train,y_train)\n",
    "y_pred=model_poly.predict(X_test)\n",
    "# 模型评价：采用MSE和R^2来进行评价\n",
    "from sklearn.metrics import mean_squared_error\n",
    "from sklearn.metrics import r2_score\n",
    "MSE=mean_squared_error(y_pred,y_test)\n",
    "r2=r2_score(y_pred,y_test)\n",
    "print(\"多项式回归模型拟合的均方误差为:{}\".format(round(MSE,3)))\n",
    "print(\"多项式回归可以解释原变量%.3f%%的信息\"% (r2 *100))"
   ]
  },
  {
   "cell_type": "markdown",
   "metadata": {},
   "source": [
    "# 判别分析"
   ]
  },
  {
   "cell_type": "markdown",
   "metadata": {},
   "source": [
    "## logistic回归"
   ]
  },
  {
   "cell_type": "code",
   "execution_count": null,
   "metadata": {},
   "outputs": [],
   "source": [
    "# 使用python自带的乳腺癌数据集（二分类）\n",
    "from sklearn.datasets import load_breast_cancer\n",
    "X,y=load_breast_cancer(return_X_y=True)\n",
    "print(\"样本的个数 = {}, 特征的个数 = {}\".format(X.shape[0],X.shape[1]))\n",
    "# 采用留出法划分数据集\n",
    "from sklearn.model_selection import train_test_split\n",
    "X_train,X_test,y_train,y_test=train_test_split(X,y,test_size=0.25,random_state=123)\n",
    "# 将数据进行标准化\n",
    "from sklearn.preprocessing import StandardScaler\n",
    "scaler=StandardScaler().fit(X_train)\n",
    "X_train=scaler.transform(X_train)\n",
    "X_test=scaler.transform(X_test)"
   ]
  },
  {
   "cell_type": "code",
   "execution_count": 20,
   "metadata": {},
   "outputs": [
    {
     "name": "stdout",
     "output_type": "stream",
     "text": [
      "              precision    recall  f1-score   support\n",
      "\n",
      "           0       0.98      1.00      0.99        53\n",
      "           1       1.00      0.99      0.99        90\n",
      "\n",
      "    accuracy                           0.99       143\n",
      "   macro avg       0.99      0.99      0.99       143\n",
      "weighted avg       0.99      0.99      0.99       143\n",
      "\n",
      "逻辑回归模型拟合的准确率为:99.301%\n"
     ]
    }
   ],
   "source": [
    "# 导入逻辑回归函数\n",
    "from sklearn.linear_model import LogisticRegression\n",
    "model_logistic=LogisticRegression()\n",
    "# 模型训练及预测\n",
    "model_logistic=model_logistic.fit(X_train,y_train)\n",
    "y_pred=model_logistic.predict(X_test)\n",
    "# 模型评价\n",
    "from sklearn.metrics import classification_report\n",
    "print(classification_report(y_pred,y_test))\n",
    "from sklearn.metrics import accuracy_score\n",
    "Acc=accuracy_score(y_pred,y_test)\n",
    "print(\"逻辑回归模型拟合的准确率为:%.3f%%\"% (Acc *100))"
   ]
  },
  {
   "cell_type": "markdown",
   "metadata": {},
   "source": [
    "## probit回归"
   ]
  },
  {
   "cell_type": "code",
   "execution_count": 8,
   "metadata": {
    "scrolled": true
   },
   "outputs": [
    {
     "name": "stdout",
     "output_type": "stream",
     "text": [
      "样本的个数 = 569, 特征的个数 = 30\n",
      "Optimization terminated successfully.\n",
      "         Current function value: 0.025016\n",
      "         Iterations 18\n",
      "Optimization terminated successfully.\n",
      "         Current function value: 0.025131\n",
      "         Iterations 18\n",
      "Optimization terminated successfully.\n",
      "         Current function value: 0.025012\n",
      "         Iterations 18\n",
      "Optimization terminated successfully.\n",
      "         Current function value: 0.025116\n",
      "         Iterations 18\n",
      "Optimization terminated successfully.\n",
      "         Current function value: 0.025107\n",
      "         Iterations 18\n",
      "Optimization terminated successfully.\n",
      "         Current function value: 0.025164\n",
      "         Iterations 18\n",
      "Optimization terminated successfully.\n",
      "         Current function value: 0.025122\n",
      "         Iterations 18\n",
      "Optimization terminated successfully.\n",
      "         Current function value: 0.025196\n",
      "         Iterations 18\n",
      "Optimization terminated successfully.\n",
      "         Current function value: 0.025152\n",
      "         Iterations 18\n",
      "Optimization terminated successfully.\n",
      "         Current function value: 0.025071\n",
      "         Iterations 18\n",
      "Optimization terminated successfully.\n",
      "         Current function value: 0.025211\n",
      "         Iterations 18\n",
      "Optimization terminated successfully.\n",
      "         Current function value: 0.025129\n",
      "         Iterations 18\n",
      "Optimization terminated successfully.\n",
      "         Current function value: 0.025205\n",
      "         Iterations 18\n"
     ]
    },
    {
     "name": "stderr",
     "output_type": "stream",
     "text": [
      "D:\\Users\\kw\\Anaconda3\\lib\\site-packages\\statsmodels\\discrete\\discrete_model.py:2125: RuntimeWarning: invalid value encountered in true_divide\n",
      "  L = q*self.pdf(q*XB)/self.cdf(q*XB)\n",
      "D:\\Users\\kw\\Anaconda3\\lib\\site-packages\\statsmodels\\base\\optimizer.py:300: RuntimeWarning: invalid value encountered in greater\n",
      "  oldparams) > tol)):\n",
      "D:\\Users\\kw\\Anaconda3\\lib\\site-packages\\ipykernel_launcher.py:24: RuntimeWarning: invalid value encountered in greater_equal\n"
     ]
    },
    {
     "name": "stdout",
     "output_type": "stream",
     "text": [
      "Optimization terminated successfully.\n",
      "         Current function value: nan\n",
      "         Iterations 20\n",
      "Optimization terminated successfully.\n",
      "         Current function value: 0.025227\n",
      "         Iterations 18\n",
      "Optimization terminated successfully.\n",
      "         Current function value: 0.025084\n",
      "         Iterations 18\n",
      "Optimization terminated successfully.\n",
      "         Current function value: 0.025115\n",
      "         Iterations 18\n",
      "Optimization terminated successfully.\n",
      "         Current function value: 0.025114\n",
      "         Iterations 18\n",
      "Optimization terminated successfully.\n",
      "         Current function value: 0.024992\n",
      "         Iterations 18\n",
      "Optimization terminated successfully.\n",
      "         Current function value: 0.025273\n",
      "         Iterations 17\n",
      "Optimization terminated successfully.\n",
      "         Current function value: 0.025327\n",
      "         Iterations 17\n",
      "Optimization terminated successfully.\n",
      "         Current function value: 0.025335\n",
      "         Iterations 17\n",
      "Optimization terminated successfully.\n",
      "         Current function value: 0.025167\n",
      "         Iterations 18\n",
      "Optimization terminated successfully.\n",
      "         Current function value: 0.025084\n",
      "         Iterations 18\n",
      "Optimization terminated successfully.\n",
      "         Current function value: 0.025018\n",
      "         Iterations 18\n",
      "Optimization terminated successfully.\n",
      "         Current function value: 0.025062\n",
      "         Iterations 18\n",
      "Optimization terminated successfully.\n",
      "         Current function value: 0.025127\n",
      "         Iterations 18\n",
      "Optimization terminated successfully.\n",
      "         Current function value: 0.025104\n",
      "         Iterations 18\n",
      "Optimization terminated successfully.\n",
      "         Current function value: 0.025074\n",
      "         Iterations 18\n",
      "Optimization terminated successfully.\n",
      "         Current function value: 0.025203\n",
      "         Iterations 18\n",
      "Optimization terminated successfully.\n",
      "         Current function value: 0.025023\n",
      "         Iterations 18\n",
      "Optimization terminated successfully.\n",
      "         Current function value: 0.025071\n",
      "         Iterations 18\n",
      "Optimization terminated successfully.\n",
      "         Current function value: 0.025076\n",
      "         Iterations 18\n",
      "Optimization terminated successfully.\n",
      "         Current function value: 0.025104\n",
      "         Iterations 18\n",
      "Optimization terminated successfully.\n",
      "         Current function value: 0.025118\n",
      "         Iterations 18\n",
      "Optimization terminated successfully.\n",
      "         Current function value: 0.025116\n",
      "         Iterations 18\n",
      "Optimization terminated successfully.\n",
      "         Current function value: 0.025187\n",
      "         Iterations 18\n",
      "Optimization terminated successfully.\n",
      "         Current function value: 0.025346\n",
      "         Iterations 17\n",
      "Optimization terminated successfully.\n",
      "         Current function value: 0.025158\n",
      "         Iterations 18\n",
      "Optimization terminated successfully.\n",
      "         Current function value: 0.025202\n",
      "         Iterations 18\n"
     ]
    },
    {
     "name": "stderr",
     "output_type": "stream",
     "text": [
      "D:\\Users\\kw\\Anaconda3\\lib\\site-packages\\statsmodels\\discrete\\discrete_model.py:2125: RuntimeWarning: invalid value encountered in true_divide\n",
      "  L = q*self.pdf(q*XB)/self.cdf(q*XB)\n",
      "D:\\Users\\kw\\Anaconda3\\lib\\site-packages\\statsmodels\\base\\optimizer.py:300: RuntimeWarning: invalid value encountered in greater\n",
      "  oldparams) > tol)):\n",
      "D:\\Users\\kw\\Anaconda3\\lib\\site-packages\\ipykernel_launcher.py:24: RuntimeWarning: invalid value encountered in greater_equal\n"
     ]
    },
    {
     "name": "stdout",
     "output_type": "stream",
     "text": [
      "Optimization terminated successfully.\n",
      "         Current function value: nan\n",
      "         Iterations 21\n",
      "Optimization terminated successfully.\n",
      "         Current function value: 0.025192\n",
      "         Iterations 18\n",
      "Optimization terminated successfully.\n",
      "         Current function value: 0.025032\n",
      "         Iterations 18\n",
      "Optimization terminated successfully.\n",
      "         Current function value: 0.025173\n",
      "         Iterations 18\n",
      "Optimization terminated successfully.\n",
      "         Current function value: 0.025163\n",
      "         Iterations 18\n",
      "Optimization terminated successfully.\n",
      "         Current function value: 0.025054\n",
      "         Iterations 18\n",
      "Optimization terminated successfully.\n",
      "         Current function value: 0.025382\n",
      "         Iterations 17\n",
      "Optimization terminated successfully.\n",
      "         Current function value: 0.025132\n",
      "         Iterations 18\n",
      "Optimization terminated successfully.\n",
      "         Current function value: 0.025289\n",
      "         Iterations 17\n",
      "Optimization terminated successfully.\n",
      "         Current function value: 0.025205\n",
      "         Iterations 17\n",
      "Optimization terminated successfully.\n",
      "         Current function value: 0.025313\n",
      "         Iterations 17\n",
      "Optimization terminated successfully.\n",
      "         Current function value: 0.025331\n",
      "         Iterations 17\n",
      "Optimization terminated successfully.\n",
      "         Current function value: 0.025339\n",
      "         Iterations 17\n",
      "Optimization terminated successfully.\n",
      "         Current function value: 0.025140\n",
      "         Iterations 18\n",
      "Optimization terminated successfully.\n",
      "         Current function value: 0.025197\n",
      "         Iterations 18\n",
      "Optimization terminated successfully.\n",
      "         Current function value: 0.025313\n",
      "         Iterations 17\n",
      "Optimization terminated successfully.\n",
      "         Current function value: 0.025055\n",
      "         Iterations 18\n",
      "Optimization terminated successfully.\n",
      "         Current function value: 0.025138\n",
      "         Iterations 18\n",
      "Optimization terminated successfully.\n",
      "         Current function value: 0.025377\n",
      "         Iterations 17\n",
      "Optimization terminated successfully.\n",
      "         Current function value: 0.025356\n",
      "         Iterations 17\n",
      "Optimization terminated successfully.\n",
      "         Current function value: 0.025447\n",
      "         Iterations 18\n",
      "Optimization terminated successfully.\n",
      "         Current function value: 0.025332\n",
      "         Iterations 17\n",
      "Optimization terminated successfully.\n",
      "         Current function value: 0.025109\n",
      "         Iterations 18\n",
      "Optimization terminated successfully.\n",
      "         Current function value: 0.025395\n",
      "         Iterations 17\n",
      "Optimization terminated successfully.\n",
      "         Current function value: 0.025128\n",
      "         Iterations 18\n",
      "Optimization terminated successfully.\n",
      "         Current function value: 0.025183\n",
      "         Iterations 18\n",
      "Optimization terminated successfully.\n",
      "         Current function value: 0.025335\n",
      "         Iterations 17\n",
      "Optimization terminated successfully.\n",
      "         Current function value: 0.025340\n",
      "         Iterations 17\n",
      "Optimization terminated successfully.\n",
      "         Current function value: 0.024960\n",
      "         Iterations 19\n",
      "Optimization terminated successfully.\n",
      "         Current function value: 0.025337\n",
      "         Iterations 17\n",
      "Optimization terminated successfully.\n",
      "         Current function value: 0.025063\n",
      "         Iterations 18\n",
      "Optimization terminated successfully.\n",
      "         Current function value: 0.025623\n",
      "         Iterations 17\n",
      "Optimization terminated successfully.\n",
      "         Current function value: 0.025076\n",
      "         Iterations 18\n",
      "Optimization terminated successfully.\n",
      "         Current function value: nan\n",
      "         Iterations 22\n",
      "Optimization terminated successfully.\n",
      "         Current function value: 0.025284\n",
      "         Iterations 17\n",
      "Optimization terminated successfully.\n",
      "         Current function value: 0.025113\n",
      "         Iterations 18\n",
      "Optimization terminated successfully."
     ]
    },
    {
     "name": "stderr",
     "output_type": "stream",
     "text": [
      "D:\\Users\\kw\\Anaconda3\\lib\\site-packages\\statsmodels\\discrete\\discrete_model.py:2125: RuntimeWarning: invalid value encountered in true_divide\n",
      "  L = q*self.pdf(q*XB)/self.cdf(q*XB)\n",
      "D:\\Users\\kw\\Anaconda3\\lib\\site-packages\\statsmodels\\base\\optimizer.py:300: RuntimeWarning: invalid value encountered in greater\n",
      "  oldparams) > tol)):\n",
      "D:\\Users\\kw\\Anaconda3\\lib\\site-packages\\ipykernel_launcher.py:24: RuntimeWarning: invalid value encountered in greater_equal\n"
     ]
    },
    {
     "name": "stdout",
     "output_type": "stream",
     "text": [
      "\n",
      "         Current function value: 0.025386\n",
      "         Iterations 17\n",
      "Optimization terminated successfully.\n",
      "         Current function value: 0.025084\n",
      "         Iterations 18\n",
      "Optimization terminated successfully.\n",
      "         Current function value: 0.025053\n",
      "         Iterations 18\n",
      "Optimization terminated successfully.\n",
      "         Current function value: 0.025322\n",
      "         Iterations 17\n",
      "Optimization terminated successfully.\n",
      "         Current function value: 0.025297\n",
      "         Iterations 17\n",
      "Optimization terminated successfully.\n",
      "         Current function value: nan\n",
      "         Iterations 17\n",
      "Optimization terminated successfully.\n",
      "         Current function value: 0.024943\n",
      "         Iterations 18\n",
      "Optimization terminated successfully."
     ]
    },
    {
     "name": "stderr",
     "output_type": "stream",
     "text": [
      "D:\\Users\\kw\\Anaconda3\\lib\\site-packages\\statsmodels\\discrete\\discrete_model.py:2125: RuntimeWarning: invalid value encountered in true_divide\n",
      "  L = q*self.pdf(q*XB)/self.cdf(q*XB)\n",
      "D:\\Users\\kw\\Anaconda3\\lib\\site-packages\\statsmodels\\base\\optimizer.py:300: RuntimeWarning: invalid value encountered in greater\n",
      "  oldparams) > tol)):\n",
      "D:\\Users\\kw\\Anaconda3\\lib\\site-packages\\ipykernel_launcher.py:24: RuntimeWarning: invalid value encountered in greater_equal\n"
     ]
    },
    {
     "name": "stdout",
     "output_type": "stream",
     "text": [
      "\n",
      "         Current function value: 0.025198\n",
      "         Iterations 18\n",
      "Optimization terminated successfully.\n",
      "         Current function value: 0.025290\n",
      "         Iterations 17\n",
      "Optimization terminated successfully.\n",
      "         Current function value: 0.025070\n",
      "         Iterations 18\n",
      "Optimization terminated successfully.\n",
      "         Current function value: 0.025232\n",
      "         Iterations 17\n",
      "Optimization terminated successfully.\n",
      "         Current function value: 0.025047\n",
      "         Iterations 18\n",
      "Optimization terminated successfully.\n",
      "         Current function value: 0.025283\n",
      "         Iterations 17\n"
     ]
    },
    {
     "name": "stderr",
     "output_type": "stream",
     "text": [
      "D:\\Users\\kw\\Anaconda3\\lib\\site-packages\\statsmodels\\discrete\\discrete_model.py:2125: RuntimeWarning: invalid value encountered in true_divide\n",
      "  L = q*self.pdf(q*XB)/self.cdf(q*XB)\n",
      "D:\\Users\\kw\\Anaconda3\\lib\\site-packages\\statsmodels\\base\\optimizer.py:300: RuntimeWarning: invalid value encountered in greater\n",
      "  oldparams) > tol)):\n",
      "D:\\Users\\kw\\Anaconda3\\lib\\site-packages\\ipykernel_launcher.py:24: RuntimeWarning: invalid value encountered in greater_equal\n"
     ]
    },
    {
     "name": "stdout",
     "output_type": "stream",
     "text": [
      "Optimization terminated successfully.\n",
      "         Current function value: nan\n",
      "         Iterations 33\n",
      "Optimization terminated successfully.\n",
      "         Current function value: 0.025290\n",
      "         Iterations 17\n",
      "Optimization terminated successfully.\n",
      "         Current function value: 0.025222\n",
      "         Iterations 18\n",
      "Optimization terminated successfully.\n",
      "         Current function value: 0.025254\n",
      "         Iterations 17\n",
      "Optimization terminated successfully.\n",
      "         Current function value: 0.025293\n",
      "         Iterations 17\n",
      "Optimization terminated successfully.\n",
      "         Current function value: 0.025155\n",
      "         Iterations 18\n",
      "Optimization terminated successfully.\n",
      "         Current function value: 0.025090\n",
      "         Iterations 18\n",
      "Optimization terminated successfully.\n",
      "         Current function value: 0.025323\n",
      "         Iterations 17\n",
      "Optimization terminated successfully.\n",
      "         Current function value: 0.025368\n",
      "         Iterations 17\n",
      "Optimization terminated successfully.\n",
      "         Current function value: 0.025315\n",
      "         Iterations 17\n",
      "Optimization terminated successfully.\n",
      "         Current function value: 0.024761\n",
      "         Iterations 18\n",
      "Optimization terminated successfully.\n",
      "         Current function value: 0.025161\n",
      "         Iterations 18\n",
      "Optimization terminated successfully.\n",
      "         Current function value: 0.025421\n",
      "         Iterations 18\n",
      "Optimization terminated successfully.\n",
      "         Current function value: 0.025290\n",
      "         Iterations 17\n",
      "Optimization terminated successfully.\n",
      "         Current function value: 0.025334\n",
      "         Iterations 17\n",
      "Optimization terminated successfully.\n",
      "         Current function value: 0.025378\n",
      "         Iterations 17\n",
      "Optimization terminated successfully.\n",
      "         Current function value: 0.025130\n",
      "         Iterations 18\n",
      "Optimization terminated successfully.\n",
      "         Current function value: 0.025254\n",
      "         Iterations 17\n",
      "Optimization terminated successfully.\n",
      "         Current function value: 0.025310\n",
      "         Iterations 17\n",
      "Optimization terminated successfully.\n",
      "         Current function value: 0.024764\n",
      "         Iterations 18\n",
      "Optimization terminated successfully.\n",
      "         Current function value: 0.025268\n",
      "         Iterations 17\n",
      "Optimization terminated successfully.\n",
      "         Current function value: 0.025355\n",
      "         Iterations 17\n",
      "Optimization terminated successfully.\n",
      "         Current function value: 0.025304\n",
      "         Iterations 17\n",
      "Optimization terminated successfully.\n",
      "         Current function value: 0.025421\n",
      "         Iterations 18\n",
      "Optimization terminated successfully.\n",
      "         Current function value: 0.025388\n",
      "         Iterations 17\n",
      "Optimization terminated successfully.\n",
      "         Current function value: 0.025291\n",
      "         Iterations 17\n",
      "Optimization terminated successfully.\n",
      "         Current function value: 0.025309\n",
      "         Iterations 17\n",
      "Optimization terminated successfully.\n",
      "         Current function value: 0.025380\n",
      "         Iterations 17\n",
      "Optimization terminated successfully.\n",
      "         Current function value: 0.025158\n",
      "         Iterations 18\n",
      "Optimization terminated successfully.\n",
      "         Current function value: 0.025072\n",
      "         Iterations 18\n",
      "Optimization terminated successfully.\n",
      "         Current function value: 0.025205\n",
      "         Iterations 18\n",
      "Optimization terminated successfully.\n",
      "         Current function value: 0.025313\n",
      "         Iterations 17\n",
      "Optimization terminated successfully.\n",
      "         Current function value: 0.025124\n",
      "         Iterations 18\n",
      "Optimization terminated successfully.\n",
      "         Current function value: 0.024893\n",
      "         Iterations 18\n",
      "Optimization terminated successfully.\n",
      "         Current function value: 0.025281\n",
      "         Iterations 17\n",
      "Optimization terminated successfully.\n",
      "         Current function value: 0.025349\n",
      "         Iterations 17\n",
      "Optimization terminated successfully.\n",
      "         Current function value: 0.025326\n",
      "         Iterations 17\n",
      "Optimization terminated successfully.\n",
      "         Current function value: 0.025171\n",
      "         Iterations 18\n",
      "Optimization terminated successfully.\n",
      "         Current function value: 0.025137\n",
      "         Iterations 18\n",
      "Optimization terminated successfully.\n",
      "         Current function value: 0.025283\n",
      "         Iterations 17\n",
      "Optimization terminated successfully.\n",
      "         Current function value: 0.025083\n",
      "         Iterations 18\n",
      "Optimization terminated successfully.\n",
      "         Current function value: 0.025341\n",
      "         Iterations 17\n",
      "Optimization terminated successfully.\n",
      "         Current function value: 0.025153\n",
      "         Iterations 18\n",
      "Optimization terminated successfully.\n",
      "         Current function value: 0.025197\n",
      "         Iterations 18\n",
      "Optimization terminated successfully.\n",
      "         Current function value: 0.025260\n",
      "         Iterations 17\n",
      "Optimization terminated successfully.\n",
      "         Current function value: 0.025107\n",
      "         Iterations 18\n",
      "Optimization terminated successfully.\n",
      "         Current function value: nan\n",
      "         Iterations 15\n",
      "Optimization terminated successfully.\n",
      "         Current function value: 0.025298\n",
      "         Iterations 17\n",
      "Optimization terminated successfully.\n",
      "         Current function value: 0.025308\n",
      "         Iterations 17\n",
      "Optimization terminated successfully.\n",
      "         Current function value: 0.025055\n",
      "         Iterations 18\n",
      "Optimization terminated successfully.\n",
      "         Current function value: 0.025295\n",
      "         Iterations 17\n",
      "Optimization terminated successfully.\n",
      "         Current function value: 0.025411\n",
      "         Iterations 17\n",
      "Optimization terminated successfully.\n",
      "         Current function value: 0.025174\n",
      "         Iterations 18\n",
      "Optimization terminated successfully."
     ]
    },
    {
     "name": "stderr",
     "output_type": "stream",
     "text": [
      "D:\\Users\\kw\\Anaconda3\\lib\\site-packages\\statsmodels\\discrete\\discrete_model.py:2125: RuntimeWarning: invalid value encountered in true_divide\n",
      "  L = q*self.pdf(q*XB)/self.cdf(q*XB)\n",
      "D:\\Users\\kw\\Anaconda3\\lib\\site-packages\\statsmodels\\base\\optimizer.py:300: RuntimeWarning: invalid value encountered in greater\n",
      "  oldparams) > tol)):\n",
      "D:\\Users\\kw\\Anaconda3\\lib\\site-packages\\ipykernel_launcher.py:24: RuntimeWarning: invalid value encountered in greater_equal\n"
     ]
    },
    {
     "name": "stdout",
     "output_type": "stream",
     "text": [
      "\n",
      "         Current function value: 0.025338\n",
      "         Iterations 17\n",
      "Optimization terminated successfully.\n",
      "         Current function value: 0.025296\n",
      "         Iterations 17\n",
      "Optimization terminated successfully.\n",
      "         Current function value: 0.025365\n",
      "         Iterations 17\n",
      "Optimization terminated successfully.\n",
      "         Current function value: 0.025424\n",
      "         Iterations 18\n",
      "Optimization terminated successfully.\n",
      "         Current function value: 0.025202\n",
      "         Iterations 18\n",
      "Optimization terminated successfully.\n",
      "         Current function value: 0.025378\n",
      "         Iterations 17\n",
      "Optimization terminated successfully.\n",
      "         Current function value: 0.025113\n",
      "         Iterations 18\n",
      "Optimization terminated successfully.\n",
      "         Current function value: 0.025317\n",
      "         Iterations 17\n",
      "Optimization terminated successfully.\n",
      "         Current function value: 0.025291\n",
      "         Iterations 17\n",
      "Optimization terminated successfully.\n",
      "         Current function value: 0.025399\n",
      "         Iterations 17\n",
      "Optimization terminated successfully.\n",
      "         Current function value: 0.025699\n",
      "         Iterations 17\n",
      "Optimization terminated successfully.\n",
      "         Current function value: 0.025342\n",
      "         Iterations 17\n",
      "Optimization terminated successfully.\n",
      "         Current function value: 0.025261\n",
      "         Iterations 17\n",
      "Optimization terminated successfully.\n",
      "         Current function value: 0.025297\n",
      "         Iterations 17\n",
      "Optimization terminated successfully.\n",
      "         Current function value: 0.025125\n",
      "         Iterations 18\n",
      "Optimization terminated successfully.\n",
      "         Current function value: 0.024478\n",
      "         Iterations 22\n",
      "Optimization terminated successfully.\n",
      "         Current function value: 0.025335\n",
      "         Iterations 17\n",
      "Optimization terminated successfully.\n",
      "         Current function value: 0.025364\n",
      "         Iterations 17\n",
      "Optimization terminated successfully.\n",
      "         Current function value: 0.025351\n",
      "         Iterations 17\n",
      "Optimization terminated successfully.\n",
      "         Current function value: 0.025058\n",
      "         Iterations 18\n",
      "Optimization terminated successfully.\n",
      "         Current function value: 0.024985\n",
      "         Iterations 18\n",
      "Optimization terminated successfully.\n",
      "         Current function value: 0.025327\n",
      "         Iterations 17\n",
      "Optimization terminated successfully.\n",
      "         Current function value: 0.025009\n",
      "         Iterations 18\n",
      "Optimization terminated successfully.\n",
      "         Current function value: 0.025324\n",
      "         Iterations 17\n",
      "Optimization terminated successfully.\n",
      "         Current function value: 0.025371\n",
      "         Iterations 17\n",
      "Optimization terminated successfully.\n",
      "         Current function value: 0.025163\n",
      "         Iterations 18\n",
      "Optimization terminated successfully.\n",
      "         Current function value: 0.024995\n",
      "         Iterations 18\n",
      "Optimization terminated successfully.\n",
      "         Current function value: 0.025311\n",
      "         Iterations 17\n",
      "Optimization terminated successfully.\n",
      "         Current function value: 0.025318\n",
      "         Iterations 17\n",
      "Optimization terminated successfully.\n",
      "         Current function value: 0.025162\n",
      "         Iterations 18\n",
      "Optimization terminated successfully.\n",
      "         Current function value: 0.025125\n",
      "         Iterations 18\n",
      "Optimization terminated successfully.\n",
      "         Current function value: 0.025378\n",
      "         Iterations 17\n",
      "Optimization terminated successfully.\n",
      "         Current function value: 0.025406\n",
      "         Iterations 17\n",
      "Optimization terminated successfully.\n",
      "         Current function value: 0.025435\n",
      "         Iterations 18\n",
      "Optimization terminated successfully.\n",
      "         Current function value: 0.025494\n",
      "         Iterations 18\n",
      "Optimization terminated successfully.\n",
      "         Current function value: 0.025172\n",
      "         Iterations 18\n",
      "Optimization terminated successfully.\n",
      "         Current function value: 0.025353\n",
      "         Iterations 17\n",
      "Optimization terminated successfully.\n",
      "         Current function value: 0.025366\n",
      "         Iterations 17\n",
      "Optimization terminated successfully.\n",
      "         Current function value: 0.024891\n",
      "         Iterations 18\n",
      "Optimization terminated successfully.\n",
      "         Current function value: 0.025056\n",
      "         Iterations 18\n",
      "Optimization terminated successfully.\n",
      "         Current function value: 0.025153\n",
      "         Iterations 18\n",
      "Optimization terminated successfully.\n",
      "         Current function value: 0.025339\n",
      "         Iterations 17\n",
      "Optimization terminated successfully.\n",
      "         Current function value: nan\n",
      "         Iterations 17\n",
      "Optimization terminated successfully.\n",
      "         Current function value: 0.025369\n",
      "         Iterations 17\n",
      "Optimization terminated successfully.\n",
      "         Current function value: 0.025192\n",
      "         Iterations 18\n",
      "Optimization terminated successfully.\n",
      "         Current function value: 0.025276\n",
      "         Iterations 17\n",
      "Optimization terminated successfully.\n",
      "         Current function value: 0.025346\n",
      "         Iterations 17\n",
      "Optimization terminated successfully.\n",
      "         Current function value: 0.025365\n",
      "         Iterations 17\n",
      "Optimization terminated successfully.\n",
      "         Current function value: nan\n",
      "         Iterations 18\n",
      "Optimization terminated successfully."
     ]
    },
    {
     "name": "stderr",
     "output_type": "stream",
     "text": [
      "D:\\Users\\kw\\Anaconda3\\lib\\site-packages\\statsmodels\\discrete\\discrete_model.py:2125: RuntimeWarning: invalid value encountered in true_divide\n",
      "  L = q*self.pdf(q*XB)/self.cdf(q*XB)\n",
      "D:\\Users\\kw\\Anaconda3\\lib\\site-packages\\statsmodels\\base\\optimizer.py:300: RuntimeWarning: invalid value encountered in greater\n",
      "  oldparams) > tol)):\n",
      "D:\\Users\\kw\\Anaconda3\\lib\\site-packages\\ipykernel_launcher.py:24: RuntimeWarning: invalid value encountered in greater_equal\n",
      "D:\\Users\\kw\\Anaconda3\\lib\\site-packages\\statsmodels\\discrete\\discrete_model.py:2125: RuntimeWarning: invalid value encountered in true_divide\n",
      "  L = q*self.pdf(q*XB)/self.cdf(q*XB)\n",
      "D:\\Users\\kw\\Anaconda3\\lib\\site-packages\\statsmodels\\base\\optimizer.py:300: RuntimeWarning: invalid value encountered in greater\n",
      "  oldparams) > tol)):\n",
      "D:\\Users\\kw\\Anaconda3\\lib\\site-packages\\ipykernel_launcher.py:24: RuntimeWarning: invalid value encountered in greater_equal\n"
     ]
    },
    {
     "name": "stdout",
     "output_type": "stream",
     "text": [
      "\n",
      "         Current function value: 0.025347\n",
      "         Iterations 17\n",
      "Optimization terminated successfully.\n",
      "         Current function value: 0.025479\n",
      "         Iterations 18\n",
      "Optimization terminated successfully.\n",
      "         Current function value: 0.025172\n",
      "         Iterations 18\n",
      "Optimization terminated successfully.\n",
      "         Current function value: nan\n",
      "         Iterations 28\n",
      "Optimization terminated successfully.\n",
      "         Current function value: 0.025320\n",
      "         Iterations 17\n",
      "Optimization terminated successfully.\n",
      "         Current function value: 0.025122\n",
      "         Iterations 18\n"
     ]
    },
    {
     "name": "stderr",
     "output_type": "stream",
     "text": [
      "D:\\Users\\kw\\Anaconda3\\lib\\site-packages\\statsmodels\\discrete\\discrete_model.py:2125: RuntimeWarning: divide by zero encountered in true_divide\n",
      "  L = q*self.pdf(q*XB)/self.cdf(q*XB)\n",
      "D:\\Users\\kw\\Anaconda3\\lib\\site-packages\\statsmodels\\discrete\\discrete_model.py:2125: RuntimeWarning: invalid value encountered in true_divide\n",
      "  L = q*self.pdf(q*XB)/self.cdf(q*XB)\n",
      "D:\\Users\\kw\\Anaconda3\\lib\\site-packages\\statsmodels\\base\\optimizer.py:300: RuntimeWarning: invalid value encountered in greater\n",
      "  oldparams) > tol)):\n",
      "D:\\Users\\kw\\Anaconda3\\lib\\site-packages\\ipykernel_launcher.py:24: RuntimeWarning: invalid value encountered in greater_equal\n"
     ]
    },
    {
     "name": "stdout",
     "output_type": "stream",
     "text": [
      "Optimization terminated successfully.\n",
      "         Current function value: 0.025201\n",
      "         Iterations 18\n",
      "Optimization terminated successfully.\n",
      "         Current function value: 0.025152\n",
      "         Iterations 18\n",
      "Optimization terminated successfully.\n",
      "         Current function value: 0.025126\n",
      "         Iterations 18\n",
      "Optimization terminated successfully.\n",
      "         Current function value: 0.025274\n",
      "         Iterations 17\n",
      "Optimization terminated successfully.\n",
      "         Current function value: 0.025170\n",
      "         Iterations 18\n",
      "Optimization terminated successfully.\n",
      "         Current function value: 0.024923\n",
      "         Iterations 18\n",
      "Optimization terminated successfully.\n",
      "         Current function value: 0.025090\n",
      "         Iterations 18\n",
      "Optimization terminated successfully.\n",
      "         Current function value: 0.025255\n",
      "         Iterations 17\n",
      "Optimization terminated successfully.\n",
      "         Current function value: 0.025219\n",
      "         Iterations 18\n",
      "Optimization terminated successfully.\n",
      "         Current function value: 0.025352\n",
      "         Iterations 17\n",
      "Optimization terminated successfully.\n",
      "         Current function value: 0.025176\n",
      "         Iterations 18\n",
      "Optimization terminated successfully.\n",
      "         Current function value: nan\n",
      "         Iterations 17\n",
      "Optimization terminated successfully.\n",
      "         Current function value: 0.025271\n",
      "         Iterations 17\n",
      "Optimization terminated successfully.\n",
      "         Current function value: 0.025041\n",
      "         Iterations 18\n",
      "Optimization terminated successfully.\n",
      "         Current function value: 0.025333\n",
      "         Iterations 17\n",
      "Optimization terminated successfully.\n",
      "         Current function value: 0.024210\n",
      "         Iterations 20\n"
     ]
    },
    {
     "name": "stderr",
     "output_type": "stream",
     "text": [
      "D:\\Users\\kw\\Anaconda3\\lib\\site-packages\\statsmodels\\discrete\\discrete_model.py:2125: RuntimeWarning: invalid value encountered in true_divide\n",
      "  L = q*self.pdf(q*XB)/self.cdf(q*XB)\n",
      "D:\\Users\\kw\\Anaconda3\\lib\\site-packages\\statsmodels\\base\\optimizer.py:300: RuntimeWarning: invalid value encountered in greater\n",
      "  oldparams) > tol)):\n",
      "D:\\Users\\kw\\Anaconda3\\lib\\site-packages\\ipykernel_launcher.py:24: RuntimeWarning: invalid value encountered in greater_equal\n",
      "D:\\Users\\kw\\Anaconda3\\lib\\site-packages\\statsmodels\\discrete\\discrete_model.py:2125: RuntimeWarning: invalid value encountered in true_divide\n",
      "  L = q*self.pdf(q*XB)/self.cdf(q*XB)\n",
      "D:\\Users\\kw\\Anaconda3\\lib\\site-packages\\statsmodels\\base\\optimizer.py:300: RuntimeWarning: invalid value encountered in greater\n",
      "  oldparams) > tol)):\n",
      "D:\\Users\\kw\\Anaconda3\\lib\\site-packages\\ipykernel_launcher.py:24: RuntimeWarning: invalid value encountered in greater_equal\n"
     ]
    },
    {
     "name": "stdout",
     "output_type": "stream",
     "text": [
      "Optimization terminated successfully.\n",
      "         Current function value: nan\n",
      "         Iterations 19\n",
      "Optimization terminated successfully.\n",
      "         Current function value: 0.025192\n",
      "         Iterations 18\n",
      "Optimization terminated successfully.\n",
      "         Current function value: 0.024970\n",
      "         Iterations 18\n",
      "Optimization terminated successfully.\n",
      "         Current function value: 0.025313\n",
      "         Iterations 17\n",
      "Optimization terminated successfully.\n",
      "         Current function value: 0.025356\n",
      "         Iterations 17\n",
      "Optimization terminated successfully.\n",
      "         Current function value: 0.025029\n",
      "         Iterations 18\n",
      "Optimization terminated successfully.\n",
      "         Current function value: 0.025046\n",
      "         Iterations 18\n",
      "Optimization terminated successfully.\n",
      "         Current function value: 0.025316\n",
      "         Iterations 17\n",
      "Optimization terminated successfully.\n",
      "         Current function value: 0.025313\n",
      "         Iterations 17\n",
      "Optimization terminated successfully.\n",
      "         Current function value: 0.025354\n",
      "         Iterations 17\n",
      "Optimization terminated successfully.\n",
      "         Current function value: 0.025126\n",
      "         Iterations 18\n",
      "Optimization terminated successfully.\n",
      "         Current function value: 0.025280\n",
      "         Iterations 17\n",
      "Optimization terminated successfully.\n",
      "         Current function value: nan\n",
      "         Iterations 15\n",
      "Optimization terminated successfully.\n",
      "         Current function value: 0.025364\n",
      "         Iterations 17\n",
      "Optimization terminated successfully.\n",
      "         Current function value: 0.025304\n",
      "         Iterations 17\n",
      "Warning: Maximum number of iterations has been exceeded.\n",
      "         Current function value: 1.205751\n",
      "         Iterations: 35\n",
      "Optimization terminated successfully."
     ]
    },
    {
     "name": "stderr",
     "output_type": "stream",
     "text": [
      "D:\\Users\\kw\\Anaconda3\\lib\\site-packages\\statsmodels\\discrete\\discrete_model.py:2125: RuntimeWarning: invalid value encountered in true_divide\n",
      "  L = q*self.pdf(q*XB)/self.cdf(q*XB)\n",
      "D:\\Users\\kw\\Anaconda3\\lib\\site-packages\\statsmodels\\base\\optimizer.py:300: RuntimeWarning: invalid value encountered in greater\n",
      "  oldparams) > tol)):\n",
      "D:\\Users\\kw\\Anaconda3\\lib\\site-packages\\ipykernel_launcher.py:24: RuntimeWarning: invalid value encountered in greater_equal\n",
      "D:\\Users\\kw\\Anaconda3\\lib\\site-packages\\statsmodels\\discrete\\discrete_model.py:2125: RuntimeWarning: invalid value encountered in true_divide\n",
      "  L = q*self.pdf(q*XB)/self.cdf(q*XB)\n",
      "D:\\Users\\kw\\Anaconda3\\lib\\site-packages\\statsmodels\\base\\model.py:568: ConvergenceWarning: Maximum Likelihood optimization failed to converge. Check mle_retvals\n",
      "  \"Check mle_retvals\", ConvergenceWarning)\n"
     ]
    },
    {
     "name": "stdout",
     "output_type": "stream",
     "text": [
      "\n",
      "         Current function value: 0.025194\n",
      "         Iterations 18\n",
      "Optimization terminated successfully.\n",
      "         Current function value: 0.025148\n",
      "         Iterations 18\n",
      "Optimization terminated successfully.\n",
      "         Current function value: 0.025333\n",
      "         Iterations 17\n",
      "Optimization terminated successfully.\n",
      "         Current function value: 0.025304\n",
      "         Iterations 17\n",
      "Optimization terminated successfully.\n",
      "         Current function value: 0.025063\n",
      "         Iterations 18\n",
      "Optimization terminated successfully.\n",
      "         Current function value: 0.025356\n",
      "         Iterations 17\n",
      "Optimization terminated successfully.\n",
      "         Current function value: 0.025303\n",
      "         Iterations 17\n",
      "Optimization terminated successfully.\n",
      "         Current function value: 0.024937\n",
      "         Iterations 18\n",
      "Optimization terminated successfully.\n",
      "         Current function value: 0.025107\n",
      "         Iterations 18\n",
      "Optimization terminated successfully.\n",
      "         Current function value: nan\n",
      "         Iterations 19\n",
      "Optimization terminated successfully.\n",
      "         Current function value: 0.025054\n",
      "         Iterations 18\n",
      "Optimization terminated successfully.\n",
      "         Current function value: 0.025293\n",
      "         Iterations 17\n",
      "Optimization terminated successfully.\n",
      "         Current function value: 0.025344\n",
      "         Iterations 17\n",
      "Optimization terminated successfully.\n",
      "         Current function value: 0.025273\n",
      "         Iterations 17\n",
      "Optimization terminated successfully.\n",
      "         Current function value: 0.025299\n",
      "         Iterations 17\n",
      "Optimization terminated successfully.\n",
      "         Current function value: 0.025159\n",
      "         Iterations 18\n",
      "Optimization terminated successfully.\n",
      "         Current function value: 0.025306\n",
      "         Iterations 17\n",
      "Optimization terminated successfully."
     ]
    },
    {
     "name": "stderr",
     "output_type": "stream",
     "text": [
      "D:\\Users\\kw\\Anaconda3\\lib\\site-packages\\statsmodels\\discrete\\discrete_model.py:2125: RuntimeWarning: invalid value encountered in true_divide\n",
      "  L = q*self.pdf(q*XB)/self.cdf(q*XB)\n",
      "D:\\Users\\kw\\Anaconda3\\lib\\site-packages\\statsmodels\\base\\optimizer.py:300: RuntimeWarning: invalid value encountered in greater\n",
      "  oldparams) > tol)):\n",
      "D:\\Users\\kw\\Anaconda3\\lib\\site-packages\\ipykernel_launcher.py:24: RuntimeWarning: invalid value encountered in greater_equal\n"
     ]
    },
    {
     "name": "stdout",
     "output_type": "stream",
     "text": [
      "\n",
      "         Current function value: 0.025329\n",
      "         Iterations 17\n",
      "Optimization terminated successfully.\n",
      "         Current function value: 0.025296\n",
      "         Iterations 17\n",
      "Optimization terminated successfully.\n",
      "         Current function value: 0.025283\n",
      "         Iterations 17\n",
      "Optimization terminated successfully.\n",
      "         Current function value: 0.025324\n",
      "         Iterations 17\n",
      "Optimization terminated successfully.\n",
      "         Current function value: 0.024972\n",
      "         Iterations 18\n",
      "Optimization terminated successfully.\n",
      "         Current function value: 0.025299\n",
      "         Iterations 17\n",
      "Optimization terminated successfully.\n",
      "         Current function value: 0.025008\n",
      "         Iterations 18\n",
      "Optimization terminated successfully.\n",
      "         Current function value: 0.025160\n",
      "         Iterations 18\n",
      "Optimization terminated successfully.\n",
      "         Current function value: 0.025068\n",
      "         Iterations 18\n",
      "Optimization terminated successfully.\n",
      "         Current function value: 0.025225\n",
      "         Iterations 18\n",
      "Optimization terminated successfully.\n",
      "         Current function value: 0.025055\n",
      "         Iterations 18\n",
      "Optimization terminated successfully.\n",
      "         Current function value: 0.025175\n",
      "         Iterations 18\n",
      "Optimization terminated successfully.\n",
      "         Current function value: 0.025013\n",
      "         Iterations 18\n",
      "Optimization terminated successfully.\n",
      "         Current function value: 0.025090\n",
      "         Iterations 18\n",
      "Optimization terminated successfully.\n",
      "         Current function value: 0.025076\n",
      "         Iterations 18\n",
      "Optimization terminated successfully.\n",
      "         Current function value: 0.025234\n",
      "         Iterations 18\n",
      "Optimization terminated successfully.\n",
      "         Current function value: 0.025123\n",
      "         Iterations 18\n",
      "Optimization terminated successfully.\n",
      "         Current function value: 0.020671\n",
      "         Iterations 33\n",
      "Optimization terminated successfully.\n",
      "         Current function value: 0.025133\n",
      "         Iterations 18\n",
      "Optimization terminated successfully.\n",
      "         Current function value: 0.024933\n",
      "         Iterations 18\n",
      "Optimization terminated successfully.\n",
      "         Current function value: 0.025328\n",
      "         Iterations 17\n",
      "Optimization terminated successfully.\n",
      "         Current function value: 0.025336\n",
      "         Iterations 17\n",
      "Optimization terminated successfully.\n",
      "         Current function value: 0.025306\n",
      "         Iterations 17\n",
      "Optimization terminated successfully.\n",
      "         Current function value: 0.025388\n",
      "         Iterations 17\n",
      "Optimization terminated successfully.\n",
      "         Current function value: 0.025377\n",
      "         Iterations 17\n",
      "Optimization terminated successfully.\n",
      "         Current function value: 0.025344\n",
      "         Iterations 17\n",
      "Optimization terminated successfully.\n",
      "         Current function value: 0.024949\n",
      "         Iterations 18\n",
      "Optimization terminated successfully.\n",
      "         Current function value: 0.025375\n",
      "         Iterations 17\n",
      "Optimization terminated successfully.\n",
      "         Current function value: 0.025183\n",
      "         Iterations 18\n",
      "Optimization terminated successfully.\n",
      "         Current function value: 0.025099\n",
      "         Iterations 18\n",
      "Optimization terminated successfully.\n",
      "         Current function value: 0.025379\n",
      "         Iterations 17\n",
      "Optimization terminated successfully.\n",
      "         Current function value: 0.025204\n",
      "         Iterations 18\n",
      "Optimization terminated successfully.\n",
      "         Current function value: 0.025302\n",
      "         Iterations 17\n",
      "Optimization terminated successfully.\n",
      "         Current function value: 0.025285\n",
      "         Iterations 17\n",
      "Optimization terminated successfully.\n",
      "         Current function value: 0.025052\n",
      "         Iterations 18\n",
      "Optimization terminated successfully.\n",
      "         Current function value: 0.025254\n",
      "         Iterations 18\n",
      "Optimization terminated successfully.\n",
      "         Current function value: 0.025085\n",
      "         Iterations 18\n",
      "Optimization terminated successfully.\n",
      "         Current function value: 0.025192\n",
      "         Iterations 18\n",
      "Optimization terminated successfully.\n",
      "         Current function value: 0.025326\n",
      "         Iterations 17\n",
      "Optimization terminated successfully.\n",
      "         Current function value: 0.025378\n",
      "         Iterations 17\n",
      "Optimization terminated successfully.\n",
      "         Current function value: 0.025323\n",
      "         Iterations 17\n",
      "Optimization terminated successfully.\n",
      "         Current function value: 0.025365\n",
      "         Iterations 17\n",
      "Optimization terminated successfully.\n",
      "         Current function value: nan\n",
      "         Iterations 16\n",
      "Optimization terminated successfully.\n",
      "         Current function value: 0.025342\n",
      "         Iterations 17\n",
      "Optimization terminated successfully.\n",
      "         Current function value: 0.025509\n",
      "         Iterations 17\n",
      "Optimization terminated successfully.\n",
      "         Current function value: 0.025273\n",
      "         Iterations 17\n",
      "Optimization terminated successfully.\n",
      "         Current function value: 0.025298\n",
      "         Iterations 17\n",
      "Optimization terminated successfully.\n",
      "         Current function value: 0.025311\n",
      "         Iterations 17\n",
      "Optimization terminated successfully."
     ]
    },
    {
     "name": "stderr",
     "output_type": "stream",
     "text": [
      "D:\\Users\\kw\\Anaconda3\\lib\\site-packages\\statsmodels\\discrete\\discrete_model.py:2125: RuntimeWarning: divide by zero encountered in true_divide\n",
      "  L = q*self.pdf(q*XB)/self.cdf(q*XB)\n",
      "D:\\Users\\kw\\Anaconda3\\lib\\site-packages\\statsmodels\\discrete\\discrete_model.py:2125: RuntimeWarning: invalid value encountered in true_divide\n",
      "  L = q*self.pdf(q*XB)/self.cdf(q*XB)\n",
      "D:\\Users\\kw\\Anaconda3\\lib\\site-packages\\statsmodels\\base\\optimizer.py:300: RuntimeWarning: invalid value encountered in greater\n",
      "  oldparams) > tol)):\n",
      "D:\\Users\\kw\\Anaconda3\\lib\\site-packages\\ipykernel_launcher.py:24: RuntimeWarning: invalid value encountered in greater_equal\n"
     ]
    },
    {
     "name": "stdout",
     "output_type": "stream",
     "text": [
      "\n",
      "         Current function value: 0.025361\n",
      "         Iterations 17\n",
      "Optimization terminated successfully.\n",
      "         Current function value: 0.025349\n",
      "         Iterations 17\n",
      "Optimization terminated successfully.\n",
      "         Current function value: 0.025422\n",
      "         Iterations 18\n",
      "Optimization terminated successfully.\n",
      "         Current function value: nan\n",
      "         Iterations 25\n",
      "Optimization terminated successfully.\n",
      "         Current function value: 0.025302\n",
      "         Iterations 17\n",
      "Optimization terminated successfully.\n",
      "         Current function value: 0.025344\n",
      "         Iterations 17\n",
      "Optimization terminated successfully.\n",
      "         Current function value: 0.024949\n",
      "         Iterations 18\n",
      "Optimization terminated successfully.\n",
      "         Current function value: 0.025355\n",
      "         Iterations 17\n",
      "Optimization terminated successfully."
     ]
    },
    {
     "name": "stderr",
     "output_type": "stream",
     "text": [
      "D:\\Users\\kw\\Anaconda3\\lib\\site-packages\\statsmodels\\discrete\\discrete_model.py:2125: RuntimeWarning: invalid value encountered in true_divide\n",
      "  L = q*self.pdf(q*XB)/self.cdf(q*XB)\n",
      "D:\\Users\\kw\\Anaconda3\\lib\\site-packages\\statsmodels\\base\\optimizer.py:300: RuntimeWarning: invalid value encountered in greater\n",
      "  oldparams) > tol)):\n",
      "D:\\Users\\kw\\Anaconda3\\lib\\site-packages\\ipykernel_launcher.py:24: RuntimeWarning: invalid value encountered in greater_equal\n"
     ]
    },
    {
     "name": "stdout",
     "output_type": "stream",
     "text": [
      "\n",
      "         Current function value: 0.024999\n",
      "         Iterations 18\n",
      "Optimization terminated successfully.\n",
      "         Current function value: 0.025361\n",
      "         Iterations 17\n",
      "Optimization terminated successfully.\n",
      "         Current function value: 0.025347\n",
      "         Iterations 17\n",
      "Optimization terminated successfully.\n",
      "         Current function value: 0.025332\n",
      "         Iterations 17\n",
      "Optimization terminated successfully.\n",
      "         Current function value: 0.025356\n",
      "         Iterations 17\n",
      "Optimization terminated successfully.\n",
      "         Current function value: 0.025387\n",
      "         Iterations 17\n",
      "Optimization terminated successfully.\n",
      "         Current function value: 0.025367\n",
      "         Iterations 17\n",
      "Optimization terminated successfully.\n",
      "         Current function value: 0.025339\n",
      "         Iterations 17\n",
      "Optimization terminated successfully.\n",
      "         Current function value: 0.025318\n",
      "         Iterations 17\n",
      "Optimization terminated successfully.\n",
      "         Current function value: 0.025299\n",
      "         Iterations 17\n",
      "Optimization terminated successfully.\n",
      "         Current function value: 0.025339\n",
      "         Iterations 17\n",
      "Optimization terminated successfully.\n",
      "         Current function value: 0.025369\n",
      "         Iterations 17\n",
      "Optimization terminated successfully.\n",
      "         Current function value: 0.025547\n",
      "         Iterations 18\n",
      "Optimization terminated successfully.\n",
      "         Current function value: 0.025369\n",
      "         Iterations 17\n",
      "Optimization terminated successfully.\n",
      "         Current function value: 0.025378\n",
      "         Iterations 17\n",
      "Optimization terminated successfully.\n",
      "         Current function value: 0.025161\n",
      "         Iterations 18\n",
      "Optimization terminated successfully.\n",
      "         Current function value: 0.025359\n",
      "         Iterations 17\n",
      "Optimization terminated successfully.\n",
      "         Current function value: 0.025390\n",
      "         Iterations 17\n",
      "Optimization terminated successfully.\n",
      "         Current function value: 0.025340\n",
      "         Iterations 17\n",
      "Optimization terminated successfully.\n",
      "         Current function value: 0.025133\n",
      "         Iterations 18\n",
      "Optimization terminated successfully.\n",
      "         Current function value: 0.025294\n",
      "         Iterations 17\n",
      "Optimization terminated successfully.\n",
      "         Current function value: 0.024983\n",
      "         Iterations 18\n",
      "Optimization terminated successfully.\n",
      "         Current function value: 0.025322\n",
      "         Iterations 17\n",
      "Optimization terminated successfully.\n",
      "         Current function value: 0.025345\n",
      "         Iterations 17\n",
      "Optimization terminated successfully.\n",
      "         Current function value: 0.025328\n",
      "         Iterations 17\n",
      "Optimization terminated successfully.\n",
      "         Current function value: 0.025350\n",
      "         Iterations 17\n",
      "Optimization terminated successfully.\n",
      "         Current function value: 0.025135\n",
      "         Iterations 18\n",
      "Optimization terminated successfully.\n",
      "         Current function value: 0.025231\n",
      "         Iterations 17\n",
      "Optimization terminated successfully.\n",
      "         Current function value: 0.025194\n",
      "         Iterations 18\n",
      "Optimization terminated successfully.\n",
      "         Current function value: 0.025310\n",
      "         Iterations 17\n",
      "Optimization terminated successfully.\n",
      "         Current function value: 0.025378\n",
      "         Iterations 17\n",
      "Optimization terminated successfully.\n",
      "         Current function value: 0.025353\n",
      "         Iterations 17\n",
      "Optimization terminated successfully.\n",
      "         Current function value: 0.025338\n",
      "         Iterations 17\n",
      "Optimization terminated successfully.\n",
      "         Current function value: 0.025056\n",
      "         Iterations 18\n",
      "Optimization terminated successfully.\n",
      "         Current function value: 0.025391\n",
      "         Iterations 17\n",
      "Optimization terminated successfully.\n",
      "         Current function value: 0.025084\n",
      "         Iterations 18\n",
      "Optimization terminated successfully.\n",
      "         Current function value: 0.025336\n",
      "         Iterations 17\n",
      "Optimization terminated successfully.\n",
      "         Current function value: 0.024882\n",
      "         Iterations 18\n",
      "Warning: Maximum number of iterations has been exceeded.\n",
      "         Current function value: 0.866361\n",
      "         Iterations: 35\n",
      "Optimization terminated successfully.\n",
      "         Current function value: 0.025313\n",
      "         Iterations 17\n",
      "Optimization terminated successfully.\n",
      "         Current function value: 0.025301\n",
      "         Iterations 17\n",
      "Optimization terminated successfully.\n",
      "         Current function value: 0.025050\n",
      "         Iterations 18\n",
      "Optimization terminated successfully.\n",
      "         Current function value: 0.025294\n",
      "         Iterations 17\n",
      "Optimization terminated successfully."
     ]
    },
    {
     "name": "stderr",
     "output_type": "stream",
     "text": [
      "D:\\Users\\kw\\Anaconda3\\lib\\site-packages\\statsmodels\\discrete\\discrete_model.py:2125: RuntimeWarning: invalid value encountered in true_divide\n",
      "  L = q*self.pdf(q*XB)/self.cdf(q*XB)\n",
      "D:\\Users\\kw\\Anaconda3\\lib\\site-packages\\statsmodels\\base\\model.py:568: ConvergenceWarning: Maximum Likelihood optimization failed to converge. Check mle_retvals\n",
      "  \"Check mle_retvals\", ConvergenceWarning)\n",
      "D:\\Users\\kw\\Anaconda3\\lib\\site-packages\\statsmodels\\discrete\\discrete_model.py:2125: RuntimeWarning: invalid value encountered in true_divide\n",
      "  L = q*self.pdf(q*XB)/self.cdf(q*XB)\n",
      "D:\\Users\\kw\\Anaconda3\\lib\\site-packages\\statsmodels\\base\\optimizer.py:300: RuntimeWarning: invalid value encountered in greater\n",
      "  oldparams) > tol)):\n",
      "D:\\Users\\kw\\Anaconda3\\lib\\site-packages\\ipykernel_launcher.py:24: RuntimeWarning: invalid value encountered in greater_equal\n"
     ]
    },
    {
     "name": "stdout",
     "output_type": "stream",
     "text": [
      "\n",
      "         Current function value: 0.025409\n",
      "         Iterations 18\n",
      "Optimization terminated successfully.\n",
      "         Current function value: 0.025329\n",
      "         Iterations 17\n",
      "Optimization terminated successfully.\n",
      "         Current function value: nan\n",
      "         Iterations 22\n",
      "Optimization terminated successfully.\n",
      "         Current function value: 0.025335\n",
      "         Iterations 17\n",
      "Optimization terminated successfully.\n",
      "         Current function value: 0.025378\n",
      "         Iterations 17\n",
      "Optimization terminated successfully.\n",
      "         Current function value: 0.025342\n",
      "         Iterations 17\n",
      "Optimization terminated successfully.\n",
      "         Current function value: 0.025182\n",
      "         Iterations 18\n",
      "Optimization terminated successfully.\n",
      "         Current function value: 0.024885\n",
      "         Iterations 18\n",
      "Optimization terminated successfully.\n",
      "         Current function value: 0.025108\n",
      "         Iterations 18\n",
      "Optimization terminated successfully.\n",
      "         Current function value: 0.025382\n",
      "         Iterations 17\n",
      "Optimization terminated successfully.\n",
      "         Current function value: 0.025317\n",
      "         Iterations 17\n",
      "Optimization terminated successfully.\n",
      "         Current function value: 0.025320\n",
      "         Iterations 17\n",
      "Optimization terminated successfully.\n",
      "         Current function value: 0.025316\n",
      "         Iterations 17\n",
      "Optimization terminated successfully.\n",
      "         Current function value: 0.025368\n",
      "         Iterations 17\n",
      "Optimization terminated successfully.\n",
      "         Current function value: 0.025270\n",
      "         Iterations 17\n",
      "Optimization terminated successfully.\n",
      "         Current function value: 0.025352\n",
      "         Iterations 17\n",
      "Optimization terminated successfully.\n",
      "         Current function value: 0.025321\n",
      "         Iterations 17\n",
      "Optimization terminated successfully.\n",
      "         Current function value: 0.025321\n",
      "         Iterations 17\n",
      "Optimization terminated successfully.\n",
      "         Current function value: 0.025257\n",
      "         Iterations 17\n",
      "Optimization terminated successfully.\n",
      "         Current function value: 0.025336\n",
      "         Iterations 17\n",
      "Optimization terminated successfully.\n",
      "         Current function value: 0.025114\n",
      "         Iterations 18\n",
      "Optimization terminated successfully.\n",
      "         Current function value: 0.025020\n",
      "         Iterations 18\n",
      "Optimization terminated successfully.\n",
      "         Current function value: 0.025281\n",
      "         Iterations 17\n",
      "Optimization terminated successfully.\n",
      "         Current function value: 0.024926\n",
      "         Iterations 18\n",
      "Optimization terminated successfully.\n",
      "         Current function value: 0.024966\n",
      "         Iterations 18\n",
      "Optimization terminated successfully.\n",
      "         Current function value: 0.025066\n",
      "         Iterations 18\n",
      "Optimization terminated successfully.\n",
      "         Current function value: 0.025350\n",
      "         Iterations 17\n",
      "Optimization terminated successfully.\n",
      "         Current function value: 0.025165\n",
      "         Iterations 18\n",
      "Optimization terminated successfully.\n",
      "         Current function value: 0.025083\n",
      "         Iterations 18\n",
      "Optimization terminated successfully.\n",
      "         Current function value: 0.025315\n",
      "         Iterations 17\n",
      "Optimization terminated successfully.\n",
      "         Current function value: 0.025325\n",
      "         Iterations 17\n",
      "Optimization terminated successfully.\n",
      "         Current function value: 0.025403\n",
      "         Iterations 17\n",
      "Optimization terminated successfully.\n",
      "         Current function value: 0.025289\n",
      "         Iterations 17\n",
      "Optimization terminated successfully.\n",
      "         Current function value: 0.025323\n",
      "         Iterations 17\n",
      "Optimization terminated successfully.\n",
      "         Current function value: 0.025208\n",
      "         Iterations 18\n",
      "Optimization terminated successfully.\n",
      "         Current function value: 0.025262\n",
      "         Iterations 17\n",
      "Optimization terminated successfully.\n",
      "         Current function value: 0.025343\n",
      "         Iterations 17\n",
      "Optimization terminated successfully.\n",
      "         Current function value: 0.025374\n",
      "         Iterations 17\n",
      "Optimization terminated successfully.\n",
      "         Current function value: 0.025348\n",
      "         Iterations 17\n",
      "Optimization terminated successfully.\n",
      "         Current function value: 0.025345\n",
      "         Iterations 17\n",
      "Optimization terminated successfully.\n",
      "         Current function value: 0.025225\n",
      "         Iterations 18\n",
      "Optimization terminated successfully.\n",
      "         Current function value: 0.025325\n",
      "         Iterations 17\n",
      "Optimization terminated successfully.\n",
      "         Current function value: 0.025330\n",
      "         Iterations 17\n",
      "Optimization terminated successfully.\n",
      "         Current function value: 0.025441\n",
      "         Iterations 18\n",
      "Optimization terminated successfully.\n",
      "         Current function value: 0.025108\n",
      "         Iterations 18\n",
      "Optimization terminated successfully.\n",
      "         Current function value: 0.025353\n",
      "         Iterations 17\n",
      "Optimization terminated successfully.\n",
      "         Current function value: 0.025452\n",
      "         Iterations 18\n",
      "Optimization terminated successfully.\n",
      "         Current function value: 0.025067\n",
      "         Iterations 18\n",
      "Optimization terminated successfully.\n",
      "         Current function value: 0.025026\n",
      "         Iterations 18\n",
      "Optimization terminated successfully.\n",
      "         Current function value: 0.025307\n",
      "         Iterations 17\n",
      "Optimization terminated successfully.\n",
      "         Current function value: 0.025317\n",
      "         Iterations 17\n",
      "Optimization terminated successfully.\n",
      "         Current function value: 0.025254\n",
      "         Iterations 17\n",
      "Optimization terminated successfully.\n",
      "         Current function value: 0.025335\n",
      "         Iterations 17\n",
      "Optimization terminated successfully.\n",
      "         Current function value: 0.025327\n",
      "         Iterations 17\n",
      "Optimization terminated successfully.\n",
      "         Current function value: 0.025309\n",
      "         Iterations 17\n",
      "Optimization terminated successfully.\n",
      "         Current function value: 0.025102\n",
      "         Iterations 18\n",
      "Optimization terminated successfully.\n",
      "         Current function value: 0.025316\n",
      "         Iterations 17\n",
      "Optimization terminated successfully.\n",
      "         Current function value: 0.025338\n",
      "         Iterations 17\n",
      "Optimization terminated successfully.\n",
      "         Current function value: 0.025305\n",
      "         Iterations 17\n",
      "Optimization terminated successfully.\n",
      "         Current function value: 0.025341\n",
      "         Iterations 17\n",
      "Optimization terminated successfully.\n",
      "         Current function value: 0.025276\n",
      "         Iterations 17\n",
      "Optimization terminated successfully.\n",
      "         Current function value: 0.025265\n",
      "         Iterations 17\n",
      "Optimization terminated successfully.\n",
      "         Current function value: 0.025346\n",
      "         Iterations 17\n",
      "Optimization terminated successfully.\n",
      "         Current function value: 0.025160\n",
      "         Iterations 18\n",
      "Optimization terminated successfully.\n",
      "         Current function value: 0.025271\n",
      "         Iterations 17\n",
      "Optimization terminated successfully.\n",
      "         Current function value: 0.025227\n",
      "         Iterations 18\n",
      "Optimization terminated successfully.\n",
      "         Current function value: 0.025290\n",
      "         Iterations 17\n",
      "Optimization terminated successfully.\n",
      "         Current function value: 0.025369\n",
      "         Iterations 17\n",
      "Optimization terminated successfully.\n",
      "         Current function value: 0.024550\n",
      "         Iterations 17\n",
      "Optimization terminated successfully.\n",
      "         Current function value: 0.025209\n",
      "         Iterations 18\n",
      "Optimization terminated successfully.\n",
      "         Current function value: 0.025298\n",
      "         Iterations 17\n",
      "Optimization terminated successfully.\n",
      "         Current function value: 0.025345\n",
      "         Iterations 17\n",
      "Optimization terminated successfully.\n",
      "         Current function value: 0.024911\n",
      "         Iterations 18\n",
      "Optimization terminated successfully.\n",
      "         Current function value: 0.025344\n",
      "         Iterations 17\n",
      "Optimization terminated successfully.\n",
      "         Current function value: 0.025316\n",
      "         Iterations 17\n",
      "Optimization terminated successfully.\n",
      "         Current function value: 0.025328\n",
      "         Iterations 17\n",
      "Optimization terminated successfully.\n",
      "         Current function value: 0.025299\n",
      "         Iterations 17\n",
      "Optimization terminated successfully.\n",
      "         Current function value: 0.025299\n",
      "         Iterations 17\n",
      "Optimization terminated successfully.\n",
      "         Current function value: 0.025273\n",
      "         Iterations 17\n",
      "Optimization terminated successfully.\n",
      "         Current function value: 0.025340\n",
      "         Iterations 17\n",
      "Optimization terminated successfully.\n",
      "         Current function value: 0.025341\n",
      "         Iterations 17\n",
      "Optimization terminated successfully.\n",
      "         Current function value: 0.025308\n",
      "         Iterations 17\n",
      "Optimization terminated successfully.\n",
      "         Current function value: 0.025263\n",
      "         Iterations 17\n",
      "Optimization terminated successfully.\n",
      "         Current function value: 0.025372\n",
      "         Iterations 17\n",
      "Optimization terminated successfully.\n",
      "         Current function value: 0.025341\n",
      "         Iterations 17\n",
      "Optimization terminated successfully.\n",
      "         Current function value: 0.025165\n",
      "         Iterations 18\n",
      "Optimization terminated successfully.\n",
      "         Current function value: 0.025416\n",
      "         Iterations 18\n"
     ]
    },
    {
     "name": "stdout",
     "output_type": "stream",
     "text": [
      "Optimization terminated successfully.\n",
      "         Current function value: 0.025098\n",
      "         Iterations 18\n",
      "Optimization terminated successfully.\n",
      "         Current function value: 0.025051\n",
      "         Iterations 18\n",
      "Optimization terminated successfully.\n",
      "         Current function value: 0.025298\n",
      "         Iterations 17\n",
      "Optimization terminated successfully.\n",
      "         Current function value: 0.025151\n",
      "         Iterations 18\n",
      "Optimization terminated successfully.\n",
      "         Current function value: 0.025299\n",
      "         Iterations 17\n",
      "Optimization terminated successfully.\n",
      "         Current function value: 0.025301\n",
      "         Iterations 17\n",
      "Optimization terminated successfully.\n",
      "         Current function value: 0.025305\n",
      "         Iterations 17\n",
      "Optimization terminated successfully.\n",
      "         Current function value: 0.025334\n",
      "         Iterations 17\n",
      "Optimization terminated successfully.\n",
      "         Current function value: 0.025267\n",
      "         Iterations 17\n",
      "Optimization terminated successfully.\n",
      "         Current function value: 0.025130\n",
      "         Iterations 18\n",
      "Optimization terminated successfully.\n",
      "         Current function value: 0.025350\n",
      "         Iterations 17\n",
      "Optimization terminated successfully.\n",
      "         Current function value: 0.025425\n",
      "         Iterations 18\n",
      "Optimization terminated successfully.\n",
      "         Current function value: 0.025230\n",
      "         Iterations 17\n",
      "Optimization terminated successfully.\n",
      "         Current function value: 0.025256\n",
      "         Iterations 17\n",
      "Optimization terminated successfully.\n",
      "         Current function value: 0.025063\n",
      "         Iterations 18\n",
      "Optimization terminated successfully.\n",
      "         Current function value: 0.025296\n",
      "         Iterations 17\n",
      "Optimization terminated successfully.\n",
      "         Current function value: 0.024716\n",
      "         Iterations 18\n",
      "Optimization terminated successfully.\n",
      "         Current function value: 0.025048\n",
      "         Iterations 18\n",
      "Optimization terminated successfully.\n",
      "         Current function value: 0.025388\n",
      "         Iterations 17\n",
      "Optimization terminated successfully.\n",
      "         Current function value: 0.025113\n",
      "         Iterations 18\n",
      "Optimization terminated successfully.\n",
      "         Current function value: 0.025308\n",
      "         Iterations 17\n",
      "Optimization terminated successfully.\n",
      "         Current function value: 0.025296\n",
      "         Iterations 17\n",
      "Optimization terminated successfully.\n",
      "         Current function value: 0.025281\n",
      "         Iterations 17\n",
      "Optimization terminated successfully.\n",
      "         Current function value: nan\n",
      "         Iterations 20\n",
      "Optimization terminated successfully.\n",
      "         Current function value: 0.025268\n",
      "         Iterations 17\n",
      "Optimization terminated successfully.\n",
      "         Current function value: 0.025293\n",
      "         Iterations 17\n",
      "Optimization terminated successfully.\n",
      "         Current function value: 0.025313\n",
      "         Iterations 17\n",
      "Optimization terminated successfully.\n",
      "         Current function value: 0.025325\n",
      "         Iterations 17\n",
      "Optimization terminated successfully.\n",
      "         Current function value: 0.025043\n",
      "         Iterations 18\n",
      "Optimization terminated successfully.\n",
      "         Current function value: 0.024053\n",
      "         Iterations 19\n",
      "Optimization terminated successfully."
     ]
    },
    {
     "name": "stderr",
     "output_type": "stream",
     "text": [
      "D:\\Users\\kw\\Anaconda3\\lib\\site-packages\\statsmodels\\discrete\\discrete_model.py:2125: RuntimeWarning: invalid value encountered in true_divide\n",
      "  L = q*self.pdf(q*XB)/self.cdf(q*XB)\n",
      "D:\\Users\\kw\\Anaconda3\\lib\\site-packages\\statsmodels\\base\\optimizer.py:300: RuntimeWarning: invalid value encountered in greater\n",
      "  oldparams) > tol)):\n",
      "D:\\Users\\kw\\Anaconda3\\lib\\site-packages\\ipykernel_launcher.py:24: RuntimeWarning: invalid value encountered in greater_equal\n"
     ]
    },
    {
     "name": "stdout",
     "output_type": "stream",
     "text": [
      "\n",
      "         Current function value: 0.025310\n",
      "         Iterations 17\n",
      "Optimization terminated successfully.\n",
      "         Current function value: 0.025311\n",
      "         Iterations 17\n",
      "Optimization terminated successfully.\n",
      "         Current function value: 0.025305\n",
      "         Iterations 17\n",
      "Optimization terminated successfully.\n",
      "         Current function value: 0.022812\n",
      "         Iterations 22\n",
      "Optimization terminated successfully.\n",
      "         Current function value: 0.025254\n",
      "         Iterations 17\n",
      "Optimization terminated successfully.\n",
      "         Current function value: 0.025364\n",
      "         Iterations 17\n",
      "Optimization terminated successfully.\n",
      "         Current function value: 0.025083\n",
      "         Iterations 18\n",
      "Optimization terminated successfully.\n",
      "         Current function value: 0.025290\n",
      "         Iterations 17\n",
      "Optimization terminated successfully.\n",
      "         Current function value: 0.025319\n",
      "         Iterations 17\n",
      "Optimization terminated successfully.\n",
      "         Current function value: 0.025296\n",
      "         Iterations 17\n",
      "Optimization terminated successfully.\n",
      "         Current function value: 0.025276\n",
      "         Iterations 17\n",
      "Optimization terminated successfully.\n",
      "         Current function value: 0.025380\n",
      "         Iterations 17\n",
      "Optimization terminated successfully.\n",
      "         Current function value: 0.025343\n",
      "         Iterations 17\n",
      "Optimization terminated successfully.\n",
      "         Current function value: 0.025304\n",
      "         Iterations 17\n",
      "Optimization terminated successfully.\n",
      "         Current function value: 0.025117\n",
      "         Iterations 17\n",
      "Optimization terminated successfully.\n",
      "         Current function value: 0.025347\n",
      "         Iterations 17\n",
      "Optimization terminated successfully.\n",
      "         Current function value: 0.025315\n",
      "         Iterations 17\n",
      "Optimization terminated successfully.\n",
      "         Current function value: 0.025234\n",
      "         Iterations 18\n",
      "Optimization terminated successfully.\n",
      "         Current function value: 0.025314\n",
      "         Iterations 17\n",
      "Optimization terminated successfully.\n",
      "         Current function value: 0.025263\n",
      "         Iterations 17\n",
      "Optimization terminated successfully.\n",
      "         Current function value: 0.025298\n",
      "         Iterations 17\n",
      "Optimization terminated successfully.\n",
      "         Current function value: 0.025288\n",
      "         Iterations 17\n",
      "Optimization terminated successfully.\n",
      "         Current function value: 0.025297\n",
      "         Iterations 17\n",
      "Optimization terminated successfully.\n",
      "         Current function value: 0.025335\n",
      "         Iterations 17\n",
      "Optimization terminated successfully.\n",
      "         Current function value: 0.025268\n",
      "         Iterations 17\n",
      "Optimization terminated successfully.\n",
      "         Current function value: 0.025041\n",
      "         Iterations 18\n",
      "Optimization terminated successfully.\n",
      "         Current function value: 0.025295\n",
      "         Iterations 17\n",
      "Optimization terminated successfully.\n",
      "         Current function value: 0.025208\n",
      "         Iterations 17\n",
      "Optimization terminated successfully.\n",
      "         Current function value: 0.025271\n",
      "         Iterations 17\n",
      "Optimization terminated successfully.\n",
      "         Current function value: 0.025269\n",
      "         Iterations 17\n",
      "Optimization terminated successfully.\n",
      "         Current function value: 0.025141\n",
      "         Iterations 18\n",
      "Optimization terminated successfully.\n",
      "         Current function value: 0.025442\n",
      "         Iterations 18\n",
      "Optimization terminated successfully.\n",
      "         Current function value: 0.025328\n",
      "         Iterations 17\n",
      "Optimization terminated successfully.\n",
      "         Current function value: 0.025263\n",
      "         Iterations 17\n",
      "Optimization terminated successfully.\n",
      "         Current function value: 0.025256\n",
      "         Iterations 17\n",
      "Optimization terminated successfully.\n",
      "         Current function value: 0.025286\n",
      "         Iterations 17\n",
      "Optimization terminated successfully.\n",
      "         Current function value: 0.025105\n",
      "         Iterations 18\n",
      "Optimization terminated successfully.\n",
      "         Current function value: 0.025045\n",
      "         Iterations 18\n",
      "Optimization terminated successfully.\n",
      "         Current function value: 0.025278\n",
      "         Iterations 17\n",
      "Optimization terminated successfully.\n",
      "         Current function value: 0.025202\n",
      "         Iterations 18\n",
      "Optimization terminated successfully.\n",
      "         Current function value: 0.025316\n",
      "         Iterations 17\n",
      "Optimization terminated successfully.\n",
      "         Current function value: 0.024857\n",
      "         Iterations 18\n",
      "Optimization terminated successfully.\n",
      "         Current function value: 0.025388\n",
      "         Iterations 17\n",
      "Optimization terminated successfully.\n",
      "         Current function value: 0.025472\n",
      "         Iterations 18\n",
      "Optimization terminated successfully.\n",
      "         Current function value: 0.025309\n",
      "         Iterations 17\n",
      "Optimization terminated successfully.\n",
      "         Current function value: 0.025375\n",
      "         Iterations 17\n",
      "Optimization terminated successfully.\n",
      "         Current function value: 0.025280\n",
      "         Iterations 17\n",
      "Optimization terminated successfully.\n",
      "         Current function value: 0.025168\n",
      "         Iterations 18\n",
      "Optimization terminated successfully.\n",
      "         Current function value: 0.025353\n",
      "         Iterations 17\n",
      "Optimization terminated successfully.\n",
      "         Current function value: 0.025323\n",
      "         Iterations 17\n",
      "Optimization terminated successfully.\n",
      "         Current function value: 0.025139\n",
      "         Iterations 18\n",
      "Optimization terminated successfully.\n",
      "         Current function value: 0.025262\n",
      "         Iterations 17\n",
      "Optimization terminated successfully.\n",
      "         Current function value: 0.025229\n",
      "         Iterations 18\n",
      "Optimization terminated successfully.\n",
      "         Current function value: 0.025295\n",
      "         Iterations 17\n",
      "Optimization terminated successfully.\n",
      "         Current function value: 0.025098\n",
      "         Iterations 18\n",
      "Optimization terminated successfully.\n",
      "         Current function value: 0.025097\n",
      "         Iterations 18\n",
      "Optimization terminated successfully.\n",
      "         Current function value: 0.025292\n",
      "         Iterations 17\n",
      "Optimization terminated successfully.\n",
      "         Current function value: 0.025318\n",
      "         Iterations 17\n",
      "Optimization terminated successfully.\n",
      "         Current function value: 0.025314\n",
      "         Iterations 17\n",
      "Optimization terminated successfully.\n",
      "         Current function value: 0.024949\n",
      "         Iterations 18\n",
      "Optimization terminated successfully.\n",
      "         Current function value: 0.025353\n",
      "         Iterations 17\n",
      "Optimization terminated successfully.\n",
      "         Current function value: 0.025281\n",
      "         Iterations 17\n",
      "Optimization terminated successfully.\n",
      "         Current function value: 0.025339\n",
      "         Iterations 17\n",
      "Optimization terminated successfully.\n",
      "         Current function value: 0.025332\n",
      "         Iterations 17\n",
      "Optimization terminated successfully.\n",
      "         Current function value: 0.025263\n",
      "         Iterations 17\n",
      "Optimization terminated successfully.\n",
      "         Current function value: 0.025304\n",
      "         Iterations 17\n",
      "Optimization terminated successfully.\n",
      "         Current function value: 0.024227\n",
      "         Iterations 20\n",
      "Optimization terminated successfully.\n",
      "         Current function value: 0.025316\n",
      "         Iterations 17\n"
     ]
    },
    {
     "name": "stderr",
     "output_type": "stream",
     "text": [
      "D:\\Users\\kw\\Anaconda3\\lib\\site-packages\\statsmodels\\discrete\\discrete_model.py:2125: RuntimeWarning: divide by zero encountered in true_divide\n",
      "  L = q*self.pdf(q*XB)/self.cdf(q*XB)\n",
      "D:\\Users\\kw\\Anaconda3\\lib\\site-packages\\statsmodels\\discrete\\discrete_model.py:2125: RuntimeWarning: invalid value encountered in true_divide\n",
      "  L = q*self.pdf(q*XB)/self.cdf(q*XB)\n",
      "D:\\Users\\kw\\Anaconda3\\lib\\site-packages\\statsmodels\\base\\optimizer.py:300: RuntimeWarning: invalid value encountered in greater\n",
      "  oldparams) > tol)):\n",
      "D:\\Users\\kw\\Anaconda3\\lib\\site-packages\\ipykernel_launcher.py:24: RuntimeWarning: invalid value encountered in greater_equal\n"
     ]
    },
    {
     "name": "stdout",
     "output_type": "stream",
     "text": [
      "Optimization terminated successfully.\n",
      "         Current function value: nan\n",
      "         Iterations 19\n",
      "Optimization terminated successfully.\n",
      "         Current function value: 0.025288\n",
      "         Iterations 17\n",
      "Optimization terminated successfully.\n",
      "         Current function value: 0.025300\n",
      "         Iterations 17\n",
      "Optimization terminated successfully.\n",
      "         Current function value: 0.025071\n",
      "         Iterations 18\n",
      "Optimization terminated successfully.\n",
      "         Current function value: 0.025332\n",
      "         Iterations 17\n",
      "Optimization terminated successfully.\n",
      "         Current function value: 0.025060\n",
      "         Iterations 18\n",
      "Optimization terminated successfully.\n",
      "         Current function value: 0.024626\n",
      "         Iterations 18\n",
      "Optimization terminated successfully.\n",
      "         Current function value: 0.025303\n",
      "         Iterations 17\n",
      "Optimization terminated successfully.\n",
      "         Current function value: 0.025426\n",
      "         Iterations 18\n",
      "Optimization terminated successfully.\n",
      "         Current function value: 0.025390\n",
      "         Iterations 17\n",
      "Optimization terminated successfully.\n",
      "         Current function value: 0.025386\n",
      "         Iterations 17\n",
      "Optimization terminated successfully.\n",
      "         Current function value: 0.025234\n",
      "         Iterations 18\n",
      "Optimization terminated successfully.\n",
      "         Current function value: 0.025263\n",
      "         Iterations 18\n",
      "Optimization terminated successfully.\n",
      "         Current function value: 0.025264\n",
      "         Iterations 17\n",
      "Optimization terminated successfully.\n",
      "         Current function value: 0.025338\n",
      "         Iterations 17\n",
      "Optimization terminated successfully.\n",
      "         Current function value: 0.025274\n",
      "         Iterations 17\n",
      "Optimization terminated successfully.\n",
      "         Current function value: 0.025367\n",
      "         Iterations 17\n",
      "Optimization terminated successfully.\n",
      "         Current function value: 0.025387\n",
      "         Iterations 17\n",
      "Optimization terminated successfully.\n",
      "         Current function value: 0.025360\n",
      "         Iterations 17\n",
      "Optimization terminated successfully.\n",
      "         Current function value: 0.025315\n",
      "         Iterations 17\n",
      "Optimization terminated successfully.\n",
      "         Current function value: 0.025418\n",
      "         Iterations 17\n",
      "Optimization terminated successfully.\n",
      "         Current function value: 0.025339\n",
      "         Iterations 17\n",
      "Optimization terminated successfully.\n",
      "         Current function value: 0.025273\n",
      "         Iterations 17\n",
      "Optimization terminated successfully.\n",
      "         Current function value: 0.025403\n",
      "         Iterations 17\n",
      "Optimization terminated successfully.\n",
      "         Current function value: 0.025295\n",
      "         Iterations 17\n",
      "Optimization terminated successfully.\n",
      "         Current function value: 0.025323\n",
      "         Iterations 17\n",
      "Optimization terminated successfully.\n",
      "         Current function value: 0.025387\n",
      "         Iterations 17\n",
      "Optimization terminated successfully.\n",
      "         Current function value: 0.025411\n",
      "         Iterations 18\n",
      "Optimization terminated successfully.\n",
      "         Current function value: 0.025297\n",
      "         Iterations 17\n",
      "Optimization terminated successfully.\n",
      "         Current function value: 0.025304\n",
      "         Iterations 17\n",
      "Optimization terminated successfully.\n",
      "         Current function value: 0.025297\n",
      "         Iterations 17\n",
      "Optimization terminated successfully.\n",
      "         Current function value: 0.025386\n",
      "         Iterations 17\n",
      "Optimization terminated successfully.\n",
      "         Current function value: 0.025011\n",
      "         Iterations 18\n",
      "Optimization terminated successfully.\n",
      "         Current function value: 0.024978\n",
      "         Iterations 18\n",
      "Optimization terminated successfully.\n",
      "         Current function value: 0.024851\n",
      "         Iterations 18\n",
      "Optimization terminated successfully.\n",
      "         Current function value: 0.025014\n",
      "         Iterations 18\n",
      "Optimization terminated successfully.\n",
      "         Current function value: 0.025182\n",
      "         Iterations 18\n",
      "Optimization terminated successfully.\n",
      "         Current function value: 0.024958\n",
      "         Iterations 18\n",
      "Optimization terminated successfully.\n",
      "         Current function value: 0.025415\n",
      "         Iterations 18\n",
      "Accuracy的个数为：(569,)\n",
      "使用留一法划分数据集的Probit模型拟合的平均准确率为:96.309%\n",
      "***\n",
      "***\n",
      "***\n",
      "***\n",
      "***\n",
      "***\n",
      "***\n",
      "***\n",
      "***\n",
      "***\n",
      "***\n",
      "***\n",
      "***\n",
      "***\n",
      "***\n",
      "***\n",
      "***\n",
      "***\n",
      "***\n",
      "***\n",
      "***\n"
     ]
    }
   ],
   "source": [
    "# 使用python自带的乳腺癌数据集（二分类）\n",
    "from sklearn.datasets import load_breast_cancer\n",
    "X,y=load_breast_cancer(return_X_y=True)\n",
    "print(\"样本的个数 = {}, 特征的个数 = {}\".format(X.shape[0],X.shape[1]))\n",
    "# 采用留一法划分数据集\n",
    "from sklearn.model_selection import LeaveOneOut\n",
    "loo=LeaveOneOut()\n",
    "Accuracy=[]\n",
    "# loo.split():这里拆分的是index\n",
    "for train_index,test_index in loo.split(X):\n",
    "    X_train,X_test=X[train_index],X[test_index]\n",
    "    y_train,y_test=y[train_index],y[test_index]\n",
    "    # 将数据进行标准化\n",
    "    from sklearn.preprocessing import StandardScaler\n",
    "    scaler=StandardScaler().fit(X_train)\n",
    "    X_train=scaler.transform(X_train)\n",
    "    X_test=scaler.transform(X_test)\n",
    "    # 导入Probit回归函数\n",
    "    from statsmodels.discrete.discrete_model import Probit\n",
    "    import statsmodels.api as sm\n",
    "    model = Probit(y_train, X_train)\n",
    "    probit_model = model.fit()\n",
    "    y_pred=probit_model.predict(X_test)\n",
    "    y_pred=(y_pred>=0.5)*1\n",
    "    # 模型评价\n",
    "    from sklearn.metrics import accuracy_score\n",
    "    Acc=accuracy_score(y_pred,y_test)\n",
    "    Accuracy.append(Acc)\n",
    "print(\"Accuracy的个数为：{}\".format(np.array(Accuracy).shape))\n",
    "print(\"使用留一法划分数据集的Probit模型拟合的平均准确率为:%.3f%%\"% (np.mean(Accuracy) *100))"
   ]
  },
  {
   "cell_type": "code",
   "execution_count": null,
   "metadata": {},
   "outputs": [],
   "source": []
  },
  {
   "cell_type": "code",
   "execution_count": null,
   "metadata": {},
   "outputs": [],
   "source": []
  },
  {
   "cell_type": "code",
   "execution_count": null,
   "metadata": {},
   "outputs": [],
   "source": []
  },
  {
   "cell_type": "code",
   "execution_count": 21,
   "metadata": {},
   "outputs": [
    {
     "data": {
      "text/plain": [
       "array([[0.24197072],\n",
       "       [0.05399097],\n",
       "       [0.00443185]])"
      ]
     },
     "execution_count": 21,
     "metadata": {},
     "output_type": "execute_result"
    }
   ],
   "source": [
    "z=np.array([1,2,3])\n",
    "z=z.reshape(3,1)\n",
    "f(z)"
   ]
  },
  {
   "cell_type": "code",
   "execution_count": 2,
   "metadata": {},
   "outputs": [],
   "source": [
    "# 定义probit回归的激活函数(标准正态分布的分布函数)\n",
    "from scipy import integrate\n",
    "import math\n",
    "import numpy as np\n",
    "# 定义标准正态分布的概率密度函数\n",
    "def f(x):\n",
    "    p=(np.exp(-x**2/2))/(math.sqrt(2*math.pi))\n",
    "    return p\n",
    "# 定义标准正态分布的分布函数（即Probit回归的激活函数）\n",
    "def F(x):\n",
    "    return integrate.quad(f,-np.inf,x)[0]"
   ]
  },
  {
   "cell_type": "code",
   "execution_count": 3,
   "metadata": {},
   "outputs": [],
   "source": [
    "def networks(X):\n",
    "    nums=X.shape[0]\n",
    "    dims=X.shape[1]\n",
    "    return nums,dims\n",
    "\n",
    "def initialize_params(dims):\n",
    "    W=np.random.randint(0,5,(dims,1))*0.001\n",
    "    W=np.squeeze(W)\n",
    "    b=1\n",
    "    return W,b\n",
    "\n",
    "def probit(X,y,W,b,nums):\n",
    "    z=np.dot(X,W)+b\n",
    "    z=np.squeeze(z)\n",
    "    p=f(z)\n",
    "    y_pred=[]\n",
    "    for i in list(z):\n",
    "        y_p=F(i)\n",
    "        y_pred.append(y_p)\n",
    "    y_pred=np.array(y_pred)\n",
    "    #print(y_pred)\n",
    "    cost=-1/nums*np.sum(y*np.log(y_pred)+(1-y)*np.log(1-y_pred))\n",
    "    dW=-1/nums*(np.dot(X.T,p*(y-z)/(z*(1-z))))\n",
    "    db=-np.sum(p*(y-z)/(z*(1-z)))/nums\n",
    "    cost=np.squeeze(cost)\n",
    "    dW=np.squeeze(dW)\n",
    "    return y_pred,cost,dW,db"
   ]
  },
  {
   "cell_type": "code",
   "execution_count": 4,
   "metadata": {},
   "outputs": [
    {
     "name": "stderr",
     "output_type": "stream",
     "text": [
      "D:\\Users\\kw\\Anaconda3\\lib\\site-packages\\ipykernel_launcher.py:22: RuntimeWarning: divide by zero encountered in log\n",
      "D:\\Users\\kw\\Anaconda3\\lib\\site-packages\\ipykernel_launcher.py:22: RuntimeWarning: invalid value encountered in log\n"
     ]
    },
    {
     "data": {
      "text/plain": [
       "array([1.        , 1.        , 1.        , 0.99982207, 1.        ,\n",
       "       0.99997975, 1.        , 0.99999882, 0.99998341, 0.9999761 ,\n",
       "       0.99999999, 1.        , 1.        , 0.99999843, 0.99997396,\n",
       "       0.99999957, 0.99999998, 1.        , 1.        , 0.99996559,\n",
       "       0.99989028, 0.99423877, 0.99999973, 1.        , 1.        ,\n",
       "       1.        , 0.99999881, 1.        , 1.        , 1.        ,\n",
       "       1.        , 0.99999843, 1.        , 1.        , 1.        ,\n",
       "       1.        , 0.99999434, 0.99965809, 0.99998922, 0.99998109,\n",
       "       0.99998969, 0.99958492, 1.        , 0.99999862, 0.99998002,\n",
       "       1.        , 0.98791556, 0.99998518, 0.99978418, 0.99996643,\n",
       "       0.99957682, 0.99992455, 0.99954721, 1.        , 0.99999984,\n",
       "       0.99945386, 1.        , 0.99999971, 0.99989666, 0.99036975,\n",
       "       0.99736421, 0.99261705, 0.99999972, 0.99465931, 0.99999838,\n",
       "       0.99999927, 0.99596382, 0.99908335, 0.99533112, 0.99968926,\n",
       "       1.        , 0.99295618, 1.        , 0.99999297, 0.99985215,\n",
       "       1.        , 0.99985786, 1.        , 1.        , 0.99988501,\n",
       "       0.99963847, 0.99987546, 1.        , 1.        , 0.99973983,\n",
       "       1.        , 0.99999524, 1.        , 0.99981414, 0.99999411,\n",
       "       0.99999386, 0.99999597, 0.99999461, 0.99996395, 0.99999988,\n",
       "       1.        , 0.99941194, 0.99714833, 0.99940339, 0.99999573,\n",
       "       0.99999893, 0.97853099, 0.99969677, 0.99697752, 0.99819298,\n",
       "       0.99999474, 0.99960044, 0.99964596, 1.        , 0.99954209,\n",
       "       0.99717907, 0.99965563, 0.99997771, 0.99753546, 0.99216736,\n",
       "       0.99980773, 0.99169739, 0.99999996, 1.        , 1.        ,\n",
       "       0.99933858, 1.        , 1.        , 0.99997956, 0.99989031,\n",
       "       0.99997215, 0.9999968 , 1.        , 0.99998918, 1.        ,\n",
       "       0.99965019, 0.99999999, 0.99999999, 0.99999889, 1.        ,\n",
       "       0.99993083, 0.99972534, 0.99898164, 0.99999986, 0.99866433,\n",
       "       0.99532425, 1.        , 0.99946257, 0.9999102 , 0.99869113,\n",
       "       0.99949435, 0.99984205, 0.99999504, 0.99998667, 0.99997143,\n",
       "       0.99989633, 0.99013657, 0.99808945, 0.99857207, 0.99994497,\n",
       "       0.9997325 , 1.        , 0.9999999 , 0.99953315, 0.99899199,\n",
       "       0.99975164, 1.        , 1.        , 0.99974179, 1.        ,\n",
       "       0.99998865, 0.9978267 , 1.        , 1.        , 0.99999121,\n",
       "       0.99963666, 0.99999971, 0.99999996, 0.99778698, 0.9981209 ,\n",
       "       0.98944066, 0.99801079, 0.99999975, 0.9998554 , 0.99973588,\n",
       "       1.        , 1.        , 1.        , 0.99907482, 0.99999949,\n",
       "       0.99866366, 1.        , 0.9995209 , 0.99930896, 0.9996538 ,\n",
       "       0.99999124, 0.99986709, 0.9943098 , 0.99999029, 0.99999379,\n",
       "       0.99983139, 0.99999627, 1.        , 1.        , 0.99999984,\n",
       "       0.99991402, 1.        , 1.        , 0.99999999, 0.99995056,\n",
       "       0.9999996 , 0.99556113, 1.        , 0.99992294, 0.99999874,\n",
       "       1.        , 0.99965806, 1.        , 0.99999992, 0.99999589,\n",
       "       0.99998405, 0.99964375, 0.99821342, 1.        , 1.        ,\n",
       "       0.99995803, 0.99995166, 0.99730143, 0.99999995, 0.99996601,\n",
       "       0.99999781, 0.99765036, 0.99999325, 0.99989455, 0.99997332,\n",
       "       0.99999999, 0.99902097, 0.99932396, 1.        , 0.99531045,\n",
       "       0.99997326, 1.        , 1.        , 0.99999089, 1.        ,\n",
       "       0.99994878, 0.99958432, 0.99929915, 0.99997432, 1.        ,\n",
       "       0.99832218, 0.99984162, 0.99991247, 0.99908942, 0.99930419,\n",
       "       1.        , 0.99949887, 1.        , 1.        , 1.        ,\n",
       "       0.99999515, 1.        , 0.99999951, 1.        , 0.99999992,\n",
       "       1.        , 1.        , 1.        , 0.99999966, 1.        ,\n",
       "       1.        , 0.9986994 , 0.99994856, 0.99983058, 0.99841748,\n",
       "       0.99994168, 0.99880729, 1.        , 0.99641491, 1.        ,\n",
       "       0.99938294, 0.99888837, 1.        , 0.99997766, 0.99994178,\n",
       "       1.        , 0.99964802, 1.        , 0.99999988, 0.99983853,\n",
       "       0.99974179, 0.99973109, 0.99972803, 0.99898159, 0.99905919,\n",
       "       0.99999375, 0.99999409, 0.99979269, 0.99951473, 0.99966756,\n",
       "       0.99992122, 0.99741003, 0.99977753, 0.99999346, 0.99719889,\n",
       "       1.        , 0.99973815, 1.        , 0.99723278, 0.99934934,\n",
       "       0.99932241, 0.99988957, 0.99198533, 0.99995116, 0.99993989,\n",
       "       0.99924734, 0.99999523, 0.99986814, 0.99888311, 0.98899202,\n",
       "       0.99960943, 0.99940875, 1.        , 0.99472858, 0.99955703,\n",
       "       0.99777034, 1.        , 0.99983282, 1.        , 0.99978919,\n",
       "       0.99976436, 0.99997857, 0.99952615, 0.99999998, 0.99999975,\n",
       "       0.99999993, 0.99991038, 0.99879314, 0.9992805 , 0.99965835,\n",
       "       1.        , 0.99974383, 1.        , 0.99765834, 1.        ,\n",
       "       0.99999719, 0.99648276, 0.99864894, 1.        , 0.99950625,\n",
       "       0.99679084, 0.99973453, 0.9999977 , 0.99909246, 0.99940314,\n",
       "       0.9996337 , 0.99999938, 1.        , 0.99999995, 0.99896238,\n",
       "       0.99973085, 0.99984922, 0.99995897, 0.99441391, 0.99878865,\n",
       "       0.99980762, 0.99989841, 0.99979343, 0.99999979, 0.99992312,\n",
       "       1.        , 1.        , 0.99988125, 1.        , 1.        ,\n",
       "       0.99999999, 0.99999218, 1.        , 1.        , 0.99993632,\n",
       "       0.99999687, 0.99682882, 0.99995641, 0.99992048, 0.99956496,\n",
       "       0.99918929, 0.99875251, 0.99939989, 0.9998499 , 0.99987654,\n",
       "       0.99998892, 0.99959601, 0.99997808, 0.99893788, 1.        ,\n",
       "       0.99745412, 0.99517824, 1.        , 1.        , 0.99974503,\n",
       "       0.99994912, 0.99994952, 0.9998424 , 0.99925706, 0.99973757,\n",
       "       1.        , 0.99978085, 0.99989388, 0.99977859, 0.99961767,\n",
       "       0.9992657 , 0.99999922, 0.99993582, 1.        , 0.99987153,\n",
       "       0.99958865, 0.99912217, 0.99411721, 0.99999784, 0.99999943,\n",
       "       0.99959299, 0.99724827, 1.        , 0.99971749, 0.9990896 ,\n",
       "       0.99958089, 0.99999565, 0.99916736, 0.9999688 , 0.99803427,\n",
       "       0.9973336 , 0.99879807, 0.99940586, 0.99822493, 0.99980799,\n",
       "       0.99999725, 0.99956416, 1.        , 1.        , 0.99998778,\n",
       "       0.99999745, 0.99990375, 0.99998332, 0.99998416, 0.99995054,\n",
       "       0.99933317, 1.        , 0.99996439, 0.99698512, 1.        ,\n",
       "       0.99957879, 1.        , 0.99999434, 0.99999537, 1.        ,\n",
       "       0.99952299, 1.        , 0.99964241, 0.99998159, 0.99988061,\n",
       "       0.99997651, 0.99969768, 0.99991219, 0.99990593, 0.99686615,\n",
       "       1.        , 1.        , 0.99998113, 0.99933568, 0.99994795,\n",
       "       0.99998288, 0.99996229, 0.9974982 , 1.        , 0.99965723,\n",
       "       0.99769631, 0.99984443, 0.99999825, 0.99981565, 0.99853343,\n",
       "       0.99983318, 0.9999959 , 0.99996765, 0.99909138, 0.99999947,\n",
       "       0.99969957, 0.99999479, 0.9999181 , 0.99995219, 0.99999581,\n",
       "       0.99984335, 0.99999461, 1.        , 0.99969825, 0.99999994,\n",
       "       0.99989172, 1.        , 1.        , 0.99958798, 0.99993154,\n",
       "       0.99999058, 0.99989843, 0.99984384, 1.        , 1.        ,\n",
       "       0.99999711, 0.99999371, 0.99969293, 1.        , 0.99417809,\n",
       "       0.99552711, 0.99951577, 0.99817845, 0.99999876, 0.99999924,\n",
       "       0.99909409, 0.99998269, 0.99999692, 0.99999694, 0.99999957,\n",
       "       0.99919912, 1.        , 1.        , 0.99995559, 0.99989532,\n",
       "       0.99527435, 1.        , 0.99863858, 0.99996762, 0.99734793,\n",
       "       0.99105114, 0.99997079, 0.99968095, 0.99994051, 0.99964183,\n",
       "       0.99975388, 0.99969481, 0.99998404, 1.        , 0.99821464,\n",
       "       1.        , 0.99998145, 0.99947358, 0.99037339, 0.98744029,\n",
       "       0.99899712, 0.99999498, 0.99999579, 0.99991677, 0.99995994,\n",
       "       0.99997914, 0.99739992, 0.99651312, 0.99699451, 0.99956908,\n",
       "       0.99836088, 0.99883821, 0.99985863, 0.9939731 , 0.99986036,\n",
       "       0.99726929, 0.99640159, 0.99664333, 0.99998181, 0.9993647 ,\n",
       "       0.99997653, 0.99904557, 0.99999945, 1.        , 1.        ,\n",
       "       1.        , 0.99999999, 1.        , 0.99195179])"
      ]
     },
     "execution_count": 4,
     "metadata": {},
     "output_type": "execute_result"
    }
   ],
   "source": [
    "nums,dims=networks(X_train)\n",
    "W,b=initialize_params(dims)\n",
    "W=np.squeeze(W)\n",
    "y_pred,cost,dW,db=probit(X,y,W,b,nums)\n",
    "y_pred"
   ]
  },
  {
   "cell_type": "code",
   "execution_count": 5,
   "metadata": {},
   "outputs": [],
   "source": [
    "def Probit_train(X,y,lr,epochs):\n",
    "    nums,dims=networks(X)\n",
    "    W,b=initialize_params(dims)\n",
    "    for i in range(epochs):\n",
    "        y_pred,cost,dW,db=probit(X,y,W,b,nums)\n",
    "        W=W-lr*dW\n",
    "        b=b-lr*db\n",
    "        for j in range(len(y_pred)):\n",
    "            if y_pred[j]>0.5:\n",
    "                y_pred[j]=1\n",
    "            else:\n",
    "                y_pred[j]=0\n",
    "        acc=(y_pred==y).sum()/nums\n",
    "        if (i + 1) % 20 == 0:\n",
    "            print('epoch: {}, Loss: {:.5f}, Acc: {:.5f}'.format(i+1, cost, acc))\n",
    "    return y_pred"
   ]
  },
  {
   "cell_type": "code",
   "execution_count": 6,
   "metadata": {},
   "outputs": [
    {
     "name": "stderr",
     "output_type": "stream",
     "text": [
      "D:\\Users\\kw\\Anaconda3\\lib\\site-packages\\ipykernel_launcher.py:22: RuntimeWarning: divide by zero encountered in log\n",
      "D:\\Users\\kw\\Anaconda3\\lib\\site-packages\\ipykernel_launcher.py:22: RuntimeWarning: invalid value encountered in multiply\n",
      "D:\\Users\\kw\\Anaconda3\\lib\\site-packages\\ipykernel_launcher.py:22: RuntimeWarning: invalid value encountered in log\n"
     ]
    },
    {
     "name": "stdout",
     "output_type": "stream",
     "text": [
      "epoch: 20, Loss: nan, Acc: 0.21596\n",
      "epoch: 40, Loss: nan, Acc: 0.21596\n",
      "epoch: 60, Loss: nan, Acc: 0.21596\n",
      "epoch: 80, Loss: nan, Acc: 0.22066\n",
      "epoch: 100, Loss: nan, Acc: 0.22300\n",
      "epoch: 120, Loss: nan, Acc: 0.22300\n",
      "epoch: 140, Loss: nan, Acc: 0.22300\n",
      "epoch: 160, Loss: nan, Acc: 0.22300\n",
      "epoch: 180, Loss: nan, Acc: 0.22300\n",
      "epoch: 200, Loss: nan, Acc: 0.22300\n",
      "epoch: 220, Loss: nan, Acc: 0.22300\n",
      "epoch: 240, Loss: nan, Acc: 0.22535\n",
      "epoch: 260, Loss: nan, Acc: 0.22535\n",
      "epoch: 280, Loss: nan, Acc: 0.22535\n",
      "epoch: 300, Loss: nan, Acc: 0.22535\n",
      "epoch: 320, Loss: nan, Acc: 0.22770\n",
      "epoch: 340, Loss: nan, Acc: 0.22770\n",
      "epoch: 360, Loss: nan, Acc: 0.22770\n",
      "epoch: 380, Loss: nan, Acc: 0.22770\n",
      "epoch: 400, Loss: nan, Acc: 0.22770\n",
      "epoch: 420, Loss: nan, Acc: 0.22770\n",
      "epoch: 440, Loss: nan, Acc: 0.23005\n",
      "epoch: 460, Loss: nan, Acc: 0.22770\n",
      "epoch: 480, Loss: nan, Acc: 0.22770\n",
      "epoch: 500, Loss: nan, Acc: 0.22770\n",
      "epoch: 520, Loss: nan, Acc: 0.22770\n",
      "epoch: 540, Loss: nan, Acc: 0.22770\n",
      "epoch: 560, Loss: nan, Acc: 0.22770\n",
      "epoch: 580, Loss: nan, Acc: 0.23005\n",
      "epoch: 600, Loss: nan, Acc: 0.23005\n",
      "epoch: 620, Loss: nan, Acc: 0.22535\n",
      "epoch: 640, Loss: nan, Acc: 0.23005\n",
      "epoch: 660, Loss: nan, Acc: 0.23239\n",
      "epoch: 680, Loss: nan, Acc: 0.23474\n",
      "epoch: 700, Loss: nan, Acc: 0.23474\n",
      "epoch: 720, Loss: nan, Acc: 0.23239\n",
      "epoch: 740, Loss: nan, Acc: 0.23239\n",
      "epoch: 760, Loss: nan, Acc: 0.23474\n",
      "epoch: 780, Loss: nan, Acc: 0.23709\n",
      "epoch: 800, Loss: nan, Acc: 0.23709\n",
      "epoch: 820, Loss: nan, Acc: 0.23709\n",
      "epoch: 840, Loss: nan, Acc: 0.23709\n",
      "epoch: 860, Loss: nan, Acc: 0.23709\n",
      "epoch: 880, Loss: nan, Acc: 0.23709\n",
      "epoch: 900, Loss: nan, Acc: 0.23944\n",
      "epoch: 920, Loss: nan, Acc: 0.23944\n",
      "epoch: 940, Loss: nan, Acc: 0.23944\n",
      "epoch: 960, Loss: nan, Acc: 0.24178\n",
      "epoch: 980, Loss: nan, Acc: 0.24178\n",
      "epoch: 1000, Loss: nan, Acc: 0.24178\n"
     ]
    },
    {
     "data": {
      "text/plain": [
       "array([0., 1., 0., 1., 1., 1., 0., 0., 1., 0., 0., 1., 1., 1., 0., 1., 0.,\n",
       "       0., 0., 0., 0., 0., 1., 0., 1., 0., 1., 0., 0., 0., 1., 0., 1., 1.,\n",
       "       0., 1., 0., 0., 0., 0., 0., 0., 0., 0., 0., 0., 0., 1., 0., 0., 0.,\n",
       "       0., 0., 0., 0., 1., 0., 1., 0., 0., 0., 0., 0., 0., 0., 1., 1., 0.,\n",
       "       1., 0., 0., 0., 0., 1., 0., 0., 0., 0., 0., 0., 1., 0., 0., 1., 0.,\n",
       "       0., 0., 0., 0., 0., 0., 0., 0., 0., 0., 0., 0., 0., 1., 0., 0., 0.,\n",
       "       0., 0., 1., 0., 0., 0., 0., 0., 0., 0., 0., 1., 0., 0., 0., 1., 0.,\n",
       "       0., 0., 1., 1., 0., 0., 0., 0., 0., 0., 0., 0., 0., 0., 0., 0., 0.,\n",
       "       0., 0., 1., 0., 1., 0., 1., 0., 1., 0., 1., 0., 0., 1., 0., 0., 0.,\n",
       "       0., 0., 0., 0., 1., 1., 0., 1., 0., 0., 1., 0., 0., 0., 0., 0., 0.,\n",
       "       1., 1., 1., 1., 0., 0., 0., 1., 0., 0., 1., 0., 0., 1., 0., 0., 0.,\n",
       "       1., 0., 0., 1., 0., 0., 0., 0., 0., 0., 0., 0., 0., 0., 0., 1., 1.,\n",
       "       0., 0., 0., 1., 0., 1., 0., 0., 0., 0., 1., 0., 1., 0., 0., 1., 1.,\n",
       "       0., 0., 0., 1., 0., 0., 0., 0., 0., 0., 0., 1., 0., 1., 0., 0., 0.,\n",
       "       0., 0., 0., 0., 0., 0., 0., 0., 0., 0., 1., 0., 0., 0., 0., 1., 1.,\n",
       "       0., 1., 0., 1., 0., 1., 0., 1., 0., 0., 0., 1., 0., 0., 1., 0., 0.,\n",
       "       0., 0., 1., 0., 0., 1., 0., 0., 0., 0., 0., 0., 1., 0., 0., 0., 0.,\n",
       "       0., 1., 0., 0., 0., 0., 0., 1., 1., 1., 0., 0., 0., 0., 0., 0., 0.,\n",
       "       0., 0., 0., 0., 0., 0., 0., 0., 0., 1., 0., 0., 0., 0., 0., 1., 0.,\n",
       "       0., 0., 1., 0., 0., 0., 0., 1., 0., 0., 0., 0., 0., 0., 0., 0., 1.,\n",
       "       0., 0., 0., 0., 0., 0., 0., 0., 0., 0., 0., 0., 0., 0., 0., 0., 0.,\n",
       "       0., 1., 0., 0., 0., 1., 1., 1., 0., 0., 0., 0., 0., 0., 0., 1., 0.,\n",
       "       1., 1., 0., 0., 0., 0., 1., 0., 1., 0., 0., 1., 0., 0., 0., 0., 0.,\n",
       "       1., 0., 0., 0., 1., 0., 0., 1., 1., 1., 1., 0., 1., 0., 1., 0., 1.,\n",
       "       0., 0., 1., 0., 0., 0., 1., 0., 0., 1., 0., 0., 0., 0., 0., 0., 1.,\n",
       "       0.])"
      ]
     },
     "execution_count": 6,
     "metadata": {},
     "output_type": "execute_result"
    }
   ],
   "source": [
    "lr=1\n",
    "epochs=1000\n",
    "Probit_train(X_train,y_train,lr,epochs)"
   ]
  },
  {
   "cell_type": "code",
   "execution_count": 31,
   "metadata": {},
   "outputs": [
    {
     "name": "stdout",
     "output_type": "stream",
     "text": [
      "(30, 1)\n"
     ]
    }
   ],
   "source": [
    "nums,dims=networks(X)\n",
    "W,b=initialize_params(dims)\n",
    "print(W.shape)\n",
    "y_pred,cost,dW,db=probit(X,y,W,b,nums)"
   ]
  },
  {
   "cell_type": "code",
   "execution_count": 35,
   "metadata": {},
   "outputs": [
    {
     "name": "stdout",
     "output_type": "stream",
     "text": [
      "[[-6.48392498e+01 -6.48392498e+01 -6.48392498e+01 ... -6.48392498e+01\n",
      "  -6.48392498e+01 -3.01837620e+00]\n",
      " [-9.50367977e+01 -9.50367977e+01 -9.50367977e+01 ... -9.50367977e+01\n",
      "  -9.50367977e+01 -4.15925648e+00]\n",
      " [-4.19497507e+02 -4.19497507e+02 -4.19497507e+02 ... -4.19497507e+02\n",
      "  -4.19497507e+02 -1.96331750e+01]\n",
      " ...\n",
      " [-4.74102429e-01 -4.74102429e-01 -4.74102429e-01 ... -4.74102429e-01\n",
      "  -4.74102429e-01 -2.41980599e-02]\n",
      " [-1.44767308e+00 -1.44767308e+00 -1.44767308e+00 ... -1.44767308e+00\n",
      "  -1.44767308e+00 -6.26715984e-02]\n",
      " [-4.25771435e-01 -4.25771435e-01 -4.25771435e-01 ... -4.25771435e-01\n",
      "  -4.25771435e-01 -1.81664104e-02]]\n"
     ]
    },
    {
     "ename": "ValueError",
     "evalue": "The truth value of an array with more than one element is ambiguous. Use a.any() or a.all()",
     "output_type": "error",
     "traceback": [
      "\u001b[1;31m---------------------------------------------------------------------------\u001b[0m",
      "\u001b[1;31mValueError\u001b[0m                                Traceback (most recent call last)",
      "\u001b[1;32m<ipython-input-35-2c37a6882a85>\u001b[0m in \u001b[0;36m<module>\u001b[1;34m\u001b[0m\n\u001b[0;32m      1\u001b[0m \u001b[1;32mfor\u001b[0m \u001b[0mi\u001b[0m \u001b[1;32min\u001b[0m \u001b[0mrange\u001b[0m\u001b[1;33m(\u001b[0m\u001b[0mepochs\u001b[0m\u001b[1;33m)\u001b[0m\u001b[1;33m:\u001b[0m\u001b[1;33m\u001b[0m\u001b[1;33m\u001b[0m\u001b[0m\n\u001b[1;32m----> 2\u001b[1;33m     \u001b[0my_pred\u001b[0m\u001b[1;33m,\u001b[0m\u001b[0mcost\u001b[0m\u001b[1;33m,\u001b[0m\u001b[0mdW\u001b[0m\u001b[1;33m,\u001b[0m\u001b[0mdb\u001b[0m\u001b[1;33m=\u001b[0m\u001b[0mprobit\u001b[0m\u001b[1;33m(\u001b[0m\u001b[0mX\u001b[0m\u001b[1;33m,\u001b[0m\u001b[0my\u001b[0m\u001b[1;33m,\u001b[0m\u001b[0mW\u001b[0m\u001b[1;33m,\u001b[0m\u001b[0mb\u001b[0m\u001b[1;33m,\u001b[0m\u001b[0mnums\u001b[0m\u001b[1;33m)\u001b[0m\u001b[1;33m\u001b[0m\u001b[1;33m\u001b[0m\u001b[0m\n\u001b[0m\u001b[0;32m      3\u001b[0m     \u001b[0mprint\u001b[0m\u001b[1;33m(\u001b[0m\u001b[0mdW\u001b[0m\u001b[1;33m)\u001b[0m\u001b[1;33m\u001b[0m\u001b[1;33m\u001b[0m\u001b[0m\n\u001b[0;32m      4\u001b[0m     \u001b[0mW\u001b[0m\u001b[1;33m=\u001b[0m\u001b[0mW\u001b[0m\u001b[1;33m-\u001b[0m\u001b[0mlr\u001b[0m\u001b[1;33m*\u001b[0m\u001b[0mdW\u001b[0m\u001b[1;33m\u001b[0m\u001b[1;33m\u001b[0m\u001b[0m\n\u001b[0;32m      5\u001b[0m     \u001b[0mb\u001b[0m\u001b[1;33m=\u001b[0m\u001b[0mb\u001b[0m\u001b[1;33m-\u001b[0m\u001b[0mlr\u001b[0m\u001b[1;33m*\u001b[0m\u001b[0mdb\u001b[0m\u001b[1;33m\u001b[0m\u001b[1;33m\u001b[0m\u001b[0m\n",
      "\u001b[1;32m<ipython-input-30-4847714aef3c>\u001b[0m in \u001b[0;36mprobit\u001b[1;34m(X, y, W, b, nums)\u001b[0m\n\u001b[0;32m     14\u001b[0m     \u001b[0my_pred\u001b[0m\u001b[1;33m=\u001b[0m\u001b[0mnp\u001b[0m\u001b[1;33m.\u001b[0m\u001b[0mempty\u001b[0m\u001b[1;33m(\u001b[0m\u001b[0mnums\u001b[0m\u001b[1;33m)\u001b[0m\u001b[1;33m\u001b[0m\u001b[1;33m\u001b[0m\u001b[0m\n\u001b[0;32m     15\u001b[0m     \u001b[1;32mfor\u001b[0m \u001b[0mi\u001b[0m \u001b[1;32min\u001b[0m \u001b[0mrange\u001b[0m\u001b[1;33m(\u001b[0m\u001b[0mlen\u001b[0m\u001b[1;33m(\u001b[0m\u001b[0mz\u001b[0m\u001b[1;33m)\u001b[0m\u001b[1;33m)\u001b[0m\u001b[1;33m:\u001b[0m\u001b[1;33m\u001b[0m\u001b[1;33m\u001b[0m\u001b[0m\n\u001b[1;32m---> 16\u001b[1;33m         \u001b[0my_pred\u001b[0m\u001b[1;33m[\u001b[0m\u001b[0mi\u001b[0m\u001b[1;33m]\u001b[0m\u001b[1;33m=\u001b[0m\u001b[0mF\u001b[0m\u001b[1;33m(\u001b[0m\u001b[0mz\u001b[0m\u001b[1;33m[\u001b[0m\u001b[0mi\u001b[0m\u001b[1;33m]\u001b[0m\u001b[1;33m)\u001b[0m\u001b[1;33m\u001b[0m\u001b[1;33m\u001b[0m\u001b[0m\n\u001b[0m\u001b[0;32m     17\u001b[0m     \u001b[0mcost\u001b[0m\u001b[1;33m=\u001b[0m\u001b[1;33m-\u001b[0m\u001b[1;36m1\u001b[0m\u001b[1;33m/\u001b[0m\u001b[0mnums\u001b[0m\u001b[1;33m*\u001b[0m\u001b[0mnp\u001b[0m\u001b[1;33m.\u001b[0m\u001b[0msum\u001b[0m\u001b[1;33m(\u001b[0m\u001b[0my\u001b[0m\u001b[1;33m*\u001b[0m\u001b[0mnp\u001b[0m\u001b[1;33m.\u001b[0m\u001b[0mlog\u001b[0m\u001b[1;33m(\u001b[0m\u001b[0my_pred\u001b[0m\u001b[1;33m)\u001b[0m\u001b[1;33m+\u001b[0m\u001b[1;33m(\u001b[0m\u001b[1;36m1\u001b[0m\u001b[1;33m-\u001b[0m\u001b[0my\u001b[0m\u001b[1;33m)\u001b[0m\u001b[1;33m*\u001b[0m\u001b[0mnp\u001b[0m\u001b[1;33m.\u001b[0m\u001b[0mlog\u001b[0m\u001b[1;33m(\u001b[0m\u001b[1;36m1\u001b[0m\u001b[1;33m-\u001b[0m\u001b[0my_pred\u001b[0m\u001b[1;33m)\u001b[0m\u001b[1;33m)\u001b[0m\u001b[1;33m\u001b[0m\u001b[1;33m\u001b[0m\u001b[0m\n\u001b[0;32m     18\u001b[0m     \u001b[0mdelta_W\u001b[0m\u001b[1;33m=\u001b[0m\u001b[0mnp\u001b[0m\u001b[1;33m.\u001b[0m\u001b[0mdot\u001b[0m\u001b[1;33m(\u001b[0m\u001b[0mX\u001b[0m\u001b[1;33m.\u001b[0m\u001b[0mT\u001b[0m\u001b[1;33m,\u001b[0m\u001b[0mp\u001b[0m\u001b[1;33m*\u001b[0m\u001b[1;33m(\u001b[0m\u001b[0my\u001b[0m\u001b[1;33m-\u001b[0m\u001b[0mz\u001b[0m\u001b[1;33m)\u001b[0m\u001b[1;33m/\u001b[0m\u001b[1;33m(\u001b[0m\u001b[0mz\u001b[0m\u001b[1;33m*\u001b[0m\u001b[1;33m(\u001b[0m\u001b[1;36m1\u001b[0m\u001b[1;33m-\u001b[0m\u001b[0mz\u001b[0m\u001b[1;33m)\u001b[0m\u001b[1;33m)\u001b[0m\u001b[1;33m)\u001b[0m\u001b[1;33m\u001b[0m\u001b[1;33m\u001b[0m\u001b[0m\n",
      "\u001b[1;32m<ipython-input-2-8b19103c9818>\u001b[0m in \u001b[0;36mF\u001b[1;34m(x)\u001b[0m\n\u001b[0;32m      9\u001b[0m \u001b[1;31m# 定义标准正态分布的分布函数（即Probit回归的激活函数）\u001b[0m\u001b[1;33m\u001b[0m\u001b[1;33m\u001b[0m\u001b[1;33m\u001b[0m\u001b[0m\n\u001b[0;32m     10\u001b[0m \u001b[1;32mdef\u001b[0m \u001b[0mF\u001b[0m\u001b[1;33m(\u001b[0m\u001b[0mx\u001b[0m\u001b[1;33m)\u001b[0m\u001b[1;33m:\u001b[0m\u001b[1;33m\u001b[0m\u001b[1;33m\u001b[0m\u001b[0m\n\u001b[1;32m---> 11\u001b[1;33m     \u001b[1;32mreturn\u001b[0m \u001b[0mintegrate\u001b[0m\u001b[1;33m.\u001b[0m\u001b[0mquad\u001b[0m\u001b[1;33m(\u001b[0m\u001b[0mf\u001b[0m\u001b[1;33m,\u001b[0m\u001b[1;33m-\u001b[0m\u001b[0mnp\u001b[0m\u001b[1;33m.\u001b[0m\u001b[0minf\u001b[0m\u001b[1;33m,\u001b[0m\u001b[0mx\u001b[0m\u001b[1;33m)\u001b[0m\u001b[1;33m[\u001b[0m\u001b[1;36m0\u001b[0m\u001b[1;33m]\u001b[0m\u001b[1;33m\u001b[0m\u001b[1;33m\u001b[0m\u001b[0m\n\u001b[0m",
      "\u001b[1;32mD:\\Users\\kw\\Anaconda3\\lib\\site-packages\\scipy\\integrate\\quadpack.py\u001b[0m in \u001b[0;36mquad\u001b[1;34m(func, a, b, args, full_output, epsabs, epsrel, limit, points, weight, wvar, wopts, maxp1, limlst)\u001b[0m\n\u001b[0;32m    336\u001b[0m \u001b[1;33m\u001b[0m\u001b[0m\n\u001b[0;32m    337\u001b[0m     \u001b[1;31m# check the limits of integration: \\int_a^b, expect a < b\u001b[0m\u001b[1;33m\u001b[0m\u001b[1;33m\u001b[0m\u001b[1;33m\u001b[0m\u001b[0m\n\u001b[1;32m--> 338\u001b[1;33m     \u001b[0mflip\u001b[0m\u001b[1;33m,\u001b[0m \u001b[0ma\u001b[0m\u001b[1;33m,\u001b[0m \u001b[0mb\u001b[0m \u001b[1;33m=\u001b[0m \u001b[0mb\u001b[0m \u001b[1;33m<\u001b[0m \u001b[0ma\u001b[0m\u001b[1;33m,\u001b[0m \u001b[0mmin\u001b[0m\u001b[1;33m(\u001b[0m\u001b[0ma\u001b[0m\u001b[1;33m,\u001b[0m \u001b[0mb\u001b[0m\u001b[1;33m)\u001b[0m\u001b[1;33m,\u001b[0m \u001b[0mmax\u001b[0m\u001b[1;33m(\u001b[0m\u001b[0ma\u001b[0m\u001b[1;33m,\u001b[0m \u001b[0mb\u001b[0m\u001b[1;33m)\u001b[0m\u001b[1;33m\u001b[0m\u001b[1;33m\u001b[0m\u001b[0m\n\u001b[0m\u001b[0;32m    339\u001b[0m \u001b[1;33m\u001b[0m\u001b[0m\n\u001b[0;32m    340\u001b[0m     \u001b[1;32mif\u001b[0m \u001b[0mweight\u001b[0m \u001b[1;32mis\u001b[0m \u001b[1;32mNone\u001b[0m\u001b[1;33m:\u001b[0m\u001b[1;33m\u001b[0m\u001b[1;33m\u001b[0m\u001b[0m\n",
      "\u001b[1;31mValueError\u001b[0m: The truth value of an array with more than one element is ambiguous. Use a.any() or a.all()"
     ]
    }
   ],
   "source": [
    "for i in range(epochs):\n",
    "    y_pred,cost,dW,db=probit(X,y,W,b,nums)\n",
    "    print(dW)\n",
    "    W=W-lr*dW\n",
    "    b=b-lr*db\n",
    "    for i in range(len(y_pred)):\n",
    "        if y_pred[i]>0.5:\n",
    "            y_pred[i]=1\n",
    "        else:\n",
    "            y_pred[i]=0\n",
    "    acc=(y_pred==y).sum()/nums"
   ]
  },
  {
   "cell_type": "code",
   "execution_count": 76,
   "metadata": {},
   "outputs": [],
   "source": [
    "def numpy_to_tensor(X):\n",
    "    return torch.tensor(X,dtype=torch.float32)\n",
    "\n",
    "def networks(X):\n",
    "    nums=X.shape[0]\n",
    "    dims=X.shape[1]\n",
    "    return nums,dims\n",
    "\n",
    "def initialize_params(dims):\n",
    "    W=torch.rand((dims,1),requires_grad=True)\n",
    "    b=torch.zeros((1),requires_grad=True)\n",
    "    return W,b\n",
    "\n",
    "def forward(X,y,W,b,lr):\n",
    "    z=torch.mm(X,W)+b\n",
    "    z=z.data.numpy()\n",
    "    y_pred=[]\n",
    "    for k in list(z):\n",
    "        z_pred=F(k)\n",
    "        y_pred.append(z_pred)\n",
    "    y_pred=torch.tensor(np.array(y_pred))\n",
    "    L=-(y * torch.log(y_pred) + (1 - y) * torch.log(1-y_pred)).mean()\n",
    "    return y_pred,L"
   ]
  },
  {
   "cell_type": "code",
   "execution_count": 86,
   "metadata": {},
   "outputs": [],
   "source": [
    "def Probit(X,y):\n",
    "    nums,dims=networks(X)\n",
    "    W,b=initialize_params(dims)\n",
    "    lr=0.01\n",
    "    for i in range(2):\n",
    "        z=torch.mm(X,W)+b\n",
    "        z=z.data.numpy()\n",
    "        y_pred=[]\n",
    "        for k in list(z):\n",
    "            z_pred=F(k)\n",
    "            y_pred.append(z_pred)\n",
    "        y_pred=torch.tensor(np.array(y_pred))\n",
    "        L=-(y * torch.log(y_pred) + (1 - y) * torch.log(1-y_pred)).mean()\n",
    "        L.backward()\n",
    "        W.data=W.data-lr*W.grad.data\n",
    "        b.data=b.data-lr*b.grad.data\n",
    "        mask = y_pred.ge(0.5).float()\n",
    "        acc = (mask == y.data).sum().data[0] / y.data.shape[0]\n",
    "        if (i + 1) % 200 == 0:\n",
    "            print('epoch: {}, Loss: {:.5f}, Acc: {:.5f}'.format(i+1, L.data[0], acc))"
   ]
  },
  {
   "cell_type": "code",
   "execution_count": 65,
   "metadata": {},
   "outputs": [
    {
     "name": "stdout",
     "output_type": "stream",
     "text": [
      "样本的个数 = 569, 特征的个数 = 30\n"
     ]
    }
   ],
   "source": [
    "# 使用python自带的乳腺癌数据集（二分类）\n",
    "from sklearn.datasets import load_breast_cancer\n",
    "X,y=load_breast_cancer(return_X_y=True)\n",
    "print(\"样本的个数 = {}, 特征的个数 = {}\".format(X.shape[0],X.shape[1]))\n",
    "# 采用留出法划分数据集\n",
    "from sklearn.model_selection import train_test_split\n",
    "X_train,X_test,y_train,y_test=train_test_split(X,y,test_size=0.1,random_state=123)\n",
    "# 将数据进行标准化\n",
    "from sklearn.preprocessing import StandardScaler\n",
    "scaler=StandardScaler().fit(X_train)\n",
    "X_train=scaler.transform(X_train)\n",
    "X_test=scaler.transform(X_test)"
   ]
  },
  {
   "cell_type": "code",
   "execution_count": 66,
   "metadata": {},
   "outputs": [
    {
     "name": "stdout",
     "output_type": "stream",
     "text": [
      "Optimization terminated successfully.\n",
      "         Current function value: nan\n",
      "         Iterations 26\n"
     ]
    },
    {
     "name": "stderr",
     "output_type": "stream",
     "text": [
      "D:\\Users\\kw\\Anaconda3\\lib\\site-packages\\statsmodels\\discrete\\discrete_model.py:2125: RuntimeWarning: invalid value encountered in true_divide\n",
      "  L = q*self.pdf(q*XB)/self.cdf(q*XB)\n",
      "D:\\Users\\kw\\Anaconda3\\lib\\site-packages\\statsmodels\\base\\optimizer.py:300: RuntimeWarning: invalid value encountered in greater\n",
      "  oldparams) > tol)):\n"
     ]
    }
   ],
   "source": [
    "from statsmodels.discrete.discrete_model import Probit\n",
    "import statsmodels.api as sm\n",
    "model = Probit(y_train, X_train)\n",
    "probit_model = model.fit()"
   ]
  },
  {
   "cell_type": "code",
   "execution_count": 67,
   "metadata": {},
   "outputs": [
    {
     "name": "stdout",
     "output_type": "stream",
     "text": [
      "                          Probit Regression Results                           \n",
      "==============================================================================\n",
      "Dep. Variable:                      y   No. Observations:                  512\n",
      "Model:                         Probit   Df Residuals:                      482\n",
      "Method:                           MLE   Df Model:                           29\n",
      "Date:                Fri, 24 Apr 2020   Pseudo R-squ.:                     nan\n",
      "Time:                        19:38:17   Log-Likelihood:                    nan\n",
      "converged:                       True   LL-Null:                       -336.61\n",
      "Covariance Type:            nonrobust   LLR p-value:                       nan\n",
      "==============================================================================\n",
      "                 coef    std err          z      P>|z|      [0.025      0.975]\n",
      "------------------------------------------------------------------------------\n",
      "const             nan        nan        nan        nan         nan         nan\n",
      "x1                nan        nan        nan        nan         nan         nan\n",
      "x2                nan        nan        nan        nan         nan         nan\n",
      "x3                nan        nan        nan        nan         nan         nan\n",
      "x4                nan        nan        nan        nan         nan         nan\n",
      "x5                nan        nan        nan        nan         nan         nan\n",
      "x6                nan        nan        nan        nan         nan         nan\n",
      "x7                nan        nan        nan        nan         nan         nan\n",
      "x8                nan        nan        nan        nan         nan         nan\n",
      "x9                nan        nan        nan        nan         nan         nan\n",
      "x10               nan        nan        nan        nan         nan         nan\n",
      "x11               nan        nan        nan        nan         nan         nan\n",
      "x12               nan        nan        nan        nan         nan         nan\n",
      "x13               nan        nan        nan        nan         nan         nan\n",
      "x14               nan        nan        nan        nan         nan         nan\n",
      "x15               nan        nan        nan        nan         nan         nan\n",
      "x16               nan        nan        nan        nan         nan         nan\n",
      "x17               nan        nan        nan        nan         nan         nan\n",
      "x18               nan        nan        nan        nan         nan         nan\n",
      "x19               nan        nan        nan        nan         nan         nan\n",
      "x20               nan        nan        nan        nan         nan         nan\n",
      "x21               nan        nan        nan        nan         nan         nan\n",
      "x22               nan        nan        nan        nan         nan         nan\n",
      "x23               nan        nan        nan        nan         nan         nan\n",
      "x24               nan        nan        nan        nan         nan         nan\n",
      "x25               nan        nan        nan        nan         nan         nan\n",
      "x26               nan        nan        nan        nan         nan         nan\n",
      "x27               nan        nan        nan        nan         nan         nan\n",
      "x28               nan        nan        nan        nan         nan         nan\n",
      "x29               nan        nan        nan        nan         nan         nan\n",
      "x30               nan        nan        nan        nan         nan         nan\n",
      "==============================================================================\n",
      "[nan nan nan nan nan nan nan nan nan nan nan nan nan nan nan nan nan nan\n",
      " nan nan nan nan nan nan nan nan nan nan nan nan nan nan nan nan nan nan\n",
      " nan nan nan nan nan nan nan nan nan nan nan nan nan nan nan nan nan nan\n",
      " nan nan nan]\n"
     ]
    },
    {
     "name": "stderr",
     "output_type": "stream",
     "text": [
      "D:\\Users\\kw\\Anaconda3\\lib\\site-packages\\scipy\\stats\\_distn_infrastructure.py:903: RuntimeWarning: invalid value encountered in greater\n",
      "  return (a < x) & (x < b)\n",
      "D:\\Users\\kw\\Anaconda3\\lib\\site-packages\\scipy\\stats\\_distn_infrastructure.py:903: RuntimeWarning: invalid value encountered in less\n",
      "  return (a < x) & (x < b)\n",
      "D:\\Users\\kw\\Anaconda3\\lib\\site-packages\\scipy\\stats\\_distn_infrastructure.py:1912: RuntimeWarning: invalid value encountered in less_equal\n",
      "  cond2 = cond0 & (x <= _a)\n",
      "D:\\Users\\kw\\Anaconda3\\lib\\site-packages\\statsmodels\\discrete\\discrete_model.py:3917: RuntimeWarning: invalid value encountered in less\n",
      "  predclose_sum = (absprederror < 1e-4).sum()\n"
     ]
    }
   ],
   "source": [
    "print(probit_model.summary())\n",
    "y_pred=probit_model.predict(X_test)\n",
    "print(y_pred)"
   ]
  },
  {
   "cell_type": "code",
   "execution_count": 63,
   "metadata": {},
   "outputs": [],
   "source": [
    "y_pred=y_pred.astype(int)"
   ]
  },
  {
   "cell_type": "code",
   "execution_count": 62,
   "metadata": {},
   "outputs": [
    {
     "data": {
      "text/plain": [
       "array([1, 1, 0, 1, 0, 1, 1, 0, 1, 1, 1, 0, 0, 1, 0, 1, 1, 1, 1, 1, 0, 0,\n",
       "       1, 1, 1, 0, 0, 1, 0, 1, 0, 1, 1, 1, 0, 1, 1, 1, 1, 0, 0, 1, 0, 1,\n",
       "       0, 1, 0, 0, 0, 0, 0, 0, 1, 1, 1, 0, 1])"
      ]
     },
     "execution_count": 62,
     "metadata": {},
     "output_type": "execute_result"
    }
   ],
   "source": [
    "y_test"
   ]
  },
  {
   "cell_type": "code",
   "execution_count": 64,
   "metadata": {},
   "outputs": [
    {
     "name": "stdout",
     "output_type": "stream",
     "text": [
      "线性判别模型拟合的准确率为:98.246%\n"
     ]
    }
   ],
   "source": [
    "\n",
    "# 由于本案例是分类任务，故采用精度指标进行评价\n",
    "from sklearn.metrics import accuracy_score\n",
    "Acc=accuracy_score(y_pred,y_test)\n",
    "print(\"线性判别模型拟合的准确率为:%.3f%%\"% (Acc *100))"
   ]
  },
  {
   "cell_type": "code",
   "execution_count": 38,
   "metadata": {},
   "outputs": [],
   "source": [
    "# 使用python自带的乳腺癌数据集（二分类）\n",
    "from sklearn.datasets import load_breast_cancer\n",
    "X,y=load_breast_cancer(return_X_y=True)\n",
    "from sklearn.preprocessing import StandardScaler\n",
    "scaler=StandardScaler().fit(X)\n",
    "X=scaler.transform(X)"
   ]
  },
  {
   "cell_type": "code",
   "execution_count": 39,
   "metadata": {},
   "outputs": [
    {
     "name": "stdout",
     "output_type": "stream",
     "text": [
      "Optimization terminated successfully.\n",
      "         Current function value: 0.025199\n",
      "         Iterations 17\n",
      "                          Probit Regression Results                           \n",
      "==============================================================================\n",
      "Dep. Variable:                      y   No. Observations:                  569\n",
      "Model:                         Probit   Df Residuals:                      539\n",
      "Method:                           MLE   Df Model:                           29\n",
      "Date:                Fri, 24 Apr 2020   Pseudo R-squ.:                  0.9618\n",
      "Time:                        19:28:52   Log-Likelihood:                -14.338\n",
      "converged:                       True   LL-Null:                       -375.72\n",
      "Covariance Type:            nonrobust   LLR p-value:                1.736e-133\n",
      "==============================================================================\n",
      "                 coef    std err          z      P>|z|      [0.025      0.975]\n",
      "------------------------------------------------------------------------------\n",
      "x1           165.0808    109.766      1.504      0.133     -50.057     380.219\n",
      "x2            -1.0002      1.837     -0.544      0.586      -4.601       2.600\n",
      "x3           -98.6732     78.515     -1.257      0.209    -252.561      55.214\n",
      "x4           -62.3899     46.227     -1.350      0.177    -152.993      28.213\n",
      "x5            -9.2530      5.402     -1.713      0.087     -19.840       1.334\n",
      "x6            23.9561     15.102      1.586      0.113      -5.643      53.555\n",
      "x7            -4.7815      9.181     -0.521      0.602     -22.776      13.213\n",
      "x8            -8.3066      7.269     -1.143      0.253     -22.554       5.940\n",
      "x9             4.2066      3.008      1.398      0.162      -1.690      10.103\n",
      "x10           -1.2799      4.011     -0.319      0.750      -9.142       6.582\n",
      "x11           -9.3636     16.664     -0.562      0.574     -42.025      23.298\n",
      "x12            2.0860      2.347      0.889      0.374      -2.513       6.685\n",
      "x13           17.2965     12.695      1.362      0.173      -7.585      42.178\n",
      "x14          -35.0238     31.435     -1.114      0.265     -96.635      26.588\n",
      "x15           -0.7056      1.303     -0.541      0.588      -3.260       1.849\n",
      "x16          -14.9769      8.614     -1.739      0.082     -31.861       1.907\n",
      "x17           13.2890      7.832      1.697      0.090      -2.061      28.638\n",
      "x18          -14.6051      8.588     -1.701      0.089     -31.437       2.226\n",
      "x19            5.5035      3.737      1.473      0.141      -1.820      12.827\n",
      "x20           23.6099     13.970      1.690      0.091      -3.772      50.991\n",
      "x21          -67.9194     49.728     -1.366      0.172    -165.385      29.546\n",
      "x22           -6.6232      3.847     -1.722      0.085     -14.163       0.916\n",
      "x23          -20.7851     21.444     -0.969      0.332     -62.815      21.245\n",
      "x24           72.7658     56.076      1.298      0.194     -37.141     182.673\n",
      "x25            5.1621      4.239      1.218      0.223      -3.145      13.469\n",
      "x26           11.6643      7.686      1.518      0.129      -3.401      26.729\n",
      "x27          -16.2618      9.733     -1.671      0.095     -35.338       2.815\n",
      "x28            2.8470      3.107      0.916      0.360      -3.243       8.937\n",
      "x29           -8.7735      5.820     -1.507      0.132     -20.181       2.634\n",
      "x30          -13.8927      8.167     -1.701      0.089     -29.900       2.115\n",
      "==============================================================================\n",
      "\n",
      "Possibly complete quasi-separation: A fraction 0.93 of observations can be\n",
      "perfectly predicted. This might indicate that there is complete\n",
      "quasi-separation. In this case some parameters will not be identified.\n"
     ]
    }
   ],
   "source": [
    "model = Probit(y, X)\n",
    "probit_model = model.fit()\n",
    "print(probit_model.summary())"
   ]
  },
  {
   "cell_type": "code",
   "execution_count": null,
   "metadata": {},
   "outputs": [],
   "source": []
  },
  {
   "cell_type": "code",
   "execution_count": null,
   "metadata": {},
   "outputs": [],
   "source": []
  },
  {
   "cell_type": "code",
   "execution_count": null,
   "metadata": {},
   "outputs": [],
   "source": []
  },
  {
   "cell_type": "code",
   "execution_count": null,
   "metadata": {},
   "outputs": [],
   "source": []
  },
  {
   "cell_type": "code",
   "execution_count": null,
   "metadata": {},
   "outputs": [],
   "source": []
  },
  {
   "cell_type": "code",
   "execution_count": 41,
   "metadata": {},
   "outputs": [],
   "source": [
    "def initialize_params(dims):\n",
    "    W=torch.rand((dims,1),requires_grad=True)\n",
    "    b=torch.zeros((1),requires_grad=True)\n",
    "    return W,b\n",
    "W,b=initialize_params(30)"
   ]
  },
  {
   "cell_type": "code",
   "execution_count": 89,
   "metadata": {},
   "outputs": [
    {
     "ename": "RuntimeError",
     "evalue": "expected device cpu and dtype Double but got device cpu and dtype Float",
     "output_type": "error",
     "traceback": [
      "\u001b[1;31m---------------------------------------------------------------------------\u001b[0m",
      "\u001b[1;31mRuntimeError\u001b[0m                              Traceback (most recent call last)",
      "\u001b[1;32m<ipython-input-89-e99c7133806b>\u001b[0m in \u001b[0;36m<module>\u001b[1;34m\u001b[0m\n\u001b[0;32m      6\u001b[0m     \u001b[0my_pred\u001b[0m\u001b[1;33m.\u001b[0m\u001b[0mappend\u001b[0m\u001b[1;33m(\u001b[0m\u001b[0mz_pred\u001b[0m\u001b[1;33m)\u001b[0m\u001b[1;33m\u001b[0m\u001b[1;33m\u001b[0m\u001b[0m\n\u001b[0;32m      7\u001b[0m \u001b[0my_pred\u001b[0m\u001b[1;33m=\u001b[0m\u001b[0mtorch\u001b[0m\u001b[1;33m.\u001b[0m\u001b[0mtensor\u001b[0m\u001b[1;33m(\u001b[0m\u001b[0mnp\u001b[0m\u001b[1;33m.\u001b[0m\u001b[0marray\u001b[0m\u001b[1;33m(\u001b[0m\u001b[0my_pred\u001b[0m\u001b[1;33m)\u001b[0m\u001b[1;33m)\u001b[0m\u001b[1;33m\u001b[0m\u001b[1;33m\u001b[0m\u001b[0m\n\u001b[1;32m----> 8\u001b[1;33m \u001b[0mL\u001b[0m\u001b[1;33m=\u001b[0m\u001b[1;33m-\u001b[0m\u001b[1;33m(\u001b[0m\u001b[0my_train\u001b[0m \u001b[1;33m*\u001b[0m \u001b[0mtorch\u001b[0m\u001b[1;33m.\u001b[0m\u001b[0mlog\u001b[0m\u001b[1;33m(\u001b[0m\u001b[0my_pred\u001b[0m\u001b[1;33m)\u001b[0m \u001b[1;33m+\u001b[0m \u001b[1;33m(\u001b[0m\u001b[1;36m1\u001b[0m \u001b[1;33m-\u001b[0m \u001b[0my_train\u001b[0m\u001b[1;33m)\u001b[0m \u001b[1;33m*\u001b[0m \u001b[0mtorch\u001b[0m\u001b[1;33m.\u001b[0m\u001b[0mlog\u001b[0m\u001b[1;33m(\u001b[0m\u001b[1;36m1\u001b[0m\u001b[1;33m-\u001b[0m\u001b[0my_pred\u001b[0m\u001b[1;33m)\u001b[0m\u001b[1;33m)\u001b[0m\u001b[1;33m.\u001b[0m\u001b[0mmean\u001b[0m\u001b[1;33m(\u001b[0m\u001b[1;33m)\u001b[0m\u001b[1;33m\u001b[0m\u001b[1;33m\u001b[0m\u001b[0m\n\u001b[0m\u001b[0;32m      9\u001b[0m \u001b[0mL\u001b[0m\u001b[1;33m.\u001b[0m\u001b[0mbackward\u001b[0m\u001b[1;33m(\u001b[0m\u001b[1;33m)\u001b[0m\u001b[1;33m\u001b[0m\u001b[1;33m\u001b[0m\u001b[0m\n\u001b[0;32m     10\u001b[0m \u001b[0mW\u001b[0m\u001b[1;33m.\u001b[0m\u001b[0mdata\u001b[0m\u001b[1;33m=\u001b[0m\u001b[0mW\u001b[0m\u001b[1;33m.\u001b[0m\u001b[0mdata\u001b[0m\u001b[1;33m-\u001b[0m\u001b[0mlr\u001b[0m\u001b[1;33m*\u001b[0m\u001b[0mW\u001b[0m\u001b[1;33m.\u001b[0m\u001b[0mgrad\u001b[0m\u001b[1;33m.\u001b[0m\u001b[0mdata\u001b[0m\u001b[1;33m\u001b[0m\u001b[1;33m\u001b[0m\u001b[0m\n",
      "\u001b[1;31mRuntimeError\u001b[0m: expected device cpu and dtype Double but got device cpu and dtype Float"
     ]
    }
   ],
   "source": [
    "z=torch.mm(X_train,W)+b\n",
    "z=z.data.numpy()\n",
    "y_pred=[]\n",
    "for k in list(z):\n",
    "    z_pred=F(k)\n",
    "    y_pred.append(z_pred)\n",
    "y_pred=torch.tensor(np.array(y_pred))\n",
    "L=-(y_train * torch.log(y_pred) + (1 - y_train) * torch.log(1-y_pred)).mean()\n",
    "L.backward()\n",
    "W.data=W.data-lr*W.grad.data\n",
    "b.data=b.data-lr*b.grad.data\n",
    "mask = y_pred.ge(0.5).float()\n",
    "acc = (mask == y.data).sum().data[0] / y.data.shape[0]"
   ]
  },
  {
   "cell_type": "code",
   "execution_count": 58,
   "metadata": {},
   "outputs": [],
   "source": [
    "X=np.array([1,2,3])\n",
    "def F(x):\n",
    "    z,r=integrate.quad(f,-np.inf,x)\n",
    "    return z"
   ]
  },
  {
   "cell_type": "code",
   "execution_count": 79,
   "metadata": {},
   "outputs": [
    {
     "ename": "RuntimeError",
     "evalue": "expected device cpu and dtype Double but got device cpu and dtype Float",
     "output_type": "error",
     "traceback": [
      "\u001b[1;31m---------------------------------------------------------------------------\u001b[0m",
      "\u001b[1;31mRuntimeError\u001b[0m                              Traceback (most recent call last)",
      "\u001b[1;32m<ipython-input-79-a3bab7c980eb>\u001b[0m in \u001b[0;36m<module>\u001b[1;34m\u001b[0m\n\u001b[1;32m----> 1\u001b[1;33m \u001b[0mProbit\u001b[0m\u001b[1;33m(\u001b[0m\u001b[0mX_train\u001b[0m\u001b[1;33m,\u001b[0m\u001b[0my_train\u001b[0m\u001b[1;33m)\u001b[0m\u001b[1;33m\u001b[0m\u001b[1;33m\u001b[0m\u001b[0m\n\u001b[0m",
      "\u001b[1;32m<ipython-input-77-6052e769f135>\u001b[0m in \u001b[0;36mProbit\u001b[1;34m(X, y)\u001b[0m\n\u001b[0;32m      4\u001b[0m     \u001b[0mlr\u001b[0m\u001b[1;33m=\u001b[0m\u001b[1;36m0.01\u001b[0m\u001b[1;33m\u001b[0m\u001b[1;33m\u001b[0m\u001b[0m\n\u001b[0;32m      5\u001b[0m     \u001b[1;32mfor\u001b[0m \u001b[0mi\u001b[0m \u001b[1;32min\u001b[0m \u001b[0mrange\u001b[0m\u001b[1;33m(\u001b[0m\u001b[1;36m1000\u001b[0m\u001b[1;33m)\u001b[0m\u001b[1;33m:\u001b[0m\u001b[1;33m\u001b[0m\u001b[1;33m\u001b[0m\u001b[0m\n\u001b[1;32m----> 6\u001b[1;33m         \u001b[0my_pred\u001b[0m\u001b[1;33m,\u001b[0m\u001b[0mL\u001b[0m\u001b[1;33m=\u001b[0m\u001b[0mforward\u001b[0m\u001b[1;33m(\u001b[0m\u001b[0mX\u001b[0m\u001b[1;33m,\u001b[0m\u001b[0my\u001b[0m\u001b[1;33m,\u001b[0m\u001b[0mW\u001b[0m\u001b[1;33m,\u001b[0m\u001b[0mb\u001b[0m\u001b[1;33m,\u001b[0m\u001b[0mlr\u001b[0m\u001b[1;33m)\u001b[0m\u001b[1;33m\u001b[0m\u001b[1;33m\u001b[0m\u001b[0m\n\u001b[0m\u001b[0;32m      7\u001b[0m         \u001b[0mL\u001b[0m\u001b[1;33m.\u001b[0m\u001b[0mbackward\u001b[0m\u001b[1;33m(\u001b[0m\u001b[1;33m)\u001b[0m\u001b[1;33m\u001b[0m\u001b[1;33m\u001b[0m\u001b[0m\n\u001b[0;32m      8\u001b[0m         \u001b[0mW\u001b[0m\u001b[1;33m.\u001b[0m\u001b[0mdata\u001b[0m\u001b[1;33m=\u001b[0m\u001b[0mW\u001b[0m\u001b[1;33m.\u001b[0m\u001b[0mdata\u001b[0m\u001b[1;33m-\u001b[0m\u001b[0mlr\u001b[0m\u001b[1;33m*\u001b[0m\u001b[0mW\u001b[0m\u001b[1;33m.\u001b[0m\u001b[0mgrad\u001b[0m\u001b[1;33m.\u001b[0m\u001b[0mdata\u001b[0m\u001b[1;33m\u001b[0m\u001b[1;33m\u001b[0m\u001b[0m\n",
      "\u001b[1;32m<ipython-input-76-e9e677b3cbaf>\u001b[0m in \u001b[0;36mforward\u001b[1;34m(X, y, W, b, lr)\u001b[0m\n\u001b[0;32m     20\u001b[0m         \u001b[0my_pred\u001b[0m\u001b[1;33m.\u001b[0m\u001b[0mappend\u001b[0m\u001b[1;33m(\u001b[0m\u001b[0mz_pred\u001b[0m\u001b[1;33m)\u001b[0m\u001b[1;33m\u001b[0m\u001b[1;33m\u001b[0m\u001b[0m\n\u001b[0;32m     21\u001b[0m     \u001b[0my_pred\u001b[0m\u001b[1;33m=\u001b[0m\u001b[0mtorch\u001b[0m\u001b[1;33m.\u001b[0m\u001b[0mtensor\u001b[0m\u001b[1;33m(\u001b[0m\u001b[0mnp\u001b[0m\u001b[1;33m.\u001b[0m\u001b[0marray\u001b[0m\u001b[1;33m(\u001b[0m\u001b[0my_pred\u001b[0m\u001b[1;33m)\u001b[0m\u001b[1;33m)\u001b[0m\u001b[1;33m\u001b[0m\u001b[1;33m\u001b[0m\u001b[0m\n\u001b[1;32m---> 22\u001b[1;33m     \u001b[0mL\u001b[0m\u001b[1;33m=\u001b[0m\u001b[1;33m-\u001b[0m\u001b[1;33m(\u001b[0m\u001b[0my\u001b[0m \u001b[1;33m*\u001b[0m \u001b[0mtorch\u001b[0m\u001b[1;33m.\u001b[0m\u001b[0mlog\u001b[0m\u001b[1;33m(\u001b[0m\u001b[0my_pred\u001b[0m\u001b[1;33m)\u001b[0m \u001b[1;33m+\u001b[0m \u001b[1;33m(\u001b[0m\u001b[1;36m1\u001b[0m \u001b[1;33m-\u001b[0m \u001b[0my\u001b[0m\u001b[1;33m)\u001b[0m \u001b[1;33m*\u001b[0m \u001b[0mtorch\u001b[0m\u001b[1;33m.\u001b[0m\u001b[0mlog\u001b[0m\u001b[1;33m(\u001b[0m\u001b[1;36m1\u001b[0m\u001b[1;33m-\u001b[0m\u001b[0my_pred\u001b[0m\u001b[1;33m)\u001b[0m\u001b[1;33m)\u001b[0m\u001b[1;33m.\u001b[0m\u001b[0mmean\u001b[0m\u001b[1;33m(\u001b[0m\u001b[1;33m)\u001b[0m\u001b[1;33m\u001b[0m\u001b[1;33m\u001b[0m\u001b[0m\n\u001b[0m\u001b[0;32m     23\u001b[0m     \u001b[1;32mreturn\u001b[0m \u001b[0my_pred\u001b[0m\u001b[1;33m,\u001b[0m\u001b[0mL\u001b[0m\u001b[1;33m\u001b[0m\u001b[1;33m\u001b[0m\u001b[0m\n",
      "\u001b[1;31mRuntimeError\u001b[0m: expected device cpu and dtype Double but got device cpu and dtype Float"
     ]
    }
   ],
   "source": [
    "Probit(X_train,y_train)"
   ]
  },
  {
   "cell_type": "markdown",
   "metadata": {},
   "source": [
    "## 线性判别分析（LDA）"
   ]
  },
  {
   "cell_type": "code",
   "execution_count": 9,
   "metadata": {},
   "outputs": [
    {
     "name": "stdout",
     "output_type": "stream",
     "text": [
      "样本的个数 = 569, 特征的个数 = 30\n"
     ]
    }
   ],
   "source": [
    "# 使用python自带的乳腺癌数据集（二分类）\n",
    "from sklearn.datasets import load_breast_cancer\n",
    "X,y=load_breast_cancer(return_X_y=True)\n",
    "print(\"样本的个数 = {}, 特征的个数 = {}\".format(X.shape[0],X.shape[1]))\n",
    "# 采用留出法划分数据集\n",
    "from sklearn.model_selection import train_test_split\n",
    "X_train,X_test,y_train,y_test=train_test_split(X,y,test_size=0.25,random_state=123)\n",
    "# 将数据进行标准化\n",
    "from sklearn.preprocessing import StandardScaler\n",
    "scaler=StandardScaler().fit(X_train)\n",
    "X_train=scaler.transform(X_train)\n",
    "X_test=scaler.transform(X_test)"
   ]
  },
  {
   "cell_type": "code",
   "execution_count": 10,
   "metadata": {},
   "outputs": [
    {
     "name": "stdout",
     "output_type": "stream",
     "text": [
      "              precision    recall  f1-score   support\n",
      "\n",
      "           0       0.94      1.00      0.97        51\n",
      "           1       1.00      0.97      0.98        92\n",
      "\n",
      "    accuracy                           0.98       143\n",
      "   macro avg       0.97      0.98      0.98       143\n",
      "weighted avg       0.98      0.98      0.98       143\n",
      "\n",
      "线性判别模型拟合的准确率为:97.902%\n"
     ]
    }
   ],
   "source": [
    "# 导入线性判别函数：LDA\n",
    "from sklearn.discriminant_analysis import LinearDiscriminantAnalysis\n",
    "model_lda=LinearDiscriminantAnalysis()\n",
    "# 模型训练及预测\n",
    "model_lda=model_lda.fit(X_train,y_train)\n",
    "y_pred=model_lda.predict(X_test)\n",
    "# 模型评价\n",
    "from sklearn.metrics import classification_report\n",
    "print(classification_report(y_pred,y_test))\n",
    "from sklearn.metrics import accuracy_score\n",
    "Acc=accuracy_score(y_pred,y_test)\n",
    "print(\"线性判别模型拟合的准确率为:%.3f%%\"% (Acc *100))"
   ]
  },
  {
   "cell_type": "markdown",
   "metadata": {},
   "source": [
    "## 二次判别分析（QDA）"
   ]
  },
  {
   "cell_type": "code",
   "execution_count": 11,
   "metadata": {},
   "outputs": [
    {
     "name": "stdout",
     "output_type": "stream",
     "text": [
      "样本的个数 = 569, 特征的个数 = 30\n"
     ]
    }
   ],
   "source": [
    "# 使用python自带的乳腺癌数据集（二分类）\n",
    "from sklearn.datasets import load_breast_cancer\n",
    "X,y=load_breast_cancer(return_X_y=True)\n",
    "print(\"样本的个数 = {}, 特征的个数 = {}\".format(X.shape[0],X.shape[1]))\n",
    "# 采用留出法划分数据集\n",
    "from sklearn.model_selection import train_test_split\n",
    "X_train,X_test,y_train,y_test=train_test_split(X,y,test_size=0.25,random_state=123)\n",
    "# 将数据进行标准化\n",
    "from sklearn.preprocessing import StandardScaler\n",
    "scaler=StandardScaler().fit(X_train)\n",
    "X_train=scaler.transform(X_train)\n",
    "X_test=scaler.transform(X_test)"
   ]
  },
  {
   "cell_type": "code",
   "execution_count": 12,
   "metadata": {},
   "outputs": [
    {
     "name": "stdout",
     "output_type": "stream",
     "text": [
      "              precision    recall  f1-score   support\n",
      "\n",
      "           0       0.98      1.00      0.99        53\n",
      "           1       1.00      0.99      0.99        90\n",
      "\n",
      "    accuracy                           0.99       143\n",
      "   macro avg       0.99      0.99      0.99       143\n",
      "weighted avg       0.99      0.99      0.99       143\n",
      "\n",
      "二次判别模型拟合的准确率为:99.301%\n"
     ]
    }
   ],
   "source": [
    "# 导入二次判别函数：QDA\n",
    "from sklearn.discriminant_analysis import QuadraticDiscriminantAnalysis\n",
    "model_qda=QuadraticDiscriminantAnalysis()\n",
    "# 模型训练及预测\n",
    "model_qda=model_qda.fit(X_train,y_train)\n",
    "y_pred=model_qda.predict(X_test)\n",
    "# 模型评价\n",
    "from sklearn.metrics import classification_report\n",
    "print(classification_report(y_pred,y_test))\n",
    "from sklearn.metrics import accuracy_score\n",
    "Acc=accuracy_score(y_pred,y_test)\n",
    "print(\"二次判别模型拟合的准确率为:%.3f%%\"% (Acc *100))"
   ]
  },
  {
   "cell_type": "markdown",
   "metadata": {},
   "source": [
    "## K近邻（KNN）"
   ]
  },
  {
   "cell_type": "code",
   "execution_count": 13,
   "metadata": {},
   "outputs": [
    {
     "name": "stdout",
     "output_type": "stream",
     "text": [
      "样本的个数 = 569, 特征的个数 = 30\n"
     ]
    }
   ],
   "source": [
    "# 使用python自带的乳腺癌数据集（二分类）\n",
    "from sklearn.datasets import load_breast_cancer\n",
    "X,y=load_breast_cancer(return_X_y=True)\n",
    "print(\"样本的个数 = {}, 特征的个数 = {}\".format(X.shape[0],X.shape[1]))\n",
    "# 采用留出法划分数据集\n",
    "from sklearn.model_selection import train_test_split\n",
    "X_train,X_test,y_train,y_test=train_test_split(X,y,test_size=0.25,random_state=123)\n",
    "# 将数据进行标准化\n",
    "from sklearn.preprocessing import StandardScaler\n",
    "scaler=StandardScaler().fit(X_train)\n",
    "X_train=scaler.transform(X_train)\n",
    "X_test=scaler.transform(X_test)"
   ]
  },
  {
   "cell_type": "code",
   "execution_count": 14,
   "metadata": {},
   "outputs": [
    {
     "name": "stdout",
     "output_type": "stream",
     "text": [
      "              precision    recall  f1-score   support\n",
      "\n",
      "           0       0.96      0.98      0.97        53\n",
      "           1       0.99      0.98      0.98        90\n",
      "\n",
      "    accuracy                           0.98       143\n",
      "   macro avg       0.98      0.98      0.98       143\n",
      "weighted avg       0.98      0.98      0.98       143\n",
      "\n",
      "K近邻模型拟合的准确率为:97.902%\n"
     ]
    }
   ],
   "source": [
    "# 导入K近邻函数：KNN\n",
    "from sklearn.neighbors import KNeighborsClassifier\n",
    "model_knn=KNeighborsClassifier(n_neighbors=5)\n",
    "# 模型训练及预测\n",
    "model_knn=model_knn.fit(X_train,y_train)\n",
    "y_pred=model_knn.predict(X_test)\n",
    "# 模型评价\n",
    "from sklearn.metrics import classification_report\n",
    "print(classification_report(y_pred,y_test))\n",
    "from sklearn.metrics import accuracy_score\n",
    "Acc=accuracy_score(y_pred,y_test)\n",
    "print(\"K近邻模型拟合的准确率为:%.3f%%\"% (Acc *100))"
   ]
  },
  {
   "cell_type": "markdown",
   "metadata": {},
   "source": [
    "## 朴素贝叶斯"
   ]
  },
  {
   "cell_type": "code",
   "execution_count": 17,
   "metadata": {},
   "outputs": [
    {
     "name": "stdout",
     "output_type": "stream",
     "text": [
      "样本的个数 = 569, 特征的个数 = 30\n"
     ]
    }
   ],
   "source": [
    "# 使用python自带的乳腺癌数据集（二分类）\n",
    "from sklearn.datasets import load_breast_cancer\n",
    "X,y=load_breast_cancer(return_X_y=True)\n",
    "print(\"样本的个数 = {}, 特征的个数 = {}\".format(X.shape[0],X.shape[1]))\n",
    "# 采用留出法划分数据集\n",
    "from sklearn.model_selection import train_test_split\n",
    "X_train,X_test,y_train,y_test=train_test_split(X,y,test_size=0.25,random_state=123)\n",
    "# 将数据进行标准化\n",
    "from sklearn.preprocessing import StandardScaler\n",
    "scaler=StandardScaler().fit(X_train)\n",
    "X_train=scaler.transform(X_train)\n",
    "X_test=scaler.transform(X_test)"
   ]
  },
  {
   "cell_type": "code",
   "execution_count": 16,
   "metadata": {},
   "outputs": [
    {
     "name": "stdout",
     "output_type": "stream",
     "text": [
      "              precision    recall  f1-score   support\n",
      "\n",
      "           0       0.91      1.00      0.95        49\n",
      "           1       1.00      0.95      0.97        94\n",
      "\n",
      "    accuracy                           0.97       143\n",
      "   macro avg       0.95      0.97      0.96       143\n",
      "weighted avg       0.97      0.97      0.97       143\n",
      "\n",
      "高斯朴素贝叶斯模型拟合的准确率为:96.503%\n"
     ]
    }
   ],
   "source": [
    "# 导入高斯朴素贝叶斯函数\n",
    "from sklearn.naive_bayes import GaussianNB\n",
    "model_bayes=GaussianNB()\n",
    "# 模型训练及预测\n",
    "model_bayes=model_bayes.fit(X_train,y_train)\n",
    "y_pred=model_bayes.predict(X_test)\n",
    "# 模型评价\n",
    "from sklearn.metrics import classification_report\n",
    "print(classification_report(y_pred,y_test))\n",
    "from sklearn.metrics import accuracy_score\n",
    "Acc=accuracy_score(y_pred,y_test)\n",
    "print(\"高斯朴素贝叶斯模型拟合的准确率为:%.3f%%\"% (Acc *100))"
   ]
  },
  {
   "cell_type": "markdown",
   "metadata": {},
   "source": [
    "# 数据集划分及模型评价"
   ]
  },
  {
   "cell_type": "markdown",
   "metadata": {},
   "source": [
    "## 留一法"
   ]
  },
  {
   "cell_type": "code",
   "execution_count": 13,
   "metadata": {},
   "outputs": [
    {
     "name": "stdout",
     "output_type": "stream",
     "text": [
      "样本的个数 = 569, 特征的个数 = 30\n",
      "Accuracy的个数为：(569,)\n",
      "使用留一法划分数据集的高斯朴素贝叶斯模型拟合的平均准确率为:93.849%\n"
     ]
    }
   ],
   "source": [
    "# 使用python自带的乳腺癌数据集（二分类）\n",
    "from sklearn.datasets import load_breast_cancer\n",
    "X,y=load_breast_cancer(return_X_y=True)\n",
    "print(\"样本的个数 = {}, 特征的个数 = {}\".format(X.shape[0],X.shape[1]))\n",
    "# 采用留一法划分数据集\n",
    "from sklearn.model_selection import LeaveOneOut\n",
    "loo=LeaveOneOut()\n",
    "Accuracy=[]\n",
    "# loo.split():这里拆分的是index\n",
    "for train_index,test_index in loo.split(X):\n",
    "    X_train,X_test=X[train_index],X[test_index]\n",
    "    y_train,y_test=y[train_index],y[test_index]\n",
    "    model_bayes=model_bayes.fit(X_train,y_train)\n",
    "    y_pred=model_bayes.predict(X_test)\n",
    "    # 模型评价\n",
    "    from sklearn.metrics import accuracy_score\n",
    "    Acc=accuracy_score(y_pred,y_test)\n",
    "    Accuracy.append(Acc)\n",
    "print(\"Accuracy的个数为：{}\".format(np.array(Accuracy).shape))\n",
    "print(\"使用留一法划分数据集的高斯朴素贝叶斯模型拟合的平均准确率为:%.3f%%\"% (np.mean(Accuracy) *100))"
   ]
  },
  {
   "cell_type": "markdown",
   "metadata": {},
   "source": [
    "## K折交叉验证法"
   ]
  },
  {
   "cell_type": "code",
   "execution_count": 14,
   "metadata": {},
   "outputs": [
    {
     "name": "stdout",
     "output_type": "stream",
     "text": [
      "样本的个数 = 569, 特征的个数 = 30\n",
      "Accuracy的个数为：(10,)\n",
      "使用十折交叉验证法划分数据集的高斯朴素贝叶斯模型拟合的平均准确率为:93.678%\n"
     ]
    }
   ],
   "source": [
    "# 使用python自带的乳腺癌数据集（二分类）\n",
    "from sklearn.datasets import load_breast_cancer\n",
    "X,y=load_breast_cancer(return_X_y=True)\n",
    "print(\"样本的个数 = {}, 特征的个数 = {}\".format(X.shape[0],X.shape[1]))\n",
    "# 采用交叉验证法划分数据集\n",
    "from sklearn.model_selection import cross_val_score\n",
    "# 进行10折交叉验证训练及评价\n",
    "scores=cross_val_score(model_bayes,X,y,cv=10)\n",
    "Acc=np.mean(scores)\n",
    "print(\"Accuracy的个数为：{}\".format(np.array(scores).shape))\n",
    "print(\"使用十折交叉验证法划分数据集的高斯朴素贝叶斯模型拟合的平均准确率为:%.3f%%\"% \n",
    "      \\n(np.mean(Acc) *100))"
   ]
  },
  {
   "cell_type": "markdown",
   "metadata": {},
   "source": [
    "## 自助法"
   ]
  },
  {
   "cell_type": "code",
   "execution_count": 15,
   "metadata": {},
   "outputs": [
    {
     "name": "stdout",
     "output_type": "stream",
     "text": [
      "样本的个数 = 569, 特征的个数 = 30\n",
      "使用自助法划分数据集的高斯朴素贝叶斯模型拟合的平均准确率为:93.897%\n"
     ]
    }
   ],
   "source": [
    "# 使用python自带的乳腺癌数据集（二分类）\n",
    "from sklearn.datasets import load_breast_cancer\n",
    "X,y=load_breast_cancer(return_X_y=True)\n",
    "print(\"样本的个数 = {}, 特征的个数 = {}\".format(X.shape[0],X.shape[1]))\n",
    "# 采用自助法划分数据集(可重复抽样)\n",
    "X_train=pd.DataFrame(X).sample(frac=1.0,replace=True)\n",
    "X_test=pd.DataFrame(X).loc[pd.DataFrame(X).index.difference(X_train.index)].copy()\n",
    "y_train=y[X_train.index]\n",
    "y_test=y[X_test.index]\n",
    "# 模型训练及预测\n",
    "model_bayes=model_bayes.fit(np.array(X_train),y_train)\n",
    "y_pred=model_bayes.predict(np.array(X_test))\n",
    "# 模型评价\n",
    "from sklearn.metrics import accuracy_score\n",
    "Acc=accuracy_score(y_pred,y_test)\n",
    "print(\"使用自助法划分数据集的高斯朴素贝叶斯模型拟合的平均准确率为:%.3f%%\"% (Acc *100))"
   ]
  },
  {
   "cell_type": "markdown",
   "metadata": {},
   "source": [
    "## ROC & AUC"
   ]
  },
  {
   "cell_type": "code",
   "execution_count": 22,
   "metadata": {},
   "outputs": [
    {
     "name": "stdout",
     "output_type": "stream",
     "text": [
      "(10000, 20)\n"
     ]
    }
   ],
   "source": [
    "# 产生一个二分类数据集，n_samples=10000\n",
    "import numpy as np\n",
    "np.random.seed(123)\n",
    "from sklearn.datasets import make_classification\n",
    "X, y = make_classification(n_samples=10000)\n",
    "print(X.shape)\n",
    "X_train, X_test, y_train, y_test = train_test_split(X, y, test_size=0.25)"
   ]
  },
  {
   "cell_type": "code",
   "execution_count": 23,
   "metadata": {},
   "outputs": [
    {
     "name": "stdout",
     "output_type": "stream",
     "text": [
      "Warning: Maximum number of iterations has been exceeded.\n",
      "         Current function value: 0.192256\n",
      "         Iterations: 35\n"
     ]
    },
    {
     "name": "stderr",
     "output_type": "stream",
     "text": [
      "D:\\Users\\kw\\Anaconda3\\lib\\site-packages\\statsmodels\\base\\model.py:568: ConvergenceWarning: Maximum Likelihood optimization failed to converge. Check mle_retvals\n",
      "  \"Check mle_retvals\", ConvergenceWarning)\n",
      "D:\\Users\\kw\\Anaconda3\\lib\\site-packages\\sklearn\\discriminant_analysis.py:691: UserWarning: Variables are collinear\n",
      "  warnings.warn(\"Variables are collinear\")\n"
     ]
    }
   ],
   "source": [
    "from sklearn.metrics import roc_curve\n",
    "from sklearn.metrics import auc\n",
    "# logistic回归\n",
    "model_logistic=model_logistic.fit(X_train,y_train)\n",
    "y_pred_logistic=model_logistic.predict_proba(X_test)[:,1]\n",
    "fpr_logistic, tpr_logistic,_= roc_curve(y_test, y_pred_logistic, pos_label=1)\n",
    "area_logistic=auc(fpr_logistic, tpr_logistic)\n",
    "# probit回归\n",
    "model = Probit(y_train, X_train)\n",
    "model_probit = model.fit()\n",
    "y_pred_probit=model_probit.predict(X_test)\n",
    "fpr_probit, tpr_probit,_= roc_curve(y_test, y_pred_probit, pos_label=1)\n",
    "area_probit=auc(fpr_probit, tpr_probit)\n",
    "# LDA\n",
    "model_lda=model_lda.fit(X_train,y_train)\n",
    "y_pred_lda=model_lda.predict_proba(X_test)[:,1]\n",
    "fpr_lda, tpr_lda,_= roc_curve(y_test, y_pred_lda, pos_label=1)\n",
    "area_lda=auc(fpr_lda, tpr_lda)\n",
    "# QDA\n",
    "model_qda=model_qda.fit(X_train,y_train)\n",
    "y_pred_qda=model_qda.predict_proba(X_test)[:,1]\n",
    "fpr_qda, tpr_qda,_= roc_curve(y_test, y_pred_qda, pos_label=1)\n",
    "area_qda=auc(fpr_qda, tpr_qda)\n",
    "# KNN\n",
    "model_knn=model_knn.fit(X_train,y_train)\n",
    "y_pred_knn=model_knn.predict_proba(X_test)[:,1]\n",
    "fpr_knn, tpr_knn,_= roc_curve(y_test, y_pred_knn, pos_label=1)\n",
    "area_knn=auc(fpr_knn, tpr_knn)\n",
    "# Gauss Navie Bayes\n",
    "model_bayes=model_bayes.fit(X_train,y_train)\n",
    "y_pred_bayes=model_bayes.predict_proba(X_test)[:,1]\n",
    "fpr_bayes, tpr_bayes,_= roc_curve(y_test, y_pred_bayes, pos_label=1)\n",
    "area_bayes=auc(fpr_bayes, tpr_bayes)"
   ]
  },
  {
   "cell_type": "code",
   "execution_count": null,
   "metadata": {},
   "outputs": [],
   "source": [
    "from sklearn.metrics import roc_curve\n",
    "from sklearn.metrics import auc\n",
    "# logistic回归\n",
    "y_pred_logistic=model_logistic.predict_proba(X_test)[:,1]\n",
    "fpr_logistic, tpr_logistic,_= roc_curve(y_test, y_pred_logistic, pos_label=1)\n",
    "area_logistic=auc(fpr_logistic, tpr_logistic)\n",
    "# probit回归\n",
    "model = Probit(y_train, X_train)\n",
    "model_probit = model.fit()\n",
    "y_pred_probit=model_probit.predict(X_test)\n",
    "fpr_probit, tpr_probit,_= roc_curve(y_test, y_pred_probit, pos_label=1)\n",
    "area_probit=auc(fpr_probit, tpr_probit)\n",
    "# LDA\n",
    "model_lda=model_lda.fit(X_train,y_train)\n",
    "y_pred_lda=model_lda.predict_proba(X_test)[:,1]\n",
    "fpr_lda, tpr_lda,_= roc_curve(y_test, y_pred_lda, pos_label=1)\n",
    "area_lda=auc(fpr_lda, tpr_lda)\n",
    "# QDA\n",
    "model_qda=model_qda.fit(X_train,y_train)\n",
    "y_pred_qda=model_qda.predict_proba(X_test)[:,1]\n",
    "fpr_qda, tpr_qda,_= roc_curve(y_test, y_pred_qda, pos_label=1)\n",
    "area_qda=auc(fpr_qda, tpr_qda)\n",
    "# KNN\n",
    "model_knn=model_knn.fit(X_train,y_train)\n",
    "y_pred_knn=model_knn.predict_proba(X_test)[:,1]\n",
    "fpr_knn, tpr_knn,_= roc_curve(y_test, y_pred_knn, pos_label=1)\n",
    "area_knn=auc(fpr_knn, tpr_knn)\n",
    "# Gauss Navie Bayes\n",
    "model_bayes=model_bayes.fit(X_train,y_train)\n",
    "y_pred_bayes=model_bayes.predict_proba(X_test)[:,1]\n",
    "fpr_bayes, tpr_bayes,_= roc_curve(y_test, y_pred_bayes, pos_label=1)\n",
    "area_bayes=auc(fpr_bayes, tpr_bayes)"
   ]
  },
  {
   "cell_type": "code",
   "execution_count": 25,
   "metadata": {},
   "outputs": [
    {
     "data": {
      "image/png": "[encoded data removed]",
      "text/plain": [
       "<Figure size 576x360 with 1 Axes>"
      ]
     },
     "metadata": {
      "needs_background": "light"
     },
     "output_type": "display_data"
    }
   ],
   "source": [
    "fig=plt.figure(figsize=(8,5))\n",
    "plt.plot([0, 1], [0, 1], 'k--')\n",
    "plt.plot(fpr_logistic,tpr_logistic,label=\"Logistic(auc = %0.3f)\" % area_logistic)\n",
    "plt.plot(fpr_probit,tpr_probit,label=\"Probit(auc = %0.3f)\" % area_probit)\n",
    "plt.plot(fpr_lda,tpr_lda,label=\"LDA(auc = %0.3f)\" % area_lda)\n",
    "plt.plot(fpr_qda,tpr_qda,label=\"QDA(auc = %0.3f)\" % area_qda)\n",
    "plt.plot(fpr_knn,tpr_knn,label=\"KNN(auc = %0.3f)\" % area_knn)\n",
    "plt.plot(fpr_bayes,tpr_bayes,label=\"Bayes(auc = %0.3f)\" % area_bayes)\n",
    "plt.xlabel('False positive rate')\n",
    "plt.ylabel('True positive rate')\n",
    "plt.title('ROC curve')\n",
    "plt.legend(loc='best')\n",
    "plt.show()"
   ]
  },
  {
   "cell_type": "markdown",
   "metadata": {},
   "source": [
    "# 特征选择及降维"
   ]
  },
  {
   "cell_type": "markdown",
   "metadata": {},
   "source": [
    "## 最优子集"
   ]
  },
  {
   "cell_type": "code",
   "execution_count": 76,
   "metadata": {},
   "outputs": [],
   "source": [
    "import numpy as np\n",
    "from scipy import linalg\n",
    "from scipy.stats import norm\n",
    "import random\n",
    "\n",
    "def turnbits_rec(p):\n",
    "    if (p == 1):\n",
    "        return np.array([[True, False], [True, True]])\n",
    "    else:\n",
    "        tmp1 = np.c_[turnbits_rec(p - 1),\n",
    "                     np.array([False] * (2**(p - 1))).reshape((2**(p - 1), 1))]\n",
    "        tmp2 = np.c_[turnbits_rec(p - 1),\n",
    "                     np.array([True] * (2**(p - 1))).reshape((2**(p - 1), 1))]\n",
    "        return np.r_[tmp1, tmp2]\n",
    "\n",
    "def mse(xtx_t, xty_t, beta):\n",
    "    return (np.sum(np.dot(xtx_t, beta) * beta) - 2 * np.sum(xty_t * beta))\n",
    "\n",
    "def solve_sym(xtx, xty):\n",
    "    L = linalg.cholesky(xtx)\n",
    "    return linalg.lapack.dpotrs(L, xty)[0]"
   ]
  },
  {
   "cell_type": "code",
   "execution_count": 77,
   "metadata": {},
   "outputs": [],
   "source": [
    "class BestSubsetReg(object):\n",
    "    def __init__(self, x, y, inter=True, isCp=True, isAIC=True, isCV=True):\n",
    "        self.__n, self.__p = x.shape\n",
    "        if inter:\n",
    "            self.__x = np.c_[np.ones((self.__n, 1)), x]\n",
    "            self.__ind_var = turnbits_rec(self.__p)\n",
    "        else:\n",
    "            self.__x = x\n",
    "            self.__ind_var = turnbits_rec(self.__p)[:, 1:]\n",
    "        self.__y = y\n",
    "        self.__xTx = np.dot(self.__x.T, self.__x)\n",
    "        self.__xTy = np.dot(self.__x.T, self.__y)\n",
    "        self.__b = [\n",
    "            solve_sym(self.__xTx[ind][:, ind], self.__xTy[ind])\n",
    "            for ind in self.__ind_var\n",
    "        ]\n",
    "        self.__isCp = isCp\n",
    "        self.__isAIC = isAIC\n",
    "        self.__isCV = isCV\n",
    "\n",
    "    def __Cp_AIC(self):\n",
    "        rss = np.dot(self.__y, self.__y) - [\n",
    "            np.sum(np.dot(self.__xTx[ind][:, ind], b_) * b_)\n",
    "            for ind, b_ in zip(self.__ind_var, self.__b)\n",
    "        ]\n",
    "        d = np.sum(self.__ind_var, axis=1)\n",
    "        if self.__isCp:\n",
    "            self.Cp = rss + 2 * d * rss[-1] / (self.__n - self.__p - 1)\n",
    "        if self.__isAIC:\n",
    "            self.AIC = self.__n * np.log(rss) + 2 * d\n",
    "\n",
    "    def __cvreg(self):\n",
    "        K = 10\n",
    "        indexs = np.array_split(np.random.permutation(np.arange(0, self.__n)), K)\n",
    "\n",
    "        def cvk(ind, index):\n",
    "            txx = self.__xTx[ind][:, ind] - np.dot(\n",
    "                (self.__x[index][:, ind]).T, self.__x[index][:, ind])\n",
    "            txy = self.__xTy[ind] - np.dot(\n",
    "                (self.__x[index][:, ind]).T, self.__y[index])\n",
    "            tcoe = solve_sym(txx, txy)\n",
    "            return np.sum(\n",
    "                (self.__y[index] - np.dot(self.__x[index][:, ind], tcoe))**2)\n",
    "\n",
    "        self.cverr = np.sum(np.array([[cvk(ind, index) for index in indexs]\n",
    "                                      for ind in self.__ind_var]),\n",
    "                            axis=1) / self.__n\n",
    "\n",
    "    def output(self, isPrint=True):\n",
    "        \"\"\"\n",
    "        If inter=True, first item is intercept, Otherwise it is X1. \n",
    "        If print=False, save results only and do not print.\n",
    "        \"\"\"\n",
    "        if self.__isCp | self.__isAIC:\n",
    "            self.__Cp_AIC()\n",
    "            if self.__isCp:\n",
    "                min_id = np.argmin(self.Cp)\n",
    "                self.Cp = [self.__ind_var[min_id][0:], self.__b[min_id]]\n",
    "                if isPrint:\n",
    "                    print(\"Cp：\\nVariable：\", self.Cp[0])\n",
    "                    print(\"Coefficient：\", self.Cp[1])\n",
    "            if self.__isAIC:\n",
    "                min_id = np.argmin(self.AIC)\n",
    "                self.AIC = [self.__ind_var[min_id][0:], self.__b[min_id]]\n",
    "                if isPrint:\n",
    "                    print(\"AIC：\\nVariable：\", self.AIC[0])\n",
    "                    print(\"Coefficient：\", self.AIC[1])\n",
    "        if self.__isCV:\n",
    "            self.__cvreg()\n",
    "            min_id = np.argmin(self.cverr)\n",
    "            self.cverr = [self.__ind_var[min_id][0:], self.__b[min_id]]\n",
    "            if isPrint:\n",
    "                print(\"Cross Validation：\\nVariable：\", self.cverr[0])\n",
    "                print(\"Coefficient：\", self.cverr[1])"
   ]
  },
  {
   "cell_type": "code",
   "execution_count": 78,
   "metadata": {},
   "outputs": [
    {
     "name": "stdout",
     "output_type": "stream",
     "text": [
      "样本的个数 = 506,特征的个数 = 13\n",
      "Cp：\n",
      "Variable： [ True  True  True False  True  True  True False  True  True  True  True\n",
      "  True  True]\n",
      "Coefficient： [22.53280632 -0.93160036  1.06815915  0.68985505 -2.01150261  2.66841378\n",
      " -3.14011016  2.60618941 -1.98306322 -2.04714825  0.84736785 -3.72789722]\n",
      "AIC：\n",
      "Variable： [ True  True  True False  True  True  True False  True  True  True  True\n",
      "  True  True]\n",
      "Coefficient： [22.53280632 -0.93160036  1.06815915  0.68985505 -2.01150261  2.66841378\n",
      " -3.14011016  2.60618941 -1.98306322 -2.04714825  0.84736785 -3.72789722]\n",
      "Cross Validation：\n",
      "Variable： [ True  True  True False  True  True  True False  True  True  True  True\n",
      "  True  True]\n",
      "Coefficient： [22.53280632 -0.93160036  1.06815915  0.68985505 -2.01150261  2.66841378\n",
      " -3.14011016  2.60618941 -1.98306322 -2.04714825  0.84736785 -3.72789722]\n"
     ]
    },
    {
     "data": {
      "text/plain": [
       "[array([ True,  True,  True, False,  True,  True,  True, False,  True,\n",
       "         True,  True,  True,  True,  True]),\n",
       " array([22.53280632, -0.93160036,  1.06815915,  0.68985505, -2.01150261,\n",
       "         2.66841378, -3.14011016,  2.60618941, -1.98306322, -2.04714825,\n",
       "         0.84736785, -3.72789722])]"
      ]
     },
     "execution_count": 78,
     "metadata": {},
     "output_type": "execute_result"
    }
   ],
   "source": [
    "# 使用python自带的波士顿房价数据集\n",
    "from sklearn.datasets import load_boston\n",
    "X,y=load_boston(return_X_y=True)\n",
    "print(\"样本的个数 = {},特征的个数 = {}\".format(X.shape[0],X.shape[1]))\n",
    "# 将数据进行标准化\n",
    "from sklearn.preprocessing import StandardScaler\n",
    "scaler=StandardScaler().fit(X)\n",
    "X=scaler.transform(X)\n",
    "# 导入最优子集回归模型并进行训练\n",
    "model_subset = BestSubsetReg(x=X, y=y)\n",
    "# 输出子集选择结果\n",
    "model_subset.output()\n",
    "model_subset.Cp"
   ]
  },
  {
   "cell_type": "code",
   "execution_count": null,
   "metadata": {},
   "outputs": [],
   "source": []
  },
  {
   "cell_type": "markdown",
   "metadata": {},
   "source": [
    "## 岭回归：Ridge"
   ]
  },
  {
   "cell_type": "code",
   "execution_count": 26,
   "metadata": {},
   "outputs": [
    {
     "name": "stdout",
     "output_type": "stream",
     "text": [
      "样本的个数 = 506,特征的个数 = 13\n"
     ]
    }
   ],
   "source": [
    "# 使用python自带的波士顿房价数据集\n",
    "from sklearn.datasets import load_boston\n",
    "X,y=load_boston(return_X_y=True)\n",
    "print(\"样本的个数 = {},特征的个数 = {}\".format(X.shape[0],X.shape[1]))\n",
    "# 采用留出法划分数据集\n",
    "from sklearn.model_selection import train_test_split\n",
    "X_train,X_test,y_train,y_test=train_test_split(X,y,test_size=0.25,random_state=123)\n",
    "# 将数据进行标准化\n",
    "from sklearn.preprocessing import StandardScaler\n",
    "scaler=StandardScaler().fit(X_train)\n",
    "X_train=scaler.transform(X_train)\n",
    "X_test=scaler.transform(X_test)"
   ]
  },
  {
   "cell_type": "code",
   "execution_count": 27,
   "metadata": {},
   "outputs": [
    {
     "name": "stdout",
     "output_type": "stream",
     "text": [
      "岭回归模型拟合的均方误差为:24.77\n",
      "岭回归可以解释原变量60.464%的信息\n",
      "各变量的系数为:\n",
      " [-0.87661291  0.94946098  0.38801763  0.2961452  -1.7725836   3.10616001\n",
      " -0.01613174 -2.88171978  2.3796612  -2.05736629 -2.0040423   0.60486402\n",
      " -3.92557963]\n"
     ]
    }
   ],
   "source": [
    "# 导入岭回归函数\n",
    "from sklearn.linear_model import Ridge\n",
    "model_ridge=Ridge(alpha=0.5)  # 模型实例化\n",
    "# 模型训练及预测\n",
    "model_ridge=model_ridge.fit(X_train,y_train)\n",
    "y_pred=model_ridge.predict(X_test)\n",
    "# 模型评价：采用MSE和R^2来进行评价\n",
    "from sklearn.metrics import mean_squared_error\n",
    "from sklearn.metrics import r2_score\n",
    "MSE=mean_squared_error(y_pred,y_test)\n",
    "r2=r2_score(y_pred,y_test)\n",
    "print(\"岭回归模型拟合的均方误差为:{}\".format(round(MSE,3)))\n",
    "print(\"岭回归可以解释原变量%.3f%%的信息\"% (r2 *100))\n",
    "# 查看各变量的系数\n",
    "print(\"各变量的系数为:\\n\",model_ridge.coef_)"
   ]
  },
  {
   "cell_type": "markdown",
   "metadata": {},
   "source": [
    "## Lasso回归"
   ]
  },
  {
   "cell_type": "code",
   "execution_count": 28,
   "metadata": {},
   "outputs": [
    {
     "name": "stdout",
     "output_type": "stream",
     "text": [
      "样本的个数 = 506,特征的个数 = 13\n"
     ]
    }
   ],
   "source": [
    "# 使用python自带的波士顿房价数据集\n",
    "from sklearn.datasets import load_boston\n",
    "X,y=load_boston(return_X_y=True)\n",
    "print(\"样本的个数 = {},特征的个数 = {}\".format(X.shape[0],X.shape[1]))\n",
    "# 采用留出法划分数据集\n",
    "from sklearn.model_selection import train_test_split\n",
    "X_train,X_test,y_train,y_test=train_test_split(X,y,test_size=0.25,random_state=123)\n",
    "# 将数据进行标准化\n",
    "from sklearn.preprocessing import StandardScaler\n",
    "scaler=StandardScaler().fit(X_train)\n",
    "X_train=scaler.transform(X_train)\n",
    "X_test=scaler.transform(X_test)"
   ]
  },
  {
   "cell_type": "code",
   "execution_count": 29,
   "metadata": {},
   "outputs": [
    {
     "name": "stdout",
     "output_type": "stream",
     "text": [
      "Lasso回归模型拟合的均方误差为:26.114\n",
      "Lasso回归可以解释原变量56.578%的信息\n",
      "各变量的系数为:\n",
      " [-0.59635319  0.61150794 -0.          0.26879248 -1.2058338   3.22791697\n",
      " -0.         -2.25261646  0.95094981 -0.80891399 -1.83453419  0.47667922\n",
      " -3.93031518]\n"
     ]
    }
   ],
   "source": [
    "# 导入Lasso回归函数\n",
    "from sklearn.linear_model import Lasso\n",
    "model_lasso=Lasso(alpha=0.1)  # 模型实例化\n",
    "# 模型训练及预测\n",
    "model_lasso=model_lasso.fit(X_train,y_train)\n",
    "y_pred=model_lasso.predict(X_test)\n",
    "# 模型评价：采用MSE和R^2来进行评价\n",
    "from sklearn.metrics import mean_squared_error\n",
    "from sklearn.metrics import r2_score\n",
    "MSE=mean_squared_error(y_pred,y_test)\n",
    "r2=r2_score(y_pred,y_test)\n",
    "print(\"Lasso回归模型拟合的均方误差为:{}\".format(round(MSE,3)))\n",
    "print(\"Lasso回归可以解释原变量%.3f%%的信息\"% (r2 *100))\n",
    "# 查看各变量的系数\n",
    "print(\"各变量的系数为:\\n\",model_lasso.coef_)"
   ]
  },
  {
   "cell_type": "markdown",
   "metadata": {},
   "source": [
    "## 弹性网：Elastic-Net"
   ]
  },
  {
   "cell_type": "code",
   "execution_count": 30,
   "metadata": {},
   "outputs": [
    {
     "name": "stdout",
     "output_type": "stream",
     "text": [
      "样本的个数 = 506,特征的个数 = 13\n"
     ]
    }
   ],
   "source": [
    "# 使用python自带的波士顿房价数据集\n",
    "from sklearn.datasets import load_boston\n",
    "X,y=load_boston(return_X_y=True)\n",
    "print(\"样本的个数 = {},特征的个数 = {}\".format(X.shape[0],X.shape[1]))\n",
    "# 采用留出法划分数据集\n",
    "from sklearn.model_selection import train_test_split\n",
    "X_train,X_test,y_train,y_test=train_test_split(X,y,test_size=0.25,random_state=123)\n",
    "# 将数据进行标准化\n",
    "from sklearn.preprocessing import StandardScaler\n",
    "scaler=StandardScaler().fit(X_train)\n",
    "X_train=scaler.transform(X_train)\n",
    "X_test=scaler.transform(X_test)"
   ]
  },
  {
   "cell_type": "code",
   "execution_count": 31,
   "metadata": {},
   "outputs": [
    {
     "name": "stdout",
     "output_type": "stream",
     "text": [
      "Elastic_Net模型拟合的均方误差为:31.899\n",
      "Elastic_Net可以解释原变量3.574%的信息\n",
      "各变量的系数为:\n",
      " [-0.36754177  0.04144601 -0.26162353  0.09944001 -0.19657701  2.57774603\n",
      " -0.         -0.         -0.         -0.39236921 -1.25194015  0.31277891\n",
      " -2.3950601 ]\n"
     ]
    }
   ],
   "source": [
    "# 导入弹性网函数\n",
    "from sklearn.linear_model import ElasticNet\n",
    "model_elastic=ElasticNet()  # 模型实例化\n",
    "# 模型训练及预测\n",
    "model_elastic=model_elastic.fit(X_train,y_train)\n",
    "y_pred=model_elastic.predict(X_test)\n",
    "# 模型评价：采用MSE和R^2来进行评价\n",
    "from sklearn.metrics import mean_squared_error\n",
    "from sklearn.metrics import r2_score\n",
    "MSE=mean_squared_error(y_pred,y_test)\n",
    "r2=r2_score(y_pred,y_test)\n",
    "print(\"Elastic_Net模型拟合的均方误差为:{}\".format(round(MSE,3)))\n",
    "print(\"Elastic_Net可以解释原变量%.3f%%的信息\"% (r2 *100))\n",
    "# 查看各变量的系数\n",
    "print(\"各变量的系数为:\\n\",model_elastic.coef_)"
   ]
  },
  {
   "cell_type": "markdown",
   "metadata": {},
   "source": [
    "## 自适应Lasso：Adaptive Lasso"
   ]
  },
  {
   "cell_type": "code",
   "execution_count": 74,
   "metadata": {},
   "outputs": [],
   "source": [
    "def Adaptive_LASSO(X_train,y_train,max_iterations = 1000,lasso_iterations = 10, alpha = 0.1, tol = 0.001, max_error_up = 5, title = ''):\n",
    "    \n",
    "    from sklearn.linear_model import Lasso\n",
    "    # set checks\n",
    "    higher  = float('inf')\n",
    "    lower   = 0\n",
    "    \n",
    "    # set lists\n",
    "    coefficients_list = []\n",
    "    iterations_list   = []\n",
    "    \n",
    "    # set variables\n",
    "    X_train  = X_train\n",
    "    y_train  = y_train\n",
    "    \n",
    "    # set constants\n",
    "    alpha    = alpha\n",
    "    tol      = tol\n",
    "    max_iter = max_iterations\n",
    "    n_lasso_iterations = lasso_iterations\n",
    "    \n",
    "    g = lambda w: np.sqrt(np.abs(w))\n",
    "    gprime = lambda w: 1. / (2. * np.sqrt(np.abs(w)) + np.finfo(float).eps)\n",
    "\n",
    "    n_samples, n_features = X_train.shape\n",
    "    p_obj = lambda w: 1. / (2 * n_samples) * np.sum((y_train - np.dot(X_train, w)) ** 2) \\\n",
    "                      + alpha * np.sum(g(w))\n",
    "\n",
    "    weights = np.ones(n_features)\n",
    "\n",
    "    X_w = X_train / weights[np.newaxis, :]\n",
    "    X_w  = np.nan_to_num(X_w)\n",
    "    X_w  = np.round(X_w,decimals = 3)\n",
    "\n",
    "    y_train    = np.nan_to_num(y_train)\n",
    "\n",
    "    adaptive_lasso = Lasso(alpha=alpha, fit_intercept=False)\n",
    "\n",
    "    adaptive_lasso.fit(X_w, y_train)\n",
    "\n",
    "    for k in range(n_lasso_iterations):\n",
    "        X_w = X_train / weights[np.newaxis, :]\n",
    "        adaptive_lasso = Lasso(alpha=alpha, fit_intercept=False)\n",
    "        adaptive_lasso.fit(X_w, y_train)\n",
    "        coef_ = adaptive_lasso.coef_ / weights\n",
    "        weights = gprime(coef_)\n",
    "        \n",
    "        print ('Iteration #',k+1,':   ',p_obj(coef_))  # should go down\n",
    "        \n",
    "        iterations_list.append(k)\n",
    "        coefficients_list.append(p_obj(coef_))\n",
    "        \n",
    "    print (np.mean((adaptive_lasso.coef_ != 0.0) == (coef_ != 0.0)))   \n",
    "    \n",
    "    coef = pd.Series(adaptive_lasso.coef_, index = X_train.columns)\n",
    "    print('=============================================================================')\n",
    "    print(\"Adaptive LASSO picked \" + str(sum(coef != 0)) + \" variables and eliminated the other \" +  str(sum(coef == 0)) + \" variables.\")\n",
    "    print('=============================================================================')\n",
    "\n",
    "    plt.rcParams[\"figure.figsize\"] = (10,5)\n",
    "    plt.figure()\n",
    "    # subplot of the predicted vs. actual\n",
    "    plt.subplot(1,2,1)\n",
    "    plt.plot(iterations_list,coefficients_list,color = 'orange')\n",
    "    plt.scatter(iterations_list,coefficients_list,color = 'green')\n",
    "    plt.title('Iterations vs. p_obj(coef_)')\n",
    "\n",
    "    # plot of the coefficients'\n",
    "    plt.subplot(1,2,2)\n",
    "    imp_coef = pd.concat([coef.sort_values().head(10),coef.sort_values().tail(10)])\n",
    "    imp_coef.plot(kind = \"barh\", color = 'green',  fontsize=14)\n",
    "    plt.title(\"Coefficients Selected by the Adaptive LASSO Model\", fontsize = 14)\n",
    "    plt.show()\n",
    "    return adaptive_lasso"
   ]
  },
  {
   "cell_type": "code",
   "execution_count": 75,
   "metadata": {},
   "outputs": [
    {
     "name": "stdout",
     "output_type": "stream",
     "text": [
      "Iteration # 1 :    264.20608057659007\n",
      "Iteration # 2 :    264.1454183301053\n",
      "Iteration # 3 :    264.1434144508424\n",
      "Iteration # 4 :    264.14335384316723\n",
      "Iteration # 5 :    264.1433519584512\n",
      "Iteration # 6 :    264.1433519061564\n",
      "Iteration # 7 :    264.14335190824914\n",
      "Iteration # 8 :    264.14335190925414\n",
      "1.0\n",
      "=============================================================================\n",
      "Adaptive LASSO picked 11 variables and eliminated the other 2 variables.\n",
      "=============================================================================\n"
     ]
    },
    {
     "data": {
      "image/png": "[encoded data removed]",
      "text/plain": [
       "<Figure size 720x360 with 2 Axes>"
      ]
     },
     "metadata": {
      "needs_background": "light"
     },
     "output_type": "display_data"
    }
   ],
   "source": [
    "X_train=pd.DataFrame(X_train)\n",
    "model_lasso=Adaptive_LASSO(X_train,y_train,lasso_iterations=8)"
   ]
  },
  {
   "cell_type": "code",
   "execution_count": null,
   "metadata": {},
   "outputs": [],
   "source": [
    "# variable selection with LASSO for the model\n",
    "\n",
    "#y_train = numbers_df['y']\n",
    "#X_train = numbers_df[[col for col in numbers_df.columns if col != 'y']]\n",
    "\n",
    "#model = Adaptive_LASSO(X_train,\n",
    "#                       y_train,\n",
    "#                       max_iterations = 1000,\n",
    "#                       lasso_iterations = 10, \n",
    "#                       alpha = 0.1, \n",
    "#                       tol = 0.001, \n",
    "#                       max_error_up = 5, \n",
    "#                       title = '')\n",
    "\n",
    "# look at the coefficients in the model\n",
    "\n",
    "#coef = pd.Series(model.coef_, index = X_train.columns)\n",
    "#coef = pd.DataFrame(coef).reset_index()\n",
    "#coef_list = coef.loc[coef[0]!= 0.0]['index'].to_list()\n",
    "#new_X_train = X_train[coef_list]"
   ]
  },
  {
   "cell_type": "markdown",
   "metadata": {},
   "source": [
    "## SCAD"
   ]
  },
  {
   "cell_type": "code",
   "execution_count": null,
   "metadata": {},
   "outputs": [],
   "source": []
  },
  {
   "cell_type": "code",
   "execution_count": null,
   "metadata": {},
   "outputs": [],
   "source": []
  },
  {
   "cell_type": "code",
   "execution_count": null,
   "metadata": {},
   "outputs": [],
   "source": []
  },
  {
   "cell_type": "code",
   "execution_count": null,
   "metadata": {},
   "outputs": [],
   "source": []
  },
  {
   "cell_type": "code",
   "execution_count": null,
   "metadata": {},
   "outputs": [],
   "source": []
  },
  {
   "cell_type": "code",
   "execution_count": null,
   "metadata": {},
   "outputs": [],
   "source": []
  },
  {
   "cell_type": "markdown",
   "metadata": {},
   "source": [
    "## 主成分分析：PCA"
   ]
  },
  {
   "cell_type": "code",
   "execution_count": 1,
   "metadata": {},
   "outputs": [],
   "source": [
    "from sklearn.datasets import load_breast_cancer\n",
    "X,y=load_breast_cancer(return_X_y=True)"
   ]
  },
  {
   "cell_type": "code",
   "execution_count": 4,
   "metadata": {},
   "outputs": [
    {
     "data": {
      "text/plain": [
       "['DESCR', 'data', 'feature_names', 'filename', 'target', 'target_names']"
      ]
     },
     "execution_count": 4,
     "metadata": {},
     "output_type": "execute_result"
    }
   ],
   "source": [
    "dir(load_breast_cancer())"
   ]
  },
  {
   "cell_type": "code",
   "execution_count": 8,
   "metadata": {},
   "outputs": [
    {
     "data": {
      "text/plain": [
       "array(['mean radius', 'mean texture', 'mean perimeter', 'mean area',\n",
       "       'mean smoothness', 'mean compactness', 'mean concavity',\n",
       "       'mean concave points', 'mean symmetry', 'mean fractal dimension',\n",
       "       'radius error', 'texture error', 'perimeter error', 'area error',\n",
       "       'smoothness error', 'compactness error', 'concavity error',\n",
       "       'concave points error', 'symmetry error',\n",
       "       'fractal dimension error', 'worst radius', 'worst texture',\n",
       "       'worst perimeter', 'worst area', 'worst smoothness',\n",
       "       'worst compactness', 'worst concavity', 'worst concave points',\n",
       "       'worst symmetry', 'worst fractal dimension'], dtype='<U23')"
      ]
     },
     "execution_count": 8,
     "metadata": {},
     "output_type": "execute_result"
    }
   ],
   "source": [
    "load_breast_cancer().feature_names"
   ]
  },
  {
   "cell_type": "code",
   "execution_count": 27,
   "metadata": {},
   "outputs": [
    {
     "name": "stdout",
     "output_type": "stream",
     "text": [
      "样本的个数 = 569,     变量的个数 = 30\n",
      "1 个主成分可以解释原变量44.272%的信息\n",
      "2 个主成分可以解释原变量63.243%的信息\n",
      "3 个主成分可以解释原变量72.636%的信息\n",
      "4 个主成分可以解释原变量79.239%的信息\n",
      "5 个主成分可以解释原变量84.734%的信息\n",
      "6 个主成分可以解释原变量88.759%的信息\n",
      "7 个主成分可以解释原变量91.010%的信息\n",
      "8 个主成分可以解释原变量92.598%的信息\n",
      "9 个主成分可以解释原变量93.988%的信息\n",
      "10 个主成分可以解释原变量95.157%的信息\n"
     ]
    }
   ],
   "source": [
    "# 使用python自带的乳腺癌数据集（二分类）\n",
    "from sklearn.datasets import load_breast_cancer\n",
    "X,y=load_breast_cancer(return_X_y=True)\n",
    "print(\"样本的个数 = {},     变量的个数 = {}\".format(X.shape[0],X.shape[1]))\n",
    "# 将特征数据进行标准化\n",
    "from sklearn.preprocessing import StandardScaler\n",
    "scaler=StandardScaler().fit(X)\n",
    "X=scaler.transform(X)\n",
    "# 导入PCA函数\n",
    "from sklearn.decomposition import PCA\n",
    "# 进行主成分降维，并比较在不同主成分个数的情况下的方差累计贡献率\n",
    "for i in range(1,11):\n",
    "    pca=PCA(n_components=i)\n",
    "    pca.fit(X)\n",
    "    variance_ratio=pca.explained_variance_ratio_\n",
    "    print(i,\"个主成分可以解释原变量%.3f%%的信息\"% (np.sum(variance_ratio) *100))"
   ]
  },
  {
   "cell_type": "markdown",
   "metadata": {},
   "source": [
    "# 决策树"
   ]
  },
  {
   "cell_type": "markdown",
   "metadata": {},
   "source": [
    "## ID3决策树"
   ]
  },
  {
   "cell_type": "code",
   "execution_count": 21,
   "metadata": {},
   "outputs": [
    {
     "name": "stdout",
     "output_type": "stream",
     "text": [
      "样本的个数 = 569, 特征的个数 = 30\n",
      "ID3决策树模型拟合的准确率为:97.203%\n"
     ]
    }
   ],
   "source": [
    "# 使用python自带的乳腺癌数据集（二分类）\n",
    "from sklearn.datasets import load_breast_cancer\n",
    "X,y=load_breast_cancer(return_X_y=True)\n",
    "print(\"样本的个数 = {}, 特征的个数 = {}\".format(X.shape[0],X.shape[1]))\n",
    "# 采用留出法划分数据集\n",
    "from sklearn.model_selection import train_test_split\n",
    "X_train,X_test,y_train,y_test=train_test_split(X,y,test_size=0.25,random_state=123)\n",
    "# 将数据进行标准化\n",
    "from sklearn.preprocessing import StandardScaler\n",
    "scaler=StandardScaler().fit(X_train)\n",
    "X_train=scaler.transform(X_train)\n",
    "X_test=scaler.transform(X_test)\n",
    "# 导入决策树函数,criterion设为信息增益\n",
    "from sklearn.tree import DecisionTreeClassifier\n",
    "model18=DecisionTreeClassifier(criterion='entropy')\n",
    "# 模型训练及预测\n",
    "model18=model18.fit(X_train,y_train)\n",
    "y_pred=model18.predict(X_test)\n",
    "# 由于本案例是分类任务，故采用精度指标进行评价\n",
    "from sklearn.metrics import accuracy_score\n",
    "Acc=accuracy_score(y_pred,y_test)\n",
    "print(\"ID3决策树模型拟合的准确率为:%.3f%%\"% (Acc *100))"
   ]
  },
  {
   "cell_type": "markdown",
   "metadata": {},
   "source": [
    "## C4.5决策树"
   ]
  },
  {
   "cell_type": "code",
   "execution_count": null,
   "metadata": {},
   "outputs": [],
   "source": []
  },
  {
   "cell_type": "markdown",
   "metadata": {},
   "source": [
    "## CART决策树"
   ]
  },
  {
   "cell_type": "code",
   "execution_count": 22,
   "metadata": {},
   "outputs": [
    {
     "name": "stdout",
     "output_type": "stream",
     "text": [
      "样本的个数 = 569, 特征的个数 = 30\n",
      "CART决策树模型拟合的准确率为:97.203%\n"
     ]
    }
   ],
   "source": [
    "# 使用python自带的乳腺癌数据集（二分类）\n",
    "from sklearn.datasets import load_breast_cancer\n",
    "X,y=load_breast_cancer(return_X_y=True)\n",
    "print(\"样本的个数 = {}, 特征的个数 = {}\".format(X.shape[0],X.shape[1]))\n",
    "# 采用留出法划分数据集\n",
    "from sklearn.model_selection import train_test_split\n",
    "X_train,X_test,y_train,y_test=train_test_split(X,y,test_size=0.25,random_state=123)\n",
    "# 将数据进行标准化\n",
    "from sklearn.preprocessing import StandardScaler\n",
    "scaler=StandardScaler().fit(X_train)\n",
    "X_train=scaler.transform(X_train)\n",
    "X_test=scaler.transform(X_test)\n",
    "# 导入决策树函数,criterion设为基尼系数\n",
    "from sklearn.tree import DecisionTreeClassifier\n",
    "model20=DecisionTreeClassifier(criterion='gini')\n",
    "# 模型训练及预测\n",
    "model20=model20.fit(X_train,y_train)\n",
    "y_pred=model20.predict(X_test)\n",
    "# 由于本案例是分类任务，故采用精度指标进行评价\n",
    "from sklearn.metrics import accuracy_score\n",
    "Acc=accuracy_score(y_pred,y_test)\n",
    "print(\"CART决策树模型拟合的准确率为:%.3f%%\"% (Acc *100))"
   ]
  },
  {
   "cell_type": "code",
   "execution_count": 10,
   "metadata": {},
   "outputs": [
    {
     "ename": "RRuntimeError",
     "evalue": "",
     "output_type": "error",
     "traceback": [
      "\u001b[1;31m---------------------------------------------------------------------------\u001b[0m",
      "\u001b[1;31mRRuntimeError\u001b[0m                             Traceback (most recent call last)",
      "\u001b[1;32m<ipython-input-10-36363ade72f8>\u001b[0m in \u001b[0;36m<module>\u001b[1;34m\u001b[0m\n\u001b[0;32m      2\u001b[0m \u001b[1;32mfrom\u001b[0m \u001b[0mrpy2\u001b[0m\u001b[1;33m.\u001b[0m\u001b[0mrobjects\u001b[0m\u001b[1;33m.\u001b[0m\u001b[0mpackages\u001b[0m \u001b[1;32mimport\u001b[0m \u001b[0mimportr\u001b[0m\u001b[1;33m\u001b[0m\u001b[1;33m\u001b[0m\u001b[0m\n\u001b[0;32m      3\u001b[0m \u001b[0mimportr\u001b[0m\u001b[1;33m(\u001b[0m\u001b[1;34m'rpart'\u001b[0m\u001b[1;33m)\u001b[0m\u001b[1;33m\u001b[0m\u001b[1;33m\u001b[0m\u001b[0m\n\u001b[1;32m----> 4\u001b[1;33m \u001b[0mimportr\u001b[0m\u001b[1;33m(\u001b[0m\u001b[1;34m'rpart.plot'\u001b[0m\u001b[1;33m)\u001b[0m\u001b[1;33m\u001b[0m\u001b[1;33m\u001b[0m\u001b[0m\n\u001b[0m",
      "\u001b[1;32mD:\\Users\\kw\\Anaconda3\\lib\\site-packages\\rpy2\\robjects\\packages.py\u001b[0m in \u001b[0;36mimportr\u001b[1;34m(name, lib_loc, robject_translations, signature_translation, suppress_messages, on_conflict, symbol_r2python, symbol_check_after, data)\u001b[0m\n\u001b[0;32m    451\u001b[0m     if _package_has_namespace(rname, \n\u001b[0;32m    452\u001b[0m                               _system_file(package = rname)):\n\u001b[1;32m--> 453\u001b[1;33m         \u001b[0menv\u001b[0m \u001b[1;33m=\u001b[0m \u001b[0m_get_namespace\u001b[0m\u001b[1;33m(\u001b[0m\u001b[0mrname\u001b[0m\u001b[1;33m)\u001b[0m\u001b[1;33m\u001b[0m\u001b[1;33m\u001b[0m\u001b[0m\n\u001b[0m\u001b[0;32m    454\u001b[0m         \u001b[0mversion\u001b[0m \u001b[1;33m=\u001b[0m \u001b[0m_get_namespace_version\u001b[0m\u001b[1;33m(\u001b[0m\u001b[0mrname\u001b[0m\u001b[1;33m)\u001b[0m\u001b[1;33m[\u001b[0m\u001b[1;36m0\u001b[0m\u001b[1;33m]\u001b[0m\u001b[1;33m\u001b[0m\u001b[1;33m\u001b[0m\u001b[0m\n\u001b[0;32m    455\u001b[0m         \u001b[0mexported_names\u001b[0m \u001b[1;33m=\u001b[0m \u001b[0mset\u001b[0m\u001b[1;33m(\u001b[0m\u001b[0m_get_namespace_exports\u001b[0m\u001b[1;33m(\u001b[0m\u001b[0mrname\u001b[0m\u001b[1;33m)\u001b[0m\u001b[1;33m)\u001b[0m\u001b[1;33m\u001b[0m\u001b[1;33m\u001b[0m\u001b[0m\n",
      "\u001b[1;31mRRuntimeError\u001b[0m: "
     ]
    }
   ],
   "source": [
    "from rpy2.robjects import r\n",
    "from rpy2.robjects.packages import importr\n",
    "importr('rpart')\n",
    "importr('rpart.plot')"
   ]
  },
  {
   "cell_type": "code",
   "execution_count": 11,
   "metadata": {},
   "outputs": [
    {
     "ename": "RRuntimeError",
     "evalue": "",
     "output_type": "error",
     "traceback": [
      "\u001b[1;31m---------------------------------------------------------------------------\u001b[0m",
      "\u001b[1;31mRRuntimeError\u001b[0m                             Traceback (most recent call last)",
      "\u001b[1;32m<ipython-input-11-042ebf5019fb>\u001b[0m in \u001b[0;36m<module>\u001b[1;34m\u001b[0m\n\u001b[0;32m      1\u001b[0m \u001b[1;31m#importr('rpart.plot')\u001b[0m\u001b[1;33m\u001b[0m\u001b[1;33m\u001b[0m\u001b[1;33m\u001b[0m\u001b[0m\n\u001b[1;32m----> 2\u001b[1;33m \u001b[0mr\u001b[0m\u001b[1;33m[\u001b[0m\u001b[1;34m'install.packages'\u001b[0m\u001b[1;33m]\u001b[0m\u001b[1;33m(\u001b[0m\u001b[1;34m'rpart.plot'\u001b[0m\u001b[1;33m)\u001b[0m\u001b[1;33m\u001b[0m\u001b[1;33m\u001b[0m\u001b[0m\n\u001b[0m",
      "\u001b[1;32mD:\\Users\\kw\\Anaconda3\\lib\\site-packages\\rpy2\\robjects\\functions.py\u001b[0m in \u001b[0;36m__call__\u001b[1;34m(self, *args, **kwargs)\u001b[0m\n\u001b[0;32m    176\u001b[0m                 \u001b[0mv\u001b[0m \u001b[1;33m=\u001b[0m \u001b[0mkwargs\u001b[0m\u001b[1;33m.\u001b[0m\u001b[0mpop\u001b[0m\u001b[1;33m(\u001b[0m\u001b[0mk\u001b[0m\u001b[1;33m)\u001b[0m\u001b[1;33m\u001b[0m\u001b[1;33m\u001b[0m\u001b[0m\n\u001b[0;32m    177\u001b[0m                 \u001b[0mkwargs\u001b[0m\u001b[1;33m[\u001b[0m\u001b[0mr_k\u001b[0m\u001b[1;33m]\u001b[0m \u001b[1;33m=\u001b[0m \u001b[0mv\u001b[0m\u001b[1;33m\u001b[0m\u001b[1;33m\u001b[0m\u001b[0m\n\u001b[1;32m--> 178\u001b[1;33m         \u001b[1;32mreturn\u001b[0m \u001b[0msuper\u001b[0m\u001b[1;33m(\u001b[0m\u001b[0mSignatureTranslatedFunction\u001b[0m\u001b[1;33m,\u001b[0m \u001b[0mself\u001b[0m\u001b[1;33m)\u001b[0m\u001b[1;33m.\u001b[0m\u001b[0m__call__\u001b[0m\u001b[1;33m(\u001b[0m\u001b[1;33m*\u001b[0m\u001b[0margs\u001b[0m\u001b[1;33m,\u001b[0m \u001b[1;33m**\u001b[0m\u001b[0mkwargs\u001b[0m\u001b[1;33m)\u001b[0m\u001b[1;33m\u001b[0m\u001b[1;33m\u001b[0m\u001b[0m\n\u001b[0m\u001b[0;32m    179\u001b[0m \u001b[1;33m\u001b[0m\u001b[0m\n\u001b[0;32m    180\u001b[0m \u001b[0mpattern_link\u001b[0m \u001b[1;33m=\u001b[0m \u001b[0mre\u001b[0m\u001b[1;33m.\u001b[0m\u001b[0mcompile\u001b[0m\u001b[1;33m(\u001b[0m\u001b[1;34mr'\\\\link\\{(.+?)\\}'\u001b[0m\u001b[1;33m)\u001b[0m\u001b[1;33m\u001b[0m\u001b[1;33m\u001b[0m\u001b[0m\n",
      "\u001b[1;32mD:\\Users\\kw\\Anaconda3\\lib\\site-packages\\rpy2\\robjects\\functions.py\u001b[0m in \u001b[0;36m__call__\u001b[1;34m(self, *args, **kwargs)\u001b[0m\n\u001b[0;32m    104\u001b[0m         \u001b[1;32mfor\u001b[0m \u001b[0mk\u001b[0m\u001b[1;33m,\u001b[0m \u001b[0mv\u001b[0m \u001b[1;32min\u001b[0m \u001b[0mkwargs\u001b[0m\u001b[1;33m.\u001b[0m\u001b[0mitems\u001b[0m\u001b[1;33m(\u001b[0m\u001b[1;33m)\u001b[0m\u001b[1;33m:\u001b[0m\u001b[1;33m\u001b[0m\u001b[1;33m\u001b[0m\u001b[0m\n\u001b[0;32m    105\u001b[0m             \u001b[0mnew_kwargs\u001b[0m\u001b[1;33m[\u001b[0m\u001b[0mk\u001b[0m\u001b[1;33m]\u001b[0m \u001b[1;33m=\u001b[0m \u001b[0mconversion\u001b[0m\u001b[1;33m.\u001b[0m\u001b[0mpy2ri\u001b[0m\u001b[1;33m(\u001b[0m\u001b[0mv\u001b[0m\u001b[1;33m)\u001b[0m\u001b[1;33m\u001b[0m\u001b[1;33m\u001b[0m\u001b[0m\n\u001b[1;32m--> 106\u001b[1;33m         \u001b[0mres\u001b[0m \u001b[1;33m=\u001b[0m \u001b[0msuper\u001b[0m\u001b[1;33m(\u001b[0m\u001b[0mFunction\u001b[0m\u001b[1;33m,\u001b[0m \u001b[0mself\u001b[0m\u001b[1;33m)\u001b[0m\u001b[1;33m.\u001b[0m\u001b[0m__call__\u001b[0m\u001b[1;33m(\u001b[0m\u001b[1;33m*\u001b[0m\u001b[0mnew_args\u001b[0m\u001b[1;33m,\u001b[0m \u001b[1;33m**\u001b[0m\u001b[0mnew_kwargs\u001b[0m\u001b[1;33m)\u001b[0m\u001b[1;33m\u001b[0m\u001b[1;33m\u001b[0m\u001b[0m\n\u001b[0m\u001b[0;32m    107\u001b[0m         \u001b[0mres\u001b[0m \u001b[1;33m=\u001b[0m \u001b[0mconversion\u001b[0m\u001b[1;33m.\u001b[0m\u001b[0mri2ro\u001b[0m\u001b[1;33m(\u001b[0m\u001b[0mres\u001b[0m\u001b[1;33m)\u001b[0m\u001b[1;33m\u001b[0m\u001b[1;33m\u001b[0m\u001b[0m\n\u001b[0;32m    108\u001b[0m         \u001b[1;32mreturn\u001b[0m \u001b[0mres\u001b[0m\u001b[1;33m\u001b[0m\u001b[1;33m\u001b[0m\u001b[0m\n",
      "\u001b[1;31mRRuntimeError\u001b[0m: "
     ]
    }
   ],
   "source": [
    "#importr('rpart.plot')\n",
    "r['install.packages']('rpart.plot')"
   ]
  },
  {
   "cell_type": "code",
   "execution_count": 16,
   "metadata": {
    "scrolled": true
   },
   "outputs": [],
   "source": [
    "# 通过python程序调用R自带的iris数据集\n",
    "data_sample=\"\"\"\n",
    "#使用R自带的iris数据集\n",
    "data=iris\n",
    "head(iris)\n",
    "# 通过留出法划分数据集\n",
    "set.seed(123)\n",
    "train_index=sample(nrow(data),0.7*nrow(data))\n",
    "train_data=data[train_index,]\n",
    "test_data=data[-train_index,]\n",
    "\"\"\"\n",
    "# 通过调用rpy2包，用python执行R程序\n",
    "r(data_sample)\n",
    "# 将y_true 数据格式转化为np.array\n",
    "y_true=np.array(r(\"test_data$Species\"))"
   ]
  },
  {
   "cell_type": "markdown",
   "metadata": {},
   "source": [
    "## ID3决策树"
   ]
  },
  {
   "cell_type": "markdown",
   "metadata": {},
   "source": [
    "### ID3决策树未剪枝"
   ]
  },
  {
   "cell_type": "code",
   "execution_count": 1,
   "metadata": {},
   "outputs": [
    {
     "ename": "NameError",
     "evalue": "name 'importr' is not defined",
     "output_type": "error",
     "traceback": [
      "\u001b[1;31m---------------------------------------------------------------------------\u001b[0m",
      "\u001b[1;31mNameError\u001b[0m                                 Traceback (most recent call last)",
      "\u001b[1;32m<ipython-input-1-d861ab89e52c>\u001b[0m in \u001b[0;36m<module>\u001b[1;34m\u001b[0m\n\u001b[0;32m      1\u001b[0m \u001b[1;31m# 导入ID3决策树需要的函数包\u001b[0m\u001b[1;33m\u001b[0m\u001b[1;33m\u001b[0m\u001b[1;33m\u001b[0m\u001b[0m\n\u001b[1;32m----> 2\u001b[1;33m \u001b[0mimportr\u001b[0m\u001b[1;33m(\u001b[0m\u001b[1;34m'rpart'\u001b[0m\u001b[1;33m)\u001b[0m\u001b[1;33m\u001b[0m\u001b[1;33m\u001b[0m\u001b[0m\n\u001b[0m\u001b[0;32m      3\u001b[0m \u001b[0mimportr\u001b[0m\u001b[1;33m(\u001b[0m\u001b[1;34m'rpart.plot'\u001b[0m\u001b[1;33m)\u001b[0m\u001b[1;33m\u001b[0m\u001b[1;33m\u001b[0m\u001b[0m\n\u001b[0;32m      4\u001b[0m ID3_tree=\"\"\"\n\u001b[0;32m      5\u001b[0m ID3_tree=rpart(train_data$Species~.,data=train_data,method=\"class\",\n",
      "\u001b[1;31mNameError\u001b[0m: name 'importr' is not defined"
     ]
    }
   ],
   "source": [
    "# 导入ID3决策树需要的函数包\n",
    "from rpy2.robjects import r\n",
    "from rpy2.robjects.packages import importr\n",
    "importr('rpart')\n",
    "importr('rpart.plot')\n",
    "ID3_tree=\"\"\"\n",
    "ID3_tree=rpart(train_data$Species~.,data=train_data,method=\"class\",\n",
    "               parms=list(split=\"information\"),minsplit=0)\n",
    "rpart.plot(ID3_tree,branch=1,type=2, fallen.leaves=T,cex=0.8, sub=\"ID3—未剪枝\")\n",
    "pred_ID3_tree=predict(ID3_tree,test_data,type='class')\n",
    "\"\"\"\n",
    "# 通过python执行R中的ID3决策树程序\n",
    "r(ID3_tree)\n",
    "# 导出ID3决策树（未剪枝）的预测值，并转换为np.array格式\n",
    "y_pred_ID3=np.array(r(\"pred_ID3_tree\"))\n",
    "# 模型评价\n",
    "from sklearn.metrics import classification_report\n",
    "print(classification_report(y_pred_ID3,y_true))\n",
    "from sklearn.metrics import accuracy_score\n",
    "Acc=accuracy_score(y_pred_ID3,y_true)\n",
    "print(\"ID3决策树（未剪枝）拟合的准确率为:%.3f%%\"% (Acc *100))"
   ]
  },
  {
   "cell_type": "markdown",
   "metadata": {},
   "source": [
    "### ID3决策树（预剪枝）"
   ]
  },
  {
   "cell_type": "code",
   "execution_count": 22,
   "metadata": {},
   "outputs": [
    {
     "name": "stdout",
     "output_type": "stream",
     "text": [
      "              precision    recall  f1-score   support\n",
      "\n",
      "           1       1.00      1.00      1.00        14\n",
      "           2       1.00      0.95      0.97        19\n",
      "           3       0.92      1.00      0.96        12\n",
      "\n",
      "    accuracy                           0.98        45\n",
      "   macro avg       0.97      0.98      0.98        45\n",
      "weighted avg       0.98      0.98      0.98        45\n",
      "\n",
      "ID3决策树（预剪枝）拟合的准确率为:97.778%\n"
     ]
    }
   ],
   "source": [
    "# 导入ID3决策树需要的函数包\n",
    "importr('rpart')\n",
    "importr('rpart.plot')\n",
    "ID3_tree_pre=\"\"\"\n",
    " # 将每个叶节点最小样本数设为20\n",
    "ID3_tree_pre=rpart(train_data$Species~.,data=train_data,method=\"class\",\n",
    "               parms=list(split=\"information\"),minsplit=20)\n",
    "rpart.plot(ID3_tree_pre,branch=1,type=2, fallen.leaves=T,cex=0.8, sub=\"ID3—预剪枝\")\n",
    "pred_ID3_tree_pre=predict(ID3_tree_pre,test_data,type='class')\n",
    "\"\"\"\n",
    "# 通过python执行R中的ID3决策树程序\n",
    "r(ID3_tree_pre)\n",
    "# 导出ID3决策树（预剪枝）的预测值，并转换为np.array格式\n",
    "y_pred_ID3_pre=np.array(r(\"pred_ID3_tree_pre\"))\n",
    "# 模型评价\n",
    "from sklearn.metrics import classification_report\n",
    "print(classification_report(y_pred_ID3_pre,y_true))\n",
    "from sklearn.metrics import accuracy_score\n",
    "Acc=accuracy_score(y_pred_ID3_pre,y_true)\n",
    "print(\"ID3决策树（预剪枝）拟合的准确率为:%.3f%%\"% (Acc *100))"
   ]
  },
  {
   "cell_type": "markdown",
   "metadata": {},
   "source": [
    "### ID3决策树（后剪枝）"
   ]
  },
  {
   "cell_type": "code",
   "execution_count": 29,
   "metadata": {},
   "outputs": [
    {
     "name": "stdout",
     "output_type": "stream",
     "text": [
      "              precision    recall  f1-score   support\n",
      "\n",
      "           1       1.00      1.00      1.00        14\n",
      "           2       1.00      0.95      0.97        19\n",
      "           3       0.92      1.00      0.96        12\n",
      "\n",
      "    accuracy                           0.98        45\n",
      "   macro avg       0.97      0.98      0.98        45\n",
      "weighted avg       0.98      0.98      0.98        45\n",
      "\n",
      "ID3决策树（后剪枝）拟合的准确率为:97.778%\n"
     ]
    }
   ],
   "source": [
    "# 导入ID3决策树需要的函数包\n",
    "importr('rpart')\n",
    "importr('rpart.plot')\n",
    "ID3_tree_after=\"\"\"\n",
    "#后剪枝，将CP值设为0.1\n",
    "ID3_tree_after<-prune(ID3_tree,cp=0.1)\n",
    "rpart.plot(ID3_tree_after,branch=1,type=2, fallen.leaves=T,cex=0.8, sub=\"ID3—后剪枝\")\n",
    "pred_ID3_tree_after=predict(ID3_tree_after,test_data,type='class')\n",
    "\"\"\"\n",
    "# 通过python执行R中的ID3决策树程序\n",
    "r(ID3_tree_after)\n",
    "# 导出ID3决策树（后剪枝）的预测值，并转换为np.array格式\n",
    "y_pred_ID3_after=np.array(r(\"pred_ID3_tree_after\"))\n",
    "# 模型评价\n",
    "from sklearn.metrics import classification_report\n",
    "print(classification_report(y_pred_ID3_after,y_true))\n",
    "from sklearn.metrics import accuracy_score\n",
    "Acc=accuracy_score(y_pred_ID3_after,y_true)\n",
    "print(\"ID3决策树（后剪枝）拟合的准确率为:%.3f%%\"% (Acc *100))"
   ]
  },
  {
   "cell_type": "markdown",
   "metadata": {},
   "source": [
    "## C4.5决策树"
   ]
  },
  {
   "cell_type": "markdown",
   "metadata": {},
   "source": [
    "### C4.5决策树：未剪枝"
   ]
  },
  {
   "cell_type": "code",
   "execution_count": 35,
   "metadata": {},
   "outputs": [
    {
     "name": "stdout",
     "output_type": "stream",
     "text": [
      "              precision    recall  f1-score   support\n",
      "\n",
      "           1       1.00      1.00      1.00        14\n",
      "           2       0.94      1.00      0.97        17\n",
      "           3       1.00      0.93      0.96        14\n",
      "\n",
      "    accuracy                           0.98        45\n",
      "   macro avg       0.98      0.98      0.98        45\n",
      "weighted avg       0.98      0.98      0.98        45\n",
      "\n",
      "C4.5决策树（未剪枝）拟合的准确率为:97.778%\n"
     ]
    }
   ],
   "source": [
    "# 导入C4.5决策树需要的函数包\n",
    "importr('RWeka')\n",
    "importr('partykit')\n",
    "C4_5_tree=\"\"\"\n",
    " # 将每个叶节点最小样本数设为20\n",
    "C4_5_tree=J48(factor(train_data$Species)~.,data=train_data,control=Weka_control(M=2))\n",
    "plot(C4_5_tree,main=\"C4.5—未剪枝\")\n",
    "pred_C4_5_tree=predict(C4_5_tree,test_data,type='class')\n",
    "\"\"\"\n",
    "# 通过python执行R中的C4.5决策树程序\n",
    "r(C4_5_tree)\n",
    "# 导出C4.5决策树（未剪枝）的预测值，并转换为np.array格式\n",
    "y_pred_C4_5=np.array(r(\"pred_C4_5_tree\"))\n",
    "# 模型评价\n",
    "from sklearn.metrics import classification_report\n",
    "print(classification_report(y_pred_C4_5,y_true))\n",
    "from sklearn.metrics import accuracy_score\n",
    "Acc=accuracy_score(y_pred_C4_5,y_true)\n",
    "print(\"C4.5决策树（未剪枝）拟合的准确率为:%.3f%%\"% (Acc *100))"
   ]
  },
  {
   "cell_type": "markdown",
   "metadata": {},
   "source": [
    "### C4.5决策树：预剪枝"
   ]
  },
  {
   "cell_type": "code",
   "execution_count": 36,
   "metadata": {},
   "outputs": [
    {
     "name": "stdout",
     "output_type": "stream",
     "text": [
      "              precision    recall  f1-score   support\n",
      "\n",
      "           1       1.00      1.00      1.00        14\n",
      "           2       0.89      0.94      0.91        17\n",
      "           3       0.92      0.86      0.89        14\n",
      "\n",
      "    accuracy                           0.93        45\n",
      "   macro avg       0.94      0.93      0.93        45\n",
      "weighted avg       0.93      0.93      0.93        45\n",
      "\n",
      "C4.5决策树（预剪枝）拟合的准确率为:93.333%\n"
     ]
    }
   ],
   "source": [
    "# 导入C4.5决策树需要的函数包\n",
    "importr('RWeka')\n",
    "importr('partykit')\n",
    "C4_5_tree_pre=\"\"\"\n",
    "#预剪枝\n",
    "C4_5_tree_pre=J48(factor(train_data$Species)~.,data=train_data,\n",
    "                  control=Weka_control(U=T,M=5))\n",
    "plot(C4_5_tree_pre,main=\"C4.5—预剪枝\")\n",
    "pred_C4_5_tree_pre=predict(C4_5_tree_pre,test_data,type='class')\n",
    "\"\"\"\n",
    "# 通过python执行R中的C4.5决策树程序\n",
    "r(C4_5_tree_pre)\n",
    "# 导出C4.5决策树（预剪枝）的预测值，并转换为np.array格式\n",
    "y_pred_C4_5_pre=np.array(r(\"pred_C4_5_tree_pre\"))\n",
    "# 模型评价\n",
    "from sklearn.metrics import classification_report\n",
    "print(classification_report(y_pred_C4_5_pre,y_true))\n",
    "from sklearn.metrics import accuracy_score\n",
    "Acc=accuracy_score(y_pred_C4_5_pre,y_true)\n",
    "print(\"C4.5决策树（预剪枝）拟合的准确率为:%.3f%%\"% (Acc *100))"
   ]
  },
  {
   "cell_type": "markdown",
   "metadata": {},
   "source": [
    "## CART决策树"
   ]
  },
  {
   "cell_type": "markdown",
   "metadata": {},
   "source": [
    "### CART决策树：未剪枝"
   ]
  },
  {
   "cell_type": "code",
   "execution_count": 37,
   "metadata": {},
   "outputs": [
    {
     "name": "stdout",
     "output_type": "stream",
     "text": [
      "              precision    recall  f1-score   support\n",
      "\n",
      "           1       1.00      1.00      1.00        14\n",
      "           2       0.89      1.00      0.94        16\n",
      "           3       1.00      0.87      0.93        15\n",
      "\n",
      "    accuracy                           0.96        45\n",
      "   macro avg       0.96      0.96      0.96        45\n",
      "weighted avg       0.96      0.96      0.96        45\n",
      "\n",
      "CART决策树（未剪枝）拟合的准确率为:95.556%\n"
     ]
    }
   ],
   "source": [
    "# 导入CART决策树需要的函数包\n",
    "importr('rpart')\n",
    "importr('rpart.plot')\n",
    "CART_tree=\"\"\"\n",
    "CART_tree=rpart(train_data$Species~.,data=train_data,method=\"class\",\n",
    "               parms=list(split=\"gini\"),minsplit=0)\n",
    "rpart.plot(CART_tree,branch=1,type=2, fallen.leaves=T,cex=0.8, sub=\"CART—未剪枝\")\n",
    "pred_CART_tree=predict(CART_tree,test_data,type='class')\n",
    "\"\"\"\n",
    "# 通过python执行R中的CART决策树程序\n",
    "r(CART_tree)\n",
    "# 导出CART决策树（未剪枝）的预测值，并转换为np.array格式\n",
    "y_pred_CART=np.array(r(\"pred_CART_tree\"))\n",
    "# 模型评价\n",
    "from sklearn.metrics import classification_report\n",
    "print(classification_report(y_pred_CART,y_true))\n",
    "from sklearn.metrics import accuracy_score\n",
    "Acc=accuracy_score(y_pred_CART,y_true)\n",
    "print(\"CART决策树（未剪枝）拟合的准确率为:%.3f%%\"% (Acc *100))"
   ]
  },
  {
   "cell_type": "markdown",
   "metadata": {},
   "source": [
    "### CART决策树：预剪枝"
   ]
  },
  {
   "cell_type": "code",
   "execution_count": 38,
   "metadata": {},
   "outputs": [
    {
     "name": "stdout",
     "output_type": "stream",
     "text": [
      "              precision    recall  f1-score   support\n",
      "\n",
      "           1       1.00      1.00      1.00        14\n",
      "           2       1.00      0.95      0.97        19\n",
      "           3       0.92      1.00      0.96        12\n",
      "\n",
      "    accuracy                           0.98        45\n",
      "   macro avg       0.97      0.98      0.98        45\n",
      "weighted avg       0.98      0.98      0.98        45\n",
      "\n",
      "CART决策树（预剪枝）拟合的准确率为:97.778%\n"
     ]
    }
   ],
   "source": [
    "# 导入CART决策树需要的函数包\n",
    "importr('rpart')\n",
    "importr('rpart.plot')\n",
    "CART_tree_pre=\"\"\"\n",
    "#将每个叶节点最小样本数设为20\n",
    "CART_tree_pre=rpart(train_data$Species~.,data=train_data,method=\"class\",\n",
    "               parms=list(split=\"gini\"),minsplit=20)\n",
    "rpart.plot(CART_tree_pre,branch=1,type=2, fallen.leaves=T,cex=0.8, sub=\"CART—预剪枝\")\n",
    "pred_CART_tree_pre=predict(CART_tree_pre,test_data,type='class')\n",
    "\"\"\"\n",
    "# 通过python执行R中的CART决策树程序\n",
    "r(CART_tree_pre)\n",
    "# 导出CART决策树（预剪枝）的预测值，并转换为np.array格式\n",
    "y_pred_CART_pre=np.array(r(\"pred_CART_tree_pre\"))\n",
    "# 模型评价\n",
    "from sklearn.metrics import classification_report\n",
    "print(classification_report(y_pred_CART_pre,y_true))\n",
    "from sklearn.metrics import accuracy_score\n",
    "Acc=accuracy_score(y_pred_CART_pre,y_true)\n",
    "print(\"CART决策树（预剪枝）拟合的准确率为:%.3f%%\"% (Acc *100))"
   ]
  },
  {
   "cell_type": "markdown",
   "metadata": {},
   "source": [
    "### CART决策树：后剪枝"
   ]
  },
  {
   "cell_type": "code",
   "execution_count": 39,
   "metadata": {},
   "outputs": [
    {
     "name": "stdout",
     "output_type": "stream",
     "text": [
      "              precision    recall  f1-score   support\n",
      "\n",
      "           1       1.00      1.00      1.00        14\n",
      "           2       1.00      0.95      0.97        19\n",
      "           3       0.92      1.00      0.96        12\n",
      "\n",
      "    accuracy                           0.98        45\n",
      "   macro avg       0.97      0.98      0.98        45\n",
      "weighted avg       0.98      0.98      0.98        45\n",
      "\n",
      "CART决策树（后剪枝）拟合的准确率为:97.778%\n"
     ]
    }
   ],
   "source": [
    "# 导入CART决策树需要的函数包\n",
    "importr('rpart')\n",
    "importr('rpart.plot')\n",
    "CART_tree_after=\"\"\"\n",
    "#后剪枝，将CP值设为0.1\n",
    "CART_tree_after<-prune(CART_tree,cp=0.1)\n",
    "rpart.plot(CART_tree_after,branch=1,type=2, fallen.leaves=T,cex=0.8, sub=\"CART—后剪枝\")\n",
    "pred_CART_tree_after=predict(CART_tree_after,test_data,type='class')\n",
    "\"\"\"\n",
    "# 通过python执行R中的CART决策树程序\n",
    "r(CART_tree_after)\n",
    "# 导出CART决策树（后剪枝）的预测值，并转换为np.array格式\n",
    "y_pred_CART_after=np.array(r(\"pred_CART_tree_after\"))\n",
    "# 模型评价\n",
    "from sklearn.metrics import classification_report\n",
    "print(classification_report(y_pred_CART_after,y_true))\n",
    "from sklearn.metrics import accuracy_score\n",
    "Acc=accuracy_score(y_pred_CART_after,y_true)\n",
    "print(\"CART决策树（后剪枝）拟合的准确率为:%.3f%%\"% (Acc *100))"
   ]
  },
  {
   "cell_type": "markdown",
   "metadata": {},
   "source": [
    "## C5.0决策树"
   ]
  },
  {
   "cell_type": "code",
   "execution_count": 43,
   "metadata": {},
   "outputs": [
    {
     "name": "stdout",
     "output_type": "stream",
     "text": [
      "              precision    recall  f1-score   support\n",
      "\n",
      "           1       1.00      1.00      1.00        14\n",
      "           2       0.94      1.00      0.97        17\n",
      "           3       1.00      0.93      0.96        14\n",
      "\n",
      "    accuracy                           0.98        45\n",
      "   macro avg       0.98      0.98      0.98        45\n",
      "weighted avg       0.98      0.98      0.98        45\n",
      "\n",
      "C5.0决策树拟合的准确率为:97.778%\n"
     ]
    }
   ],
   "source": [
    "# 导入C5.0决策树需要的函数包\n",
    "importr('C50')\n",
    "C50_tree=\"\"\"\n",
    "C50_tree=C5.0(x=train_data[,-5],y=factor(train_data$Species))\n",
    "plot(C50_tree,main=\"C5.0决策树\")\n",
    "pred_C50_tree=predict(C50_tree,test_data,type='class')\n",
    "\"\"\"\n",
    "# 通过python执行R中的C5.0决策树程序\n",
    "r(C50_tree)\n",
    "# 导出C5.0决策树的预测值，并转换为np.array格式\n",
    "y_pred_C50=np.array(r(\"pred_C50_tree\"))\n",
    "# 模型评价\n",
    "from sklearn.metrics import classification_report\n",
    "print(classification_report(y_pred_C50,y_true))\n",
    "from sklearn.metrics import accuracy_score\n",
    "Acc=accuracy_score(y_pred_C50,y_true)\n",
    "print(\"C5.0决策树拟合的准确率为:%.3f%%\"% (Acc *100))"
   ]
  },
  {
   "cell_type": "markdown",
   "metadata": {},
   "source": [
    "# 支持向量机：SVM"
   ]
  },
  {
   "cell_type": "markdown",
   "metadata": {},
   "source": [
    "## 线性支持向量机"
   ]
  },
  {
   "cell_type": "code",
   "execution_count": 32,
   "metadata": {},
   "outputs": [
    {
     "name": "stdout",
     "output_type": "stream",
     "text": [
      "样本的个数 = 569, 特征的个数 = 30\n"
     ]
    }
   ],
   "source": [
    "# 使用python自带的乳腺癌数据集（二分类）\n",
    "from sklearn.datasets import load_breast_cancer\n",
    "X,y=load_breast_cancer(return_X_y=True)\n",
    "print(\"样本的个数 = {}, 特征的个数 = {}\".format(X.shape[0],X.shape[1]))\n",
    "# 采用留出法划分数据集\n",
    "from sklearn.model_selection import train_test_split\n",
    "X_train,X_test,y_train,y_test=train_test_split(X,y,test_size=0.25,random_state=123)\n",
    "# 将数据进行标准化\n",
    "from sklearn.preprocessing import StandardScaler\n",
    "scaler=StandardScaler().fit(X_train)\n",
    "X_train=scaler.transform(X_train)\n",
    "X_test=scaler.transform(X_test)"
   ]
  },
  {
   "cell_type": "code",
   "execution_count": 33,
   "metadata": {},
   "outputs": [
    {
     "name": "stdout",
     "output_type": "stream",
     "text": [
      "线性支持向量机模型拟合的准确率为:98.601%\n"
     ]
    }
   ],
   "source": [
    "# 导入支持向量机函数：核函数为线性核\n",
    "from sklearn.svm import SVC\n",
    "model12=SVC(kernel='linear')\n",
    "# 模型训练及预测\n",
    "model12=model12.fit(X_train,y_train)\n",
    "y_pred=model12.predict(X_test)\n",
    "# 由于本案例是分类任务，故采用精度指标进行评价\n",
    "from sklearn.metrics import accuracy_score\n",
    "Acc=accuracy_score(y_pred,y_test)\n",
    "print(\"线性支持向量机模型拟合的准确率为:%.3f%%\"% (Acc *100))"
   ]
  },
  {
   "cell_type": "markdown",
   "metadata": {},
   "source": [
    "## 核支持向量机（RBF核）"
   ]
  },
  {
   "cell_type": "code",
   "execution_count": null,
   "metadata": {},
   "outputs": [],
   "source": [
    "# 使用python自带的乳腺癌数据集（二分类）\n",
    "from sklearn.datasets import load_breast_cancer\n",
    "X,y=load_breast_cancer(return_X_y=True)\n",
    "print(\"样本的个数 = {}, 特征的个数 = {}\".format(X.shape[0],X.shape[1]))\n",
    "# 采用留出法划分数据集\n",
    "from sklearn.model_selection import train_test_split\n",
    "X_train,X_test,y_train,y_test=train_test_split(X,y,test_size=0.25,random_state=123)\n",
    "# 将数据进行标准化\n",
    "from sklearn.preprocessing import StandardScaler\n",
    "scaler=StandardScaler().fit(X_train)\n",
    "X_train=scaler.transform(X_train)\n",
    "X_test=scaler.transform(X_test)"
   ]
  },
  {
   "cell_type": "code",
   "execution_count": 34,
   "metadata": {},
   "outputs": [
    {
     "name": "stdout",
     "output_type": "stream",
     "text": [
      "RBF核支持向量机模型拟合的准确率为:98.601%\n"
     ]
    }
   ],
   "source": [
    "# 导入支持向量机函数：核函数为RBF核\n",
    "from sklearn.svm import SVC\n",
    "model13=SVC(kernel='rbf')\n",
    "# 模型训练及预测\n",
    "model13=model13.fit(X_train,y_train)\n",
    "y_pred=model13.predict(X_test)\n",
    "# 由于本案例是分类任务，故采用精度指标进行评价\n",
    "from sklearn.metrics import accuracy_score\n",
    "Acc=accuracy_score(y_pred,y_test)\n",
    "print(\"RBF核支持向量机模型拟合的准确率为:%.3f%%\"% (Acc *100))"
   ]
  },
  {
   "cell_type": "markdown",
   "metadata": {},
   "source": [
    "# 神经网络"
   ]
  },
  {
   "cell_type": "markdown",
   "metadata": {},
   "source": [
    "## BP神经网络"
   ]
  },
  {
   "cell_type": "code",
   "execution_count": 1,
   "metadata": {},
   "outputs": [
    {
     "name": "stdout",
     "output_type": "stream",
     "text": [
      "样本的个数 = 569, 特征的个数 = 30\n"
     ]
    }
   ],
   "source": [
    "# 使用python自带的乳腺癌数据集（二分类）\n",
    "from sklearn.datasets import load_breast_cancer\n",
    "X,y=load_breast_cancer(return_X_y=True)\n",
    "print(\"样本的个数 = {}, 特征的个数 = {}\".format(X.shape[0],X.shape[1]))\n",
    "# 采用留出法划分数据集\n",
    "from sklearn.model_selection import train_test_split\n",
    "X_train,X_test,y_train,y_test=train_test_split(X,y,test_size=0.25,random_state=123)\n",
    "# 将数据进行标准化\n",
    "from sklearn.preprocessing import StandardScaler\n",
    "scaler=StandardScaler().fit(X_train)\n",
    "X_train=scaler.transform(X_train)\n",
    "X_test=scaler.transform(X_test)"
   ]
  },
  {
   "cell_type": "code",
   "execution_count": null,
   "metadata": {},
   "outputs": [
    {
     "name": "stderr",
     "output_type": "stream",
     "text": [
      "Using TensorFlow backend.\n"
     ]
    }
   ],
   "source": [
    "# 导入定义神经网络所需的函数\n",
    "from keras.models import Sequential\n",
    "from keras.layers import Dense, Dropout\n",
    "from keras.optimizers import SGD\n",
    "# 自定义三层神经网络模型\n",
    "model = Sequential([\n",
    "    Dense(64, input_dim=30,activation=\"relu\"),\n",
    "    Dense(32,activation=\"relu\"),\n",
    "    Dense(1,activation=\"sigmoid\")\n",
    "])\n",
    "print(model.summary())\n",
    "# 模型编译\n",
    "sgd = SGD(lr=0.01, decay=1e-6, momentum=0.9, nesterov=True)\n",
    "model.compile(loss='binary_crossentropy',\n",
    "              optimizer=sgd,\n",
    "              metrics=['accuracy'])\n",
    "# 模型训练及评价\n",
    "model.fit(X_train, y_train,epochs=500,batch_size=32,verbose=0)\n",
    "loss,Acc= model.evaluate(X_test, y_test, batch_size=32)\n",
    "print(\"BP神经网络模型拟合的准确率为:%.3f%%\"% (Acc *100))"
   ]
  },
  {
   "cell_type": "markdown",
   "metadata": {},
   "source": [
    "## RBF神经网络"
   ]
  },
  {
   "cell_type": "code",
   "execution_count": 2,
   "metadata": {},
   "outputs": [],
   "source": [
    "from keras.layers import Layer\n",
    "from keras import backend as K\n",
    "# 自定义RBF激活函数\n",
    "class RBFLayer(Layer):\n",
    "    def __init__(self, units, gamma, **kwargs):\n",
    "        super(RBFLayer, self).__init__(**kwargs)\n",
    "        self.units = units\n",
    "        self.gamma = K.cast_to_floatx(gamma)\n",
    "\n",
    "    def build(self, input_shape):\n",
    "        self.mu = self.add_weight(name='mu',\n",
    "                                  shape=(int(input_shape[1]), self.units),\n",
    "                                  initializer='uniform',\n",
    "                                  trainable=True)\n",
    "        super(RBFLayer, self).build(input_shape)\n",
    "\n",
    "    def call(self, inputs):\n",
    "        diff = K.expand_dims(inputs) - self.mu\n",
    "        l2 = K.sum(K.pow(diff,2), axis=1)\n",
    "        res = K.exp(-1 * self.gamma * l2)\n",
    "        return res\n",
    "\n",
    "    def compute_output_shape(self, input_shape):\n",
    "        return (input_shape[0], self.units)"
   ]
  },
  {
   "cell_type": "code",
   "execution_count": 6,
   "metadata": {},
   "outputs": [
    {
     "name": "stdout",
     "output_type": "stream",
     "text": [
      "样本的个数 = 569, 特征的个数 = 30\n",
      "Model: \"sequential_5\"\n",
      "_________________________________________________________________\n",
      "Layer (type)                 Output Shape              Param #   \n",
      "=================================================================\n",
      "dense_10 (Dense)             (None, 16)                496       \n",
      "_________________________________________________________________\n",
      "rbf_layer_4 (RBFLayer)       (None, 16)                256       \n",
      "_________________________________________________________________\n",
      "dense_11 (Dense)             (None, 1)                 17        \n",
      "=================================================================\n",
      "Total params: 769\n",
      "Trainable params: 769\n",
      "Non-trainable params: 0\n",
      "_________________________________________________________________\n",
      "None\n",
      "143/143 [==============================] - 0s 480us/step\n",
      "RBF神经网络模型拟合的准确率为:99.301%\n"
     ]
    }
   ],
   "source": [
    "# 使用python自带的乳腺癌数据集（二分类）\n",
    "from sklearn.datasets import load_breast_cancer\n",
    "X,y=load_breast_cancer(return_X_y=True)\n",
    "print(\"样本的个数 = {}, 特征的个数 = {}\".format(X.shape[0],X.shape[1]))\n",
    "# 采用留出法划分数据集\n",
    "from sklearn.model_selection import train_test_split\n",
    "X_train,X_test,y_train,y_test=train_test_split(X,y,test_size=0.25,random_state=123)\n",
    "# 将数据进行标准化\n",
    "from sklearn.preprocessing import StandardScaler\n",
    "scaler=StandardScaler().fit(X_train)\n",
    "X_train=scaler.transform(X_train)\n",
    "X_test=scaler.transform(X_test)\n",
    "# 自定义二层RBF神经网络\n",
    "model = Sequential()\n",
    "model.add(Dense(16, input_shape=(30,)))\n",
    "model.add(RBFLayer(16,0.5))\n",
    "model.add(Dense(1,activation=\"sigmoid\"))\n",
    "print(model.summary())\n",
    "# 模型编译\n",
    "sgd = SGD(lr=0.01, decay=1e-6, momentum=0.9, nesterov=True)\n",
    "model.compile(loss='binary_crossentropy',\n",
    "              optimizer=sgd,\n",
    "              metrics=['accuracy'])\n",
    "# 模型训练及评价\n",
    "model.fit(X_train, y_train,epochs=500,batch_size=32,verbose=0)\n",
    "loss,Acc= model.evaluate(X_test, y_test, batch_size=32)\n",
    "print(\"RBF神经网络模型拟合的准确率为:%.3f%%\"% (Acc *100))"
   ]
  },
  {
   "cell_type": "code",
   "execution_count": 3,
   "metadata": {},
   "outputs": [],
   "source": [
    "from scipy import *\n",
    "from scipy.linalg import norm, pinv\n",
    "from matplotlib import pyplot as plt\n",
    "from numpy import exp\n",
    "\n",
    "class RBF(object):\n",
    "     \n",
    "    def __init__(self, indim, nhiddens, outdim):\n",
    "        self.indim = indim\n",
    "        self.outdim = outdim\n",
    "        self.nhiddens = nhiddens\n",
    "        self.centers = [random.uniform(-1, 1, indim) for i in range(nhiddens)]\n",
    "        self.beta = 8\n",
    "        self.W = random.random((self.nhiddens, self.outdim))\n",
    "         \n",
    "    def _basisfunc(self, c, d):\n",
    "        assert len(d) == self.indim\n",
    "        return exp(-self.beta * norm(c-d)**2)\n",
    "     \n",
    "    def _calcAct(self, X):\n",
    "        # calculate activations of RBFs\n",
    "        G = zeros((X.shape[0], self.nhiddens), float)\n",
    "        for ci, c in enumerate(self.centers):\n",
    "            for xi, x in enumerate(X):\n",
    "                G[xi,ci] = self._basisfunc(c, x)\n",
    "        return G\n",
    "     \n",
    "    def train(self, X, Y):\n",
    "        \"\"\" X: matrix of dimensions n x indim \n",
    "            y: column vector of dimension n x 1 \"\"\"\n",
    "         \n",
    "        # choose random center vectors from training set\n",
    "        random.seed(10)\n",
    "#        rnd_idx = random.permutation(X.shape[0])[:self.numCenters]\n",
    "#        self.centers = [X[i,:] for i in rnd_idx]\n",
    "        self.centers = X[random.choice(X.shape[0],self.nhiddens)]\n",
    "        \n",
    "#        print (\"center\", self.centers)\n",
    "        # calculate activations of RBFs\n",
    "        G = self._calcAct(X)\n",
    "#        print ('G \\n',G)\n",
    "         \n",
    "        # calculate output weights (pseudoinverse)\n",
    "        self.W = dot(pinv(G), Y)\n",
    "        return self.centers, G \n",
    "         \n",
    "    def test(self, X):\n",
    "        \"\"\" X: matrix of dimensions n x indim \"\"\"\n",
    "         \n",
    "        G = self._calcAct(X)\n",
    "        Y = dot(G, self.W)\n",
    "        return Y"
   ]
  },
  {
   "cell_type": "code",
   "execution_count": null,
   "metadata": {},
   "outputs": [],
   "source": [
    " \n",
    "if __name__ == '__main__':\n",
    "    # rbf regression\n",
    "    rbf = RBF(1, 10, 1)\n",
    "    center, G = rbf.train(x, y)\n",
    "    z = rbf.test(x)\n",
    "       \n",
    "    # plot original data\n",
    "    plt.figure(figsize=(12, 8))\n",
    "    plt.plot(x, y, 'k-')\n",
    "     \n",
    "    # plot learned model\n",
    "    plt.plot(x, z, 'r-', linewidth=2)\n",
    "#     \n",
    "    # plot rbfs\n",
    "    plt.plot(rbf.centers, zeros(rbf.numCenters), 'gs')\n",
    "     \n",
    "    for c in rbf.centers:\n",
    "        # RF prediction lines\n",
    "        cx = arange(c-0.7, c+0.7, 0.01)\n",
    "        cy = [rbf._basisfunc(array([cx_]), array([c])) for cx_ in cx]\n",
    "        plt.plot(cx, cy, '-', color='gray', linewidth=0.2)\n",
    "     \n",
    "    plt.xlim(-1.2, 1.2)\n",
    "    plt.show()"
   ]
  },
  {
   "cell_type": "code",
   "execution_count": 8,
   "metadata": {},
   "outputs": [
    {
     "name": "stdout",
     "output_type": "stream",
     "text": [
      "样本的个数 = 569, 特征的个数 = 30\n"
     ]
    },
    {
     "name": "stderr",
     "output_type": "stream",
     "text": [
      "D:\\Users\\kw\\Anaconda3\\lib\\site-packages\\ipykernel_launcher.py:22: DeprecationWarning: scipy.zeros is deprecated and will be removed in SciPy 2.0.0, use numpy.zeros instead\n",
      "D:\\Users\\kw\\Anaconda3\\lib\\site-packages\\ipykernel_launcher.py:44: DeprecationWarning: scipy.dot is deprecated and will be removed in SciPy 2.0.0, use numpy.dot instead\n"
     ]
    },
    {
     "name": "stdout",
     "output_type": "stream",
     "text": [
      "[0 0 0 0 0 0 0 0 0 0 0 0 0 0 0 0 0 0 0 0 0 0 0 0 0 0 0 0 0 0 0 0 0 0 0 0 0\n",
      " 0 0 0 1 0 0 0 0 0 0 0 0 0 0 0 0 0 0 0 0 0 0 0 0 0 0 0 0 0 0 0 0 0 0 0 0 0\n",
      " 0 0 0 0 0 0 0 0 0 0 0 0 0 0 0 0 0 0 0 0 0 0 0 0 0 0 0 0 0 0 0 0 0 0 0 0 0\n",
      " 0 0 0 0 0 0 0 0 0 0 0 0 1 0 1 0 0 0 0 0 0 0 0 0 0 0 0 0 0 0 0 0 0 0 0 0 0\n",
      " 0 0 0 0 0 0 0 0 0 0 0 0 0 0 0 0 0 0 0 0 0 0 0 0 0 0 0 0 0 0 0 0 0 0 0 0 0\n",
      " 0 0 0 0 0 0 0 0 0 0 0 0 0 0 0 0 0 0 0 0 0 0 0 0 0 0 0 0 0 0 0 0 0 0 0 0 1\n",
      " 0 0 0 0 0 0 0 0 0 0 0 0 0 0 0 0 0 0 0 0 0 0 0 0 0 0 0 0 0 0 0 0 0 0 0 0 0\n",
      " 0 0 0 0 0 0 1 0 0 0 0 0 0 0 0 0 0 0 0 0 0 0 0 0 0 0 0 0 0 0 0 0 0 0 0 0 0\n",
      " 0 0 0 0 0 0 0 0 0 0 0 0 0 0 0 0 0 0 0 0 0 0 0 0 1 0 0 0 0 0 0 0 0 0 0 0 0\n",
      " 0 0 0 0 0 0 0 0 0 0 0 0 0 0 0 0 0 0 0 0 0 0 0 0 0 0 0 0 0 0 0 0 0 0 0 0 1\n",
      " 0 0 0 0 0 0 0 0 0 0 0 0 0 0 0 0 0 0 0 0 0 0 0 0 0 0 0 0 0 0 0 0 0 0 0 0 0\n",
      " 0 0 0 0 0 0 0 0 0 0 0 0 0 0 0 0 0 0 0]\n"
     ]
    },
    {
     "name": "stderr",
     "output_type": "stream",
     "text": [
      "D:\\Users\\kw\\Anaconda3\\lib\\site-packages\\ipykernel_launcher.py:51: DeprecationWarning: scipy.dot is deprecated and will be removed in SciPy 2.0.0, use numpy.dot instead\n"
     ]
    }
   ],
   "source": [
    "# 使用python自带的乳腺癌数据集（二分类）\n",
    "from sklearn.datasets import load_breast_cancer\n",
    "X,y=load_breast_cancer(return_X_y=True)\n",
    "print(\"样本的个数 = {}, 特征的个数 = {}\".format(X.shape[0],X.shape[1]))\n",
    "# 采用留出法划分数据集\n",
    "from sklearn.model_selection import train_test_split\n",
    "X_train,X_test,y_train,y_test=train_test_split(X,y,test_size=0.25,random_state=123)\n",
    "# 将数据进行标准化\n",
    "from sklearn.preprocessing import StandardScaler\n",
    "scaler=StandardScaler().fit(X_train)\n",
    "X_train=scaler.transform(X_train)\n",
    "X_test=scaler.transform(X_test)\n",
    "# 导入RBF神经网络模型\n",
    "model_rbf=RBF(30,15,1)\n",
    "center,G=model_rbf.train(X_train,y_train)\n",
    "y_pred=model_rbf.test(X_train)\n",
    "print(y_pred.astype(int))"
   ]
  },
  {
   "cell_type": "code",
   "execution_count": 9,
   "metadata": {},
   "outputs": [
    {
     "name": "stderr",
     "output_type": "stream",
     "text": [
      "Using TensorFlow backend.\n"
     ]
    }
   ],
   "source": [
    "from keras import backend as K\n",
    "from keras.engine.topology import Layer\n",
    "from keras.initializers import RandomUniform, Initializer, Constant\n",
    "import numpy as np\n",
    "\n",
    "class InitCentersRandom(Initializer):\n",
    "    \"\"\" Initializer for initialization of centers of RBF network\n",
    "        as random samples from the given data set.\n",
    "    # Arguments\n",
    "        X: matrix, dataset to choose the centers from (random rows\n",
    "          are taken as centers)\n",
    "    \"\"\"\n",
    "\n",
    "    def __init__(self, X):\n",
    "        self.X = X\n",
    "\n",
    "    def __call__(self, shape, dtype=None):\n",
    "        assert shape[1] == self.X.shape[1]\n",
    "        idx = np.random.randint(self.X.shape[0], size=shape[0])\n",
    "        return self.X[idx, :]\n",
    "\n",
    "\n",
    "class RBFLayer(Layer):\n",
    "    \"\"\" Layer of Gaussian RBF units.\n",
    "    # Arguments\n",
    "        output_dim: number of hidden units (i.e. number of outputs of the\n",
    "                    layer)\n",
    "        initializer: instance of initiliazer to initialize centers\n",
    "        betas: float, initial value for betas\n",
    "    \"\"\"\n",
    "\n",
    "    def __init__(self, output_dim, initializer=None, betas=1.0, **kwargs):\n",
    "        self.output_dim = output_dim\n",
    "        self.init_betas = betas\n",
    "        if not initializer:\n",
    "            self.initializer = RandomUniform(0.0, 1.0)\n",
    "        else:\n",
    "            self.initializer = initializer\n",
    "        super(RBFLayer, self).__init__(**kwargs)\n",
    "\n",
    "    def build(self, input_shape):\n",
    "\n",
    "        self.centers = self.add_weight(name='centers',\n",
    "                                       shape=(self.output_dim, input_shape[1]),\n",
    "                                       initializer=self.initializer,\n",
    "                                       trainable=True)\n",
    "        self.betas = self.add_weight(name='betas',\n",
    "                                     shape=(self.output_dim,),\n",
    "                                     initializer=Constant(\n",
    "                                         value=self.init_betas),\n",
    "                                     # initializer='ones',\n",
    "                                     trainable=True)\n",
    "\n",
    "        super(RBFLayer, self).build(input_shape)\n",
    "\n",
    "    def call(self, x):\n",
    "\n",
    "        C = K.expand_dims(self.centers)\n",
    "        H = K.transpose(C-K.transpose(x))\n",
    "        return K.exp(-self.betas * K.sum(H**2, axis=1))\n",
    "\n",
    "    def compute_output_shape(self, input_shape):\n",
    "        return (input_shape[0], self.output_dim)\n",
    "\n",
    "    def get_config(self):\n",
    "        # have to define get_config to be able to use model_from_json\n",
    "        config = {\n",
    "            'output_dim': self.output_dim\n",
    "        }\n",
    "        base_config = super(RBFLayer, self).get_config()\n",
    "        return dict(list(base_config.items()) + list(config.items()))"
   ]
  },
  {
   "cell_type": "code",
   "execution_count": 22,
   "metadata": {},
   "outputs": [
    {
     "name": "stdout",
     "output_type": "stream",
     "text": [
      "Model: \"sequential_13\"\n",
      "_________________________________________________________________\n",
      "Layer (type)                 Output Shape              Param #   \n",
      "=================================================================\n",
      "rbf_layer_22 (RBFLayer)      (None, 10)                310       \n",
      "_________________________________________________________________\n",
      "dense_20 (Dense)             (None, 1)                 11        \n",
      "=================================================================\n",
      "Total params: 321\n",
      "Trainable params: 321\n",
      "Non-trainable params: 0\n",
      "_________________________________________________________________\n",
      "None\n"
     ]
    }
   ],
   "source": [
    "from keras.models import Sequential\n",
    "from keras.layers.core import Dense\n",
    "from keras.optimizers import SGD\n",
    "model=Sequential()\n",
    "model.add(RBFLayer(10,betas=8.0,input_shape=(30,),initializer=InitCentersRandom(X_train)))\n",
    "model.add(Dense(1,activation=\"sigmoid\"))\n",
    "print(model.summary())\n",
    "# 模型编译\n",
    "sgd = SGD(lr=0.01, decay=1e-6, momentum=0.9, nesterov=True)\n",
    "model.compile(loss='binary_crossentropy',\n",
    "              optimizer=sgd,\n",
    "              metrics=['accuracy'])\n",
    "# 模型训练及评价\n",
    "model.fit(X_train, y_train,epochs=200,batch_size=32,verbose=0)\n",
    "y_pred=model.predict(X_test)\n",
    "#loss,Acc= model.evaluate(X_test, y_test, batch_size=32)\n",
    "#print(\"BP神经网络模型拟合的准确率为:%.3f%%\"% (Acc *100))\n"
   ]
  },
  {
   "cell_type": "markdown",
   "metadata": {},
   "source": [
    "## GRNN"
   ]
  },
  {
   "cell_type": "code",
   "execution_count": 24,
   "metadata": {},
   "outputs": [],
   "source": [
    "import numpy as np\n",
    "import pandas as pd\n",
    "\n",
    "# 自定义广义回归神经网络模型（GRNN）\n",
    "class GRNN(object):\n",
    "    def __init__(self,X_train,y_train,X_test,y_test):\n",
    "        self.x_train= X_train\n",
    "        self.y_train= y_train\n",
    "        self.x_test= X_test\n",
    "        self.y_test= y_test\n",
    "        #np.random.rand(1,self.train_y.size) #Standard deviations(std) are sometimes called RBF widths.\n",
    "        self.std = np.ones((1,self.y_train.size))\n",
    "        \n",
    "    def activation_func(self,distances): # gaussian kernel        \n",
    "        return np.exp(- (distances**2) / 2*(self.std**2) )\n",
    "\n",
    "    def output(self,i):#sometimes called weight\n",
    "        distances=np.sqrt(np.sum((self.x_test[i]-self.x_train)**2,axis=1)) # euclidean distance        \n",
    "        return self.activation_func(distances)\n",
    "   \n",
    "    def denominator(self,i):\n",
    "        return np.sum(self.output(i))\n",
    "\n",
    "    def numerator(self,i): \n",
    "        return  np.sum(self.output(i) * self.y_train)\n",
    "    \n",
    "    def predict(self):\n",
    "        predict_array = np.array([])\n",
    "        for i in range(self.y_test.size):\n",
    "            predict=np.array([self.numerator(i)/self.denominator(i)])\n",
    "            predict_array=np.append(predict_array,predict)        \n",
    "        return predict_array\n",
    "    \n",
    "    def squared_error(self):\n",
    "        return (self.predict()-self.y_test)**2 \n",
    "    \n",
    "    def root_squared_error(self):\n",
    "        return np.sqrt(self.squared_error())"
   ]
  },
  {
   "cell_type": "code",
   "execution_count": 42,
   "metadata": {},
   "outputs": [
    {
     "name": "stdout",
     "output_type": "stream",
     "text": [
      "样本的个数 = 506,特征的个数 = 13\n",
      "GRNN模型拟合的均方误差为:23.402\n",
      "GRNN模型自定义的MSE为:23.402\n",
      "GRNN可以解释原变量53.297%的信息\n"
     ]
    }
   ],
   "source": [
    "# 使用python自带的波士顿房价数据集\n",
    "from sklearn.datasets import load_boston\n",
    "X,y=load_boston(return_X_y=True)\n",
    "print(\"样本的个数 = {},特征的个数 = {}\".format(X.shape[0],X.shape[1]))\n",
    "# 采用留出法划分数据集\n",
    "from sklearn.model_selection import train_test_split\n",
    "X_train,X_test,y_train,y_test=train_test_split(X,y,test_size=0.25,random_state=123)\n",
    "# 将数据进行标准化\n",
    "from sklearn.preprocessing import StandardScaler\n",
    "scaler=StandardScaler().fit(X_train)\n",
    "X_train=scaler.transform(X_train)\n",
    "X_test=scaler.transform(X_test)\n",
    "# 导入自定义的GRNN，并进行训练和预测\n",
    "model_grnn=GRNN(X_train,y_train,X_test,y_test)\n",
    "y_pred=model_grnn.predict()\n",
    "# 模型评价\n",
    "from sklearn.metrics import mean_squared_error\n",
    "from sklearn.metrics import r2_score\n",
    "MSE=mean_squared_error(y_pred,y_test)\n",
    "r2=r2_score(y_pred,y_test)\n",
    "print(\"GRNN模型拟合的均方误差为:{}\".format(round(MSE,3)))\n",
    "print(\"GRNN模型自定义的MSE为:%.3f\"%(np.mean(model_grnn.squared_error())))\n",
    "print(\"GRNN可以解释原变量%.3f%%的信息\"% (r2 *100))"
   ]
  },
  {
   "cell_type": "markdown",
   "metadata": {},
   "source": [
    "# 聚类分析"
   ]
  },
  {
   "cell_type": "markdown",
   "metadata": {},
   "source": [
    "## K-Means聚类"
   ]
  },
  {
   "cell_type": "code",
   "execution_count": 138,
   "metadata": {},
   "outputs": [
    {
     "name": "stdout",
     "output_type": "stream",
     "text": [
      "样本的个数 = 150, 特征的个数 = 4\n",
      "特征描述：['sepal length (cm)', 'sepal width (cm)', 'petal length (cm)', 'petal width (cm)']\n",
      "K-Means同质性得分为:0.751\n"
     ]
    },
    {
     "data": {
      "image/png": "[encoded data removed]",
      "text/plain": [
       "<Figure size 720x360 with 2 Axes>"
      ]
     },
     "metadata": {
      "needs_background": "light"
     },
     "output_type": "display_data"
    }
   ],
   "source": [
    "# 使用python自带的鸢尾花数据集（三分类）\n",
    "from sklearn.datasets import load_iris\n",
    "X,y=load_iris(return_X_y=True)\n",
    "print(\"样本的个数 = {}, 特征的个数 = {}\".format(X.shape[0],X.shape[1]))\n",
    "print(\"特征描述：{}\".format(load_iris().feature_names))\n",
    "# 画出sepal、petal length特征的分布图\n",
    "plt.subplot(1,2,1)\n",
    "plt.scatter(X[:,0],X[:,2],c=y)\n",
    "plt.xlabel('sepal length')\n",
    "plt.ylabel('petal length')\n",
    "plt.title('original_data distribution')\n",
    "# 进行K-Means聚类分析\n",
    "from sklearn.cluster import KMeans\n",
    "model_kmeans=KMeans(n_clusters=3)\n",
    "model_kmeans=model_kmeans.fit(X)\n",
    "y_kmeans=model_kmeans.labels_\n",
    "# 聚类结果评价：同质性得分\n",
    "from sklearn.metrics.cluster import homogeneity_score\n",
    "score=homogeneity_score(y,y_kmeans)\n",
    "print(\"K-Means同质性得分为:{}\".format(round(score,3)))\n",
    "# 画出聚类后的结果\n",
    "plt.subplot(1,2,2)\n",
    "plt.scatter(X[:,0],X[:,2],c=y_kmeans)\n",
    "centers=model_kmeans.cluster_centers_\n",
    "plt.scatter(centers[:,0],centers[:,2],c=\"red\",s=200,alpha=0.5,label=\"cluster center\")\n",
    "plt.xlabel('sepal length')\n",
    "plt.ylabel('petal length')\n",
    "plt.title('The result of K-Means')\n",
    "plt.legend(loc='best')\n",
    "plt.show()"
   ]
  },
  {
   "cell_type": "markdown",
   "metadata": {},
   "source": [
    "## 系统聚类"
   ]
  },
  {
   "cell_type": "code",
   "execution_count": 121,
   "metadata": {},
   "outputs": [],
   "source": [
    "from scipy.cluster.hierarchy import dendrogram\n",
    "# 定义谱系图\n",
    "def plot_dendrogram(model, **kwargs):\n",
    "    # Create linkage matrix and then plot the dendrogram\n",
    "\n",
    "    # create the counts of samples under each node\n",
    "    counts = np.zeros(model.children_.shape[0])\n",
    "    n_samples = len(model.labels_)\n",
    "    for i, merge in enumerate(model.children_):\n",
    "        current_count = 0\n",
    "        for child_idx in merge:\n",
    "            if child_idx < n_samples:\n",
    "                current_count += 1  # leaf node\n",
    "            else:\n",
    "                current_count += counts[child_idx - n_samples]\n",
    "        counts[i] = current_count\n",
    "\n",
    "    linkage_matrix = np.column_stack([model.children_, model.distances_,\n",
    "                                      counts]).astype(float)\n",
    "\n",
    "    # Plot the corresponding dendrogram\n",
    "    dendrogram(linkage_matrix, **kwargs)"
   ]
  },
  {
   "cell_type": "code",
   "execution_count": 139,
   "metadata": {},
   "outputs": [
    {
     "name": "stdout",
     "output_type": "stream",
     "text": [
      "样本的个数 = 150, 特征的个数 = 4\n",
      "特征描述：['sepal length (cm)', 'sepal width (cm)', 'petal length (cm)', 'petal width (cm)']\n",
      "系统聚类同质性得分为:1.0\n"
     ]
    },
    {
     "data": {
      "image/png": "[encoded data removed]",
      "text/plain": [
       "<Figure size 576x288 with 1 Axes>"
      ]
     },
     "metadata": {
      "needs_background": "light"
     },
     "output_type": "display_data"
    }
   ],
   "source": [
    "# 使用python自带的鸢尾花数据集（三分类）\n",
    "from sklearn.datasets import load_iris\n",
    "X,y=load_iris(return_X_y=True)\n",
    "print(\"样本的个数 = {}, 特征的个数 = {}\".format(X.shape[0],X.shape[1]))\n",
    "print(\"特征描述：{}\".format(load_iris().feature_names))\n",
    "# 导入系统聚类模型并训练\n",
    "from sklearn.cluster import AgglomerativeClustering\n",
    "model_Aggcluster = AgglomerativeClustering(distance_threshold=0, n_clusters=None)\n",
    "model_Aggcluster= model_Aggcluster.fit(X)\n",
    "y_aggcluster=model_Aggcluster.labels_\n",
    "# 聚类结果评价：同质性得分\n",
    "from sklearn.metrics.cluster import homogeneity_score\n",
    "score=homogeneity_score(y,y_aggcluster)\n",
    "print(\"系统聚类同质性得分为:{}\".format(round(score,3)))\n",
    "# 根据聚类结果画出谱系图\n",
    "plt.figure(figsize=(8,4))\n",
    "plt.title('Hierarchical Clustering Dendrogram')\n",
    "plot_dendrogram(model_Aggcluster, truncate_mode='level', p=3)\n",
    "plt.xlabel(\"Number of points in node (or index of point if no parenthesis).\")\n",
    "plt.show()"
   ]
  },
  {
   "cell_type": "code",
   "execution_count": null,
   "metadata": {},
   "outputs": [],
   "source": []
  },
  {
   "cell_type": "markdown",
   "metadata": {},
   "source": [
    "## 密度聚类"
   ]
  },
  {
   "cell_type": "code",
   "execution_count": 143,
   "metadata": {},
   "outputs": [
    {
     "name": "stdout",
     "output_type": "stream",
     "text": [
      "样本的个数 = 150, 特征的个数 = 4\n",
      "特征描述：['sepal length (cm)', 'sepal width (cm)', 'petal length (cm)', 'petal width (cm)']\n",
      "Estimated number of clusters: 2\n",
      "Estimated number of noise points: 13\n",
      "K-Means同质性得分为:0.563\n"
     ]
    },
    {
     "data": {
      "image/png": "[encoded data removed]",
      "text/plain": [
       "<Figure size 720x360 with 2 Axes>"
      ]
     },
     "metadata": {
      "needs_background": "light"
     },
     "output_type": "display_data"
    }
   ],
   "source": [
    "# 使用python自带的鸢尾花数据集（三分类）\n",
    "from sklearn.datasets import load_iris\n",
    "X,y=load_iris(return_X_y=True)\n",
    "print(\"样本的个数 = {}, 特征的个数 = {}\".format(X.shape[0],X.shape[1]))\n",
    "print(\"特征描述：{}\".format(load_iris().feature_names))\n",
    "# 画出sepal、petal length特征的分布图\n",
    "plt.subplot(1,2,1)\n",
    "plt.scatter(X[:,0],X[:,2],c=y)\n",
    "plt.xlabel('sepal length')\n",
    "plt.ylabel('petal length')\n",
    "plt.title('original_data distribution')\n",
    "# 进行K-Means聚类分析\n",
    "from sklearn.cluster import DBSCAN\n",
    "model_dbscan=DBSCAN(eps=0.6, min_samples=10).fit(X)\n",
    "y_dbscan=model_dbscan.labels_\n",
    "core_samples_mask = np.zeros_like(y_dbscan, dtype=bool)\n",
    "core_samples_mask[model_dbscan.core_sample_indices_] = True\n",
    "n_clusters_ = len(set(y_dbscan)) - (1 if -1 in y_dbscan else 0)\n",
    "n_noise_ = list(y_dbscan).count(-1)\n",
    "print('Estimated number of clusters: %d' % n_clusters_)\n",
    "print('Estimated number of noise points: %d' % n_noise_)\n",
    "# 聚类结果评价：同质性得分\n",
    "from sklearn.metrics.cluster import homogeneity_score\n",
    "score=homogeneity_score(y,y_dbscan)\n",
    "print(\"K-Means同质性得分为:{}\".format(round(score,3)))\n",
    "# 画出聚类后的结果\n",
    "plt.subplot(1,2,2)\n",
    "plt.scatter(X[:,0],X[:,2],c=y_dbscan)\n",
    "plt.xlabel('sepal length')\n",
    "plt.ylabel('petal length')\n",
    "plt.title('The result of DBSCAN')\n",
    "plt.show()"
   ]
  },
  {
   "cell_type": "markdown",
   "metadata": {},
   "source": [
    "# 集成学习"
   ]
  },
  {
   "cell_type": "markdown",
   "metadata": {},
   "source": [
    "## 随机森林：Random Forest"
   ]
  },
  {
   "cell_type": "code",
   "execution_count": 5,
   "metadata": {},
   "outputs": [
    {
     "name": "stdout",
     "output_type": "stream",
     "text": [
      "样本的个数 = 569, 特征的个数 = 30\n",
      "随机森林模型拟合的准确率为:99.301%\n"
     ]
    }
   ],
   "source": [
    "# 使用python自带的乳腺癌数据集（二分类）\n",
    "from sklearn.datasets import load_breast_cancer\n",
    "X,y=load_breast_cancer(return_X_y=True)\n",
    "print(\"样本的个数 = {}, 特征的个数 = {}\".format(X.shape[0],X.shape[1]))\n",
    "\n",
    "# 采用留出法划分数据集\n",
    "from sklearn.model_selection import train_test_split\n",
    "X_train,X_test,y_train,y_test=train_test_split(X,y,test_size=0.25,random_state=123)\n",
    "# 将数据进行标准化\n",
    "from sklearn.preprocessing import StandardScaler\n",
    "scaler=StandardScaler().fit(X_train)\n",
    "X_train=scaler.transform(X_train)\n",
    "X_test=scaler.transform(X_test)\n",
    "# 导入随机森林函数,使用二十棵决策树进行集成\n",
    "from sklearn.ensemble import RandomForestClassifier\n",
    "model13=RandomForestClassifier(n_estimators=20)\n",
    "# 模型训练及预测\n",
    "model13=model13.fit(X_train,y_train)\n",
    "y_pred=model13.predict(X_test)\n",
    "# 由于本案例是分类任务，故采用精度指标进行评价\n",
    "from sklearn.metrics import accuracy_score\n",
    "Acc=accuracy_score(y_pred,y_test)\n",
    "print(\"随机森林模型拟合的准确率为:%.3f%%\"% (Acc *100))"
   ]
  },
  {
   "cell_type": "markdown",
   "metadata": {},
   "source": [
    "## Bagging"
   ]
  },
  {
   "cell_type": "code",
   "execution_count": 20,
   "metadata": {},
   "outputs": [
    {
     "name": "stdout",
     "output_type": "stream",
     "text": [
      "样本的个数 = 569, 特征的个数 = 30\n",
      "Bagging模型拟合的准确率为:98.601%\n"
     ]
    }
   ],
   "source": [
    "# 使用python自带的乳腺癌数据集（二分类）\n",
    "from sklearn.datasets import load_breast_cancer\n",
    "X,y=load_breast_cancer(return_X_y=True)\n",
    "print(\"样本的个数 = {}, 特征的个数 = {}\".format(X.shape[0],X.shape[1]))\n",
    "# 采用留出法划分数据集\n",
    "from sklearn.model_selection import train_test_split\n",
    "X_train,X_test,y_train,y_test=train_test_split(X,y,test_size=0.25,random_state=123)\n",
    "# 将数据进行标准化\n",
    "from sklearn.preprocessing import StandardScaler\n",
    "scaler=StandardScaler().fit(X_train)\n",
    "X_train=scaler.transform(X_train)\n",
    "X_test=scaler.transform(X_test)\n",
    "# 导入BaggingClassifier函数,使用20棵决策树作为基分类器\n",
    "from sklearn.tree import DecisionTreeClassifier\n",
    "from sklearn.ensemble import BaggingClassifier\n",
    "model17=BaggingClassifier(base_estimator=DecisionTreeClassifier(),n_estimators=20)\n",
    "# 模型训练及预测\n",
    "model17=model17.fit(X_train,y_train)\n",
    "y_pred=model17.predict(X_test)\n",
    "# 由于本案例是分类任务，故采用精度指标进行评价\n",
    "from sklearn.metrics import accuracy_score\n",
    "Acc=accuracy_score(y_pred,y_test)\n",
    "print(\"Bagging模型拟合的准确率为:%.3f%%\"% (Acc *100))"
   ]
  },
  {
   "cell_type": "markdown",
   "metadata": {},
   "source": [
    "## AdaBoost"
   ]
  },
  {
   "cell_type": "code",
   "execution_count": 8,
   "metadata": {},
   "outputs": [
    {
     "name": "stdout",
     "output_type": "stream",
     "text": [
      "样本的个数 = 569, 特征的个数 = 30\n",
      "AdaBoost模型拟合的准确率为:96.503%\n"
     ]
    }
   ],
   "source": [
    "# 使用python自带的乳腺癌数据集（二分类）\n",
    "from sklearn.datasets import load_breast_cancer\n",
    "X,y=load_breast_cancer(return_X_y=True)\n",
    "print(\"样本的个数 = {}, 特征的个数 = {}\".format(X.shape[0],X.shape[1]))\n",
    "# 采用留出法划分数据集\n",
    "from sklearn.model_selection import train_test_split\n",
    "X_train,X_test,y_train,y_test=train_test_split(X,y,test_size=0.25,random_state=123)\n",
    "# 将数据进行标准化\n",
    "from sklearn.preprocessing import StandardScaler\n",
    "scaler=StandardScaler().fit(X_train)\n",
    "X_train=scaler.transform(X_train)\n",
    "X_test=scaler.transform(X_test)\n",
    "# 导入AdaBoost函数,使用20棵决策树\n",
    "from sklearn.ensemble import AdaBoostClassifier\n",
    "model14=AdaBoostClassifier(n_estimators=20)\n",
    "# 模型训练及预测\n",
    "model14=model14.fit(X_train,y_train)\n",
    "y_pred=model14.predict(X_test)\n",
    "# 由于本案例是分类任务，故采用精度指标进行评价\n",
    "from sklearn.metrics import accuracy_score\n",
    "Acc=accuracy_score(y_pred,y_test)\n",
    "print(\"AdaBoost模型拟合的准确率为:%.3f%%\"% (Acc *100))"
   ]
  },
  {
   "cell_type": "markdown",
   "metadata": {},
   "source": [
    "## GBDT"
   ]
  },
  {
   "cell_type": "code",
   "execution_count": 9,
   "metadata": {},
   "outputs": [
    {
     "name": "stdout",
     "output_type": "stream",
     "text": [
      "样本的个数 = 569, 特征的个数 = 30\n",
      "GBDT模型拟合的准确率为:97.902%\n"
     ]
    }
   ],
   "source": [
    "# 使用python自带的乳腺癌数据集（二分类）\n",
    "from sklearn.datasets import load_breast_cancer\n",
    "X,y=load_breast_cancer(return_X_y=True)\n",
    "print(\"样本的个数 = {}, 特征的个数 = {}\".format(X.shape[0],X.shape[1]))\n",
    "\n",
    "# 采用留出法划分数据集\n",
    "from sklearn.model_selection import train_test_split\n",
    "X_train,X_test,y_train,y_test=train_test_split(X,y,test_size=0.25,random_state=123)\n",
    "# 将数据进行标准化\n",
    "from sklearn.preprocessing import StandardScaler\n",
    "scaler=StandardScaler().fit(X_train)\n",
    "X_train=scaler.transform(X_train)\n",
    "X_test=scaler.transform(X_test)\n",
    "# 导入GBDT函数：使用20棵决策树\n",
    "from sklearn.ensemble import GradientBoostingClassifier\n",
    "model15=GradientBoostingClassifier(n_estimators=20)\n",
    "# 模型训练及预测\n",
    "model15=model15.fit(X_train,y_train)\n",
    "y_pred=model15.predict(X_test)\n",
    "# 由于本案例是分类任务，故采用精度指标进行评价\n",
    "from sklearn.metrics import accuracy_score\n",
    "Acc=accuracy_score(y_pred,y_test)\n",
    "print(\"GBDT模型拟合的准确率为:%.3f%%\"% (Acc *100))"
   ]
  },
  {
   "cell_type": "markdown",
   "metadata": {},
   "source": [
    "## XGBoost"
   ]
  },
  {
   "cell_type": "markdown",
   "metadata": {},
   "source": [
    "### 优点\n",
    "1. 精度更高：GBDT 只用到一阶泰勒展开，而 XGBoost 对损失函数进行了二阶泰勒展开。XGBoost 引入二阶导一方面是为了增加精度，另一方面也是为了能够自定义损失函数，二阶泰勒展开可以近似大量损失函数；\n",
    "2. 灵活性更强：GBDT 以 CART 作为基分类器，XGBoost 不仅支持 CART 还支持线性分类器，使用线性分类器的 XGBoost 相当于带 和 正则化项的逻辑斯蒂回归（分类问题）或者线性回归（回归问题）。此外，XGBoost 工具支持自定义损失函数，只需函数支持一阶和二阶求导；\n",
    "3. 正则化：XGBoost 在目标函数中加入了正则项，用于控制模型的复杂度。正则项里包含了树的叶子节点个数、叶子节点权重的 范式。正则项降低了模型的方差，使学习出来的模型更加简单，有助于防止过拟合，这也是XGBoost优于传统GBDT的一个特性。\n",
    "4. Shrinkage（缩减）：相当于学习速率。XGBoost 在进行完一次迭代后，会将叶子节点的权重乘上该系数，主要是为了削弱每棵树的影响，让后面有更大的学习空间。传统GBDT的实现也有学习速率；\n",
    "5. 列抽样：XGBoost 借鉴了随机森林的做法，支持列抽样，不仅能降低过拟合，还能减少计算。这也是XGBoost异于传统GBDT的一个特性；\n",
    "6. 缺失值处理：对于特征的值有缺失的样本，XGBoost 采用的稀疏感知算法可以自动学习出它的分裂方向；\n",
    "7. XGBoost工具支持并行：boosting不是一种串行的结构吗?怎么并行的？注意XGBoost的并行不是tree粒度的并行，XGBoost也是一次迭代完才能进行下一次迭代的（第次迭代的代价函数里包含了前面次迭代的预测值）。XGBoost的并行是在特征粒度上的。我们知道，决策树的学习最耗时的一个步骤就是对特征的值进行排序（因为要确定最佳分割点），XGBoost在训练之前，预先对数据进行了排序，然后保存为block结构，后面的迭代中重复地使用这个结构，大大减小计算量。这个block结构也使得并行成为了可能，在进行节点的分裂时，需要计算每个特征的增益，最终选增益最大的那个特征去做分裂，那么各个特征的增益计算就可以开多线程进行。\n",
    "8. 可并行的近似算法：树节点在进行分裂时，我们需要计算每个特征的每个分割点对应的增益，即用贪心法枚举所有可能的分割点。当数据无法一次载入内存或者在分布式情况下，贪心算法效率就会变得很低，所以XGBoost还提出了一种可并行的近似算法，用于高效地生成候选的分割点。"
   ]
  },
  {
   "cell_type": "markdown",
   "metadata": {},
   "source": [
    "### 缺点\n",
    "1. 虽然利用预排序和近似算法可以降低寻找最佳分裂点的计算量，但在节点分裂过程中仍需要遍历数据集；\n",
    "2. 预排序过程的空间复杂度过高，不仅需要存储特征值，还需要存储特征对应样本的梯度统计值的索引，相当于消耗了两倍的内存。"
   ]
  },
  {
   "cell_type": "code",
   "execution_count": 12,
   "metadata": {},
   "outputs": [
    {
     "name": "stdout",
     "output_type": "stream",
     "text": [
      "样本的个数 = 569, 特征的个数 = 30\n"
     ]
    }
   ],
   "source": [
    "# 使用python自带的乳腺癌数据集（二分类）\n",
    "from sklearn.datasets import load_breast_cancer\n",
    "X,y=load_breast_cancer(return_X_y=True)\n",
    "print(\"样本的个数 = {}, 特征的个数 = {}\".format(X.shape[0],X.shape[1]))\n",
    "# 采用留出法划分数据集\n",
    "from sklearn.model_selection import train_test_split\n",
    "X_train,X_test,y_train,y_test=train_test_split(X,y,test_size=0.25,random_state=123)\n",
    "# 将数据进行标准化\n",
    "from sklearn.preprocessing import StandardScaler\n",
    "scaler=StandardScaler().fit(X_train)\n",
    "X_train=scaler.transform(X_train)\n",
    "X_test=scaler.transform(X_test)"
   ]
  },
  {
   "cell_type": "code",
   "execution_count": 19,
   "metadata": {},
   "outputs": [
    {
     "name": "stdout",
     "output_type": "stream",
     "text": [
      "[0]\ttrain-error:0.02113\n",
      "[1]\ttrain-error:0.02113\n",
      "[2]\ttrain-error:0.02113\n",
      "[3]\ttrain-error:0.02113\n",
      "[4]\ttrain-error:0.02113\n",
      "XGBoost模型拟合的准确率为:97.902%\n"
     ]
    }
   ],
   "source": [
    "# 导入xgboost模型，并设置参数\n",
    "import xgboost as xgb\n",
    "data_train=xgb.DMatrix(X_train,label=y_train)\n",
    "data_test=xgb.DMatrix(X_test)\n",
    "params={'booster':'gbtree','objective': 'binary:logistic',\n",
    "        'gamma':0.15,'learning_rate' : 0.01}\n",
    "watchlist=[(data_train,'train')]\n",
    "model16=xgb.train(params,data_train,num_boost_round=5,evals=watchlist)\n",
    "y_pred=model16.predict(data_test)\n",
    "y_pred=(y_pred>=0.5)*1\n",
    "# 由于本案例是分类任务，故采用精度指标进行评价\n",
    "from sklearn.metrics import accuracy_score\n",
    "Acc=accuracy_score(y_pred,y_test)\n",
    "print(\"XGBoost模型拟合的准确率为:%.3f%%\"% (Acc *100))"
   ]
  },
  {
   "cell_type": "code",
   "execution_count": 107,
   "metadata": {},
   "outputs": [
    {
     "name": "stdout",
     "output_type": "stream",
     "text": [
      "LeaveOneOut()\n",
      "TRAIN: [1] TEST: [0]\n",
      "[[3 4]] [[1 2]] [2] [1]\n",
      "TRAIN: [0] TEST: [1]\n",
      "[[1 2]] [[3 4]] [1] [2]\n"
     ]
    }
   ],
   "source": [
    "import numpy as np\n",
    "from sklearn.model_selection import LeaveOneOut\n",
    "X = np.array([[1, 2], [3, 4]])\n",
    "y = np.array([1, 2])\n",
    "loo = LeaveOneOut()\n",
    "loo.get_n_splits(X)\n",
    "print(loo)\n",
    "for train_index, test_index in loo.split(X):\n",
    "    print(\"TRAIN:\", train_index, \"TEST:\", test_index)\n",
    "    X_train, X_test = X[train_index], X[test_index]\n",
    "    y_train, y_test = y[train_index], y[test_index]\n",
    "    print(X_train, X_test, y_train, y_test)"
   ]
  },
  {
   "cell_type": "code",
   "execution_count": 12,
   "metadata": {},
   "outputs": [],
   "source": [
    "import adaptive_LASSO"
   ]
  },
  {
   "cell_type": "code",
   "execution_count": 8,
   "metadata": {},
   "outputs": [
    {
     "ename": "ImportError",
     "evalue": "cannot import name 'AdaptiveLasso' from 'sklearn.linear_model' (D:\\Users\\kw\\Anaconda3\\lib\\site-packages\\sklearn\\linear_model\\__init__.py)",
     "output_type": "error",
     "traceback": [
      "\u001b[1;31m---------------------------------------------------------------------------\u001b[0m",
      "\u001b[1;31mImportError\u001b[0m                               Traceback (most recent call last)",
      "\u001b[1;32m<ipython-input-8-d6071b891f1a>\u001b[0m in \u001b[0;36m<module>\u001b[1;34m\u001b[0m\n\u001b[1;32m----> 1\u001b[1;33m \u001b[1;32mfrom\u001b[0m \u001b[0msklearn\u001b[0m\u001b[1;33m.\u001b[0m\u001b[0mlinear_model\u001b[0m \u001b[1;32mimport\u001b[0m \u001b[0mAdaptiveLasso\u001b[0m\u001b[1;33m\u001b[0m\u001b[1;33m\u001b[0m\u001b[0m\n\u001b[0m",
      "\u001b[1;31mImportError\u001b[0m: cannot import name 'AdaptiveLasso' from 'sklearn.linear_model' (D:\\Users\\kw\\Anaconda3\\lib\\site-packages\\sklearn\\linear_model\\__init__.py)"
     ]
    }
   ],
   "source": [
    "def Adaptive_LASSO(X_train,y_train,max_iterations = 1000,lasso_iterations = 10, alpha = 0.1, tol = 0.001, max_error_up = 5, title = ''):\n",
    "    \n",
    "    # set checks\n",
    "    higher  = float('inf')\n",
    "    lower   = 0\n",
    "    \n",
    "    # set lists\n",
    "    coefficients_list = []\n",
    "    iterations_list   = []\n",
    "    \n",
    "    # set variables\n",
    "    X_train  = X_train\n",
    "    y_train  = y_train\n",
    "    \n",
    "    # set constants\n",
    "    alpha    = alpha\n",
    "    tol      = tol\n",
    "    max_iter = max_iterations\n",
    "    n_lasso_iterations = lasso_iterations\n",
    "    \n",
    "    g = lambda w: np.sqrt(np.abs(w))\n",
    "    gprime = lambda w: 1. / (2. * np.sqrt(np.abs(w)) + np.finfo(float).eps)\n",
    "\n",
    "    n_samples, n_features = X_train.shape\n",
    "    p_obj = lambda w: 1. / (2 * n_samples) * np.sum((y_train - np.dot(X_train, w)) ** 2) \\\n",
    "                      + alpha * np.sum(g(w))\n",
    "\n",
    "    weights = np.ones(n_features)\n",
    "\n",
    "    X_w = X_train / weights[np.newaxis, :]\n",
    "    X_w  = np.nan_to_num(X_w)\n",
    "    X_w  = np.round(X_w,decimals = 3)\n",
    "\n",
    "    y_train    = np.nan_to_num(y_train)\n",
    "\n",
    "    adaptive_lasso = Lasso(alpha=alpha, fit_intercept=False)\n",
    "\n",
    "    adaptive_lasso.fit(X_w, y_train)\n",
    "\n",
    "    for k in range(n_lasso_iterations):\n",
    "        X_w = X_train / weights[np.newaxis, :]\n",
    "        adaptive_lasso = Lasso(alpha=alpha, fit_intercept=False)\n",
    "        adaptive_lasso.fit(X_w, y_train)\n",
    "        coef_ = adaptive_lasso.coef_ / weights\n",
    "        weights = gprime(coef_)\n",
    "        \n",
    "        print ('Iteration #',k+1,':   ',p_obj(coef_))  # should go down\n",
    "        \n",
    "        iterations_list.append(k)\n",
    "        coefficients_list.append(p_obj(coef_))\n",
    "        \n",
    "    print (np.mean((adaptive_lasso.coef_ != 0.0) == (coef_ != 0.0)))   \n",
    "    \n",
    "    coef = pd.Series(adaptive_lasso.coef_, index = X_train.columns)\n",
    "    print('=============================================================================')\n",
    "    print(\"Adaptive LASSO picked \" + str(sum(coef != 0)) + \" variables and eliminated the other \" +  str(sum(coef == 0)) + \" variables.\")\n",
    "    print('=============================================================================')\n",
    "\n",
    "    plt.rcParams[\"figure.figsize\"] = (18,8)\n",
    "\n",
    "    # subplot of the predicted vs. actual\n",
    "\n",
    "    plt.plot(iterations_list,coefficients_list,color = 'orange')\n",
    "    plt.scatter(iterations_list,coefficients_list,color = 'green')\n",
    "    plt.title('Iterations vs. p_obj(coef_)')\n",
    "    plt.show()\n",
    "\n",
    "    # plot of the coefficients'\n",
    "\n",
    "    imp_coef = pd.concat([coef.sort_values().head(10),coef.sort_values().tail(10)])\n",
    "    imp_coef.plot(kind = \"barh\", color = 'green',  fontsize=14)\n",
    "    plt.title(\"Top and Botton 10 Coefficients Selected by the Adaptive LASSO Model\", fontsize = 14)\n",
    "    plt.show()\n",
    "    return adaptive_lasso\n",
    "\n",
    "# variable selection with LASSO for the model\n",
    "\n",
    "#y_train = numbers_df['y']\n",
    "#X_train = numbers_df[[col for col in numbers_df.columns if col != 'y']]\n",
    "\n",
    "#model = Adaptive_LASSO(X_train,\n",
    "#                       y_train,\n",
    "#                       max_iterations = 1000,\n",
    "#                       lasso_iterations = 10, \n",
    "#                       alpha = 0.1, \n",
    "#                       tol = 0.001, \n",
    "#                       max_error_up = 5, \n",
    "#                       title = '')\n",
    "\n",
    "# look at the coefficients in the model\n",
    "\n",
    "#coef = pd.Series(model.coef_, index = X_train.columns)\n",
    "#coef = pd.DataFrame(coef).reset_index()\n",
    "#coef_list = coef.loc[coef[0]!= 0.0]['index'].to_list()\n",
    "#new_X_train = X_train[coef_list]"
   ]
  },
  {
   "cell_type": "code",
   "execution_count": 14,
   "metadata": {},
   "outputs": [
    {
     "ename": "TypeError",
     "evalue": "'module' object is not callable",
     "output_type": "error",
     "traceback": [
      "\u001b[1;31m---------------------------------------------------------------------------\u001b[0m",
      "\u001b[1;31mTypeError\u001b[0m                                 Traceback (most recent call last)",
      "\u001b[1;32m<ipython-input-14-99f4fc02d64e>\u001b[0m in \u001b[0;36m<module>\u001b[1;34m\u001b[0m\n\u001b[1;32m----> 1\u001b[1;33m \u001b[0mmodel\u001b[0m\u001b[1;33m=\u001b[0m\u001b[0madaptive_LASSO\u001b[0m\u001b[1;33m(\u001b[0m\u001b[0mX\u001b[0m\u001b[1;33m,\u001b[0m\u001b[0my\u001b[0m\u001b[1;33m)\u001b[0m\u001b[1;33m\u001b[0m\u001b[1;33m\u001b[0m\u001b[0m\n\u001b[0m",
      "\u001b[1;31mTypeError\u001b[0m: 'module' object is not callable"
     ]
    }
   ],
   "source": [
    "adaptive_LASSO(X,y)"
   ]
  },
  {
   "cell_type": "code",
   "execution_count": null,
   "metadata": {},
   "outputs": [],
   "source": []
  },
  {
   "cell_type": "code",
   "execution_count": null,
   "metadata": {},
   "outputs": [],
   "source": [
    "class RBFNetwork:\n",
    "    def __init__(self, no_of_input, no_of_hidden, no_of_output, data):\n",
    "        self.no_of_input = no_of_input\n",
    "        self.no_of_hidden = no_of_hidden\n",
    "        self.no_of_output = no_of_output\n",
    "        self.data = data\n",
    "        self.input = np.zeros(self.no_of_input)\n",
    "        self.centroid = np.zeros((self.no_of_hidden, self.no_of_input))\n",
    "        self.sigma = np.zeros(self.no_of_hidden)\n",
    "        self.hidden_output = np.zeros(self.no_of_hidden)\n",
    "        self.hidden_to_output_weight = np.zeros((self.no_of_hidden, self.no_of_output))\n",
    "        self.output = np.zeros(self.no_of_output)\n",
    "        self.output_bias = np.zeros(self.no_of_output)\n",
    "        self.actual_target_values = []\n",
    "        self.total = 0\n",
    "        self.learningRate = 0.0262\n",
    "        self.setup_center()\n",
    "        self.setup_sigma_spread_radius()\n",
    "        self.set_up_hidden_to_ouput_weight()\n",
    "        self.set_up_output_bias()\n",
    "\n",
    "    def setup_center(self):\n",
    "        \"\"\"Setup center using clustering ,for now just randomize between 0 and 1\"\"\"\n",
    "        # print(\"Setup center\")\n",
    "        for i in range(self.no_of_hidden):\n",
    "            self.centroid[i] = np.random.uniform(0, 1, self.no_of_input)\n",
    "\n",
    "    def setup_sigma_spread_radius(self):\n",
    "        # print(\"Setup Sigma spread radius\")\n",
    "        for i in range(self.no_of_hidden):\n",
    "            center = self.centroid[i]\n",
    "            self.sigma[i] = self.set_up_sigma_for_center(center)\n",
    "            # print(\"Sigma i\",i, self.sigma[i])\n",
    "\n",
    "    def set_up_sigma_for_center(self, center):\n",
    "        # print(\"Get sigma for center\")\n",
    "        p = self.no_of_hidden / 3\n",
    "        sigma = 0\n",
    "        distances = [0 for i in range(self.no_of_hidden)]\n",
    "        for i in range(self.no_of_hidden):\n",
    "            distances[i] = self.euclidean_distance(center, self.centroid[i])\n",
    "            # print(\"Distance \", i, distances[i])\n",
    "        sum = 0\n",
    "        for i in range(int(p)):\n",
    "            nearest = self.get_smallest_index(distances)\n",
    "            distances[nearest] = float(\"inf\")\n",
    "\n",
    "            neighbour_centroid = self.centroid[nearest]\n",
    "            for j in range(len(neighbour_centroid)):\n",
    "                sum += (center[j] - neighbour_centroid[j]) ** 2\n",
    "\n",
    "        sigma = sum / p\n",
    "        sigma = math.sqrt(sigma)\n",
    "        #return random.uniform(0, 1) * 6\n",
    "        return sigma\n",
    "\n",
    "    @staticmethod\n",
    "    def euclidean_distance( x, y):\n",
    "        return np.linalg.norm(x-y)\n",
    "\n",
    "    @staticmethod\n",
    "    def get_smallest_index( distances):\n",
    "        min_index = 0\n",
    "        for i in range(len(distances)):\n",
    "            if (distances[min_index] > distances[i]):\n",
    "                min_index = i\n",
    "        return min_index\n",
    "\n",
    "    def set_up_hidden_to_ouput_weight(self):\n",
    "        print(\"Setup hidden to output weight\")\n",
    "        self.hidden_to_output_weight = np.random.uniform(0, 1, (self.no_of_hidden, self.no_of_output))\n",
    "\n",
    "        print(\"Hiden to output weight \", self.hidden_to_output_weight)\n",
    "\n",
    "    def set_up_output_bias(self):\n",
    "        print(\"Setup output bias\")\n",
    "        self.output_bias = np.random.uniform(0, 1, self.no_of_output)\n",
    "\n",
    "    # train n iteration\n",
    "    def train(self, n):\n",
    "        for i in range(n):\n",
    "            error = self.pass_one_epoch()\n",
    "            print(\"Iteration \", i, \" Error \", error)\n",
    "\n",
    "        return error\n",
    "\n",
    "    # Train an epoch and return total MSE\n",
    "    def pass_one_epoch(self):\n",
    "        # print(\"Pass one epoch\")\n",
    "        all_error = 0\n",
    "        all_index = []\n",
    "        for i in range(len(self.data.patterns)):\n",
    "            all_index.append(i)\n",
    "        # print(\"All index \",all_index)\n",
    "\n",
    "        for i in range(len(self.data.patterns)):\n",
    "            random_index = (int)(random.uniform(0, 1) * len(all_index))\n",
    "            # print(\"Random index \",random_index, \" Len \", len(all_index))\n",
    "            \"\"\"Get a random pattern to train\"\"\"\n",
    "            pattern = self.data.patterns[random_index]\n",
    "            del all_index[random_index]\n",
    "\n",
    "            input = pattern.input\n",
    "            self.actual_target_values = pattern.output\n",
    "            self.pass_input_to_network(input)\n",
    "\n",
    "            error = self.get_error_for_pattern()\n",
    "            all_error += error\n",
    "            self.gradient_descent()\n",
    "\n",
    "        all_error = all_error / (len(self.data.patterns))\n",
    "        return all_error\n",
    "\n",
    "    def pass_input_to_network(self, input):\n",
    "        self.input = input\n",
    "        self.pass_to_hidden_node()\n",
    "        self.pass_to_output_node()\n",
    "\n",
    "    def pass_to_hidden_node(self):\n",
    "        # print(\"Pass to hidden node\")\n",
    "        self.hidden_output = np.zeros(self.no_of_hidden)\n",
    "        for i in range(len(self.hidden_output)):\n",
    "            euclid_distance = self.euclidean_distance(self.input, self.centroid[i]) ** 2\n",
    "            self.hidden_output[i] = math.exp(- (euclid_distance / (2 * self.sigma[i] * self.sigma[i])))\n",
    "\n",
    "            # print(\"Hdiden node output \",self.hidden_output)\n",
    "\n",
    "    def pass_to_output_node(self):\n",
    "        # print(\"Pass to output node\")\n",
    "        self.output = [0 for i in range(self.no_of_output)]\n",
    "        total = 0\n",
    "        for i in range(self.no_of_output):\n",
    "            output_value = 0\n",
    "            for j in range(self.no_of_hidden):\n",
    "                self.output[i] += self.hidden_to_output_weight[j][i] * self.hidden_output[j]\n",
    "        \"\"\"Normalize \"\"\"\n",
    "        for i in range(self.no_of_output):\n",
    "            total += self.output[i]\n",
    "        for i in range(self.no_of_output):\n",
    "            if (self.output[i] != 0):\n",
    "                self.output[i] = self.output[i] / total\n",
    "        self.total = total\n",
    "\n",
    "    # Compute error for the pattern\n",
    "    def get_error_for_pattern(self):\n",
    "        error = 0\n",
    "        for i in range(len(self.output)):\n",
    "            error += (self.actual_target_values[i] - self.output[i]) ** 2\n",
    "        return error\n",
    "\n",
    "    # Weight update by gradient descent algorithm\n",
    "    def gradient_descent(self):\n",
    "        # compute the error of output layer\n",
    "        self.mean_error = 0\n",
    "        self.error_of_output_layer = [0 for i in range(self.no_of_output)]\n",
    "        for i in range(self.no_of_output):\n",
    "            self.error_of_output_layer[i] = (float)(self.actual_target_values[i] - self.output[i])\n",
    "            e = (float)(self.actual_target_values[i] - self.output[i]) ** 2 * 0.5\n",
    "            self.mean_error += e\n",
    "\n",
    "        # Adjust hidden to output weight\n",
    "        for o in range(self.no_of_output):\n",
    "            for h in range(self.no_of_hidden):\n",
    "                delta_weight = self.learningRate * self.error_of_output_layer[o] * self.hidden_output[h]\n",
    "                self.hidden_to_output_weight[h][o] += delta_weight\n",
    "\n",
    "        # For bias\n",
    "        for o in range(self.no_of_output):\n",
    "            delta_bias = self.learningRate * self.error_of_output_layer[o]\n",
    "            self.output_bias[o] += delta_bias\n",
    "\n",
    "        # Adjust center , input to hidden weight\n",
    "        for i in range(self.no_of_input):\n",
    "            for j in range(self.no_of_hidden):\n",
    "                summ = 0\n",
    "                for p in range(self.no_of_output):\n",
    "                    summ += self.hidden_to_output_weight[j][p] * (self.actual_target_values[p] - self.output[p])\n",
    "\n",
    "                second_part = (float)((self.input[i] - self.centroid[j][i]) / math.pow(self.sigma[j], 2))\n",
    "                delta_weight = (float)(self.learningRate * self.hidden_output[j] * second_part * summ)\n",
    "                self.centroid[j][i] += delta_weight\n",
    "\n",
    "        # Adjust sigma and spread radius\n",
    "        for i in range(self.no_of_input):\n",
    "            for j in range(self.no_of_hidden):\n",
    "                summ = 0\n",
    "                for p in range(self.no_of_output):\n",
    "                    summ += self.hidden_to_output_weight[j][p] * (self.actual_target_values[p] - self.output[p])\n",
    "\n",
    "                second_part = (float)(\n",
    "                    (math.pow((self.input[i] - self.centroid[j][i]), 2)) / math.pow(self.sigma[j], 3));\n",
    "                delta_weight = (float)(0.1 * self.learningRate * self.hidden_output[j] * second_part * summ);\n",
    "                self.sigma[j] += delta_weight\n",
    "        return self.mean_error\n",
    "\n",
    "    def get_accuracy_for_training(self):\n",
    "        correct = 0\n",
    "        for i in range(len(self.data.patterns)):\n",
    "            pattern = self.data.patterns[i]\n",
    "            self.pass_input_to_network(pattern.input)\n",
    "            n_output = self.output\n",
    "            act_output = pattern.output\n",
    "            n_neuron = self.get_fired_neuron(n_output)\n",
    "            a_neuron = self.get_fired_neuron(act_output)\n",
    "\n",
    "            if n_neuron == a_neuron:\n",
    "                correct += 1\n",
    "        accuracy = (float)(correct / len(self.data.patterns)) * 100\n",
    "        return accuracy\n",
    "\n",
    "    def get_fired_neuron(self, output):\n",
    "        max = 0\n",
    "        for i in range(len(output)):\n",
    "            if (output[i] > output[max]):\n",
    "                max = i\n",
    "        return max\n",
    "\n",
    "\n",
    "\"\"\"Create test data \"\"\"\n",
    "p1 = Pattern(1, [0, 0], [1, 0])\n",
    "p2 = Pattern(2, [0, 1], [0, 1])\n",
    "p3 = Pattern(3, [1, 0], [0, 1])\n",
    "p4 = Pattern(4, [1, 1], [1, 0])\n",
    "\n",
    "patterns = [p1, p2, p3, p4]\n",
    "classLabels = ['0', '1']\n",
    "data = Data(patterns, classLabels)\n",
    "rbf = RBFNetwork(2, 6, 2, data)\n",
    "mse = rbf.train(1500)\n",
    "accuracy = rbf.get_accuracy_for_training()\n",
    "print(\"Total accuracy is \", accuracy)\n",
    "print(\"Last MSE \",mse)"
   ]
  }
 ],
 "metadata": {
  "kernelspec": {
   "display_name": "Python 3.7.4 64-bit ('base': conda)",
   "language": "python",
   "name": "python37464bitbasecondad8faa91d1f494fd1bc5bfb220e602d60"
  },
  "language_info": {
   "codemirror_mode": {
    "name": "ipython",
    "version": 3
   },
   "file_extension": ".py",
   "mimetype": "text/x-python",
   "name": "python",
   "nbconvert_exporter": "python",
   "pygments_lexer": "ipython3",
   "version": "3.7.7"
  },
  "toc": {
   "base_numbering": 1,
   "nav_menu": {},
   "number_sections": true,
   "sideBar": true,
   "skip_h1_title": false,
   "title_cell": "Table of Contents",
   "title_sidebar": "Contents",
   "toc_cell": false,
   "toc_position": {
    "height": "calc(100% - 180px)",
    "left": "10px",
    "top": "150px",
    "width": "307.2px"
   },
   "toc_section_display": true,
   "toc_window_display": true
  }
 },
 "nbformat": 4,
 "nbformat_minor": 4
}
