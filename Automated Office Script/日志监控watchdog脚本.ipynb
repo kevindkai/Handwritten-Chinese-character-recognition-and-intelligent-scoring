{
 "cells": [
  {
   "cell_type": "code",
   "execution_count": null,
   "metadata": {
    "ExecuteTime": {
     "start_time": "2020-07-28T02:15:05.521Z"
    },
    "scrolled": true
   },
   "outputs": [
    {
     "name": "stdout",
     "output_type": "stream",
     "text": [
      "file created:./opt/caiji/sej001\\d5.csv\n",
      "file created:./opt/caiji/sej001\\d5.csv\n",
      "运行开始时间：2020-07-28 10:15:31.501839\n",
      "\n",
      "                load data local infile \"./opt/caiji/sej001/d5.csv\" into table w2 FIELDS TERMINATED BY ',' (id,title,link,comment);\n",
      "                \n",
      "运行结束时间：2020-07-28 10:15:31.505864\n",
      "运行时长：0.004s\n",
      "影响行数： 23\n",
      "执行成功！\n"
     ]
    }
   ],
   "source": [
    "from watchdog.observers import Observer\n",
    "from watchdog.events import *\n",
    "import time\n",
    "import os\n",
    "import logging\n",
    "import datetime\n",
    "import pymysql\n",
    "\n",
    "class FileEventHandler(FileSystemEventHandler):\n",
    "    def on_any_event(self, event):\n",
    "        pass\n",
    "    \n",
    "    def on_moved(self, event):\n",
    "        if event.is_directory:\n",
    "            print(\"directory moved from {0} to {1}\".format(event.src_path,event.dest_path))\n",
    "        else:\n",
    "            print(\"file moved from {0} to {1}\".format(event.src_path,event.dest_path))\n",
    "\n",
    "    def on_created(self, event):\n",
    "        if event.is_directory:\n",
    "            print(\"directory created:{0}\".format(event.src_path))\n",
    "        else:\n",
    "            print(\"file created:{0}\".format(event.src_path))\n",
    "            file_name=os.path.split(event.src_path)[1]\n",
    "            #f_name = os.path.splitext(file_name)[0]\n",
    "            #suffix_name = os.path.splitext(event.src_path)[1]\n",
    "            file_,file_format=file_name.split('.')\n",
    "            file_date=file_.split('_')[-1]\n",
    "            if file_format not in ('csv','txt'):\n",
    "                print('输入错误')\n",
    "                os.remove('./opt/caiji/sej001'+'/'+file_name)\n",
    "            else:\n",
    "                print(\"file created:{0}\".format(event.src_path))\n",
    "                db = pymysql.connect(host='localhost', user='root', passwd='970110',db='wk',port=3306,charset=\"utf8\",local_infile=1,autocommit=True)\n",
    "                cursor = db.cursor()\n",
    "                sql='''\n",
    "                load data local infile \"./opt/caiji/sej001/{}\" into table w2 FIELDS TERMINATED BY ',' (id,title,link,comment);\n",
    "                '''.format(file_name)\n",
    "                try:\n",
    "                    start_time=datetime.datetime.now()\n",
    "                    print('运行开始时间：' + format(start_time))\n",
    "                    # 执行SQL语句\n",
    "                    cursor.execute(sql)\n",
    "                    end_time=datetime.datetime.now()\n",
    "                    db.commit()\n",
    "                    print(sql)\n",
    "                    print('运行结束时间：' + format(end_time))\n",
    "                    print('运行时长：{:.3f}s'.format((end_time-start_time).total_seconds()))\n",
    "                    print('影响行数：',cursor.rowcount)\n",
    "                    print('执行成功！')\n",
    "                    cursor.close()\n",
    "                    db.close()\n",
    "                except pymysql.Error as e:\n",
    "                    print('异常出错：' + str(e))\n",
    "\n",
    "    def on_deleted(self, event):\n",
    "        if event.is_directory:\n",
    "            print(\"directory deleted:{0}\".format(event.src_path))\n",
    "        else:\n",
    "            print(\"file deleted:{0}\".format(event.src_path))\n",
    "    \n",
    "    def on_modified(self, event):\n",
    "        if event.is_directory:\n",
    "            print(\"directory modified:{0}\".format(event.src_path))\n",
    "        else:\n",
    "            print(\"file modified:{0}\".format(event.src_path))        \n",
    "    \n",
    "if __name__ == \"__main__\":\n",
    "    import time\n",
    "    \n",
    "    observer = Observer()\n",
    "    event_handler = FileEventHandler()\n",
    "    observer.schedule(event_handler, \"./opt/caiji/sej001\", True)\n",
    "    observer.start()\n",
    "    try:\n",
    "        while True:\n",
    "            time.sleep(1)\n",
    "    except KeyboardInterrupt:\n",
    "        observer.stop()\n"
   ]
  },
  {
   "cell_type": "code",
   "execution_count": 3,
   "metadata": {
    "ExecuteTime": {
     "end_time": "2020-07-28T03:26:28.641691Z",
     "start_time": "2020-07-28T03:26:28.562890Z"
    }
   },
   "outputs": [
    {
     "name": "stdout",
     "output_type": "stream",
     "text": [
      "['cold' 'cold' 'warm' 'cold' 'hot' 'hot' 'warm' 'cold' 'warm' 'hot']\n",
      "[0 0 2 0 1 1 2 0 2 1]\n",
      "[[1. 0. 0.]\n",
      " [1. 0. 0.]\n",
      " [0. 0. 1.]\n",
      " [1. 0. 0.]\n",
      " [0. 1. 0.]\n",
      " [0. 1. 0.]\n",
      " [0. 0. 1.]\n",
      " [1. 0. 0.]\n",
      " [0. 0. 1.]\n",
      " [0. 1. 0.]]\n"
     ]
    },
    {
     "ename": "ValueError",
     "evalue": "bad input shape (10, 3)",
     "output_type": "error",
     "traceback": [
      "\u001b[1;31m---------------------------------------------------------------------------\u001b[0m",
      "\u001b[1;31mValueError\u001b[0m                                Traceback (most recent call last)",
      "\u001b[1;32m<ipython-input-3-0831f2753169>\u001b[0m in \u001b[0;36m<module>\u001b[1;34m\u001b[0m\n\u001b[0;32m     17\u001b[0m \u001b[0mprint\u001b[0m\u001b[1;33m(\u001b[0m\u001b[0monehot_encoded\u001b[0m\u001b[1;33m)\u001b[0m\u001b[1;33m\u001b[0m\u001b[1;33m\u001b[0m\u001b[0m\n\u001b[0;32m     18\u001b[0m \u001b[1;31m# invert first example\u001b[0m\u001b[1;33m\u001b[0m\u001b[1;33m\u001b[0m\u001b[1;33m\u001b[0m\u001b[0m\n\u001b[1;32m---> 19\u001b[1;33m \u001b[0minverted\u001b[0m \u001b[1;33m=\u001b[0m \u001b[0mlabel_encoder\u001b[0m\u001b[1;33m.\u001b[0m\u001b[0minverse_transform\u001b[0m\u001b[1;33m(\u001b[0m\u001b[0monehot_encoded\u001b[0m\u001b[1;33m)\u001b[0m\u001b[1;33m\u001b[0m\u001b[1;33m\u001b[0m\u001b[0m\n\u001b[0m\u001b[0;32m     20\u001b[0m \u001b[0mprint\u001b[0m\u001b[1;33m(\u001b[0m\u001b[0minverted\u001b[0m\u001b[1;33m)\u001b[0m\u001b[1;33m\u001b[0m\u001b[1;33m\u001b[0m\u001b[0m\n",
      "\u001b[1;32mC:\\anaconda\\lib\\site-packages\\sklearn\\preprocessing\\_label.py\u001b[0m in \u001b[0;36minverse_transform\u001b[1;34m(self, y)\u001b[0m\n\u001b[0;32m    287\u001b[0m         \"\"\"\n\u001b[0;32m    288\u001b[0m         \u001b[0mcheck_is_fitted\u001b[0m\u001b[1;33m(\u001b[0m\u001b[0mself\u001b[0m\u001b[1;33m)\u001b[0m\u001b[1;33m\u001b[0m\u001b[1;33m\u001b[0m\u001b[0m\n\u001b[1;32m--> 289\u001b[1;33m         \u001b[0my\u001b[0m \u001b[1;33m=\u001b[0m \u001b[0mcolumn_or_1d\u001b[0m\u001b[1;33m(\u001b[0m\u001b[0my\u001b[0m\u001b[1;33m,\u001b[0m \u001b[0mwarn\u001b[0m\u001b[1;33m=\u001b[0m\u001b[1;32mTrue\u001b[0m\u001b[1;33m)\u001b[0m\u001b[1;33m\u001b[0m\u001b[1;33m\u001b[0m\u001b[0m\n\u001b[0m\u001b[0;32m    290\u001b[0m         \u001b[1;31m# inverse transform of empty array is empty array\u001b[0m\u001b[1;33m\u001b[0m\u001b[1;33m\u001b[0m\u001b[1;33m\u001b[0m\u001b[0m\n\u001b[0;32m    291\u001b[0m         \u001b[1;32mif\u001b[0m \u001b[0m_num_samples\u001b[0m\u001b[1;33m(\u001b[0m\u001b[0my\u001b[0m\u001b[1;33m)\u001b[0m \u001b[1;33m==\u001b[0m \u001b[1;36m0\u001b[0m\u001b[1;33m:\u001b[0m\u001b[1;33m\u001b[0m\u001b[1;33m\u001b[0m\u001b[0m\n",
      "\u001b[1;32mC:\\anaconda\\lib\\site-packages\\sklearn\\utils\\validation.py\u001b[0m in \u001b[0;36mcolumn_or_1d\u001b[1;34m(y, warn)\u001b[0m\n\u001b[0;32m    795\u001b[0m         \u001b[1;32mreturn\u001b[0m \u001b[0mnp\u001b[0m\u001b[1;33m.\u001b[0m\u001b[0mravel\u001b[0m\u001b[1;33m(\u001b[0m\u001b[0my\u001b[0m\u001b[1;33m)\u001b[0m\u001b[1;33m\u001b[0m\u001b[1;33m\u001b[0m\u001b[0m\n\u001b[0;32m    796\u001b[0m \u001b[1;33m\u001b[0m\u001b[0m\n\u001b[1;32m--> 797\u001b[1;33m     \u001b[1;32mraise\u001b[0m \u001b[0mValueError\u001b[0m\u001b[1;33m(\u001b[0m\u001b[1;34m\"bad input shape {0}\"\u001b[0m\u001b[1;33m.\u001b[0m\u001b[0mformat\u001b[0m\u001b[1;33m(\u001b[0m\u001b[0mshape\u001b[0m\u001b[1;33m)\u001b[0m\u001b[1;33m)\u001b[0m\u001b[1;33m\u001b[0m\u001b[1;33m\u001b[0m\u001b[0m\n\u001b[0m\u001b[0;32m    798\u001b[0m \u001b[1;33m\u001b[0m\u001b[0m\n\u001b[0;32m    799\u001b[0m \u001b[1;33m\u001b[0m\u001b[0m\n",
      "\u001b[1;31mValueError\u001b[0m: bad input shape (10, 3)"
     ]
    }
   ],
   "source": [
    "from numpy import array\n",
    "from numpy import argmax\n",
    "from sklearn.preprocessing import LabelEncoder\n",
    "from sklearn.preprocessing import OneHotEncoder\n",
    "# define example\n",
    "data = ['cold', 'cold', 'warm', 'cold', 'hot', 'hot', 'warm', 'cold', 'warm', 'hot']\n",
    "values = array(data)\n",
    "print(values)\n",
    "# integer encode\n",
    "label_encoder = LabelEncoder()\n",
    "integer_encoded = label_encoder.fit_transform(values)\n",
    "print(integer_encoded)\n",
    "# binary encode\n",
    "onehot_encoder = OneHotEncoder(sparse=False)\n",
    "integer_encoded = integer_encoded.reshape(len(integer_encoded), 1)\n",
    "onehot_encoded = onehot_encoder.fit_transform(integer_encoded)\n",
    "print(onehot_encoded)\n",
    "# invert first example\n",
    "inverted = label_encoder.inverse_transform(onehot_encoded)\n",
    "print(inverted)"
   ]
  },
  {
   "cell_type": "code",
   "execution_count": null,
   "metadata": {},
   "outputs": [],
   "source": []
  }
 ],
 "metadata": {
  "kernelspec": {
   "display_name": "Python 3",
   "language": "python",
   "name": "python3"
  },
  "language_info": {
   "codemirror_mode": {
    "name": "ipython",
    "version": 3
   },
   "file_extension": ".py",
   "mimetype": "text/x-python",
   "name": "python",
   "nbconvert_exporter": "python",
   "pygments_lexer": "ipython3",
   "version": "3.7.6"
  },
  "latex_envs": {
   "LaTeX_envs_menu_present": true,
   "autoclose": false,
   "autocomplete": true,
   "bibliofile": "biblio.bib",
   "cite_by": "apalike",
   "current_citInitial": 1,
   "eqLabelWithNumbers": true,
   "eqNumInitial": 1,
   "hotkeys": {
    "equation": "Ctrl-E",
    "itemize": "Ctrl-I"
   },
   "labels_anchors": false,
   "latex_user_defs": false,
   "report_style_numbering": false,
   "user_envs_cfg": false
  },
  "toc": {
   "base_numbering": 1,
   "nav_menu": {},
   "number_sections": true,
   "sideBar": true,
   "skip_h1_title": false,
   "title_cell": "Table of Contents",
   "title_sidebar": "Contents",
   "toc_cell": false,
   "toc_position": {},
   "toc_section_display": true,
   "toc_window_display": false
  }
 },
 "nbformat": 4,
 "nbformat_minor": 4
}
