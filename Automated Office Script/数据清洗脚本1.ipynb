{
 "cells": [
  {
   "cell_type": "markdown",
   "metadata": {},
   "source": [
    "# 单位拆分及新增新列"
   ]
  },
  {
   "cell_type": "code",
   "execution_count": 2,
   "metadata": {
    "ExecuteTime": {
     "end_time": "2020-07-14T00:47:45.934829Z",
     "start_time": "2020-07-14T00:47:45.926852Z"
    }
   },
   "outputs": [
    {
     "name": "stdout",
     "output_type": "stream",
     "text": [
      "['Diamond描图纸.csv', '一得阁.csv', '一起练字旗舰店.csv', '久博文化.csv', '六品堂旗舰店.csv', '典轩.csv', '华夏万卷.csv', '名迹.csv', '周虎臣.csv', '墨点.csv', '墨韵书香.csv', '大山皮纸.csv', '姜思序堂.csv', '小雨星.csv', '御宝阁.csv', '曹一阁.csv', '欧伦书法.csv', '游居敬亭轩.csv', '玉水湖.csv', '皖香办公旗舰店.csv', '盖特威.csv', '科星文具旗舰店.csv', '西泠印社.csv', '金枝叶办公用品旗舰店.csv', '雅轩斋旗舰店.csv', '马利.csv']\n"
     ]
    }
   ],
   "source": [
    "import os\n",
    "names = os.listdir(\"数据\")\n",
    "print(names)"
   ]
  },
  {
   "cell_type": "code",
   "execution_count": 52,
   "metadata": {
    "ExecuteTime": {
     "end_time": "2020-07-14T01:43:01.305102Z",
     "start_time": "2020-07-14T01:43:01.300093Z"
    }
   },
   "outputs": [],
   "source": [
    "import numpy as np"
   ]
  },
  {
   "cell_type": "code",
   "execution_count": 81,
   "metadata": {
    "ExecuteTime": {
     "end_time": "2020-07-14T01:57:38.357483Z",
     "start_time": "2020-07-14T01:57:38.338535Z"
    }
   },
   "outputs": [
    {
     "data": {
      "text/html": [
       "<div>\n",
       "<style scoped>\n",
       "    .dataframe tbody tr th:only-of-type {\n",
       "        vertical-align: middle;\n",
       "    }\n",
       "\n",
       "    .dataframe tbody tr th {\n",
       "        vertical-align: top;\n",
       "    }\n",
       "\n",
       "    .dataframe thead th {\n",
       "        text-align: right;\n",
       "    }\n",
       "</style>\n",
       "<table border=\"1\" class=\"dataframe\">\n",
       "  <thead>\n",
       "    <tr style=\"text-align: right;\">\n",
       "      <th></th>\n",
       "      <th>0</th>\n",
       "      <th>1</th>\n",
       "      <th>2</th>\n",
       "      <th>3</th>\n",
       "    </tr>\n",
       "  </thead>\n",
       "  <tbody>\n",
       "    <tr>\n",
       "      <th>0</th>\n",
       "      <td>六品堂凹槽练字帖成人行书速成行楷书钢笔字帖硬笔男女生反复21天神器成年本正楷字体临摹初学漂亮...</td>\n",
       "      <td>16.90元</td>\n",
       "      <td>9.5万+人付款</td>\n",
       "      <td>六品堂旗舰店</td>\n",
       "    </tr>\n",
       "    <tr>\n",
       "      <th>1</th>\n",
       "      <td>六品堂毛笔套装初学儿童小学生文房四宝笔墨纸砚成人套装狼毫毛笔初学者书法用品毛笔字砚台兼毫练字...</td>\n",
       "      <td>39.80元</td>\n",
       "      <td>9000+人付款</td>\n",
       "      <td>六品堂旗舰店</td>\n",
       "    </tr>\n",
       "    <tr>\n",
       "      <th>2</th>\n",
       "      <td>六品堂半生半熟宣纸100张书法专用纸作品纸国画工笔画初学者书法专用练习生宣纸熟宣纸写毛笔字四...</td>\n",
       "      <td>12.80元</td>\n",
       "      <td>1.5万+人付款</td>\n",
       "      <td>六品堂旗舰店</td>\n",
       "    </tr>\n",
       "    <tr>\n",
       "      <th>3</th>\n",
       "      <td>初中生高中生描红衡水体英文字帖衡水中学英语字帖练习学生六品堂反复临摹练字凹槽练字帖本神器高考...</td>\n",
       "      <td>19.90元</td>\n",
       "      <td>6人付款</td>\n",
       "      <td>慕春办公专营店</td>\n",
       "    </tr>\n",
       "    <tr>\n",
       "      <th>4</th>\n",
       "      <td>六品堂旗舰店毛笔正品软笔钢笔式毛笔套装初学高档专业可加墨小楷秀丽笔书法笔小号抄经笔小学生绘画...</td>\n",
       "      <td>38.00元</td>\n",
       "      <td>16人付款</td>\n",
       "      <td>千缔办公专营店</td>\n",
       "    </tr>\n",
       "  </tbody>\n",
       "</table>\n",
       "</div>"
      ],
      "text/plain": [
       "                                                   0       1         2  \\\n",
       "0  六品堂凹槽练字帖成人行书速成行楷书钢笔字帖硬笔男女生反复21天神器成年本正楷字体临摹初学漂亮...  16.90元  9.5万+人付款   \n",
       "1  六品堂毛笔套装初学儿童小学生文房四宝笔墨纸砚成人套装狼毫毛笔初学者书法用品毛笔字砚台兼毫练字...  39.80元  9000+人付款   \n",
       "2  六品堂半生半熟宣纸100张书法专用纸作品纸国画工笔画初学者书法专用练习生宣纸熟宣纸写毛笔字四...  12.80元  1.5万+人付款   \n",
       "3  初中生高中生描红衡水体英文字帖衡水中学英语字帖练习学生六品堂反复临摹练字凹槽练字帖本神器高考...  19.90元      6人付款   \n",
       "4  六品堂旗舰店毛笔正品软笔钢笔式毛笔套装初学高档专业可加墨小楷秀丽笔书法笔小号抄经笔小学生绘画...  38.00元     16人付款   \n",
       "\n",
       "         3  \n",
       "0   六品堂旗舰店  \n",
       "1   六品堂旗舰店  \n",
       "2   六品堂旗舰店  \n",
       "3  慕春办公专营店  \n",
       "4  千缔办公专营店  "
      ]
     },
     "execution_count": 81,
     "metadata": {},
     "output_type": "execute_result"
    }
   ],
   "source": [
    "import pandas as pd\n",
    "data = pd.read_csv(\"数据/六品堂旗舰店.csv\",encoding=\"utf8\",header=None)\n",
    "data.head()"
   ]
  },
  {
   "cell_type": "code",
   "execution_count": 82,
   "metadata": {
    "ExecuteTime": {
     "end_time": "2020-07-14T01:57:38.891697Z",
     "start_time": "2020-07-14T01:57:38.886674Z"
    }
   },
   "outputs": [],
   "source": [
    "columns=[\"产品名称\",\"单价(元)\",\"交易人数\",\"店铺名称\"]\n",
    "data.columns = columns"
   ]
  },
  {
   "cell_type": "code",
   "execution_count": 83,
   "metadata": {
    "ExecuteTime": {
     "end_time": "2020-07-14T01:57:39.445367Z",
     "start_time": "2020-07-14T01:57:39.406287Z"
    }
   },
   "outputs": [],
   "source": [
    "for i in range(len(data[\"单价(元)\"])):\n",
    "    data[\"单价(元)\"][i]=data[\"单价(元)\"][i].split(\"元\")[0]"
   ]
  },
  {
   "cell_type": "code",
   "execution_count": 84,
   "metadata": {
    "ExecuteTime": {
     "end_time": "2020-07-14T01:57:40.126717Z",
     "start_time": "2020-07-14T01:57:40.053654Z"
    }
   },
   "outputs": [],
   "source": [
    "for i in range(len(data[\"交易人数\"])):\n",
    "    data[\"交易人数\"][i]=data[\"交易人数\"][i].split(\"人\")[0]\n",
    "    try:\n",
    "        data[\"交易人数\"][i]=data[\"交易人数\"][i].split(\"+\")[0]\n",
    "        if \"万\" in data[\"交易人数\"][i]:\n",
    "            data[\"交易人数\"][i]=data[\"交易人数\"][i].split(\"万\")[0]\n",
    "            data[\"交易人数\"][i]=float(data[\"交易人数\"][i])*10000\n",
    "        else:\n",
    "            pass\n",
    "    except:\n",
    "        pass"
   ]
  },
  {
   "cell_type": "code",
   "execution_count": 85,
   "metadata": {
    "ExecuteTime": {
     "end_time": "2020-07-14T01:57:40.676255Z",
     "start_time": "2020-07-14T01:57:40.660300Z"
    }
   },
   "outputs": [
    {
     "data": {
      "text/html": [
       "<div>\n",
       "<style scoped>\n",
       "    .dataframe tbody tr th:only-of-type {\n",
       "        vertical-align: middle;\n",
       "    }\n",
       "\n",
       "    .dataframe tbody tr th {\n",
       "        vertical-align: top;\n",
       "    }\n",
       "\n",
       "    .dataframe thead th {\n",
       "        text-align: right;\n",
       "    }\n",
       "</style>\n",
       "<table border=\"1\" class=\"dataframe\">\n",
       "  <thead>\n",
       "    <tr style=\"text-align: right;\">\n",
       "      <th></th>\n",
       "      <th>产品名称</th>\n",
       "      <th>单价(元)</th>\n",
       "      <th>交易人数</th>\n",
       "      <th>店铺名称</th>\n",
       "    </tr>\n",
       "  </thead>\n",
       "  <tbody>\n",
       "    <tr>\n",
       "      <th>0</th>\n",
       "      <td>六品堂凹槽练字帖成人行书速成行楷书钢笔字帖硬笔男女生反复21天神器成年本正楷字体临摹初学漂亮...</td>\n",
       "      <td>16.90</td>\n",
       "      <td>95000</td>\n",
       "      <td>六品堂旗舰店</td>\n",
       "    </tr>\n",
       "    <tr>\n",
       "      <th>1</th>\n",
       "      <td>六品堂毛笔套装初学儿童小学生文房四宝笔墨纸砚成人套装狼毫毛笔初学者书法用品毛笔字砚台兼毫练字...</td>\n",
       "      <td>39.80</td>\n",
       "      <td>9000</td>\n",
       "      <td>六品堂旗舰店</td>\n",
       "    </tr>\n",
       "    <tr>\n",
       "      <th>2</th>\n",
       "      <td>六品堂半生半熟宣纸100张书法专用纸作品纸国画工笔画初学者书法专用练习生宣纸熟宣纸写毛笔字四...</td>\n",
       "      <td>12.80</td>\n",
       "      <td>15000</td>\n",
       "      <td>六品堂旗舰店</td>\n",
       "    </tr>\n",
       "    <tr>\n",
       "      <th>3</th>\n",
       "      <td>初中生高中生描红衡水体英文字帖衡水中学英语字帖练习学生六品堂反复临摹练字凹槽练字帖本神器高考...</td>\n",
       "      <td>19.90</td>\n",
       "      <td>6</td>\n",
       "      <td>慕春办公专营店</td>\n",
       "    </tr>\n",
       "    <tr>\n",
       "      <th>4</th>\n",
       "      <td>六品堂旗舰店毛笔正品软笔钢笔式毛笔套装初学高档专业可加墨小楷秀丽笔书法笔小号抄经笔小学生绘画...</td>\n",
       "      <td>38.00</td>\n",
       "      <td>16</td>\n",
       "      <td>千缔办公专营店</td>\n",
       "    </tr>\n",
       "  </tbody>\n",
       "</table>\n",
       "</div>"
      ],
      "text/plain": [
       "                                                产品名称  单价(元)   交易人数     店铺名称\n",
       "0  六品堂凹槽练字帖成人行书速成行楷书钢笔字帖硬笔男女生反复21天神器成年本正楷字体临摹初学漂亮...  16.90  95000   六品堂旗舰店\n",
       "1  六品堂毛笔套装初学儿童小学生文房四宝笔墨纸砚成人套装狼毫毛笔初学者书法用品毛笔字砚台兼毫练字...  39.80   9000   六品堂旗舰店\n",
       "2  六品堂半生半熟宣纸100张书法专用纸作品纸国画工笔画初学者书法专用练习生宣纸熟宣纸写毛笔字四...  12.80  15000   六品堂旗舰店\n",
       "3  初中生高中生描红衡水体英文字帖衡水中学英语字帖练习学生六品堂反复临摹练字凹槽练字帖本神器高考...  19.90      6  慕春办公专营店\n",
       "4  六品堂旗舰店毛笔正品软笔钢笔式毛笔套装初学高档专业可加墨小楷秀丽笔书法笔小号抄经笔小学生绘画...  38.00     16  千缔办公专营店"
      ]
     },
     "execution_count": 85,
     "metadata": {},
     "output_type": "execute_result"
    }
   ],
   "source": [
    "data.head()"
   ]
  },
  {
   "cell_type": "code",
   "execution_count": 89,
   "metadata": {
    "ExecuteTime": {
     "end_time": "2020-07-14T01:59:26.892061Z",
     "start_time": "2020-07-14T01:59:26.840188Z"
    }
   },
   "outputs": [
    {
     "name": "stderr",
     "output_type": "stream",
     "text": [
      "C:\\anaconda\\lib\\site-packages\\ipykernel_launcher.py:2: SettingWithCopyWarning: \n",
      "A value is trying to be set on a copy of a slice from a DataFrame\n",
      "\n",
      "See the caveats in the documentation: https://pandas.pydata.org/pandas-docs/stable/user_guide/indexing.html#returning-a-view-versus-a-copy\n",
      "  \n"
     ]
    }
   ],
   "source": [
    "for i in range(len(data)):\n",
    "    data[\"销售额\"][i]=float(data[\"单价(元)\"][i])*float(data[\"交易人数\"][i])"
   ]
  },
  {
   "cell_type": "code",
   "execution_count": 101,
   "metadata": {
    "ExecuteTime": {
     "end_time": "2020-07-14T02:20:47.045001Z",
     "start_time": "2020-07-14T02:20:47.040013Z"
    }
   },
   "outputs": [],
   "source": [
    "data[\"销售额\"]=0\n",
    "data[\"品牌名\"]=\"一得阁\"\n",
    "data[\"采集日期\"]=\"2020-07-13\"\n",
    "data[\"采集人员\"]=\"gz\"\n",
    "data[\"类别\"]=0"
   ]
  },
  {
   "cell_type": "code",
   "execution_count": 102,
   "metadata": {
    "ExecuteTime": {
     "end_time": "2020-07-14T02:20:47.901221Z",
     "start_time": "2020-07-14T02:20:47.884232Z"
    }
   },
   "outputs": [
    {
     "data": {
      "text/html": [
       "<div>\n",
       "<style scoped>\n",
       "    .dataframe tbody tr th:only-of-type {\n",
       "        vertical-align: middle;\n",
       "    }\n",
       "\n",
       "    .dataframe tbody tr th {\n",
       "        vertical-align: top;\n",
       "    }\n",
       "\n",
       "    .dataframe thead th {\n",
       "        text-align: right;\n",
       "    }\n",
       "</style>\n",
       "<table border=\"1\" class=\"dataframe\">\n",
       "  <thead>\n",
       "    <tr style=\"text-align: right;\">\n",
       "      <th></th>\n",
       "      <th>产品名称</th>\n",
       "      <th>单价(元)</th>\n",
       "      <th>交易人数</th>\n",
       "      <th>店铺名称</th>\n",
       "      <th>销售额</th>\n",
       "      <th>品牌名</th>\n",
       "      <th>采集日期</th>\n",
       "      <th>采集人员</th>\n",
       "      <th>类别</th>\n",
       "    </tr>\n",
       "  </thead>\n",
       "  <tbody>\n",
       "    <tr>\n",
       "      <th>0</th>\n",
       "      <td>六品堂凹槽练字帖成人行书速成行楷书钢笔字帖硬笔男女生反复21天神器成年本正楷字体临摹初学漂亮...</td>\n",
       "      <td>16.9</td>\n",
       "      <td>95000</td>\n",
       "      <td>六品堂旗舰店</td>\n",
       "      <td>0</td>\n",
       "      <td>一得阁</td>\n",
       "      <td>2020-07-13</td>\n",
       "      <td>gz</td>\n",
       "      <td>0</td>\n",
       "    </tr>\n",
       "    <tr>\n",
       "      <th>1</th>\n",
       "      <td>六品堂毛笔套装初学儿童小学生文房四宝笔墨纸砚成人套装狼毫毛笔初学者书法用品毛笔字砚台兼毫练字...</td>\n",
       "      <td>39.80</td>\n",
       "      <td>9000</td>\n",
       "      <td>六品堂旗舰店</td>\n",
       "      <td>0</td>\n",
       "      <td>一得阁</td>\n",
       "      <td>2020-07-13</td>\n",
       "      <td>gz</td>\n",
       "      <td>0</td>\n",
       "    </tr>\n",
       "    <tr>\n",
       "      <th>2</th>\n",
       "      <td>六品堂半生半熟宣纸100张书法专用纸作品纸国画工笔画初学者书法专用练习生宣纸熟宣纸写毛笔字四...</td>\n",
       "      <td>12.80</td>\n",
       "      <td>15000</td>\n",
       "      <td>六品堂旗舰店</td>\n",
       "      <td>0</td>\n",
       "      <td>一得阁</td>\n",
       "      <td>2020-07-13</td>\n",
       "      <td>gz</td>\n",
       "      <td>0</td>\n",
       "    </tr>\n",
       "    <tr>\n",
       "      <th>3</th>\n",
       "      <td>初中生高中生描红衡水体英文字帖衡水中学英语字帖练习学生六品堂反复临摹练字凹槽练字帖本神器高考...</td>\n",
       "      <td>19.90</td>\n",
       "      <td>6</td>\n",
       "      <td>慕春办公专营店</td>\n",
       "      <td>0</td>\n",
       "      <td>一得阁</td>\n",
       "      <td>2020-07-13</td>\n",
       "      <td>gz</td>\n",
       "      <td>0</td>\n",
       "    </tr>\n",
       "    <tr>\n",
       "      <th>4</th>\n",
       "      <td>六品堂旗舰店毛笔正品软笔钢笔式毛笔套装初学高档专业可加墨小楷秀丽笔书法笔小号抄经笔小学生绘画...</td>\n",
       "      <td>38.00</td>\n",
       "      <td>16</td>\n",
       "      <td>千缔办公专营店</td>\n",
       "      <td>0</td>\n",
       "      <td>一得阁</td>\n",
       "      <td>2020-07-13</td>\n",
       "      <td>gz</td>\n",
       "      <td>0</td>\n",
       "    </tr>\n",
       "  </tbody>\n",
       "</table>\n",
       "</div>"
      ],
      "text/plain": [
       "                                                产品名称  单价(元)   交易人数     店铺名称  \\\n",
       "0  六品堂凹槽练字帖成人行书速成行楷书钢笔字帖硬笔男女生反复21天神器成年本正楷字体临摹初学漂亮...   16.9  95000   六品堂旗舰店   \n",
       "1  六品堂毛笔套装初学儿童小学生文房四宝笔墨纸砚成人套装狼毫毛笔初学者书法用品毛笔字砚台兼毫练字...  39.80   9000   六品堂旗舰店   \n",
       "2  六品堂半生半熟宣纸100张书法专用纸作品纸国画工笔画初学者书法专用练习生宣纸熟宣纸写毛笔字四...  12.80  15000   六品堂旗舰店   \n",
       "3  初中生高中生描红衡水体英文字帖衡水中学英语字帖练习学生六品堂反复临摹练字凹槽练字帖本神器高考...  19.90      6  慕春办公专营店   \n",
       "4  六品堂旗舰店毛笔正品软笔钢笔式毛笔套装初学高档专业可加墨小楷秀丽笔书法笔小号抄经笔小学生绘画...  38.00     16  千缔办公专营店   \n",
       "\n",
       "   销售额  品牌名        采集日期 采集人员  类别  \n",
       "0    0  一得阁  2020-07-13   gz   0  \n",
       "1    0  一得阁  2020-07-13   gz   0  \n",
       "2    0  一得阁  2020-07-13   gz   0  \n",
       "3    0  一得阁  2020-07-13   gz   0  \n",
       "4    0  一得阁  2020-07-13   gz   0  "
      ]
     },
     "execution_count": 102,
     "metadata": {},
     "output_type": "execute_result"
    }
   ],
   "source": [
    "data.head()"
   ]
  },
  {
   "cell_type": "code",
   "execution_count": 103,
   "metadata": {
    "ExecuteTime": {
     "end_time": "2020-07-14T02:20:48.942907Z",
     "start_time": "2020-07-14T02:20:48.832202Z"
    }
   },
   "outputs": [
    {
     "name": "stderr",
     "output_type": "stream",
     "text": [
      "C:\\anaconda\\lib\\site-packages\\ipykernel_launcher.py:3: SettingWithCopyWarning: \n",
      "A value is trying to be set on a copy of a slice from a DataFrame\n",
      "\n",
      "See the caveats in the documentation: https://pandas.pydata.org/pandas-docs/stable/user_guide/indexing.html#returning-a-view-versus-a-copy\n",
      "  This is separate from the ipykernel package so we can avoid doing imports until\n",
      "C:\\anaconda\\lib\\site-packages\\pandas\\core\\indexing.py:670: SettingWithCopyWarning: \n",
      "A value is trying to be set on a copy of a slice from a DataFrame\n",
      "\n",
      "See the caveats in the documentation: https://pandas.pydata.org/pandas-docs/stable/user_guide/indexing.html#returning-a-view-versus-a-copy\n",
      "  self._setitem_with_indexer(indexer, value)\n",
      "C:\\anaconda\\lib\\site-packages\\ipykernel_launcher.py:25: SettingWithCopyWarning: \n",
      "A value is trying to be set on a copy of a slice from a DataFrame\n",
      "\n",
      "See the caveats in the documentation: https://pandas.pydata.org/pandas-docs/stable/user_guide/indexing.html#returning-a-view-versus-a-copy\n",
      "C:\\anaconda\\lib\\site-packages\\ipykernel_launcher.py:21: SettingWithCopyWarning: \n",
      "A value is trying to be set on a copy of a slice from a DataFrame\n",
      "\n",
      "See the caveats in the documentation: https://pandas.pydata.org/pandas-docs/stable/user_guide/indexing.html#returning-a-view-versus-a-copy\n",
      "C:\\anaconda\\lib\\site-packages\\ipykernel_launcher.py:23: SettingWithCopyWarning: \n",
      "A value is trying to be set on a copy of a slice from a DataFrame\n",
      "\n",
      "See the caveats in the documentation: https://pandas.pydata.org/pandas-docs/stable/user_guide/indexing.html#returning-a-view-versus-a-copy\n",
      "C:\\anaconda\\lib\\site-packages\\ipykernel_launcher.py:19: SettingWithCopyWarning: \n",
      "A value is trying to be set on a copy of a slice from a DataFrame\n",
      "\n",
      "See the caveats in the documentation: https://pandas.pydata.org/pandas-docs/stable/user_guide/indexing.html#returning-a-view-versus-a-copy\n",
      "C:\\anaconda\\lib\\site-packages\\ipykernel_launcher.py:11: SettingWithCopyWarning: \n",
      "A value is trying to be set on a copy of a slice from a DataFrame\n",
      "\n",
      "See the caveats in the documentation: https://pandas.pydata.org/pandas-docs/stable/user_guide/indexing.html#returning-a-view-versus-a-copy\n",
      "  # This is added back by InteractiveShellApp.init_path()\n",
      "C:\\anaconda\\lib\\site-packages\\ipykernel_launcher.py:9: SettingWithCopyWarning: \n",
      "A value is trying to be set on a copy of a slice from a DataFrame\n",
      "\n",
      "See the caveats in the documentation: https://pandas.pydata.org/pandas-docs/stable/user_guide/indexing.html#returning-a-view-versus-a-copy\n",
      "  if __name__ == '__main__':\n",
      "C:\\anaconda\\lib\\site-packages\\ipykernel_launcher.py:5: SettingWithCopyWarning: \n",
      "A value is trying to be set on a copy of a slice from a DataFrame\n",
      "\n",
      "See the caveats in the documentation: https://pandas.pydata.org/pandas-docs/stable/user_guide/indexing.html#returning-a-view-versus-a-copy\n",
      "  \"\"\"\n",
      "C:\\anaconda\\lib\\site-packages\\ipykernel_launcher.py:7: SettingWithCopyWarning: \n",
      "A value is trying to be set on a copy of a slice from a DataFrame\n",
      "\n",
      "See the caveats in the documentation: https://pandas.pydata.org/pandas-docs/stable/user_guide/indexing.html#returning-a-view-versus-a-copy\n",
      "  import sys\n",
      "C:\\anaconda\\lib\\site-packages\\ipykernel_launcher.py:17: SettingWithCopyWarning: \n",
      "A value is trying to be set on a copy of a slice from a DataFrame\n",
      "\n",
      "See the caveats in the documentation: https://pandas.pydata.org/pandas-docs/stable/user_guide/indexing.html#returning-a-view-versus-a-copy\n",
      "C:\\anaconda\\lib\\site-packages\\ipykernel_launcher.py:13: SettingWithCopyWarning: \n",
      "A value is trying to be set on a copy of a slice from a DataFrame\n",
      "\n",
      "See the caveats in the documentation: https://pandas.pydata.org/pandas-docs/stable/user_guide/indexing.html#returning-a-view-versus-a-copy\n",
      "  del sys.path[0]\n",
      "C:\\anaconda\\lib\\site-packages\\ipykernel_launcher.py:15: SettingWithCopyWarning: \n",
      "A value is trying to be set on a copy of a slice from a DataFrame\n",
      "\n",
      "See the caveats in the documentation: https://pandas.pydata.org/pandas-docs/stable/user_guide/indexing.html#returning-a-view-versus-a-copy\n",
      "  from ipykernel import kernelapp as app\n"
     ]
    }
   ],
   "source": [
    "for i in range(len(data)):\n",
    "    if \"凹槽\" in data[\"产品名称\"][i]:\n",
    "        data[\"类别\"][i]=\"凹槽\"\n",
    "    elif \"水写布\" in data[\"产品名称\"][i]:\n",
    "            data[\"类别\"][i]= \"水写布\"\n",
    "    elif \"笔架\" in data[\"产品名称\"][i]: \n",
    "        data[\"类别\"][i]=\"笔架\"\n",
    "    elif \"钢笔纸\" in data[\"产品名称\"][i]: \n",
    "        data[\"类别\"][i]=\"钢笔纸\"\n",
    "    elif \"簪花小楷\" in data[\"产品名称\"][i]: \n",
    "        data[\"类别\"][i]=\"簪花小楷\"\n",
    "    elif \"佛经字帖\" in data[\"产品名称\"][i]: \n",
    "        data[\"类别\"][i]=\"佛经字帖\"\n",
    "    elif \"国画工具套装\" in data[\"产品名称\"][i]: \n",
    "        data[\"类别\"][i]=\"国画工具套装\"\n",
    "    elif \"文房四宝套装\" in data[\"产品名称\"][i]: \n",
    "        data[\"类别\"][i]=\"文房四宝套装\"\n",
    "    elif \"毛边纸\" in data[\"产品名称\"][i]: \n",
    "        data[\"类别\"][i]=\"毛边纸\"\n",
    "    elif \"宣纸\" in data[\"产品名称\"][i]: \n",
    "        data[\"类别\"][i]=\"宣纸\"\n",
    "    elif \"毛笔字帖\" in data[\"产品名称\"][i]: \n",
    "        data[\"类别\"][i]=\"毛笔字帖\"\n",
    "    else:\n",
    "        data[\"类别\"][i]=0"
   ]
  },
  {
   "cell_type": "code",
   "execution_count": 179,
   "metadata": {
    "ExecuteTime": {
     "end_time": "2020-07-14T03:38:23.025925Z",
     "start_time": "2020-07-14T03:38:23.000959Z"
    }
   },
   "outputs": [],
   "source": [
    "import os \n",
    "import pandas as pd\n",
    "import numpy as np\n",
    "def data_clear(path):\n",
    "    data = pd.read_csv(path,encoding=\"utf8\",header=None, delimiter=',')\n",
    "    try:\n",
    "        data = data.dropna()\n",
    "        data.index = data.reset_index().index\n",
    "    except:\n",
    "        pass\n",
    "    columns=[\"产品名称\",\"单价(元)\",\"交易人数\",\"店铺名称\",\"店铺地址\"]\n",
    "    data.columns = columns\n",
    "    # 清洗单价\n",
    "    for i in range(len(data[\"单价(元)\"])):\n",
    "        try:\n",
    "            data[\"单价(元)\"][i]=data[\"单价(元)\"][i].split(\"元\")[0]\n",
    "        except:\n",
    "            pass\n",
    "    # 清洗交易人数    \n",
    "    for i in range(len(data[\"交易人数\"])):\n",
    "        try:\n",
    "            data[\"交易人数\"][i]=data[\"交易人数\"][i].split(\"人\")[0]\n",
    "        except:\n",
    "            pass\n",
    "        try:\n",
    "            data[\"交易人数\"][i]=data[\"交易人数\"][i].split(\"+\")[0]\n",
    "            if \"万\" in data[\"交易人数\"][i]:\n",
    "                data[\"交易人数\"][i]=data[\"交易人数\"][i].split(\"万\")[0]\n",
    "                data[\"交易人数\"][i]=float(data[\"交易人数\"][i])*10000\n",
    "            else:\n",
    "                pass\n",
    "        except:\n",
    "            pass\n",
    "    data[\"销售额\"]=0\n",
    "    na = path.split(\"/\")[-1]\n",
    "    na = na.split(\".\")[0]\n",
    "    data[\"品牌名\"]= na\n",
    "    data[\"采集日期\"]=\"2020-07-13\"\n",
    "    data[\"采集人员\"]=\"gz\"\n",
    "    data[\"类别\"]=0\n",
    "    # 计算销售额\n",
    "    for i in range(len(data)):\n",
    "        data[\"销售额\"][i]=float(data[\"单价(元)\"][i])*float(data[\"交易人数\"][i])\n",
    "        \n",
    "    for i in range(len(data)):\n",
    "        if \"凹槽\" in data[\"产品名称\"][i]:\n",
    "            data[\"类别\"][i]=\"凹槽\"\n",
    "        elif \"水写布\" in data[\"产品名称\"][i]:\n",
    "                data[\"类别\"][i]= \"水写布\"\n",
    "        elif \"笔架\" in data[\"产品名称\"][i]: \n",
    "            data[\"类别\"][i]=\"笔架\"\n",
    "        elif \"钢笔纸\" in data[\"产品名称\"][i]: \n",
    "            data[\"类别\"][i]=\"钢笔纸\"\n",
    "        elif \"簪花小楷\" in data[\"产品名称\"][i]: \n",
    "            data[\"类别\"][i]=\"簪花小楷\"\n",
    "        elif \"佛经字帖\" in data[\"产品名称\"][i]: \n",
    "            data[\"类别\"][i]=\"佛经字帖\"\n",
    "        elif \"国画工具套装\" in data[\"产品名称\"][i]: \n",
    "            data[\"类别\"][i]=\"国画工具套装\"\n",
    "        elif \"文房四宝套装\" in data[\"产品名称\"][i]: \n",
    "            data[\"类别\"][i]=\"文房四宝套装\"\n",
    "        elif \"毛边纸\" in data[\"产品名称\"][i]: \n",
    "            data[\"类别\"][i]=\"毛边纸\"\n",
    "        elif \"宣纸\" in data[\"产品名称\"][i]: \n",
    "            data[\"类别\"][i]=\"宣纸\"\n",
    "        elif \"毛笔字帖\" in data[\"产品名称\"][i]: \n",
    "            data[\"类别\"][i]=\"毛笔字帖\"\n",
    "        else:\n",
    "            data[\"类别\"][i]=0\n",
    "        data.to_csv(\"clear_\"+na+\".csv\",encoding=\"utf-8-sig\",index=None)"
   ]
  },
  {
   "cell_type": "code",
   "execution_count": 124,
   "metadata": {
    "ExecuteTime": {
     "end_time": "2020-07-14T03:00:19.947913Z",
     "start_time": "2020-07-14T03:00:19.942923Z"
    }
   },
   "outputs": [],
   "source": [
    "def get_clear_data(dirs):\n",
    "    names = os.listdir(dirs)\n",
    "    for i in names:\n",
    "        # 报错定位\n",
    "        print(i)\n",
    "        path = str(dirs)+\"/\"+str(i)\n",
    "        data_clear(path)  "
   ]
  },
  {
   "cell_type": "code",
   "execution_count": 126,
   "metadata": {
    "ExecuteTime": {
     "end_time": "2020-07-14T03:13:35.509443Z",
     "start_time": "2020-07-14T03:08:23.845116Z"
    }
   },
   "outputs": [
    {
     "name": "stdout",
     "output_type": "stream",
     "text": [
      "Diamond描图纸.csv\n"
     ]
    },
    {
     "name": "stderr",
     "output_type": "stream",
     "text": [
      "C:\\anaconda\\lib\\site-packages\\ipykernel_launcher.py:38: SettingWithCopyWarning: \n",
      "A value is trying to be set on a copy of a slice from a DataFrame\n",
      "\n",
      "See the caveats in the documentation: https://pandas.pydata.org/pandas-docs/stable/user_guide/indexing.html#returning-a-view-versus-a-copy\n",
      "C:\\anaconda\\lib\\site-packages\\ipykernel_launcher.py:64: SettingWithCopyWarning: \n",
      "A value is trying to be set on a copy of a slice from a DataFrame\n",
      "\n",
      "See the caveats in the documentation: https://pandas.pydata.org/pandas-docs/stable/user_guide/indexing.html#returning-a-view-versus-a-copy\n"
     ]
    },
    {
     "name": "stdout",
     "output_type": "stream",
     "text": [
      "一得阁.csv\n"
     ]
    },
    {
     "name": "stderr",
     "output_type": "stream",
     "text": [
      "C:\\anaconda\\lib\\site-packages\\ipykernel_launcher.py:56: SettingWithCopyWarning: \n",
      "A value is trying to be set on a copy of a slice from a DataFrame\n",
      "\n",
      "See the caveats in the documentation: https://pandas.pydata.org/pandas-docs/stable/user_guide/indexing.html#returning-a-view-versus-a-copy\n",
      "C:\\anaconda\\lib\\site-packages\\ipykernel_launcher.py:60: SettingWithCopyWarning: \n",
      "A value is trying to be set on a copy of a slice from a DataFrame\n",
      "\n",
      "See the caveats in the documentation: https://pandas.pydata.org/pandas-docs/stable/user_guide/indexing.html#returning-a-view-versus-a-copy\n",
      "C:\\anaconda\\lib\\site-packages\\ipykernel_launcher.py:46: SettingWithCopyWarning: \n",
      "A value is trying to be set on a copy of a slice from a DataFrame\n",
      "\n",
      "See the caveats in the documentation: https://pandas.pydata.org/pandas-docs/stable/user_guide/indexing.html#returning-a-view-versus-a-copy\n",
      "C:\\anaconda\\lib\\site-packages\\ipykernel_launcher.py:58: SettingWithCopyWarning: \n",
      "A value is trying to be set on a copy of a slice from a DataFrame\n",
      "\n",
      "See the caveats in the documentation: https://pandas.pydata.org/pandas-docs/stable/user_guide/indexing.html#returning-a-view-versus-a-copy\n",
      "C:\\anaconda\\lib\\site-packages\\ipykernel_launcher.py:62: SettingWithCopyWarning: \n",
      "A value is trying to be set on a copy of a slice from a DataFrame\n",
      "\n",
      "See the caveats in the documentation: https://pandas.pydata.org/pandas-docs/stable/user_guide/indexing.html#returning-a-view-versus-a-copy\n",
      "C:\\anaconda\\lib\\site-packages\\ipykernel_launcher.py:44: SettingWithCopyWarning: \n",
      "A value is trying to be set on a copy of a slice from a DataFrame\n",
      "\n",
      "See the caveats in the documentation: https://pandas.pydata.org/pandas-docs/stable/user_guide/indexing.html#returning-a-view-versus-a-copy\n",
      "C:\\anaconda\\lib\\site-packages\\ipykernel_launcher.py:54: SettingWithCopyWarning: \n",
      "A value is trying to be set on a copy of a slice from a DataFrame\n",
      "\n",
      "See the caveats in the documentation: https://pandas.pydata.org/pandas-docs/stable/user_guide/indexing.html#returning-a-view-versus-a-copy\n"
     ]
    },
    {
     "name": "stdout",
     "output_type": "stream",
     "text": [
      "一起练字旗舰店.csv\n",
      "久博文化.csv\n"
     ]
    },
    {
     "name": "stderr",
     "output_type": "stream",
     "text": [
      "C:\\anaconda\\lib\\site-packages\\ipykernel_launcher.py:42: SettingWithCopyWarning: \n",
      "A value is trying to be set on a copy of a slice from a DataFrame\n",
      "\n",
      "See the caveats in the documentation: https://pandas.pydata.org/pandas-docs/stable/user_guide/indexing.html#returning-a-view-versus-a-copy\n"
     ]
    },
    {
     "name": "stdout",
     "output_type": "stream",
     "text": [
      "六品堂旗舰店.csv\n"
     ]
    },
    {
     "name": "stderr",
     "output_type": "stream",
     "text": [
      "C:\\anaconda\\lib\\site-packages\\ipykernel_launcher.py:50: SettingWithCopyWarning: \n",
      "A value is trying to be set on a copy of a slice from a DataFrame\n",
      "\n",
      "See the caveats in the documentation: https://pandas.pydata.org/pandas-docs/stable/user_guide/indexing.html#returning-a-view-versus-a-copy\n",
      "C:\\anaconda\\lib\\site-packages\\ipykernel_launcher.py:48: SettingWithCopyWarning: \n",
      "A value is trying to be set on a copy of a slice from a DataFrame\n",
      "\n",
      "See the caveats in the documentation: https://pandas.pydata.org/pandas-docs/stable/user_guide/indexing.html#returning-a-view-versus-a-copy\n",
      "C:\\anaconda\\lib\\site-packages\\ipykernel_launcher.py:52: SettingWithCopyWarning: \n",
      "A value is trying to be set on a copy of a slice from a DataFrame\n",
      "\n",
      "See the caveats in the documentation: https://pandas.pydata.org/pandas-docs/stable/user_guide/indexing.html#returning-a-view-versus-a-copy\n"
     ]
    },
    {
     "name": "stdout",
     "output_type": "stream",
     "text": [
      "典轩.csv\n",
      "华夏万卷.csv\n",
      "名迹.csv\n",
      "周虎臣.csv\n",
      "墨点.csv\n",
      "墨韵书香.csv\n",
      "大山皮纸.csv\n",
      "姜思序堂.csv\n"
     ]
    },
    {
     "ename": "UnicodeDecodeError",
     "evalue": "'utf-8' codec can't decode byte 0xcb in position 0: invalid continuation byte",
     "output_type": "error",
     "traceback": [
      "\u001b[1;31m---------------------------------------------------------------------------\u001b[0m",
      "\u001b[1;31mUnicodeDecodeError\u001b[0m                        Traceback (most recent call last)",
      "\u001b[1;32m<ipython-input-126-fb15573cc0d9>\u001b[0m in \u001b[0;36m<module>\u001b[1;34m\u001b[0m\n\u001b[1;32m----> 1\u001b[1;33m \u001b[0mget_clear_data\u001b[0m\u001b[1;33m(\u001b[0m\u001b[1;34m\"数据\"\u001b[0m\u001b[1;33m)\u001b[0m\u001b[1;33m\u001b[0m\u001b[1;33m\u001b[0m\u001b[0m\n\u001b[0m",
      "\u001b[1;32m<ipython-input-124-9a74121ff018>\u001b[0m in \u001b[0;36mget_clear_data\u001b[1;34m(dirs)\u001b[0m\n\u001b[0;32m      5\u001b[0m         \u001b[0mprint\u001b[0m\u001b[1;33m(\u001b[0m\u001b[0mi\u001b[0m\u001b[1;33m)\u001b[0m\u001b[1;33m\u001b[0m\u001b[1;33m\u001b[0m\u001b[0m\n\u001b[0;32m      6\u001b[0m         \u001b[0mpath\u001b[0m \u001b[1;33m=\u001b[0m \u001b[0mstr\u001b[0m\u001b[1;33m(\u001b[0m\u001b[0mdirs\u001b[0m\u001b[1;33m)\u001b[0m\u001b[1;33m+\u001b[0m\u001b[1;34m\"/\"\u001b[0m\u001b[1;33m+\u001b[0m\u001b[0mstr\u001b[0m\u001b[1;33m(\u001b[0m\u001b[0mi\u001b[0m\u001b[1;33m)\u001b[0m\u001b[1;33m\u001b[0m\u001b[1;33m\u001b[0m\u001b[0m\n\u001b[1;32m----> 7\u001b[1;33m         \u001b[0mdata_clear\u001b[0m\u001b[1;33m(\u001b[0m\u001b[0mpath\u001b[0m\u001b[1;33m)\u001b[0m\u001b[1;33m\u001b[0m\u001b[1;33m\u001b[0m\u001b[0m\n\u001b[0m",
      "\u001b[1;32m<ipython-input-123-e6893172e2f8>\u001b[0m in \u001b[0;36mdata_clear\u001b[1;34m(path)\u001b[0m\n\u001b[0;32m      3\u001b[0m \u001b[1;32mimport\u001b[0m \u001b[0mnumpy\u001b[0m \u001b[1;32mas\u001b[0m \u001b[0mnp\u001b[0m\u001b[1;33m\u001b[0m\u001b[1;33m\u001b[0m\u001b[0m\n\u001b[0;32m      4\u001b[0m \u001b[1;32mdef\u001b[0m \u001b[0mdata_clear\u001b[0m\u001b[1;33m(\u001b[0m\u001b[0mpath\u001b[0m\u001b[1;33m)\u001b[0m\u001b[1;33m:\u001b[0m\u001b[1;33m\u001b[0m\u001b[1;33m\u001b[0m\u001b[0m\n\u001b[1;32m----> 5\u001b[1;33m     \u001b[0mdata\u001b[0m \u001b[1;33m=\u001b[0m \u001b[0mpd\u001b[0m\u001b[1;33m.\u001b[0m\u001b[0mread_csv\u001b[0m\u001b[1;33m(\u001b[0m\u001b[0mpath\u001b[0m\u001b[1;33m,\u001b[0m\u001b[0mencoding\u001b[0m\u001b[1;33m=\u001b[0m\u001b[1;34m\"utf8\"\u001b[0m\u001b[1;33m,\u001b[0m\u001b[0mheader\u001b[0m\u001b[1;33m=\u001b[0m\u001b[1;32mNone\u001b[0m\u001b[1;33m)\u001b[0m\u001b[1;33m\u001b[0m\u001b[1;33m\u001b[0m\u001b[0m\n\u001b[0m\u001b[0;32m      6\u001b[0m     \u001b[0mcolumns\u001b[0m\u001b[1;33m=\u001b[0m\u001b[1;33m[\u001b[0m\u001b[1;34m\"产品名称\"\u001b[0m\u001b[1;33m,\u001b[0m\u001b[1;34m\"单价(元)\"\u001b[0m\u001b[1;33m,\u001b[0m\u001b[1;34m\"交易人数\"\u001b[0m\u001b[1;33m,\u001b[0m\u001b[1;34m\"店铺名称\"\u001b[0m\u001b[1;33m]\u001b[0m\u001b[1;33m\u001b[0m\u001b[1;33m\u001b[0m\u001b[0m\n\u001b[0;32m      7\u001b[0m     \u001b[0mdata\u001b[0m\u001b[1;33m.\u001b[0m\u001b[0mcolumns\u001b[0m \u001b[1;33m=\u001b[0m \u001b[0mcolumns\u001b[0m\u001b[1;33m\u001b[0m\u001b[1;33m\u001b[0m\u001b[0m\n",
      "\u001b[1;32mC:\\anaconda\\lib\\site-packages\\pandas\\io\\parsers.py\u001b[0m in \u001b[0;36mparser_f\u001b[1;34m(filepath_or_buffer, sep, delimiter, header, names, index_col, usecols, squeeze, prefix, mangle_dupe_cols, dtype, engine, converters, true_values, false_values, skipinitialspace, skiprows, skipfooter, nrows, na_values, keep_default_na, na_filter, verbose, skip_blank_lines, parse_dates, infer_datetime_format, keep_date_col, date_parser, dayfirst, cache_dates, iterator, chunksize, compression, thousands, decimal, lineterminator, quotechar, quoting, doublequote, escapechar, comment, encoding, dialect, error_bad_lines, warn_bad_lines, delim_whitespace, low_memory, memory_map, float_precision)\u001b[0m\n\u001b[0;32m    674\u001b[0m         )\n\u001b[0;32m    675\u001b[0m \u001b[1;33m\u001b[0m\u001b[0m\n\u001b[1;32m--> 676\u001b[1;33m         \u001b[1;32mreturn\u001b[0m \u001b[0m_read\u001b[0m\u001b[1;33m(\u001b[0m\u001b[0mfilepath_or_buffer\u001b[0m\u001b[1;33m,\u001b[0m \u001b[0mkwds\u001b[0m\u001b[1;33m)\u001b[0m\u001b[1;33m\u001b[0m\u001b[1;33m\u001b[0m\u001b[0m\n\u001b[0m\u001b[0;32m    677\u001b[0m \u001b[1;33m\u001b[0m\u001b[0m\n\u001b[0;32m    678\u001b[0m     \u001b[0mparser_f\u001b[0m\u001b[1;33m.\u001b[0m\u001b[0m__name__\u001b[0m \u001b[1;33m=\u001b[0m \u001b[0mname\u001b[0m\u001b[1;33m\u001b[0m\u001b[1;33m\u001b[0m\u001b[0m\n",
      "\u001b[1;32mC:\\anaconda\\lib\\site-packages\\pandas\\io\\parsers.py\u001b[0m in \u001b[0;36m_read\u001b[1;34m(filepath_or_buffer, kwds)\u001b[0m\n\u001b[0;32m    446\u001b[0m \u001b[1;33m\u001b[0m\u001b[0m\n\u001b[0;32m    447\u001b[0m     \u001b[1;31m# Create the parser.\u001b[0m\u001b[1;33m\u001b[0m\u001b[1;33m\u001b[0m\u001b[1;33m\u001b[0m\u001b[0m\n\u001b[1;32m--> 448\u001b[1;33m     \u001b[0mparser\u001b[0m \u001b[1;33m=\u001b[0m \u001b[0mTextFileReader\u001b[0m\u001b[1;33m(\u001b[0m\u001b[0mfp_or_buf\u001b[0m\u001b[1;33m,\u001b[0m \u001b[1;33m**\u001b[0m\u001b[0mkwds\u001b[0m\u001b[1;33m)\u001b[0m\u001b[1;33m\u001b[0m\u001b[1;33m\u001b[0m\u001b[0m\n\u001b[0m\u001b[0;32m    449\u001b[0m \u001b[1;33m\u001b[0m\u001b[0m\n\u001b[0;32m    450\u001b[0m     \u001b[1;32mif\u001b[0m \u001b[0mchunksize\u001b[0m \u001b[1;32mor\u001b[0m \u001b[0miterator\u001b[0m\u001b[1;33m:\u001b[0m\u001b[1;33m\u001b[0m\u001b[1;33m\u001b[0m\u001b[0m\n",
      "\u001b[1;32mC:\\anaconda\\lib\\site-packages\\pandas\\io\\parsers.py\u001b[0m in \u001b[0;36m__init__\u001b[1;34m(self, f, engine, **kwds)\u001b[0m\n\u001b[0;32m    878\u001b[0m             \u001b[0mself\u001b[0m\u001b[1;33m.\u001b[0m\u001b[0moptions\u001b[0m\u001b[1;33m[\u001b[0m\u001b[1;34m\"has_index_names\"\u001b[0m\u001b[1;33m]\u001b[0m \u001b[1;33m=\u001b[0m \u001b[0mkwds\u001b[0m\u001b[1;33m[\u001b[0m\u001b[1;34m\"has_index_names\"\u001b[0m\u001b[1;33m]\u001b[0m\u001b[1;33m\u001b[0m\u001b[1;33m\u001b[0m\u001b[0m\n\u001b[0;32m    879\u001b[0m \u001b[1;33m\u001b[0m\u001b[0m\n\u001b[1;32m--> 880\u001b[1;33m         \u001b[0mself\u001b[0m\u001b[1;33m.\u001b[0m\u001b[0m_make_engine\u001b[0m\u001b[1;33m(\u001b[0m\u001b[0mself\u001b[0m\u001b[1;33m.\u001b[0m\u001b[0mengine\u001b[0m\u001b[1;33m)\u001b[0m\u001b[1;33m\u001b[0m\u001b[1;33m\u001b[0m\u001b[0m\n\u001b[0m\u001b[0;32m    881\u001b[0m \u001b[1;33m\u001b[0m\u001b[0m\n\u001b[0;32m    882\u001b[0m     \u001b[1;32mdef\u001b[0m \u001b[0mclose\u001b[0m\u001b[1;33m(\u001b[0m\u001b[0mself\u001b[0m\u001b[1;33m)\u001b[0m\u001b[1;33m:\u001b[0m\u001b[1;33m\u001b[0m\u001b[1;33m\u001b[0m\u001b[0m\n",
      "\u001b[1;32mC:\\anaconda\\lib\\site-packages\\pandas\\io\\parsers.py\u001b[0m in \u001b[0;36m_make_engine\u001b[1;34m(self, engine)\u001b[0m\n\u001b[0;32m   1112\u001b[0m     \u001b[1;32mdef\u001b[0m \u001b[0m_make_engine\u001b[0m\u001b[1;33m(\u001b[0m\u001b[0mself\u001b[0m\u001b[1;33m,\u001b[0m \u001b[0mengine\u001b[0m\u001b[1;33m=\u001b[0m\u001b[1;34m\"c\"\u001b[0m\u001b[1;33m)\u001b[0m\u001b[1;33m:\u001b[0m\u001b[1;33m\u001b[0m\u001b[1;33m\u001b[0m\u001b[0m\n\u001b[0;32m   1113\u001b[0m         \u001b[1;32mif\u001b[0m \u001b[0mengine\u001b[0m \u001b[1;33m==\u001b[0m \u001b[1;34m\"c\"\u001b[0m\u001b[1;33m:\u001b[0m\u001b[1;33m\u001b[0m\u001b[1;33m\u001b[0m\u001b[0m\n\u001b[1;32m-> 1114\u001b[1;33m             \u001b[0mself\u001b[0m\u001b[1;33m.\u001b[0m\u001b[0m_engine\u001b[0m \u001b[1;33m=\u001b[0m \u001b[0mCParserWrapper\u001b[0m\u001b[1;33m(\u001b[0m\u001b[0mself\u001b[0m\u001b[1;33m.\u001b[0m\u001b[0mf\u001b[0m\u001b[1;33m,\u001b[0m \u001b[1;33m**\u001b[0m\u001b[0mself\u001b[0m\u001b[1;33m.\u001b[0m\u001b[0moptions\u001b[0m\u001b[1;33m)\u001b[0m\u001b[1;33m\u001b[0m\u001b[1;33m\u001b[0m\u001b[0m\n\u001b[0m\u001b[0;32m   1115\u001b[0m         \u001b[1;32melse\u001b[0m\u001b[1;33m:\u001b[0m\u001b[1;33m\u001b[0m\u001b[1;33m\u001b[0m\u001b[0m\n\u001b[0;32m   1116\u001b[0m             \u001b[1;32mif\u001b[0m \u001b[0mengine\u001b[0m \u001b[1;33m==\u001b[0m \u001b[1;34m\"python\"\u001b[0m\u001b[1;33m:\u001b[0m\u001b[1;33m\u001b[0m\u001b[1;33m\u001b[0m\u001b[0m\n",
      "\u001b[1;32mC:\\anaconda\\lib\\site-packages\\pandas\\io\\parsers.py\u001b[0m in \u001b[0;36m__init__\u001b[1;34m(self, src, **kwds)\u001b[0m\n\u001b[0;32m   1889\u001b[0m         \u001b[0mkwds\u001b[0m\u001b[1;33m[\u001b[0m\u001b[1;34m\"usecols\"\u001b[0m\u001b[1;33m]\u001b[0m \u001b[1;33m=\u001b[0m \u001b[0mself\u001b[0m\u001b[1;33m.\u001b[0m\u001b[0musecols\u001b[0m\u001b[1;33m\u001b[0m\u001b[1;33m\u001b[0m\u001b[0m\n\u001b[0;32m   1890\u001b[0m \u001b[1;33m\u001b[0m\u001b[0m\n\u001b[1;32m-> 1891\u001b[1;33m         \u001b[0mself\u001b[0m\u001b[1;33m.\u001b[0m\u001b[0m_reader\u001b[0m \u001b[1;33m=\u001b[0m \u001b[0mparsers\u001b[0m\u001b[1;33m.\u001b[0m\u001b[0mTextReader\u001b[0m\u001b[1;33m(\u001b[0m\u001b[0msrc\u001b[0m\u001b[1;33m,\u001b[0m \u001b[1;33m**\u001b[0m\u001b[0mkwds\u001b[0m\u001b[1;33m)\u001b[0m\u001b[1;33m\u001b[0m\u001b[1;33m\u001b[0m\u001b[0m\n\u001b[0m\u001b[0;32m   1892\u001b[0m         \u001b[0mself\u001b[0m\u001b[1;33m.\u001b[0m\u001b[0munnamed_cols\u001b[0m \u001b[1;33m=\u001b[0m \u001b[0mself\u001b[0m\u001b[1;33m.\u001b[0m\u001b[0m_reader\u001b[0m\u001b[1;33m.\u001b[0m\u001b[0munnamed_cols\u001b[0m\u001b[1;33m\u001b[0m\u001b[1;33m\u001b[0m\u001b[0m\n\u001b[0;32m   1893\u001b[0m \u001b[1;33m\u001b[0m\u001b[0m\n",
      "\u001b[1;32mpandas\\_libs\\parsers.pyx\u001b[0m in \u001b[0;36mpandas._libs.parsers.TextReader.__cinit__\u001b[1;34m()\u001b[0m\n",
      "\u001b[1;32mpandas\\_libs\\parsers.pyx\u001b[0m in \u001b[0;36mpandas._libs.parsers.TextReader._get_header\u001b[1;34m()\u001b[0m\n",
      "\u001b[1;32mpandas\\_libs\\parsers.pyx\u001b[0m in \u001b[0;36mpandas._libs.parsers.TextReader._tokenize_rows\u001b[1;34m()\u001b[0m\n",
      "\u001b[1;32mpandas\\_libs\\parsers.pyx\u001b[0m in \u001b[0;36mpandas._libs.parsers.raise_parser_error\u001b[1;34m()\u001b[0m\n",
      "\u001b[1;31mUnicodeDecodeError\u001b[0m: 'utf-8' codec can't decode byte 0xcb in position 0: invalid continuation byte"
     ]
    }
   ],
   "source": [
    "get_clear_data(\"spider\")"
   ]
  },
  {
   "cell_type": "code",
   "execution_count": 180,
   "metadata": {
    "ExecuteTime": {
     "end_time": "2020-07-14T03:40:54.112706Z",
     "start_time": "2020-07-14T03:38:26.795716Z"
    }
   },
   "outputs": [
    {
     "name": "stdout",
     "output_type": "stream",
     "text": [
      "姜思序堂.csv\n"
     ]
    },
    {
     "name": "stderr",
     "output_type": "stream",
     "text": [
      "C:\\anaconda\\lib\\site-packages\\ipykernel_launcher.py:43: SettingWithCopyWarning: \n",
      "A value is trying to be set on a copy of a slice from a DataFrame\n",
      "\n",
      "See the caveats in the documentation: https://pandas.pydata.org/pandas-docs/stable/user_guide/indexing.html#returning-a-view-versus-a-copy\n",
      "C:\\anaconda\\lib\\site-packages\\ipykernel_launcher.py:69: SettingWithCopyWarning: \n",
      "A value is trying to be set on a copy of a slice from a DataFrame\n",
      "\n",
      "See the caveats in the documentation: https://pandas.pydata.org/pandas-docs/stable/user_guide/indexing.html#returning-a-view-versus-a-copy\n",
      "C:\\anaconda\\lib\\site-packages\\ipykernel_launcher.py:65: SettingWithCopyWarning: \n",
      "A value is trying to be set on a copy of a slice from a DataFrame\n",
      "\n",
      "See the caveats in the documentation: https://pandas.pydata.org/pandas-docs/stable/user_guide/indexing.html#returning-a-view-versus-a-copy\n",
      "C:\\anaconda\\lib\\site-packages\\pandas\\core\\indexing.py:670: SettingWithCopyWarning: \n",
      "A value is trying to be set on a copy of a slice from a DataFrame\n",
      "\n",
      "See the caveats in the documentation: https://pandas.pydata.org/pandas-docs/stable/user_guide/indexing.html#returning-a-view-versus-a-copy\n",
      "  self._setitem_with_indexer(indexer, value)\n",
      "C:\\anaconda\\lib\\site-packages\\ipykernel_launcher.py:51: SettingWithCopyWarning: \n",
      "A value is trying to be set on a copy of a slice from a DataFrame\n",
      "\n",
      "See the caveats in the documentation: https://pandas.pydata.org/pandas-docs/stable/user_guide/indexing.html#returning-a-view-versus-a-copy\n",
      "C:\\anaconda\\lib\\site-packages\\ipykernel_launcher.py:63: SettingWithCopyWarning: \n",
      "A value is trying to be set on a copy of a slice from a DataFrame\n",
      "\n",
      "See the caveats in the documentation: https://pandas.pydata.org/pandas-docs/stable/user_guide/indexing.html#returning-a-view-versus-a-copy\n"
     ]
    },
    {
     "name": "stdout",
     "output_type": "stream",
     "text": [
      "小雨星.csv\n"
     ]
    },
    {
     "name": "stderr",
     "output_type": "stream",
     "text": [
      "C:\\anaconda\\lib\\site-packages\\ipykernel_launcher.py:47: SettingWithCopyWarning: \n",
      "A value is trying to be set on a copy of a slice from a DataFrame\n",
      "\n",
      "See the caveats in the documentation: https://pandas.pydata.org/pandas-docs/stable/user_guide/indexing.html#returning-a-view-versus-a-copy\n"
     ]
    },
    {
     "name": "stdout",
     "output_type": "stream",
     "text": [
      "御宝阁.csv\n"
     ]
    },
    {
     "name": "stderr",
     "output_type": "stream",
     "text": [
      "C:\\anaconda\\lib\\site-packages\\ipykernel_launcher.py:67: SettingWithCopyWarning: \n",
      "A value is trying to be set on a copy of a slice from a DataFrame\n",
      "\n",
      "See the caveats in the documentation: https://pandas.pydata.org/pandas-docs/stable/user_guide/indexing.html#returning-a-view-versus-a-copy\n",
      "C:\\anaconda\\lib\\site-packages\\ipykernel_launcher.py:55: SettingWithCopyWarning: \n",
      "A value is trying to be set on a copy of a slice from a DataFrame\n",
      "\n",
      "See the caveats in the documentation: https://pandas.pydata.org/pandas-docs/stable/user_guide/indexing.html#returning-a-view-versus-a-copy\n",
      "C:\\anaconda\\lib\\site-packages\\ipykernel_launcher.py:49: SettingWithCopyWarning: \n",
      "A value is trying to be set on a copy of a slice from a DataFrame\n",
      "\n",
      "See the caveats in the documentation: https://pandas.pydata.org/pandas-docs/stable/user_guide/indexing.html#returning-a-view-versus-a-copy\n",
      "C:\\anaconda\\lib\\site-packages\\ipykernel_launcher.py:61: SettingWithCopyWarning: \n",
      "A value is trying to be set on a copy of a slice from a DataFrame\n",
      "\n",
      "See the caveats in the documentation: https://pandas.pydata.org/pandas-docs/stable/user_guide/indexing.html#returning-a-view-versus-a-copy\n",
      "C:\\anaconda\\lib\\site-packages\\ipykernel_launcher.py:57: SettingWithCopyWarning: \n",
      "A value is trying to be set on a copy of a slice from a DataFrame\n",
      "\n",
      "See the caveats in the documentation: https://pandas.pydata.org/pandas-docs/stable/user_guide/indexing.html#returning-a-view-versus-a-copy\n"
     ]
    },
    {
     "name": "stdout",
     "output_type": "stream",
     "text": [
      "曹一阁.csv\n",
      "欧伦书法.csv\n"
     ]
    },
    {
     "name": "stderr",
     "output_type": "stream",
     "text": [
      "C:\\anaconda\\lib\\site-packages\\ipykernel_launcher.py:53: SettingWithCopyWarning: \n",
      "A value is trying to be set on a copy of a slice from a DataFrame\n",
      "\n",
      "See the caveats in the documentation: https://pandas.pydata.org/pandas-docs/stable/user_guide/indexing.html#returning-a-view-versus-a-copy\n"
     ]
    },
    {
     "name": "stdout",
     "output_type": "stream",
     "text": [
      "游居敬亭轩.csv\n",
      "玉水湖.csv\n"
     ]
    },
    {
     "name": "stderr",
     "output_type": "stream",
     "text": [
      "C:\\anaconda\\lib\\site-packages\\ipykernel_launcher.py:59: SettingWithCopyWarning: \n",
      "A value is trying to be set on a copy of a slice from a DataFrame\n",
      "\n",
      "See the caveats in the documentation: https://pandas.pydata.org/pandas-docs/stable/user_guide/indexing.html#returning-a-view-versus-a-copy\n"
     ]
    },
    {
     "name": "stdout",
     "output_type": "stream",
     "text": [
      "皖香办公旗舰店.csv\n",
      "盖特威.csv\n",
      "科星文具旗舰店.csv\n",
      "西泠印社.csv\n",
      "金枝叶办公用品旗舰店.csv\n",
      "雅轩斋旗舰店.csv\n",
      "马利.csv\n"
     ]
    }
   ],
   "source": [
    "names = ['姜思序堂.csv', '小雨星.csv', '御宝阁.csv', '曹一阁.csv', '欧伦书法.csv', '游居敬亭轩.csv', '玉水湖.csv', '皖香办公旗舰店.csv', '盖特威.csv', '科星文具旗舰店.csv', '西泠印社.csv', '金枝叶办公用品旗舰店.csv', '雅轩斋旗舰店.csv', '马利.csv']\n",
    "for i in names:\n",
    "    # 报错定位\n",
    "    print(i)\n",
    "    path = \"数据\"+\"/\"+str(i)\n",
    "    data_clear(path) "
   ]
  },
  {
   "cell_type": "code",
   "execution_count": 159,
   "metadata": {
    "ExecuteTime": {
     "end_time": "2020-07-14T03:31:48.908211Z",
     "start_time": "2020-07-14T03:31:48.891259Z"
    }
   },
   "outputs": [],
   "source": [
    "data = pd.read_csv(\"数据/西泠印社.csv\",encoding=\"utf8\",header=None, delimiter=',')"
   ]
  },
  {
   "cell_type": "code",
   "execution_count": 162,
   "metadata": {
    "ExecuteTime": {
     "end_time": "2020-07-14T03:32:21.681563Z",
     "start_time": "2020-07-14T03:32:21.675580Z"
    }
   },
   "outputs": [],
   "source": [
    "data = data.dropna()"
   ]
  },
  {
   "cell_type": "code",
   "execution_count": 177,
   "metadata": {
    "ExecuteTime": {
     "end_time": "2020-07-14T03:37:46.655547Z",
     "start_time": "2020-07-14T03:37:46.649524Z"
    }
   },
   "outputs": [],
   "source": [
    "data.index = data.reset_index().index"
   ]
  },
  {
   "cell_type": "code",
   "execution_count": 178,
   "metadata": {
    "ExecuteTime": {
     "end_time": "2020-07-14T03:37:47.498418Z",
     "start_time": "2020-07-14T03:37:47.490440Z"
    }
   },
   "outputs": [
    {
     "data": {
      "text/html": [
       "<div>\n",
       "<style scoped>\n",
       "    .dataframe tbody tr th:only-of-type {\n",
       "        vertical-align: middle;\n",
       "    }\n",
       "\n",
       "    .dataframe tbody tr th {\n",
       "        vertical-align: top;\n",
       "    }\n",
       "\n",
       "    .dataframe thead th {\n",
       "        text-align: right;\n",
       "    }\n",
       "</style>\n",
       "<table border=\"1\" class=\"dataframe\">\n",
       "  <thead>\n",
       "    <tr style=\"text-align: right;\">\n",
       "      <th></th>\n",
       "      <th>0</th>\n",
       "      <th>1</th>\n",
       "      <th>2</th>\n",
       "      <th>3</th>\n",
       "    </tr>\n",
       "  </thead>\n",
       "  <tbody>\n",
       "    <tr>\n",
       "      <th>1223</th>\n",
       "      <td>正版胡三元教写字 铅笔字（5）部首上（二年级上册适用）小学语文2年级上册硬笔书写铅笔描红笔画...</td>\n",
       "      <td>9.20元</td>\n",
       "      <td>5人付款</td>\n",
       "      <td>保淑图书专营店</td>\n",
       "    </tr>\n",
       "    <tr>\n",
       "      <th>1224</th>\n",
       "      <td>2019秋 许晓俊汉字快写系列 新小学语文同步字帖 五年级/5年级 上册 人教版 中国书法 ...</td>\n",
       "      <td>15.30元</td>\n",
       "      <td>9人付款</td>\n",
       "      <td>广影图书专营店</td>\n",
       "    </tr>\n",
       "    <tr>\n",
       "      <th>1225</th>\n",
       "      <td>4胡三元教写字/铅笔字结构一二年级衔接适用 12年级衔接适用 西泠印社 小学铅笔字汉字铅笔书...</td>\n",
       "      <td>5.60元</td>\n",
       "      <td>11人付款</td>\n",
       "      <td>济民图书专营店</td>\n",
       "    </tr>\n",
       "    <tr>\n",
       "      <th>1226</th>\n",
       "      <td>新版许晓俊汉字快写系列 新小学语文同步字帖三年级上册小学3年级上语文铅笔钢笔硬笔练字字帖临摹...</td>\n",
       "      <td>15.30元</td>\n",
       "      <td>7人付款</td>\n",
       "      <td>广影图书专营店</td>\n",
       "    </tr>\n",
       "    <tr>\n",
       "      <th>1227</th>\n",
       "      <td>Q-【西泠印社】张兆祥《百花诗笺谱（一函两册）》</td>\n",
       "      <td>1500.00元</td>\n",
       "      <td>0人付款</td>\n",
       "      <td>陈小姐姐的铺子123</td>\n",
       "    </tr>\n",
       "  </tbody>\n",
       "</table>\n",
       "</div>"
      ],
      "text/plain": [
       "                                                      0         1      2  \\\n",
       "1223  正版胡三元教写字 铅笔字（5）部首上（二年级上册适用）小学语文2年级上册硬笔书写铅笔描红笔画...     9.20元   5人付款   \n",
       "1224  2019秋 许晓俊汉字快写系列 新小学语文同步字帖 五年级/5年级 上册 人教版 中国书法 ...    15.30元   9人付款   \n",
       "1225  4胡三元教写字/铅笔字结构一二年级衔接适用 12年级衔接适用 西泠印社 小学铅笔字汉字铅笔书...     5.60元  11人付款   \n",
       "1226  新版许晓俊汉字快写系列 新小学语文同步字帖三年级上册小学3年级上语文铅笔钢笔硬笔练字字帖临摹...    15.30元   7人付款   \n",
       "1227                           Q-【西泠印社】张兆祥《百花诗笺谱（一函两册）》  1500.00元   0人付款   \n",
       "\n",
       "               3  \n",
       "1223     保淑图书专营店  \n",
       "1224     广影图书专营店  \n",
       "1225     济民图书专营店  \n",
       "1226     广影图书专营店  \n",
       "1227  陈小姐姐的铺子123  "
      ]
     },
     "execution_count": 178,
     "metadata": {},
     "output_type": "execute_result"
    }
   ],
   "source": [
    "data.tail()"
   ]
  },
  {
   "cell_type": "code",
   "execution_count": 105,
   "metadata": {
    "ExecuteTime": {
     "end_time": "2020-07-14T02:26:18.897995Z",
     "start_time": "2020-07-14T02:26:18.894006Z"
    }
   },
   "outputs": [],
   "source": [
    "import time"
   ]
  },
  {
   "cell_type": "code",
   "execution_count": 107,
   "metadata": {
    "ExecuteTime": {
     "end_time": "2020-07-14T02:26:27.043681Z",
     "start_time": "2020-07-14T02:26:27.039660Z"
    }
   },
   "outputs": [
    {
     "data": {
      "text/plain": [
       "1594693587.0406578"
      ]
     },
     "execution_count": 107,
     "metadata": {},
     "output_type": "execute_result"
    }
   ],
   "source": [
    "time.time()"
   ]
  },
  {
   "cell_type": "code",
   "execution_count": 108,
   "metadata": {
    "ExecuteTime": {
     "end_time": "2020-07-14T02:28:04.630633Z",
     "start_time": "2020-07-14T02:28:04.622697Z"
    }
   },
   "outputs": [
    {
     "data": {
      "text/plain": [
       "'2020-07-14'"
      ]
     },
     "execution_count": 108,
     "metadata": {},
     "output_type": "execute_result"
    }
   ],
   "source": [
    "time.strftime(\"%Y-%m-%d\", time.localtime()) "
   ]
  },
  {
   "cell_type": "code",
   "execution_count": 183,
   "metadata": {
    "ExecuteTime": {
     "end_time": "2020-07-14T05:50:11.330881Z",
     "start_time": "2020-07-14T05:50:11.322902Z"
    }
   },
   "outputs": [],
   "source": [
    "df = pd.read_csv(\"六品堂.csv\",header=None)"
   ]
  },
  {
   "cell_type": "code",
   "execution_count": 184,
   "metadata": {
    "ExecuteTime": {
     "end_time": "2020-07-14T05:50:12.052709Z",
     "start_time": "2020-07-14T05:50:12.032729Z"
    },
    "scrolled": true
   },
   "outputs": [
    {
     "data": {
      "text/html": [
       "<div>\n",
       "<style scoped>\n",
       "    .dataframe tbody tr th:only-of-type {\n",
       "        vertical-align: middle;\n",
       "    }\n",
       "\n",
       "    .dataframe tbody tr th {\n",
       "        vertical-align: top;\n",
       "    }\n",
       "\n",
       "    .dataframe thead th {\n",
       "        text-align: right;\n",
       "    }\n",
       "</style>\n",
       "<table border=\"1\" class=\"dataframe\">\n",
       "  <thead>\n",
       "    <tr style=\"text-align: right;\">\n",
       "      <th></th>\n",
       "      <th>0</th>\n",
       "      <th>1</th>\n",
       "      <th>2</th>\n",
       "      <th>3</th>\n",
       "    </tr>\n",
       "  </thead>\n",
       "  <tbody>\n",
       "    <tr>\n",
       "      <th>0</th>\n",
       "      <td>六品堂凹槽练字帖成人行书速成行楷书钢笔字帖硬笔男女生反复21天神器成年本正楷字体临摹初学漂亮...</td>\n",
       "      <td>16.9</td>\n",
       "      <td>10万+人付款</td>\n",
       "      <td>六品堂旗舰店</td>\n",
       "    </tr>\n",
       "    <tr>\n",
       "      <th>1</th>\n",
       "      <td>六品堂幼儿园练字本初学者3-8岁控笔训练小学生字帖一年级中班儿童数字启蒙学前班写字贴凹槽练习...</td>\n",
       "      <td>19.6</td>\n",
       "      <td>1.5万+人付款</td>\n",
       "      <td>六品堂博宝专卖店</td>\n",
       "    </tr>\n",
       "    <tr>\n",
       "      <th>2</th>\n",
       "      <td>2020新版六品堂一二三四五六年级上下册语文人教版同步字帖小学生123456年级拼音楷书铅笔...</td>\n",
       "      <td>13.8</td>\n",
       "      <td>187人付款</td>\n",
       "      <td>松之盛办公专营店</td>\n",
       "    </tr>\n",
       "    <tr>\n",
       "      <th>3</th>\n",
       "      <td>六品堂田字格钢笔练字本米字格方格纸硬笔书法作品专用纸成人儿童小学生练字纸书法纸书写纸练习纸用...</td>\n",
       "      <td>11.9</td>\n",
       "      <td>3.0万+人付款</td>\n",
       "      <td>六品堂旗舰店</td>\n",
       "    </tr>\n",
       "    <tr>\n",
       "      <th>4</th>\n",
       "      <td>六品堂控笔训练初学者字帖练字楷书入门套装基础硬笔书法练习写字本正楷初级儿童成年小学生一年级二...</td>\n",
       "      <td>13.8</td>\n",
       "      <td>1.0万+人付款</td>\n",
       "      <td>六品堂博宝专卖店</td>\n",
       "    </tr>\n",
       "    <tr>\n",
       "      <th>5</th>\n",
       "      <td>六品堂基础笔画偏旁控笔训练中小学生儿童控笔技法速成练字神器楷书初学者入门专用硬笔书法钢笔临摹练字帖</td>\n",
       "      <td>15.8</td>\n",
       "      <td>15人付款</td>\n",
       "      <td>松之盛办公专营店</td>\n",
       "    </tr>\n",
       "    <tr>\n",
       "      <th>6</th>\n",
       "      <td>六品堂描红本一年级 二三年级上册下册 小学生练字帖每日一练汉字课本语文同步描红人教版书法练字...</td>\n",
       "      <td>12.8</td>\n",
       "      <td>1681人付款</td>\n",
       "      <td>惜龄文具专营店</td>\n",
       "    </tr>\n",
       "    <tr>\n",
       "      <th>7</th>\n",
       "      <td>六品堂描红本一年级二年级三四五六年级小学生用楷书练字帖人教版语文课本上下册同步每日一练硬笔书...</td>\n",
       "      <td>15.8</td>\n",
       "      <td>1387人付款</td>\n",
       "      <td>品诺办公用品专营店</td>\n",
       "    </tr>\n",
       "    <tr>\n",
       "      <th>8</th>\n",
       "      <td>六品堂衡水体英文字帖初中生高中生凹槽练字帖衡水中学衡中体中文七年级上下册手写男女衡水体英语字...</td>\n",
       "      <td>19.9</td>\n",
       "      <td>425人付款</td>\n",
       "      <td>六品堂马走日专卖店</td>\n",
       "    </tr>\n",
       "    <tr>\n",
       "      <th>9</th>\n",
       "      <td>六品堂字帖女生字体漂亮簪花小楷卫夫人清秀钢笔练字本大学生成人行楷清新硬笔书法古风楷书临摹练字帖成年</td>\n",
       "      <td>19.8</td>\n",
       "      <td>283人付款</td>\n",
       "      <td>六品堂卓普专卖店</td>\n",
       "    </tr>\n",
       "    <tr>\n",
       "      <th>10</th>\n",
       "      <td>六品堂 衡水体英文字帖 小学生英语字帖 三六年级上下册四年级人教版英语同步临摹描红本钢笔铅笔...</td>\n",
       "      <td>12.8</td>\n",
       "      <td>265人付款</td>\n",
       "      <td>惜龄文具专营店</td>\n",
       "    </tr>\n",
       "    <tr>\n",
       "      <th>11</th>\n",
       "      <td>六品堂七八年级语文上下册同步2020人教版衡水体中文初一初二78年级初中钢笔古诗词写字课课初...</td>\n",
       "      <td>13.8</td>\n",
       "      <td>215人付款</td>\n",
       "      <td>菁英文具专营店</td>\n",
       "    </tr>\n",
       "    <tr>\n",
       "      <th>12</th>\n",
       "      <td>控笔训练字帖小学生儿童幼儿园初级笔画控笔训练纸初学者练字楷书学前班大学生一二年级临摹21天练字帖</td>\n",
       "      <td>9.9</td>\n",
       "      <td>562人付款</td>\n",
       "      <td>识栈办公专营店</td>\n",
       "    </tr>\n",
       "    <tr>\n",
       "      <th>13</th>\n",
       "      <td>六品堂 凹槽衡水体初中高中古诗词字帖 楷书中学生高中生钢笔练字本 衡中考试体唐诗宋词诗经论语...</td>\n",
       "      <td>23.8</td>\n",
       "      <td>46人付款</td>\n",
       "      <td>宣美艺文具专营店</td>\n",
       "    </tr>\n",
       "    <tr>\n",
       "      <th>14</th>\n",
       "      <td>六品堂衡水中学英语字帖凹槽练字帖印刷手写体高中生高考衡水体英文小学生2020考研高分写作七八...</td>\n",
       "      <td>15.8</td>\n",
       "      <td>343人付款</td>\n",
       "      <td>六品堂卓普专卖店</td>\n",
       "    </tr>\n",
       "    <tr>\n",
       "      <th>15</th>\n",
       "      <td>六品堂衡水体字帖七年级上下册英语字帖同步2019人教版英文衡水中学初中凹槽练字帖7年级初一中...</td>\n",
       "      <td>29.8</td>\n",
       "      <td>150人付款</td>\n",
       "      <td>六品堂马走日专卖店</td>\n",
       "    </tr>\n",
       "    <tr>\n",
       "      <th>16</th>\n",
       "      <td>六品堂仓央嘉措诗集字帖纳兰性德钢笔练字帖成人楷书簪花小楷凹槽练字帖梅花小楷练字帖</td>\n",
       "      <td>29.0</td>\n",
       "      <td>66人付款</td>\n",
       "      <td>六品办公专营店</td>\n",
       "    </tr>\n",
       "    <tr>\n",
       "      <th>17</th>\n",
       "      <td>六品堂一二三年级小学生人教版语文课本同步生字视频版练字帖加厚纸张铅笔可擦硬笔描红字帖儿童初学...</td>\n",
       "      <td>13.8</td>\n",
       "      <td>47人付款</td>\n",
       "      <td>宣美艺文具专营店</td>\n",
       "    </tr>\n",
       "    <tr>\n",
       "      <th>18</th>\n",
       "      <td>八九七年级下册上册人教pep同步六品堂圆凹字槽练字帖凹槽反复使用衡中体英文衡水字体英语字帖衡...</td>\n",
       "      <td>29.9</td>\n",
       "      <td>20人付款</td>\n",
       "      <td>赏书大人办公专营店</td>\n",
       "    </tr>\n",
       "    <tr>\n",
       "      <th>19</th>\n",
       "      <td>六品堂儿童毛笔套装初学练字水写布毛笔控笔训练入门字帖练字纸水写布书法速干加厚楷书临摹三四年级...</td>\n",
       "      <td>13.8</td>\n",
       "      <td>87人付款</td>\n",
       "      <td>识栈办公专营店</td>\n",
       "    </tr>\n",
       "    <tr>\n",
       "      <th>20</th>\n",
       "      <td>六品堂字帖成人行楷速成女生国学临摹男大学生硬笔行书练字帖钢笔小清新本板字体临摹初学者古风小学生书法</td>\n",
       "      <td>36.9</td>\n",
       "      <td>17人付款</td>\n",
       "      <td>益升洪办公用品专营店</td>\n",
       "    </tr>\n",
       "    <tr>\n",
       "      <th>21</th>\n",
       "      <td>六品堂一年级练字帖儿童下册看拼音写词语练习字帖作业本同步语文课本生字描红本硬笔临摹笔顺上册幼...</td>\n",
       "      <td>15.8</td>\n",
       "      <td>3人付款</td>\n",
       "      <td>肯特赛勒文具专营店</td>\n",
       "    </tr>\n",
       "    <tr>\n",
       "      <th>22</th>\n",
       "      <td>六品堂小学语文人教版同步字帖描红本一年级上册下册二年级上下册三年级四年级五六年级上下册七年级...</td>\n",
       "      <td>12.8</td>\n",
       "      <td>149人付款</td>\n",
       "      <td>新亦文办公专营店</td>\n",
       "    </tr>\n",
       "    <tr>\n",
       "      <th>23</th>\n",
       "      <td>六品堂成人楷书练字帖国学经典女生簪花小楷字帖反复使用钢笔练字临摹字帖描红书法练字本带复印纸字帖速成</td>\n",
       "      <td>37.9</td>\n",
       "      <td>9人付款</td>\n",
       "      <td>慕春办公专营店</td>\n",
       "    </tr>\n",
       "    <tr>\n",
       "      <th>24</th>\n",
       "      <td>六品堂幼儿控笔训练教具幼儿园儿童精细动作玩具专注力训练卡运笔练习神器练字帖幼儿园儿童线条划线...</td>\n",
       "      <td>29.9</td>\n",
       "      <td>7人付款</td>\n",
       "      <td>慕春办公专营店</td>\n",
       "    </tr>\n",
       "    <tr>\n",
       "      <th>25</th>\n",
       "      <td>六品堂儿童凹槽练字帖数字拼音描红本3-8岁学前班幼儿园大中小班启蒙初学者绘画写字本基础笔顺笔...</td>\n",
       "      <td>19.9</td>\n",
       "      <td>28人付款</td>\n",
       "      <td>六品堂亿希专卖店</td>\n",
       "    </tr>\n",
       "    <tr>\n",
       "      <th>26</th>\n",
       "      <td>六品堂练字帖成年12本行书正楷成人速成钢笔字帖硬笔男女生练字神器反复使用字体临摹初学者清新大...</td>\n",
       "      <td>29.8</td>\n",
       "      <td>43人付款</td>\n",
       "      <td>富宇仙通办公专营店</td>\n",
       "    </tr>\n",
       "    <tr>\n",
       "      <th>27</th>\n",
       "      <td>六品堂瘦金体钢笔字帖硬笔宋徽宗练字女生字体漂亮大学生成人手写</td>\n",
       "      <td>19.9</td>\n",
       "      <td>18人付款</td>\n",
       "      <td>liliujun</td>\n",
       "    </tr>\n",
       "    <tr>\n",
       "      <th>28</th>\n",
       "      <td>六品堂字帖男生霸气凹槽练字帖成人行书行楷书速成板钢笔字帖硬笔本男女生临摹字帖男生霸气</td>\n",
       "      <td>29.9</td>\n",
       "      <td>26人付款</td>\n",
       "      <td>六品办公专营店</td>\n",
       "    </tr>\n",
       "    <tr>\n",
       "      <th>29</th>\n",
       "      <td>六品堂宣纸米字格半生半熟书法专用纸毛笔字书法纸练习初学者批发</td>\n",
       "      <td>19.8</td>\n",
       "      <td>29人付款</td>\n",
       "      <td>平阳188</td>\n",
       "    </tr>\n",
       "  </tbody>\n",
       "</table>\n",
       "</div>"
      ],
      "text/plain": [
       "                                                    0     1         2  \\\n",
       "0   六品堂凹槽练字帖成人行书速成行楷书钢笔字帖硬笔男女生反复21天神器成年本正楷字体临摹初学漂亮...  16.9   10万+人付款   \n",
       "1   六品堂幼儿园练字本初学者3-8岁控笔训练小学生字帖一年级中班儿童数字启蒙学前班写字贴凹槽练习...  19.6  1.5万+人付款   \n",
       "2   2020新版六品堂一二三四五六年级上下册语文人教版同步字帖小学生123456年级拼音楷书铅笔...  13.8    187人付款   \n",
       "3   六品堂田字格钢笔练字本米字格方格纸硬笔书法作品专用纸成人儿童小学生练字纸书法纸书写纸练习纸用...  11.9  3.0万+人付款   \n",
       "4   六品堂控笔训练初学者字帖练字楷书入门套装基础硬笔书法练习写字本正楷初级儿童成年小学生一年级二...  13.8  1.0万+人付款   \n",
       "5   六品堂基础笔画偏旁控笔训练中小学生儿童控笔技法速成练字神器楷书初学者入门专用硬笔书法钢笔临摹练字帖  15.8     15人付款   \n",
       "6   六品堂描红本一年级 二三年级上册下册 小学生练字帖每日一练汉字课本语文同步描红人教版书法练字...  12.8   1681人付款   \n",
       "7   六品堂描红本一年级二年级三四五六年级小学生用楷书练字帖人教版语文课本上下册同步每日一练硬笔书...  15.8   1387人付款   \n",
       "8   六品堂衡水体英文字帖初中生高中生凹槽练字帖衡水中学衡中体中文七年级上下册手写男女衡水体英语字...  19.9    425人付款   \n",
       "9   六品堂字帖女生字体漂亮簪花小楷卫夫人清秀钢笔练字本大学生成人行楷清新硬笔书法古风楷书临摹练字帖成年  19.8    283人付款   \n",
       "10  六品堂 衡水体英文字帖 小学生英语字帖 三六年级上下册四年级人教版英语同步临摹描红本钢笔铅笔...  12.8    265人付款   \n",
       "11  六品堂七八年级语文上下册同步2020人教版衡水体中文初一初二78年级初中钢笔古诗词写字课课初...  13.8    215人付款   \n",
       "12   控笔训练字帖小学生儿童幼儿园初级笔画控笔训练纸初学者练字楷书学前班大学生一二年级临摹21天练字帖   9.9    562人付款   \n",
       "13  六品堂 凹槽衡水体初中高中古诗词字帖 楷书中学生高中生钢笔练字本 衡中考试体唐诗宋词诗经论语...  23.8     46人付款   \n",
       "14  六品堂衡水中学英语字帖凹槽练字帖印刷手写体高中生高考衡水体英文小学生2020考研高分写作七八...  15.8    343人付款   \n",
       "15  六品堂衡水体字帖七年级上下册英语字帖同步2019人教版英文衡水中学初中凹槽练字帖7年级初一中...  29.8    150人付款   \n",
       "16           六品堂仓央嘉措诗集字帖纳兰性德钢笔练字帖成人楷书簪花小楷凹槽练字帖梅花小楷练字帖  29.0     66人付款   \n",
       "17  六品堂一二三年级小学生人教版语文课本同步生字视频版练字帖加厚纸张铅笔可擦硬笔描红字帖儿童初学...  13.8     47人付款   \n",
       "18  八九七年级下册上册人教pep同步六品堂圆凹字槽练字帖凹槽反复使用衡中体英文衡水字体英语字帖衡...  29.9     20人付款   \n",
       "19  六品堂儿童毛笔套装初学练字水写布毛笔控笔训练入门字帖练字纸水写布书法速干加厚楷书临摹三四年级...  13.8     87人付款   \n",
       "20  六品堂字帖成人行楷速成女生国学临摹男大学生硬笔行书练字帖钢笔小清新本板字体临摹初学者古风小学生书法  36.9     17人付款   \n",
       "21  六品堂一年级练字帖儿童下册看拼音写词语练习字帖作业本同步语文课本生字描红本硬笔临摹笔顺上册幼...  15.8      3人付款   \n",
       "22  六品堂小学语文人教版同步字帖描红本一年级上册下册二年级上下册三年级四年级五六年级上下册七年级...  12.8    149人付款   \n",
       "23  六品堂成人楷书练字帖国学经典女生簪花小楷字帖反复使用钢笔练字临摹字帖描红书法练字本带复印纸字帖速成  37.9      9人付款   \n",
       "24  六品堂幼儿控笔训练教具幼儿园儿童精细动作玩具专注力训练卡运笔练习神器练字帖幼儿园儿童线条划线...  29.9      7人付款   \n",
       "25  六品堂儿童凹槽练字帖数字拼音描红本3-8岁学前班幼儿园大中小班启蒙初学者绘画写字本基础笔顺笔...  19.9     28人付款   \n",
       "26  六品堂练字帖成年12本行书正楷成人速成钢笔字帖硬笔男女生练字神器反复使用字体临摹初学者清新大...  29.8     43人付款   \n",
       "27                     六品堂瘦金体钢笔字帖硬笔宋徽宗练字女生字体漂亮大学生成人手写  19.9     18人付款   \n",
       "28         六品堂字帖男生霸气凹槽练字帖成人行书行楷书速成板钢笔字帖硬笔本男女生临摹字帖男生霸气  29.9     26人付款   \n",
       "29                     六品堂宣纸米字格半生半熟书法专用纸毛笔字书法纸练习初学者批发  19.8     29人付款   \n",
       "\n",
       "             3  \n",
       "0       六品堂旗舰店  \n",
       "1     六品堂博宝专卖店  \n",
       "2     松之盛办公专营店  \n",
       "3       六品堂旗舰店  \n",
       "4     六品堂博宝专卖店  \n",
       "5     松之盛办公专营店  \n",
       "6      惜龄文具专营店  \n",
       "7    品诺办公用品专营店  \n",
       "8    六品堂马走日专卖店  \n",
       "9     六品堂卓普专卖店  \n",
       "10     惜龄文具专营店  \n",
       "11     菁英文具专营店  \n",
       "12     识栈办公专营店  \n",
       "13    宣美艺文具专营店  \n",
       "14    六品堂卓普专卖店  \n",
       "15   六品堂马走日专卖店  \n",
       "16     六品办公专营店  \n",
       "17    宣美艺文具专营店  \n",
       "18   赏书大人办公专营店  \n",
       "19     识栈办公专营店  \n",
       "20  益升洪办公用品专营店  \n",
       "21   肯特赛勒文具专营店  \n",
       "22    新亦文办公专营店  \n",
       "23     慕春办公专营店  \n",
       "24     慕春办公专营店  \n",
       "25    六品堂亿希专卖店  \n",
       "26   富宇仙通办公专营店  \n",
       "27    liliujun  \n",
       "28     六品办公专营店  \n",
       "29       平阳188  "
      ]
     },
     "execution_count": 184,
     "metadata": {},
     "output_type": "execute_result"
    }
   ],
   "source": [
    "df"
   ]
  },
  {
   "cell_type": "markdown",
   "metadata": {},
   "source": [
    "# 数据合并"
   ]
  },
  {
   "cell_type": "code",
   "execution_count": 275,
   "metadata": {
    "ExecuteTime": {
     "end_time": "2020-07-15T06:30:14.052014Z",
     "start_time": "2020-07-15T06:30:13.874453Z"
    }
   },
   "outputs": [],
   "source": [
    "import os \n",
    "names = os.listdir(\"clear\")\n",
    "df={}\n",
    "# 读入数据并存储\n",
    "for name in names:\n",
    "    df[name]=pd.read_csv(\"clear/{}\".format(name))\n",
    "dp=[] \n",
    "dfs=pd.DataFrame(dp)\n",
    "# 将多个dataframe合并\n",
    "for name in names:\n",
    "    dfs=dfs.append(df[name])"
   ]
  },
  {
   "cell_type": "code",
   "execution_count": 277,
   "metadata": {
    "ExecuteTime": {
     "end_time": "2020-07-15T06:30:20.933065Z",
     "start_time": "2020-07-15T06:30:20.749515Z"
    }
   },
   "outputs": [],
   "source": [
    "dfs.to_csv(\"class.csv\",encoding=\"utf-8-sig\",index=None)"
   ]
  },
  {
   "cell_type": "code",
   "execution_count": 272,
   "metadata": {
    "ExecuteTime": {
     "end_time": "2020-07-15T06:26:21.321651Z",
     "start_time": "2020-07-15T06:26:21.297683Z"
    }
   },
   "outputs": [],
   "source": [
    "import os \n",
    "import pandas as pd\n",
    "import numpy as np\n",
    "def class_clear(path):\n",
    "    data = pd.read_csv(path,encoding=\"utf8\",header=None, delimiter=',')\n",
    "    try:\n",
    "        data = data.dropna()\n",
    "        data.index = data.reset_index().index\n",
    "    except:\n",
    "        pass\n",
    "    columns=[\"产品名称\",\"单价(元)\",\"交易人数\",\"店铺名称\",\"店铺地址\",\"采集日期\"]\n",
    "    data.columns = columns\n",
    "    # 清洗单价\n",
    "    for i in range(len(data[\"单价(元)\"])):\n",
    "        try:\n",
    "            data[\"单价(元)\"][i]=data[\"单价(元)\"][i].split(\"元\")[0]\n",
    "        except:\n",
    "            pass\n",
    "    # 清洗交易人数    \n",
    "    for i in range(len(data[\"交易人数\"])):\n",
    "        try:\n",
    "            data[\"交易人数\"][i]=data[\"交易人数\"][i].split(\"人\")[0]\n",
    "        except:\n",
    "            pass\n",
    "        try:\n",
    "            data[\"交易人数\"][i]=data[\"交易人数\"][i].split(\"+\")[0]\n",
    "            if \"万\" in data[\"交易人数\"][i]:\n",
    "                data[\"交易人数\"][i]=data[\"交易人数\"][i].split(\"万\")[0]\n",
    "                data[\"交易人数\"][i]=float(data[\"交易人数\"][i])*10000\n",
    "            else:\n",
    "                pass\n",
    "        except:\n",
    "            pass\n",
    "    data[\"销售额\"]=0\n",
    "    na = path.split(\"/\")[-1]\n",
    "    na = na.split(\".\")[0]\n",
    "    data[\"品牌名\"]= 0\n",
    "    data[\"采集人员\"]=\"gz\"\n",
    "    data[\"产品类别\"]=na\n",
    "    data[\"店铺类别\"]=0\n",
    "    data[\"省\"]=0\n",
    "    data[\"市\"]=0\n",
    "    \n",
    "    # 计算销售额\n",
    "    for i in range(len(data)):\n",
    "        data[\"销售额\"][i]=float(data[\"单价(元)\"][i])*float(data[\"交易人数\"][i])\n",
    "        try:\n",
    "            data[\"省\"][i]=data[\"店铺地址\"][i].split(\" \")[0]\n",
    "            data[\"市\"][i]=data[\"店铺地址\"][i].split(\" \")[1]\n",
    "        except:\n",
    "            data[\"省\"][i]=data[\"店铺地址\"][i]\n",
    "            data[\"市\"][i]=data[\"店铺地址\"][i]\n",
    "            \n",
    "        if \"旗舰店\" in data[\"店铺名称\"][i]:\n",
    "            data[\"品牌名\"][i] = data[\"店铺名称\"][i].split(\"旗舰店\")[0]\n",
    "            data[\"店铺类别\"][i]= \"旗舰店\"\n",
    "        elif \"专卖店\" in data[\"店铺名称\"][i]:\n",
    "            data[\"品牌名\"][i] = data[\"店铺名称\"][i].split(\"专卖店\")[0]\n",
    "            data[\"店铺类别\"][i]= \"专卖店\"\n",
    "        elif \"专营店\" in data[\"店铺名称\"][i]:\n",
    "            data[\"品牌名\"][i] = data[\"店铺名称\"][i].split(\"专营店\")[0]\n",
    "            data[\"店铺类别\"][i]= \"专营店\"\n",
    "        elif \"工厂店\" in data[\"店铺名称\"][i]:\n",
    "            data[\"品牌名\"][i] = data[\"店铺名称\"][i]\n",
    "            data[\"店铺类别\"][i]= \"工厂店\"\n",
    "        elif \"文具店\" in data[\"店铺名称\"][i]:\n",
    "            data[\"品牌名\"][i] = data[\"店铺名称\"][i].split(\"文具店\")[0]\n",
    "            data[\"店铺类别\"][i]= \"文具店\"\n",
    "        elif \"河小象\" in data[\"店铺名称\"][i]:\n",
    "            data[\"品牌名\"][i] = \"河小象\"\n",
    "            data[\"店铺类别\"][i]= \"河小象\"\n",
    "        else:\n",
    "            data[\"品牌名\"][i]=\"其它\"\n",
    "            data[\"店铺类别\"][i]= \"其它\"\n",
    "        \n",
    "    data = data.drop_duplicates()\n",
    "    data = data[data[\"销售额\"]!=0]\n",
    "    data.to_csv(\"clear/clear_\"+na+\".csv\",encoding=\"utf-8-sig\",index=None)"
   ]
  },
  {
   "cell_type": "code",
   "execution_count": 273,
   "metadata": {
    "ExecuteTime": {
     "end_time": "2020-07-15T06:26:22.047218Z",
     "start_time": "2020-07-15T06:26:22.041193Z"
    }
   },
   "outputs": [],
   "source": [
    "def get_class_data(dirs):\n",
    "    names = os.listdir(dirs)\n",
    "    for i in names:\n",
    "        # 报错定位\n",
    "        print(i)\n",
    "        path = str(dirs)+\"/\"+str(i)\n",
    "        class_clear(path)  "
   ]
  },
  {
   "cell_type": "code",
   "execution_count": 274,
   "metadata": {
    "ExecuteTime": {
     "end_time": "2020-07-15T06:26:54.630852Z",
     "start_time": "2020-07-15T06:26:22.641315Z"
    }
   },
   "outputs": [
    {
     "name": "stdout",
     "output_type": "stream",
     "text": [
      "书法用纸.csv\n"
     ]
    },
    {
     "name": "stderr",
     "output_type": "stream",
     "text": [
      "C:\\anaconda\\lib\\site-packages\\ipykernel_launcher.py:26: SettingWithCopyWarning: \n",
      "A value is trying to be set on a copy of a slice from a DataFrame\n",
      "\n",
      "See the caveats in the documentation: https://pandas.pydata.org/pandas-docs/stable/user_guide/indexing.html#returning-a-view-versus-a-copy\n",
      "C:\\anaconda\\lib\\site-packages\\ipykernel_launcher.py:22: SettingWithCopyWarning: \n",
      "A value is trying to be set on a copy of a slice from a DataFrame\n",
      "\n",
      "See the caveats in the documentation: https://pandas.pydata.org/pandas-docs/stable/user_guide/indexing.html#returning-a-view-versus-a-copy\n",
      "C:\\anaconda\\lib\\site-packages\\ipykernel_launcher.py:28: SettingWithCopyWarning: \n",
      "A value is trying to be set on a copy of a slice from a DataFrame\n",
      "\n",
      "See the caveats in the documentation: https://pandas.pydata.org/pandas-docs/stable/user_guide/indexing.html#returning-a-view-versus-a-copy\n",
      "C:\\anaconda\\lib\\site-packages\\ipykernel_launcher.py:29: SettingWithCopyWarning: \n",
      "A value is trying to be set on a copy of a slice from a DataFrame\n",
      "\n",
      "See the caveats in the documentation: https://pandas.pydata.org/pandas-docs/stable/user_guide/indexing.html#returning-a-view-versus-a-copy\n",
      "C:\\anaconda\\lib\\site-packages\\ipykernel_launcher.py:46: SettingWithCopyWarning: \n",
      "A value is trying to be set on a copy of a slice from a DataFrame\n",
      "\n",
      "See the caveats in the documentation: https://pandas.pydata.org/pandas-docs/stable/user_guide/indexing.html#returning-a-view-versus-a-copy\n",
      "C:\\anaconda\\lib\\site-packages\\ipykernel_launcher.py:48: SettingWithCopyWarning: \n",
      "A value is trying to be set on a copy of a slice from a DataFrame\n",
      "\n",
      "See the caveats in the documentation: https://pandas.pydata.org/pandas-docs/stable/user_guide/indexing.html#returning-a-view-versus-a-copy\n",
      "C:\\anaconda\\lib\\site-packages\\ipykernel_launcher.py:49: SettingWithCopyWarning: \n",
      "A value is trying to be set on a copy of a slice from a DataFrame\n",
      "\n",
      "See the caveats in the documentation: https://pandas.pydata.org/pandas-docs/stable/user_guide/indexing.html#returning-a-view-versus-a-copy\n",
      "C:\\anaconda\\lib\\site-packages\\ipykernel_launcher.py:64: SettingWithCopyWarning: \n",
      "A value is trying to be set on a copy of a slice from a DataFrame\n",
      "\n",
      "See the caveats in the documentation: https://pandas.pydata.org/pandas-docs/stable/user_guide/indexing.html#returning-a-view-versus-a-copy\n",
      "C:\\anaconda\\lib\\site-packages\\ipykernel_launcher.py:65: SettingWithCopyWarning: \n",
      "A value is trying to be set on a copy of a slice from a DataFrame\n",
      "\n",
      "See the caveats in the documentation: https://pandas.pydata.org/pandas-docs/stable/user_guide/indexing.html#returning-a-view-versus-a-copy\n",
      "C:\\anaconda\\lib\\site-packages\\ipykernel_launcher.py:58: SettingWithCopyWarning: \n",
      "A value is trying to be set on a copy of a slice from a DataFrame\n",
      "\n",
      "See the caveats in the documentation: https://pandas.pydata.org/pandas-docs/stable/user_guide/indexing.html#returning-a-view-versus-a-copy\n",
      "C:\\anaconda\\lib\\site-packages\\ipykernel_launcher.py:59: SettingWithCopyWarning: \n",
      "A value is trying to be set on a copy of a slice from a DataFrame\n",
      "\n",
      "See the caveats in the documentation: https://pandas.pydata.org/pandas-docs/stable/user_guide/indexing.html#returning-a-view-versus-a-copy\n",
      "C:\\anaconda\\lib\\site-packages\\ipykernel_launcher.py:55: SettingWithCopyWarning: \n",
      "A value is trying to be set on a copy of a slice from a DataFrame\n",
      "\n",
      "See the caveats in the documentation: https://pandas.pydata.org/pandas-docs/stable/user_guide/indexing.html#returning-a-view-versus-a-copy\n",
      "C:\\anaconda\\lib\\site-packages\\ipykernel_launcher.py:56: SettingWithCopyWarning: \n",
      "A value is trying to be set on a copy of a slice from a DataFrame\n",
      "\n",
      "See the caveats in the documentation: https://pandas.pydata.org/pandas-docs/stable/user_guide/indexing.html#returning-a-view-versus-a-copy\n",
      "C:\\anaconda\\lib\\site-packages\\ipykernel_launcher.py:51: SettingWithCopyWarning: \n",
      "A value is trying to be set on a copy of a slice from a DataFrame\n",
      "\n",
      "See the caveats in the documentation: https://pandas.pydata.org/pandas-docs/stable/user_guide/indexing.html#returning-a-view-versus-a-copy\n",
      "C:\\anaconda\\lib\\site-packages\\ipykernel_launcher.py:52: SettingWithCopyWarning: \n",
      "A value is trying to be set on a copy of a slice from a DataFrame\n",
      "\n",
      "See the caveats in the documentation: https://pandas.pydata.org/pandas-docs/stable/user_guide/indexing.html#returning-a-view-versus-a-copy\n",
      "C:\\anaconda\\lib\\site-packages\\ipykernel_launcher.py:61: SettingWithCopyWarning: \n",
      "A value is trying to be set on a copy of a slice from a DataFrame\n",
      "\n",
      "See the caveats in the documentation: https://pandas.pydata.org/pandas-docs/stable/user_guide/indexing.html#returning-a-view-versus-a-copy\n",
      "C:\\anaconda\\lib\\site-packages\\ipykernel_launcher.py:62: SettingWithCopyWarning: \n",
      "A value is trying to be set on a copy of a slice from a DataFrame\n",
      "\n",
      "See the caveats in the documentation: https://pandas.pydata.org/pandas-docs/stable/user_guide/indexing.html#returning-a-view-versus-a-copy\n",
      "C:\\anaconda\\lib\\site-packages\\ipykernel_launcher.py:73: SettingWithCopyWarning: \n",
      "A value is trying to be set on a copy of a slice from a DataFrame\n",
      "\n",
      "See the caveats in the documentation: https://pandas.pydata.org/pandas-docs/stable/user_guide/indexing.html#returning-a-view-versus-a-copy\n",
      "C:\\anaconda\\lib\\site-packages\\ipykernel_launcher.py:74: SettingWithCopyWarning: \n",
      "A value is trying to be set on a copy of a slice from a DataFrame\n",
      "\n",
      "See the caveats in the documentation: https://pandas.pydata.org/pandas-docs/stable/user_guide/indexing.html#returning-a-view-versus-a-copy\n",
      "C:\\anaconda\\lib\\site-packages\\ipykernel_launcher.py:70: SettingWithCopyWarning: \n",
      "A value is trying to be set on a copy of a slice from a DataFrame\n",
      "\n",
      "See the caveats in the documentation: https://pandas.pydata.org/pandas-docs/stable/user_guide/indexing.html#returning-a-view-versus-a-copy\n",
      "C:\\anaconda\\lib\\site-packages\\ipykernel_launcher.py:71: SettingWithCopyWarning: \n",
      "A value is trying to be set on a copy of a slice from a DataFrame\n",
      "\n",
      "See the caveats in the documentation: https://pandas.pydata.org/pandas-docs/stable/user_guide/indexing.html#returning-a-view-versus-a-copy\n",
      "C:\\anaconda\\lib\\site-packages\\ipykernel_launcher.py:67: SettingWithCopyWarning: \n",
      "A value is trying to be set on a copy of a slice from a DataFrame\n",
      "\n",
      "See the caveats in the documentation: https://pandas.pydata.org/pandas-docs/stable/user_guide/indexing.html#returning-a-view-versus-a-copy\n",
      "C:\\anaconda\\lib\\site-packages\\ipykernel_launcher.py:68: SettingWithCopyWarning: \n",
      "A value is trying to be set on a copy of a slice from a DataFrame\n",
      "\n",
      "See the caveats in the documentation: https://pandas.pydata.org/pandas-docs/stable/user_guide/indexing.html#returning-a-view-versus-a-copy\n"
     ]
    },
    {
     "name": "stdout",
     "output_type": "stream",
     "text": [
      "国画颜料.csv\n",
      "宣纸.csv\n",
      "描图 硫酸纸.csv\n",
      "文房四宝.csv\n",
      "文房墨汁.csv\n",
      "毛笔.csv\n",
      "毛边纸.csv\n",
      "练字帖.csv\n",
      "镇纸.csv\n"
     ]
    }
   ],
   "source": [
    "get_class_data(\"spider\")"
   ]
  },
  {
   "cell_type": "markdown",
   "metadata": {},
   "source": [
    "# 数据去重"
   ]
  },
  {
   "cell_type": "code",
   "execution_count": 244,
   "metadata": {
    "ExecuteTime": {
     "end_time": "2020-07-15T02:49:12.201779Z",
     "start_time": "2020-07-15T02:49:11.567356Z"
    }
   },
   "outputs": [
    {
     "name": "stdout",
     "output_type": "stream",
     "text": [
      "['clear_书法用纸.csv', 'clear_国画颜料.csv', 'clear_宣纸.csv', 'clear_描图 硫酸纸.csv', 'clear_文房四宝.csv', 'clear_文房墨汁.csv', 'clear_毛笔.csv', 'clear_毛边纸.csv', 'clear_练字帖.csv', 'clear_镇纸.csv']\n"
     ]
    }
   ],
   "source": [
    "import os \n",
    "names = os.listdir(\"clear\")\n",
    "print(names)\n",
    "for name in names:\n",
    "    data = pd.read_csv(\"clear/\"+name,encoding=\"utf-8\")\n",
    "    data.drop_duplicates()\n",
    "    data.to_csv(name,encoding=\"utf-8-sig\",index=None)"
   ]
  },
  {
   "cell_type": "code",
   "execution_count": 251,
   "metadata": {
    "ExecuteTime": {
     "end_time": "2020-07-15T03:00:56.764478Z",
     "start_time": "2020-07-15T03:00:56.743533Z"
    }
   },
   "outputs": [
    {
     "data": {
      "text/plain": [
       "(4399, 10)"
      ]
     },
     "execution_count": 251,
     "metadata": {},
     "output_type": "execute_result"
    }
   ],
   "source": [
    "df = pd.read_csv(\"clear_国画颜料.csv\")\n",
    "df.shape"
   ]
  },
  {
   "cell_type": "code",
   "execution_count": 252,
   "metadata": {
    "ExecuteTime": {
     "end_time": "2020-07-15T03:00:57.518463Z",
     "start_time": "2020-07-15T03:00:57.508448Z"
    }
   },
   "outputs": [
    {
     "data": {
      "text/plain": [
       "(4392, 10)"
      ]
     },
     "execution_count": 252,
     "metadata": {},
     "output_type": "execute_result"
    }
   ],
   "source": [
    "df = df[df[\"销售额\"]!=0]\n",
    "df.shape"
   ]
  },
  {
   "cell_type": "code",
   "execution_count": null,
   "metadata": {},
   "outputs": [],
   "source": []
  }
 ],
 "metadata": {
  "kernelspec": {
   "display_name": "Python 3",
   "language": "python",
   "name": "python3"
  },
  "language_info": {
   "codemirror_mode": {
    "name": "ipython",
    "version": 3
   },
   "file_extension": ".py",
   "mimetype": "text/x-python",
   "name": "python",
   "nbconvert_exporter": "python",
   "pygments_lexer": "ipython3",
   "version": "3.7.7"
  },
  "latex_envs": {
   "LaTeX_envs_menu_present": true,
   "autoclose": false,
   "autocomplete": true,
   "bibliofile": "biblio.bib",
   "cite_by": "apalike",
   "current_citInitial": 1,
   "eqLabelWithNumbers": true,
   "eqNumInitial": 1,
   "hotkeys": {
    "equation": "Ctrl-E",
    "itemize": "Ctrl-I"
   },
   "labels_anchors": false,
   "latex_user_defs": false,
   "report_style_numbering": false,
   "user_envs_cfg": false
  },
  "toc": {
   "base_numbering": 1,
   "nav_menu": {},
   "number_sections": true,
   "sideBar": true,
   "skip_h1_title": false,
   "title_cell": "Table of Contents",
   "title_sidebar": "Contents",
   "toc_cell": false,
   "toc_position": {},
   "toc_section_display": true,
   "toc_window_display": false
  }
 },
 "nbformat": 4,
 "nbformat_minor": 4
}
