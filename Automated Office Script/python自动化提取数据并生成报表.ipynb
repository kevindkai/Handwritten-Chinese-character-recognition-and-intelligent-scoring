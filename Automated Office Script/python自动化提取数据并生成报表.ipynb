{
 "cells": [
  {
   "cell_type": "code",
   "execution_count": 12,
   "metadata": {
    "ExecuteTime": {
     "end_time": "2020-07-24T07:14:39.833843Z",
     "start_time": "2020-07-24T07:14:39.811900Z"
    }
   },
   "outputs": [],
   "source": [
    "import pymysql as pms\n",
    "import os\n",
    "import openpyxl\n",
    "import datetime\n",
    "from email.mime.text import MIMEText\n",
    "from email.mime.multipart import MIMEMultipart\n",
    "from email.mime.application import MIMEApplication\n",
    "from email.header import Header\n",
    "from email import encoders\n",
    "from email.utils import parseaddr\n",
    "from email.utils import formataddr\n",
    "import smtplib\n",
    "import pandas as pd"
   ]
  },
  {
   "cell_type": "code",
   "execution_count": 13,
   "metadata": {
    "ExecuteTime": {
     "end_time": "2020-07-24T07:14:41.525005Z",
     "start_time": "2020-07-24T07:14:41.518024Z"
    }
   },
   "outputs": [],
   "source": [
    "def get_datas(sql):\n",
    "    # 一个传入sql导出数据的函数\n",
    "    # 跟数据库建立连接\n",
    "    conn = pms.connect(host='sh-cdb-kg6rp4w2.sql.tencentcdb.com', user='Cdata',\n",
    "                       passwd='Lpsy88334558', database='edu-m', port=61181)\n",
    "    # 使用 cursor() 方法创建一个游标对象 cursor\n",
    "    cur = conn.cursor()\n",
    "    # 使用 execute() 方法执行 SQL\n",
    "    cur.execute(sql)\n",
    "    # 获取所需要的数据\n",
    "    datas = cur.fetchall()\n",
    "    #关闭连接\n",
    "    cur.close()\n",
    "    #返回所需的数据\n",
    "    return datas"
   ]
  },
  {
   "cell_type": "code",
   "execution_count": null,
   "metadata": {},
   "outputs": [],
   "source": []
  },
  {
   "cell_type": "code",
   "execution_count": 3,
   "metadata": {
    "ExecuteTime": {
     "end_time": "2020-07-22T08:16:33.790875Z",
     "start_time": "2020-07-22T08:16:33.786888Z"
    }
   },
   "outputs": [],
   "source": [
    "def get_fields(sql):\n",
    "    # 一个传入sql导出字段的函数\n",
    "    conn = pms.connect(host='sh-cdb-kg6rp4w2.sql.tencentcdb.com', user='Cdata',\n",
    "                       passwd='Lpsy88334558', database='edu-m', port=61181)\n",
    "    cur = conn.cursor()\n",
    "    cur.execute(sql)\n",
    "    # 获取所需要的字段名称\n",
    "    fields = cur.description\n",
    "    cur.close()\n",
    "    return fields"
   ]
  },
  {
   "cell_type": "code",
   "execution_count": 4,
   "metadata": {
    "ExecuteTime": {
     "end_time": "2020-07-22T08:16:34.498002Z",
     "start_time": "2020-07-22T08:16:34.491022Z"
    }
   },
   "outputs": [],
   "source": [
    "def get_excel(data, field, file):\n",
    "    # 将数据和字段名写入excel的函数\n",
    "    #新建一个工作薄对象\n",
    "    new = openpyxl.Workbook()\n",
    "    #激活一个新的sheet\n",
    "    sheet = new.active\n",
    "    #给sheet命名\n",
    "    sheet.title = '数据展示'\n",
    "    #将字段名称循环写入excel第一行，因为字段格式列表里包含列表，每个列表的第一元素才是字段名称\n",
    "    for col in range(len(field)):\n",
    "        #row代表行数，column代表列数，value代表单元格输入的值，行数和列数都是从1开始，这点于python不同要注意\n",
    "        _ = sheet.cell(row=1, column=col+1, value=u'%s' % field[col][0])\n",
    "     #将数据循环写入excel的每个单元格中   \n",
    "    for row in range(len(data)):\n",
    "        for col in range(len(field)):\n",
    "            #因为第一行写了字段名称，所以要从第二行开始写入\n",
    "            _ = sheet.cell(row=row+2, column=col + 1, value=u'%s' % data[row][col])\n",
    "            #将生成的excel保存，这步是必不可少的\n",
    "    newworkbook = new.save(file)\n",
    "    #返回生成的excel\n",
    "    return newworkbook"
   ]
  },
  {
   "cell_type": "code",
   "execution_count": 5,
   "metadata": {
    "ExecuteTime": {
     "end_time": "2020-07-22T08:16:35.236755Z",
     "start_time": "2020-07-22T08:16:35.232735Z"
    }
   },
   "outputs": [],
   "source": [
    "def getYesterday():\n",
    "    # 获取昨天日期的字符串格式的函数\n",
    "    #获取今天的日期\n",
    "    today = datetime.date.today()\n",
    "    #获取一天的日期格式数据\n",
    "    oneday = datetime.timedelta(days=1)\n",
    "    #昨天等于今天减去一天\n",
    "    yesterday = today - oneday\n",
    "    #获取昨天日期的格式化字符串\n",
    "    yesterdaystr = yesterday.strftime('%Y-%m-%d')\n",
    "    #返回昨天的字符串\n",
    "    return yesterdaystr"
   ]
  },
  {
   "cell_type": "code",
   "execution_count": 6,
   "metadata": {
    "ExecuteTime": {
     "end_time": "2020-07-22T08:16:35.938882Z",
     "start_time": "2020-07-22T08:16:35.934898Z"
    }
   },
   "outputs": [],
   "source": [
    "def get_file(sql,name,path):\n",
    "    print(datetime.datetime.now())\n",
    "    # 生成数据\n",
    "    my_data = get_datas(sql)\n",
    "    # 生成字段名称\n",
    "    my_field = get_fields(sql)\n",
    "    # 得到昨天的日期\n",
    "    yesterdaystr = getYesterday()\n",
    "    # 文件名称，附件名称\n",
    "    my_file_name = name + yesterdaystr + '.xlsx'\n",
    "    # 文件路径，附件路径\n",
    "    file_path = path+\"/\"+my_file_name\n",
    "    print(file_path)\n",
    "    # 生成excel\n",
    "    get_excel(my_data, my_field, file_path)\n",
    "    return file_path,my_file_name\n",
    "\n"
   ]
  },
  {
   "cell_type": "code",
   "execution_count": 7,
   "metadata": {
    "ExecuteTime": {
     "end_time": "2020-07-22T08:16:36.825093Z",
     "start_time": "2020-07-22T08:16:36.817065Z"
    }
   },
   "outputs": [],
   "source": [
    "def create_email(email_from, email_to, email_Subject, email_text, path,password,sender,receiver,c_receiver):\n",
    "    # 输入发件人昵称、收件人昵称、主题，正文，附件地址,附件名称生成一封邮件\n",
    "    \n",
    "    # 邮件设置\n",
    "    msg = MIMEMultipart()\n",
    "    msg[\"Subject\"] = email_Subject\n",
    "    msg[\"to\"] = email_to\n",
    "    msg[\"Cc\"] = c_receiver\n",
    "    msg[\"from\"] = email_from\n",
    "    # 邮件正文\n",
    "    body = email_text\n",
    "    # 添加邮件正文\n",
    "    msg.attach(MIMEText(body,'plain','utf-8'))\n",
    "    \n",
    "    #读取附件的内容\n",
    "    file_names = os.listdir(path)\n",
    "    for file in file_names:\n",
    "        file_path = path+\"/\"+file\n",
    "        xlsxpart = MIMEApplication(open(file_path,'rb').read())\n",
    "        xlsxpart.add_header('Content-Disposition','attachment',filename=file)\n",
    "        msg.attach(xlsxpart)\n",
    "    try:     \n",
    "        # 设置邮箱服务器地址及端口email_client = smtplib.SMTP_SSL(\"smtp.exmail.qq.com\", 465)\n",
    "        smtp_server = \"smtp.exmail.qq.com\"\n",
    "        server = smtplib.SMTP_SSL(smtp_server,465)\n",
    "        server.set_debuglevel(1)\n",
    "        # 登录邮箱\n",
    "        server.login(sender,password)\n",
    "        # 发送邮件\n",
    "        server.sendmail(sender,receiver.split(\",\")+c_receiver.split(\",\"),msg.as_string())\n",
    "        # 断开服务器连接\n",
    "        server.quit()\n",
    "        print(\"邮件发送成功\")\n",
    "    except:\n",
    "        print(\"邮件发送失败\")"
   ]
  },
  {
   "cell_type": "code",
   "execution_count": 8,
   "metadata": {
    "ExecuteTime": {
     "end_time": "2020-07-22T08:16:37.659580Z",
     "start_time": "2020-07-22T08:16:37.651605Z"
    }
   },
   "outputs": [],
   "source": [
    "def send(path) :\n",
    "    email_from = '数据组自动报表机器人'\n",
    "    email_to = '在线教育运营部'\n",
    "    yesterdaystr = getYesterday()\n",
    "    # 邮件标题\n",
    "    email_Subject = '在线教育销售相关数据' + yesterdaystr\n",
    "    # 邮件正文\n",
    "    email_text = '各位堂兄堂妹,\\n\\t附件为每日数据，请查收！\\n\\n数据团队'\n",
    "    sender = 'loujunjie@lpt.onexmail.com'\n",
    "    password = \"XC8oU2Mp28kf6286\"\n",
    "    receiver =['zhangyuexia@liupinedu.com','zhangxianjiao@lpt.onexmail.com','huangpeng@liupinedu.com']#接收人邮箱列表\n",
    "    c_receiver = 'zhangyuexia@liupinedu.com' # 抄送人\n",
    "    # 发送邮件\n",
    "    create_email(email_from, email_to, email_Subject, email_text, path,password,sender,receiver,c_receiver)\n",
    "    print(datetime.datetime.now())"
   ]
  },
  {
   "cell_type": "code",
   "execution_count": 9,
   "metadata": {
    "ExecuteTime": {
     "end_time": "2020-07-22T08:16:38.647405Z",
     "start_time": "2020-07-22T08:16:38.640424Z"
    }
   },
   "outputs": [],
   "source": [
    "sql1 = \"\"\"select \n",
    "  a.add_date as 统计日期,\n",
    "  a.成人硬笔展示量,\n",
    "  a.软笔展示量,\n",
    "  a.少儿展示量,\n",
    "  a.总展示量,\n",
    "  b.`课程包订单数(订单金额>1)`,\n",
    "  b.`课程包金额(订单金额>1)`,\n",
    "  c.`静默课程数(订单金额>1)`,\n",
    "  c.`静默金额(订单金额>1)`\n",
    "from(\n",
    "select \n",
    "  from_unixtime(esml.addtime,'%Y-%m-%d') as add_date,\n",
    "  count(case when esc.id = 1 then 1 else null end) as  软笔展示量,\n",
    "  count(case when esc.id = 2 then 1 else null end) as  成人硬笔展示量,\n",
    "  count(case when esc.id = 3 then 1 else null end) as  少儿展示量,\n",
    "  count(1) as 总展示量\n",
    "from el_sale_manyservice_log esml left join el_sale_category esc on esc.id = esml.cateid\n",
    "where from_unixtime(esml.addtime,'%Y-%m-%d') between date_sub(CURDATE(),interval 3 day) and date_sub(CURDATE(),interval 1 day)\n",
    "group by from_unixtime(esml.addtime,'%Y-%m-%d') #with rollup\n",
    ")a\n",
    "left join (\n",
    "select \n",
    "  from_unixtime(eso.create_time,'%Y-%m-%d') as order_date,\n",
    "  count(eso.id) as 课程包订单数,\n",
    "  sum(totalprice) as 课程包金额,\n",
    "  sum(case when totalprice > 1 then 1 else 0 end) as '课程包订单数(订单金额>1)',  # 订单金额>1\n",
    "  sum(case when totalprice > 1 then totalprice else 0 end) as '课程包金额(订单金额>1)' # 订单金额>1\n",
    "from  el_sale_order eso\n",
    "where from_unixtime(eso.create_time,'%Y-%m-%d') between date_sub(CURDATE(),interval 3 day) and date_sub(CURDATE(),interval 1 day)\n",
    "group by from_unixtime(eso.create_time,'%Y-%m-%d') \n",
    ") b on a.add_date = b.order_date\n",
    "left join (\n",
    "select \n",
    " from_unixtime(a.ctime,'%Y-%m-%d') as order_date,\n",
    " sum(case when a.price > 1 then 1 else 0 end) as '静默课程数(订单金额>1)',\n",
    " sum(case when a.price > 1 then a.price else 0 end)  as '静默金额(订单金额>1)'\n",
    "from  el_zy_order_course a left join el_zy_video  b on b.id = a.video_id\n",
    "where \n",
    " a.channel_sources = 0\n",
    "and a.pay_status = 3\n",
    "and FROM_UNIXTIME(a.ctime,'%Y-%m-%d') between date_sub(CURDATE(),interval 3 day) and date_sub(CURDATE(),interval 1 day)\n",
    "group by  FROM_UNIXTIME(a.ctime,'%Y-%m-%d')\n",
    ")c on a.add_date = c.order_date;\"\"\"   \n",
    "\n",
    "sql2 = \"\"\"\n",
    "select \n",
    "  from_unixtime(esml.addtime,'%Y-%m-%d') as 分配二维码时间,\n",
    "  esp.uid as 客服id,\n",
    "  eu.uname as 客服姓名,\n",
    "  esg.title as  团队,\n",
    "  esg1.title as  销售组,  \n",
    "  count(case when esml.cateid = 1 then 1 else null end) as  软笔展示量,\n",
    "  count(case when esml.cateid = 2 then 1 else null end) as  成人硬笔展示量,\n",
    "  count(case when esml.cateid = 3 then 1 else null end) as  少儿展示量,\n",
    "  count(1) as 总展示量\n",
    "from el_sale_manyservice_log esml\n",
    "  left join el_sale_video esv on esv.id = esml.baoid\n",
    "  left join el_sale_manyservice esm on esml.manyid = esm.id\n",
    "  left join el_sale_people esp on esp.id = esm.saleman_id\n",
    "  left join el_user eu on eu.uid = esp.uid\n",
    "  left join el_sale_group esg on esg.sale_group_id = esp.team_id\n",
    "  left join el_sale_group esg1 on esg1.sale_group_id = replace(esp.group_id,',','')\n",
    "where\n",
    "   from_unixtime(esml.addtime,'%Y-%m-%d') between date_sub(CURDATE(),interval 3 day) and date_sub(CURDATE(),interval 1 day)\n",
    "group by from_unixtime(esml.addtime,'%Y-%m-%d'),esp.uid,eu.uname,esg.title,esg1.title;\n",
    "\"\"\"\n",
    "\n",
    "sql3 = \"\"\"\n",
    "select \n",
    "    from_unixtime(eso.create_time,'%Y-%m-%d') as 成单日期,\n",
    "    esg.title as 团队,\n",
    "    esg1.title as 销售组,  \n",
    "    esp.uid as 销售id,  \n",
    "    eu.uname as 销售员姓名,  \n",
    "    sum(case when esv.business_id = 1 then 1 else 0 end) as  软笔订单数,\n",
    "    sum(case when esv.business_id = 2 then 1 else 0 end) as  硬笔订单数,\n",
    "    sum(case when esv.business_id = 3 then 1 else 0 end) as  少儿订单数,\n",
    "    count(eso.sale_video_id) as '总销售订单数(订单金额>1)' ,\n",
    "    sum(case when esv.business_id = 1 then eso.totalprice else 0 end) as  软笔销售金额,\n",
    "    sum(case when esv.business_id = 2 then eso.totalprice else 0 end) as  硬笔销售金额,\n",
    "    sum(case when esv.business_id = 3 then eso.totalprice else 0 end) as  少儿销售金额,\n",
    "    sum(eso.totalprice) as '总销售金额(订单金额>1)'\n",
    "from el_sale_order eso left join el_sale_video esv on eso.sale_video_id = esv.id\n",
    " left join el_sale_people esp on esp.uid = eso.sale_id\n",
    " left join el_user eu on eu.uid = esp.uid\n",
    " left join el_sale_group esg on esg.sale_group_id = esp.team_id\n",
    " left join el_sale_group esg1 on esg1.sale_group_id = replace(esp.group_id,',','')\n",
    "where   \n",
    "    FROM_UNIXTIME(eso.create_time,'%Y-%m-%d')  between date_sub(CURDATE(),interval 3 day) and date_sub(CURDATE(),interval 1 day)\n",
    " and esp.team_id !=0\n",
    " and eso.totalprice > 1\n",
    "group by 1,2,3,4,5\n",
    "order by 1,2,3,sum(eso.totalprice) desc;\n",
    "\"\"\"\n",
    "\n",
    "sql4 = \"\"\"\n",
    "select \n",
    "  from_unixtime(esml.addtime,'%Y-%m-%d') as 分配二维码时间,\n",
    "  esg.title as 团队,\n",
    "  esg1.title as  销售组名,  \n",
    "  count(case when esml.cateid = 1 then 1 else null end) as  软笔展示量,\n",
    "  count(case when esml.cateid = 2 then 1 else null end) as  成人硬笔展示量,\n",
    "  count(case when esml.cateid = 3 then 1 else null end) as  少儿展示量,\n",
    "  count(esp.uid) as 总展示量\n",
    "from el_sale_manyservice esm \n",
    " left join el_sale_manyservice_log esml on esml.manyid = esm.id\n",
    " left join el_sale_video esv on esv.id = esml.baoid\n",
    " left join el_sale_people esp on esp.id = esm.saleman_id\n",
    " left join el_user eu on eu.uid = esp.uid\n",
    " left join el_sale_group esg on esg.sale_group_id = esp.team_id\n",
    " left join el_sale_group esg1 on esg1.sale_group_id = replace(esp.group_id,',','')\n",
    "where\n",
    "   from_unixtime(esml.addtime,'%Y-%m-%d') between date_sub(CURDATE(),interval 3 day) and date_sub(CURDATE(),interval 1 day)\n",
    "group by from_unixtime(esml.addtime,'%Y-%m-%d'),esg.title,esg1.title;\n",
    "\"\"\"\n",
    "\n",
    "sql5 = \"\"\"\n",
    "select \n",
    "    from_unixtime(eso.create_time,'%Y-%m-%d') as 成单日期,\n",
    "    esg.title as 团队,\n",
    "    esg1.title as 销售组,  \n",
    "    sum(case when esv.business_id = 1 then 1 else 0 end) as  软笔订单数,\n",
    "    sum(case when esv.business_id = 2 then 1 else 0 end) as  硬笔订单数,\n",
    "    sum(case when esv.business_id = 3 then 1 else 0 end) as  少儿订单数,\n",
    "    count(eso.sale_video_id) as '销售订单数(订单金额>1)',\n",
    "    sum(case when esv.business_id = 1 then eso.totalprice else 0 end) as  软笔销售金额,\n",
    "    sum(case when esv.business_id = 2 then eso.totalprice else 0 end) as  硬笔销售金额,\n",
    "    sum(case when esv.business_id = 3 then eso.totalprice else 0 end) as  少儿销售金额,\n",
    "    sum(eso.totalprice) as '总销售金额(订单金额>1)'\n",
    "from el_sale_order eso left join el_sale_video esv on eso.sale_video_id = esv.id\n",
    " left join el_zy_video ezv on ezv.id = esv.v_id\n",
    " left join el_sale_people esp on esp.uid = eso.sale_id\n",
    " left join el_user eu on eu.uid = esp.uid\n",
    " left join el_sale_group esg on esg.sale_group_id = esp.team_id\n",
    " left join el_sale_group esg1 on esg1.sale_group_id = replace(esp.group_id,',','')\n",
    "where   \n",
    "    FROM_UNIXTIME(eso.create_time,'%Y-%m-%d')  between date_sub(CURDATE(),interval 3 day) and date_sub(CURDATE(),interval 1 day)\n",
    " and esp.team_id !=0\n",
    " and eso.totalprice > 1\n",
    "group by 1,2,3\n",
    "order by 1,2,3,sum(eso.totalprice) desc;\n",
    "\"\"\"\n",
    "\n",
    "sql6 = \"\"\"\n",
    "select \n",
    " from_unixtime(eso.create_time,'%Y-%m-%d') as 成单时间,\n",
    " eso.sale_video_id as 课程包id,\n",
    " esv.name as 销售课程包, \n",
    " eso.buy_id as 用户id,\n",
    " from_unixtime(eu1.ctime,'%Y-%m-%d') as 用户注册时间,\n",
    " eso.totalprice as 订单金额,\n",
    " eso.sale_id as 销售人员id,\n",
    " eu.uname as 销售人员,\n",
    " esg.title as  团队,\n",
    " esg1.title as 销售组\n",
    "from el_sale_order eso left join el_sale_video esv on eso.sale_video_id = esv.id\n",
    "left join el_sale_people esp on esp.uid = eso.sale_id\n",
    "left join el_user eu on eu.uid = esp.uid\n",
    "left join el_user eu1 on eu1.uid = eso.buy_id\n",
    "left join el_sale_group esg on esg.sale_group_id = esp.team_id\n",
    "left join el_sale_group esg1 on esg1.sale_group_id = replace(esp.group_id,',','')\n",
    "where   \n",
    "    FROM_UNIXTIME(eso.create_time,'%Y-%m-%d')  between date_sub(CURDATE(),interval 3 day) and date_sub(CURDATE(),interval 1 day)\n",
    " and esp.team_id !=0\n",
    "and eso.totalprice >1 ;\n",
    "\"\"\""
   ]
  },
  {
   "cell_type": "code",
   "execution_count": 10,
   "metadata": {
    "ExecuteTime": {
     "end_time": "2020-07-22T08:16:39.691809Z",
     "start_time": "2020-07-22T08:16:39.687823Z"
    }
   },
   "outputs": [],
   "source": [
    "def main(path):\n",
    "    sqls = {\"销售总体单日汇总\":sql1,\"销售个人展示汇总\":sql2,\"销售个人业绩汇总\":sql3,\n",
    "       \"销售组展示汇总\":sql4,\"销售组业绩汇总\":sql5,\"销售订单明细\":sql6,}\n",
    "    for sql,name in zip(sqls.values(),sqls.keys()):\n",
    "        a,b = get_file(sql,name,path)\n",
    "    send(path)"
   ]
  },
  {
   "cell_type": "code",
   "execution_count": 11,
   "metadata": {
    "ExecuteTime": {
     "end_time": "2020-07-22T08:16:55.311571Z",
     "start_time": "2020-07-22T08:16:40.631815Z"
    }
   },
   "outputs": [
    {
     "name": "stdout",
     "output_type": "stream",
     "text": [
      "2020-07-22 16:16:40.632813\n",
      "email_data/销售总体单日汇总2020-07-21.xlsx\n",
      "2020-07-22 16:16:47.334928\n",
      "email_data/销售个人展示汇总2020-07-21.xlsx\n",
      "2020-07-22 16:16:48.442945\n",
      "email_data/销售个人业绩汇总2020-07-21.xlsx\n",
      "2020-07-22 16:16:49.573280\n",
      "email_data/销售组展示汇总2020-07-21.xlsx\n",
      "2020-07-22 16:16:50.596823\n",
      "email_data/销售组业绩汇总2020-07-21.xlsx\n",
      "2020-07-22 16:16:51.715094\n",
      "email_data/销售订单明细2020-07-21.xlsx\n"
     ]
    },
    {
     "name": "stderr",
     "output_type": "stream",
     "text": [
      "send: 'ehlo [192.168.60.59]\\r\\n'\n",
      "reply: b'250-smtp.qq.com\\r\\n'\n",
      "reply: b'250-PIPELINING\\r\\n'\n",
      "reply: b'250-SIZE 73400320\\r\\n'\n",
      "reply: b'250-AUTH LOGIN PLAIN\\r\\n'\n",
      "reply: b'250-AUTH=LOGIN\\r\\n'\n",
      "reply: b'250-MAILCOMPRESS\\r\\n'\n",
      "reply: b'250 8BITMIME\\r\\n'\n",
      "reply: retcode (250); Msg: b'smtp.qq.com\\nPIPELINING\\nSIZE 73400320\\nAUTH LOGIN PLAIN\\nAUTH=LOGIN\\nMAILCOMPRESS\\n8BITMIME'\n",
      "send: 'AUTH PLAIN AGxvdWp1bmppZUBscHQub25leG1haWwuY29tAFhDOG9VMk1wMjhrZjYyODY=\\r\\n'\n",
      "reply: b'235 Authentication successful\\r\\n'\n",
      "reply: retcode (235); Msg: b'Authentication successful'\n",
      "send: 'mail FROM:<loujunjie@lpt.onexmail.com> size=61926\\r\\n'\n",
      "reply: b'250 Ok\\r\\n'\n",
      "reply: retcode (250); Msg: b'Ok'\n",
      "send: 'rcpt TO:<zhangyuexia@liupinedu.com>\\r\\n'\n",
      "reply: b'250 Ok\\r\\n'\n",
      "reply: retcode (250); Msg: b'Ok'\n",
      "send: 'rcpt TO:<zhangyuexia@liupinedu.com>\\r\\n'\n",
      "reply: b'250 Ok\\r\\n'\n",
      "reply: retcode (250); Msg: b'Ok'\n",
      "send: 'data\\r\\n'\n",
      "reply: b'354 End data with <CR><LF>.<CR><LF>\\r\\n'\n",
      "reply: retcode (354); Msg: b'End data with <CR><LF>.<CR><LF>'\n",
      "data: (354, b'End data with <CR><LF>.<CR><LF>')\n",
      "send: b'Content-Type: multipart/mixed; boundary=\"===============2686353223500112754==\"\\r\\nMIME-Version: 1.0\\r\\nSubject: =?utf-8?b?5Zyo57q/5pWZ6IKy6ZSA5ZSu55u45YWz5pWw5o2uMjAyMC0wNy0yMQ==?=\\r\\nto: =?utf-8?b?5Zyo57q/5pWZ6IKy6L+Q6JCl6YOo?=\\r\\nCc: zhangyuexia@liupinedu.com\\r\\nfrom: =?utf-8?b?5pWw5o2u57uE6Ieq5Yqo5oql6KGo5py65Zmo5Lq6?=\\r\\n\\r\\n--===============2686353223500112754==\\r\\nContent-Type: text/plain; charset=\"utf-8\"\\r\\nMIME-Version: 1.0\\r\\nContent-Transfer-Encoding: base64\\r\\n\\r\\n5ZCE5L2N5aCC5YWE5aCC5aa5LAoJ6ZmE5Lu25Li65q+P5pel5pWw5o2u77yM6K+35p+l5pS277yB\\r\\nCgrmlbDmja7lm6LpmJ8=\\r\\n\\r\\n--===============2686353223500112754==\\r\\nContent-Type: application/octet-stream\\r\\nMIME-Version: 1.0\\r\\nContent-Transfer-Encoding: base64\\r\\nContent-Disposition: attachment; filename*=utf-8\\'\\'%E9%94%80%E5%94%AE%E4%B8%AA%E4%BA%BA%E4%B8%9A%E7%BB%A9%E6%B1%87%E6%80%BB2020-07-21.xlsx\\r\\n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\\r\\n\\r\\n--===============2686353223500112754==\\r\\nContent-Type: application/octet-stream\\r\\nMIME-Version: 1.0\\r\\nContent-Transfer-Encoding: base64\\r\\nContent-Disposition: attachment; filename*=utf-8\\'\\'%E9%94%80%E5%94%AE%E4%B8%AA%E4%BA%BA%E5%B1%95%E7%A4%BA%E6%B1%87%E6%80%BB2020-07-21.xlsx\\r\\n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\\r\\n\\r\\n--===============2686353223500112754==\\r\\nContent-Type: application/octet-stream\\r\\nMIME-Version: 1.0\\r\\nContent-Transfer-Encoding: base64\\r\\nContent-Disposition: attachment; filename*=utf-8\\'\\'%E9%94%80%E5%94%AE%E6%80%BB%E4%BD%93%E5%8D%95%E6%97%A5%E6%B1%87%E6%80%BB2020-07-21.xlsx\\r\\n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\\r\\nBgAAAAAJAAkAPgIAAB4RAAAAAA==\\r\\n\\r\\n--===============2686353223500112754==\\r\\nContent-Type: application/octet-stream\\r\\nMIME-Version: 1.0\\r\\nContent-Transfer-Encoding: base64\\r\\nContent-Disposition: attachment; filename*=utf-8\\'\\'%E9%94%80%E5%94%AE%E7%BB%84%E4%B8%9A%E7%BB%A9%E6%B1%87%E6%80%BB2020-07-21.xlsx\\r\\n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\\r\\nAAAJAAkAPgIAABwTAAAAAA==\\r\\n\\r\\n--===============2686353223500112754==\\r\\nContent-Type: application/octet-stream\\r\\nMIME-Version: 1.0\\r\\nContent-Transfer-Encoding: base64\\r\\nContent-Disposition: attachment; filename*=utf-8\\'\\'%E9%94%80%E5%94%AE%E7%BB%84%E5%B1%95%E7%A4%BA%E6%B1%87%E6%80%BB2020-07-21.xlsx\\r\\n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\\r\\n\\r\\n--===============2686353223500112754==\\r\\nContent-Type: application/octet-stream\\r\\nMIME-Version: 1.0\\r\\nContent-Transfer-Encoding: base64\\r\\nContent-Disposition: attachment; filename*=utf-8\\'\\'%E9%94%80%E5%94%AE%E8%AE%A2%E5%8D%95%E6%98%8E%E7%BB%862020-07-21.xlsx\\r\\n\\r\\nUEsDBBQAAAAIABqC9lAHQU1igQAAALEAAAAQAAAAZG9jUHJvcHMvYXBwLnhtbE2OPQsCMRBE/8px\\r\\nvbdBwUJiQNBSsLIPexsvkGRDskJ+vjnBj24ebxhG3wpnKuKpDi2GVI/jIpIPABUXirZOXaduHJdo\\r\\npWN5ADvnkc6Mz0hJYKvUHqgJpZnmTf4Ojkafcg4erXhO5uqxcGUnw6UhBQ3/cm3eqdQ17yb1lh/W\\r\\n8DtpXlBLAwQUAAAACAAagvZQxKk//+4AAAArAgAAEQAAAGRvY1Byb3BzL2NvcmUueG1szZLPSgMx\\r\\nEIdfRXLfnd1UKoRtLhVPCoIFxVtIpm1w84dkZLdvb3Ztt4g+gJBLZn755htIp6PQIeFzChETWcw3\\r\\no+t9Fjpu2JEoCoCsj+hUrkvCl+Y+JKeoXNMBotIf6oDAm2YNDkkZRQomYBUXIpOd0UInVBTSGW/0\\r\\ngo+fqZ9hRgP26NBThrZugclpYjyNfQdXwAQjTC5/F9AsxLn6J3buADsnx2yX1DAM9bCac2WHFt6e\\r\\nHl/mdSvrMymvsbzKVtAp4oZdJr+utve7ByZ5w5uquas437VrUQ6/fZ9cf/hdhV0wdm//sfFFUHbw\\r\\n61/IL1BLAwQUAAAACAAagvZQmVycIxAGAACcJwAAEwAAAHhsL3RoZW1lL3RoZW1lMS54bWztWltz\\r\\n2jgUfu+v0Hhn9m0LxjaBtrQTc2l227SZhO1OH4URWI1seWSRhH+/RzYQy5YN7ZJNups8BCzp+85F\\r\\nR+foOHnz7i5i6IaIlPJ4YNkv29a7ty/e4FcyJBFBMBmnr/DACqVMXrVaaQDDOH3JExLD3IKLCEt4\\r\\nFMvWXOBbGi8j1uq0291WhGlsoRhHZGB9XixoQNBUUVpvXyC05R8z+BXLVI1lowETV0EmuYi08vls\\r\\nxfza3j5lz+k6HTKBbjAbWCB/zm+n5E5aiOFUwsTAamc/VmvH0dJIgILJfZQFukn2o9MVCDINOzqd\\r\\nWM52fPbE7Z+Mytp0NG0a4OPxeDi2y9KLcBwE4FG7nsKd9Gy/pEEJtKNp0GTY9tqukaaqjVNP0/d9\\r\\n3+ubaJwKjVtP02t33dOOicat0HgNvvFPh8Ouicar0HTraSYn/a5rpOkWaEJG4+t6EhW15UDTIABY\\r\\ncHbWzNIDll4p+nWUGtkdu91BXPBY7jmJEf7GxQTWadIZljRGcp2QBQ4AN8TRTFB8r0G2iuDCktJc\\r\\nkNbPKbVQGgiayIH1R4Ihxdyv/fWXu8mkM3qdfTrOa5R/aasBp+27m8+T/HPo5J+nk9dNQs5wvCwJ\\r\\n8fsjW2GHJ247E3I6HGdCfM/29pGlJTLP7/kK6048Zx9WlrBdz8/knoxyI7vd9lh99k9HbiPXqcCz\\r\\nIteURiRFn8gtuuQROLVJDTITPwidhphqUBwCpAkxlqGG+LTGrBHgE323vgjI342I96tvmj1XoVhJ\\r\\n2oT4EEYa4pxz5nPRbPsHpUbR9lW83KOXWBUBlxjfNKo1LMXWeJXA8a2cPB0TEs2UCwZBhpckJhKp\\r\\nOX5NSBP+K6Xa/pzTQPCULyT6SpGPabMjp3QmzegzGsFGrxt1h2jSPHr+BfmcNQockRsdAmcbs0Yh\\r\\nhGm78B6vJI6arcIRK0I+Yhk2GnK1FoG2camEYFoSxtF4TtK0EfxZrDWTPmDI7M2Rdc7WkQ4Rkl43\\r\\nQj5izouQEb8ehjhKmu2icVgE/Z5ew0nB6ILLZv24fobVM2wsjvdH1BdK5A8mpz/pMjQHo5pZCb2E\\r\\nVmqfqoc0PqgeMgoF8bkePuV6eAo3lsa8UK6CewH/0do3wqv4gsA5fy59z6XvufQ9odK3NyN9Z8HT\\r\\ni1veRm5bxPuuMdrXNC4oY1dyzcjHVK+TKdg5n8Ds/Wg+nvHt+tkkhK+aWS0jFpBLgbNBJLj8i8rw\\r\\nKsQJ6GRbJQnLVNNlN4oSnkIbbulT9UqV1+WvuSi4PFvk6a+hdD4sz/k8X+e0zQszQ7dyS+q2lL61\\r\\nJjhK9LHMcE4eyww7ZzySHbZ3oB01+/ZdduQjpTBTl0O4GkK+A226ndw6OJ6YkbkK01KQb8P56cV4\\r\\nGuI52QS5fZhXbefY0dH758FRsKPvPJYdx4jyoiHuoYaYz8NDh3l7X5hnlcZQNBRtbKwkLEa3YLjX\\r\\n8SwU4GRgLaAHg69RAvJSVWAxW8YDK5CifEyMRehw55dcX+PRkuPbpmW1bq8pdxltIlI5wmmYE2er\\r\\nyt5lscFVHc9VW/Kwvmo9tBVOz/5ZrcifDBFOFgsSSGOUF6ZKovMZU77nK0nEVTi/RTO2EpcYvOPm\\r\\nx3FOU7gSdrYPAjK5uzmpemUxZ6by3y0MCSxbiFkS4k1d7dXnm5yueiJ2+pd3wWDy/XDJRw/lO+df\\r\\n9F1Drn723eP6bpM7SEycecURAXRFAiOVHAYWFzLkUO6SkAYTAc2UyUTwAoJkphyAmPoLvfIMuSkV\\r\\nzq0+OX9FLIOGTl7SJRIUirAMBSEXcuPv75Nqd4zX+iyBbYRUMmTVF8pDicE9M3JD2FQl867aJguF\\r\\n2+JUzbsaviZgS8N6bp0tJ//bXtQ9tBc9RvOjmeAes4dzm3q4wkWs/1jWHvky3zlw2zreA17mEyxD\\r\\npH7BfYqKgBGrYr66r0/5JZw7tHvxgSCb/NbbpPbd4Ax81KtapWQrET9LB3wfkgZjjFv0NF+PFGKt\\r\\nprGtxtoxDHmAWPMMoWY434dFmhoz1YusOY0Kb0HVQOU/29QNaPYNNByRBV4xmbY2o+ROCjzc/u8N\\r\\nsMLEjuHti78BUEsDBBQAAAAIABqC9lBQS+RnrRwAABQ+AQAYAAAAeGwvd29ya3NoZWV0cy9zaGVl\\r\\ndDEueG1szV3bbhxHlvwVQQPoZUAy75ehLGBNd4scYBfGDHbmmbbaEmFJ1FK0NfP3m1VNsXrkE5GV\\r\\nySK7n6hLxanKqODJS1SefPnl+ubXz+82m9tn//rw/uPn756/u7399JeTk88/v9t8uPx8fP1p87H8\\r\\nzy/XNx8ub8tfb96efP50s7l8M4I+vD8xSoWTD5dXH5+/ejn+2483r15e/3b7/urj5sebZ59/+/Dh\\r\\n8ubf32/eX3/57rl+/vUf/nb19t3t8A8nr15+uny7+fvm9n8//XhT/nZyH+XN1YfNx89X1x+f3Wx+\\r\\n+e75f+m//FUbNSDGS/5xtfnyeefPz4a2/HR9/evwl4s33z1XwyNt3m9+vh1iXJYfv2/ONu/fD6HK\\r\\ng/zfXdTn9zcdgLt//hp9Pba+tOany8+bs+v3/7x6c/vuu+fp+bM3m18uf3t/+7frL+ebuxb5+wf8\\r\\n4fL28tXLm+svz26Glr56+fPwh+He5bqrjwNDf7+9Kf9+VW50++rFn4zXyp2Wn9paO/wMWpny0yab\\r\\n0unLk9vycMO1Jz/fxfoex7K+gAasNm6MpY23p1dvhChnJErSbvtESYVTFFWI+QNpZc55aFVprQNP\\r\\ntJqLLj9jSmr4qVIMczhbM86iCzv822hNHn5mFbIU6/V85ozSfvt3X55fbPV5bzQh1gVh0Bi3ZchZ\\r\\nLWH/2qAH4/y39z8pir+XvbmXvQFBjTLqSMUjnSWBI5ROSVIyurw8qUpmq1yv0qiTIqSRSRXVaVYD\\r\\nL8n44V+sD3H4mUOMo+ajj3dt1cNPm4yohh9gE1002QRJ6F2srCErOudjpSSlQogNxorPdk7I9M6N\\r\\nvxhORyfKD2NNDMqPNDo9/uJW5Uie4+4X1HiVRzkmlcZXlL1FMf9DnvZenrZLnhjlJXmiy7ei28ox\\r\\njrLkcj168afypkd1GqfH/FfUaYacNfx7us+HkkrhM7uQXXCSSqvkSL+Ma4TKSgGRIkTpbbLRWhIp\\r\\noVQrHbY9hPWnEviCgJtVimM9WKXuXqWuS6UIpZORVIouHztGne/F9vvVp928OT9PwlYMedJLTVh1\\r\\nNXwNGx5tABKEN9KlVdpKEsR82ajc9rdWm3HQUn6dRUouCOfB3f2iKztPiSRWinF8fzoEPUd5/l55\\r\\nvkt5CAW6b3T503TfsIkuuuTFxNjFyhqygrtvfCPlSnaRZEnITOUXbcyM0Q2UmKSiPIrEMdplSWK1\\r\\nyjLcyzJ0yRKhsjQOOkNXDw/utxO2GMefZXjs/am1O0nxG91al7bTlzv9zlcnbClWZxc5a4QKBokT\\r\\n3weKE3M6X5zkvTSLk73jRnHGe3HGLnEiFMiZ6PKnyZnwYVVQ5Q1KqsSs6Hyk0pE4GVnDG+GcCW+E\\r\\nu3JC5uyuHMdolyWJ1SrLdC/L1CVLhIpizkRXw5wZcM78T92OUxsbt0s845JPUUAaaQzJbP/deXFW\\r\\n+gNsecmhRp6gd5G1RqgyfAZihYiQfJCG6eeE4uC261h3v9ZlDhPkaTqJ0TwBwrEePAHK99rNXdpF\\r\\nKDABQpcvNgFCN/DJW1EeK9zuIWn6Iy01ZI1QQWkgQ4QoHUPJgJIMMVmlKWr7+3o3Ebe+/F2SISG8\\r\\nWYbkeR4qQ62mRXzVJUQIA507vP5penf8uHZYNxQHnYSZIlWtj8SlsTW+Fe7gIQYnTULo/KzJgjTr\\r\\nlb3iBwt2x3VCi/oVwWKY9PbP4PXNS5z2j2ub5bUGf+q+/Q9Rueg5dFZlBCIOTCsU2SMtKxfeKsGF\\r\\nTozBy/GE2vp6PHsv7ZIlT/JgyU6Oke6zjCAM5dj9mka4lS6CLLbqY2aNmSE5Ft8KTu4Zo7Nn9yRI\\r\\n+zyKBWudSOnJNNJ9rhGByUl1Md/ogUkVP3dMzkjZcVWhyB2JE/E1hLGkCjE5R+ulxztn1MagR4m6\\r\\nbMdf8Ryd+EXBBQvSLlUSrFmqk3Ok+6wjCNPi6z6D17dM8BuSJ7pdoV2czhMadBpoMJK01vg+cFEU\\r\\nM6dLJyEPTqmTFMfPXXwO46pJiFr8Jb0gQTrESIL50pDx18LZMEuMk5mka76J+Ba+hzDUs+/XT8Kt\\r\\ndKXXE5ceVn3MrDEzpGeHGJIuiYkzP10u6SqxYM3pcvKVdM07AQpFMLDSBK9fbKkJ3sFFr0COxG0f\\r\\nFpvckRIXm3Dbc7ZIg/BWeI2ecDZ/kZ4R367BBd0jPdlHuuYfAQ0imOxuwsuf1t6Ej1HU47PsJFUI\\r\\nskfi9GQNYaQzx6acck7J83ViJt3NgqxzWxpTGYTLOl3STaKvulWnk5+kax4J0CmCod6cGAxP0ZvD\\r\\nx43ZBSM98qrCjEEChbcivTnEkBUlwmh9RWlJ74g9yYNXlCb3SNfsI6BU6B8FOaUSP6Npvv7i/oP7\\r\\n4O3dh9+qTNL/MFv/Oo33s6bxsDmmTCuMnGqpAaUVmsZj5w1P49s9KEL4fBOKvbV2QT+iDWUmG8rU\\r\\nbChZ0BCGPqvfrw2FHzem6EQXihAzjGGRC4XvRL6sR5iksqhWxqbLbjt58tu+3Rh558kFCdI+MGDB\\r\\nWqf5ZvKcTM1zAuqE5ojYy57B65dKtwal2z8sp4rqxf5Q8kH8dH5VYc6CdEtuBdMtxGATlRE+20Rl\\r\\nQdq3iDyiI2UmR8rUfBcg6NZdTHvexoQdqeCDvEOkyoy8RQQzQ/Itfjxlo7gsfU4YNXbLqAkq322g\\r\\nyfJcjAVpT7kkWHPKnRwpU3OkgEKx3SIrlOx2eQqF4j1MsSQgcWW1ygzYageZIQqFGKXlNbdzRqiP\\r\\nYSQ0q3C3qFXoEwW6pA/FgrUuFpjJhzI1HwoIFMPEKRi8fr4PJQqPPEbySU6NvMXuSNzYtsYtsFB3\\r\\n0HIapk5BzozE4fm6oq+cGft0V369ZOEt6TmxYM2ZcfKcTJ/nBGEoM+7Xc8KtdDF7+Yu9KjMgM3Z4\\r\\nTgSDTFFG6GxTlATpECgJ1izQyXIyfZYThCGBEvvkKQSK9zGFHKz4DUmVGTC4hMwQgWITC6dQYv/M\\r\\nT6FLGlIsWLNCJ0PK9BlSEAZMUXj9YqYovEMqYUEvzrctFQ1KsDW+U4ATcuKEIV+eUTbbl2dB2iW4\\r\\noNdkJq/J9HlNECZ7ovDyp/VEWWOdd9IS0KpCkDtS8soRgmFPFEKYTqlpNFendOdTq07Zq27V6eQ0\\r\\nmT6nCcJQZ86MjyfozGErrXdyvRviI6UjlVEahbyQrpx4T8izZ3zO9uxJkA59kmCt+rSTcWT7jCMI\\r\\n06KTfQavX2ppXqOl+T+s2Uv6xSw4q0wWB6NV5uSlecycx+Vw4K3w11GE8flfR7HX1qxgFqxZwZO5\\r\\nZPvMJQhDCn5sc+mBCsbNMSmLnfCKMHfn5YvfmOJbuQQV3G4uMcJnm0ssSHtlp0c0l+xkLtk+cwnC\\r\\ndJISxBm8frvCPAq45IlxYKBtHH4WLeVR0OUPoxy12s4d1aDT7f9/s0E/bVkx228uSq7Ip1p1zdUw\\r\\nLUUMSotfq1SplHfyYSoNHGVgDP7uir2C6ndXBNwh7cesrbdTXK/PlYIwlKuX2if1SLkasmDL4Ff+\\r\\njqXCXAAb/zFzZLQBMUTJzLaqKnnR8nuPWH/PTvaV7bOvIAzM6+D1TzOvI61MOcgLZBVmHMq5eJsU\\r\\nzrm4gKCyMcrjYuIqlZHsqNQUx9/5wpeWVx5YkPZx8YJ1+uzkc9k+nwvCkEL363ORVpYXAXIpZwYZ\\r\\nsZgZolB4KzJzo0bX3JnbkkYXC9as0Mnosn1GF4HJCmV7q6SB7DcD1N1K56IEiZOVVBZXZ6tNB5V0\\r\\nEcxjBXYYWYyx2UYWC9KuwAWNLDsZWbbPyIIwlCP3W5sPt9J5X4bBokCrNQvF6nyYGZIjO3wuwuh8\\r\\n/4AFaVfogj6XnXwu2+dzQRj4dBpev9SM6WGfTmMWbA5WHOitqsyJvcUaM4c/nYYYsrq1RNU+FqR9\\r\\n4vSIW6/sZIjZPkMMwlDK3a8hhlvpUslL4oepfcysMTMk5eLHwxMnYkDNnzgtaYmxYK0p102WmOuz\\r\\nxCAMKBRe/zQKxa10JWc5ufh+FzNrzAxWKHk8qFDC6HyFsiDtFfgXtLzcZHm5PssLwpBCid/xFAqF\\r\\nrXRJlzGJqNAuZtaYGaJQfCtYEI0xOrsgGgnSoVASrFmhk4fl+jwsCAMeFrz+QD0sTMuwX0WcjK+q\\r\\nVIIjTzo8LIyJw45r8dwd8gqM9j5spezzaU5KetALFqBdzgvW93OTb+X6fCsGE+XMXJRvDtwrKUZt\\r\\nJ1FZjbMtk7ay9neHHWU1trJMBPKWwjG9DDXSR0ptcNuhvHbbY/T82EEOcYB2yXlRZWYoa7fvwCgI\\r\\ns9oeJ1m6COJctCLb5xDyr39/8eK28Av2gpRS2zyT5moVBfuf648bpsudY6D6XCgGE3VJXKj96xKb\\r\\nQEkbeZdqH29rDIswpSII0SWCEF0ym7BZlyhYTZeT9+T6vCcGE3VJnJL965LswNLKidv9q7yBfIlg\\r\\neIsghBBdIgjRJTMHm3WJgtV0OTlOrs9xYjBRl2Rr1f51SQ6QUuDrkypvQJcIVkbIx2JNlNcQQnSJ\\r\\nIESXbO9bsy5RsJouJx/K9flQDCbqkvhQ+9cldqmiT3LhvypvYG6EYOUVo3wJIViXCEJ0yYzCZl2i\\r\\nYDVdTu6T63OfGEzUJas/t3dd4sOiQnkIuR+vnhYl50voI5mM5j0IQnSJIESXrORisy5RsJouJxPJ\\r\\n9ZlIDCbqkphI+9clsZi0VnK+7LOYIGw4xgzoEkGILhGE6JLX+2vUJQpW0aWfrCPfZx0xmKRLeP0h\\r\\n6BI3xgVVgkq6rPImft6/xjAPz89FEKxLCMG6ZC+oWZcwWE2Xk2Hk+wwjBhN1yU4m2rsusZ0UnDLS\\r\\n4vaqypvcj0OYVWjeAyFElwhCdMkcvWZdomA1XU42ke+ziRhM1CXbZ7N3XTJPKMk796q8gfPGIQyu\\r\\nX0II0SWCEF2yQofNukTBarqc/B7f5/cwmKjLQ/Z7cGNKvvRBPJ20yhvIl9DvMQmMLyGE6LLd72Ev\\r\\nqF2XnX6Pn/we3+f3MJioy0P2e3BjXFIuyOPLPr8Hw3C+bPd7IITockm/Bwar6XLye3yf38Ngoi4P\\r\\n2e/BjbE2evHjiVWFt3BkxBoSEIb9cQghumz3e9gLatdlp9/jJ7/H9/k9DCbq8pD9HtwYF00Sy9+s\\r\\nqryB8SWE5XwsFpN4DSFEl+1+D3tB7brs9Hv85Pf4Pr+HwURdHrLfgxvjkrbyiWR9vK0hjOTLdr8H\\r\\nQogul/R7YLCaLie/x/f5PQwm6vKQ/R7cmJIvvbyuXuUN5Evo9yiL1ona/R4IIbpc0u+BwWq6nPwe\\r\\n3+f3MJioy0P2e3BjSr5M4mxk1cfbGsNiOhY3NL+GEKLLdr+HvaB2XXb6PWHye0Kf38Ngki7h9Yeg\\r\\nS9wYV96EuE141cfbGsKsQf04hGBdQgjWJXtBzbqEwWq6nPye0Of3MJioy0P2e3BjRl2K6+p9vK0x\\r\\nLLtjceb/GkKILtv9HvaC2nXZ6feEye8JfX4Pg4m6PGS/Bz6cttZ5sRsn7dfpSBsky3a7B0KILNvt\\r\\nHvZ+2mXZafeEye4JfXYPhIEiC/D6FwdRZAGz4KL3Xu7I+w5TwszhIgsYgwvZMMZnF7JhQZo3qLFg\\r\\nrYVswmQMhT5jiMFEBR+yMQQfThtrjBU/1CQE3JXAFUuBYVh0SL7txhCEkMy6pDEEg9Uy62QMhT5j\\r\\nCMLATnV4fS2TLrNTHbdS25zAULNWhE48wHCNmcE71TEGF1gijM4vsMSCtGfOBYvQhckiCn0WEYRp\\r\\nK60QnsHrX8w8F+TPfSfc4Obh1cwqJaBTR7Cg0K4KCEFHJlMa5x6ZTIJ0yHLBynRhcohCn0MEYShx\\r\\n7rcyHW6lS8mBtaM+DwgzQxInxOB6CITRefUQWIB2dS5YlS5MPlHo84kgTIud3Rm8fv7hnU1qhK3S\\r\\npYeTj6SrMOFLTy6qsf2YJUwe6cWXOGaJBWkX5ILHLIXJIAp9BhGEoXS536pyuJUumOjFqnJVZuSt\\r\\nFZgZki4xBh3qyQidfagnCdIhUBKstT+Pk1MUq46H1Jt8D2EgY8LrHydj4ttpp8VJ7YoQMZyfaGQi\\r\\n1hCGEybmDp9jADEvZpxjQMDt5TjZkzy0HGecnKJYdTxkXTaWkoPXP03ixK0s48wo192qMyOOMzEz\\r\\nOHHiW9lhx5yUoM8ZoyVl3lWJH5d8t6XORMUuWUqOBWvOnJNnFKuekaxQXEpOVijzJJ5AobCVNuks\\r\\nl+OsMiN+3LnGzBCFwluZXH6DxGKHhFET7njJKshFDhm4PZc+4ulGcbKRYtVGkpXaeLoRvH4pG+lh\\r\\npxthFgrTSRwGrirMBTQogMy5nJCS8elGTgXxLN1zwviAcdtcuz2RA9pI7LW1K/oRTzmKk60Uq7aS\\r\\nrOhGWwlefwi2Enw4HXNQ8uHLFd7KIFdcQYWwoc4CkHO7rQQh2FZiL6jZVoLBKrZSnGylWLWVZF02\\r\\n7jeC1x+ELnF9OZe1XF+uypt8qgeEEV227zeCEKLLJfcbwWA1XU5mUqyaSbIuG/cbwesPQpfYcSox\\r\\nwKJAlwm3xjD4gROEEF227zdiL6hdl537jeLkJsWqZyLrErtJsi6Z91Fyxf248ferT312Jm6I887K\\r\\nR81XGw+SHoL5iD5RIneCJeEJZ/NLwjPi2+fxC3pGcfKMYtUzkjWIPSN5dvTYJxk9cHaEdxcl52Q/\\r\\nvs6cnB0hc/jsV/J4XlkwOyKMK6vt/axomC15A2ZHS5pMLFizgieTKVZNJlnB0BYBa/iw2trjrOHD\\r\\nVg29dRbrwVaYQB8vQRhZxIfkYdcTYlpcTxakXZALnlSUJlMp9ZlKEAaWRuH1T7M0iltZmIpygfcq\\r\\nM1q05TEzeGkUY7IvOV1cvGeMfu30kyoDbe1FV/eCBGhXJwvWunCfJmsp9VlLEIbUuV9rCbfSldGD\\r\\n2DOv6syIHTpmhqgTW0uD8yUxes4Y/WotWRVFMV0QcIcyF7SU0mQppT5LCcKyNIE4g5cPv9xeue3I\\r\\nfvxZZtfen1qL+/d5H4mKAoV2T7BRLv9B+NnuN7KyPhEMd+/44UoPbcSP788Zr1rdrWqk0r1L6AuG\\r\\nbl6GJ8EevAyfJmMp9RlLEAYGnvD6xxl44lbZrKMRp0JVJsQZ1BrCiDI7fCKIafGJSJAOgT6iT5Qm\\r\\nnyj1+UQQhgQK/ZHHESi6XdauzI1EfdL9RAMR4sQIwog+4cOF4dtkUZ7cxdmedneXQK1X8icjJEiH\\r\\nPMkTPViek12U+uwiCEMj0f3uQsKPa33yUTSECDPD/jcN1kbxrchIFN8KLo4yRmcvjpIgHSPSBXch\\r\\npck4Sn3GEYSBxVF4/WEsjmIWCrfeilZ7hbmARgSQObw4ijFJOScOpc8J418VbJ3bdlypMCUreMkN\\r\\nSyxYs4Iniyn1WUwQhnLsfjcs4Va6lLJcrLuPmTVmhuRYiFFaiSX1zhmhPm6P0B2/0htoK+MyWaBL\\r\\n+k8sWLNAJ/8p9flPBCbP+h++Z0kUHjZmsi4zeVF4XS1eYxjWHbSalPLyJH6GaRSzAnJb0ixiwZrX\\r\\nmCazKPWZRRCGenTiLBxCjw6bE3PKYHWUM2ePxI2Xa3wr0qNDDN4iQhivbxFhr6t99sQ2Tz1w9pQn\\r\\nlyn3uUwQBnp2eP3T9Oy4lS6qmESXqcqMfNwBZgb37BiDtyITRudtRWYBmvMsC9barefJZcp9LhOE\\r\\ngaUneP3jLD3B2/mUnOzJEyKGpSd/pMVa8hCGl54wd9iTh5gWT54FadcjCdasx8lbyn3eEoShbLnf\\r\\n7Ur4cWMw4KP4CjPmyIiePL4VyZYYg3YiM0Jn70QmQToESoK1DkzzZCblPjMJwpBA2dE5TyBQUsyu\\r\\njO3E/XRVZuS6N5gZIlD8eMpGsQs6J4wau2XUBJUHpZYbZ3kpiQVpV+iCxezy5CblPjcJwnSSrj+D\\r\\n129XPEY+CxMjJeMO2kGxatsaNcyAyuR2u0hiTv9x8WOTOnELnS5jdFGdnBUHdntiVox1x+Ln668J\\r\\nk3Chk7E5e6GTBOlQJwnW3MFPZlLuM5MgDKmTWB+PrU68syjrBHJnFytrzApRJ2YSq7NuJM1Q55JG\\r\\nEgvWrM7JSMp9RhKEod6dbXB5gt4dPq5yOYgnDa0IM8P8KIGztvCtSO+OHw8twzNCZy/DkyAdAl3Q\\r\\nJ8qTT5T7fCICE5fh4fUPW4bHj6Hd0HWLwuMtRh/L4xZYqDto/5CJOXFb5k/Ml/R/WLBm4U3+T+7z\\r\\nfyAMZUZ2dM4TZEZ4PpAZtm6K+sTEDInRolVMSAxJjLiGHazhTQidX8ObBWkX6IKOUZ4co9znGDGY\\r\\nKNBDPuQIN8aFpJM8MapWuJP1iw85gvJtP+QIQvDmYfaCmjcPw2CVzcNl9nAvzOHPPcqkOEmaGHAI\\r\\n2iTNcclGcRPAagZ34rf0GDfUXJDPOsIYrE+MwQKlr6lZoThaVaJ6R6J9NhDFyRI95DOPSHPi0EnK\\r\\nCuXGkQF+O8bpMlwBxxdiEJNo+8FH9DV1SLTz6COtzI5E+5whipMlesjHH5HmuBSVuBi2msEdyKIQ\\r\\nB0/mwhgm0fZDkOhr6pBo5zFIWtkdifZ5QxQnS5S4QwcgUezODBIVZ/kzuAMShbuuVIIdPcIwiSIM\\r\\nkygz8doliqJVJep2JNpnDlGcLNFDLkpHmuNSDkGc6Hdyt8Y4m9OxKOvXGMMk2l6Zjr6mDol21qbT\\r\\nyu9ItM8hojhZoodcn440p0hU9rhXndytCS664yBtAXmNMUyi7UXq6GvqkGhnmTqtwo5E+2wiipMl\\r\\nesil6khzXB6cJFmiXdytMc46nEXby9VhDJPokgXrcLSqROOORPuMIowDX9BjwIuD+IQeP18supfL\\r\\n3zDytvuQlbgmSsjDH9ETELQ7Genz/U766pqX9Wm0VuNJq7Qj5T7rCePkgiP4+hdPWnEEPwdTLHeh\\r\\nsGLbT1LCGCZY4us1CHZJH4q/72bB5h3B9llRGAe+qseAx/msnjygMzlmsECK2Rg2yZsjsSNeYxyT\\r\\nZke9Owxq8fBplA5tLljyTusdM0p3mlEMJ2oTAg5i6Aqfrog/yocdMwq2Tj/IsRgHjzvGGDJyhRgy\\r\\ncmVvqX3kCqPVRq56x4vSnV4Uw8kKPWgvCjfHZR3FbcGrTu7WBAfdfIxhEu3wothr6pBorxeld7wo\\r\\n3elFMZws0YP2onBzSndp5BJPndytMY44+hDDJNrhRbHX1CHRXi9K73hRutOLgjhtxA/2MGCp+f8f\\r\\npvlf5/921vwfNyiVyYq8WaTGnkVjVnYzuACAb4arhlPaZ5cNp1HaB60sWvugdce10p2uFcSBr08x\\r\\n4Gk+PyUNLdnaWnmCVWVH/KJ/TdjBn6ASEJ78M1bnT/5JlB6tLri9Sesd+0p32lcQB7W633p55IG9\\r\\n11ms/rGqsaPBgd/kZjrH4yw7VIRSuNWJ0jp7rxOL0iPWBXc7ab1jZOlOIwvioFj3u+OJNNQNxzSA\\r\\nUUCNHS1uPSHssMQKb4ZLjVNaq7XGGbpHpCRa63f9Wu9YWbrTyoI4tJwKAY+0nIob5vJQEE8WZV89\\r\\nPIwjy6n4Xro0TtyvdY5BL4ZSEO7uaGVz19t7kZsLFqVHm0t6U3rHm9Kd3hTByeYUBDxsRx55EJeD\\r\\nFTd1rjpbvSaNgJvyMIYt6UNQ05I+i9KhwSXtJr1jN+lOuwnigD8Kr39ifxS3VycrD0BWNZI8qP+A\\r\\ncSxt9rhQjN0GyS7qQtE33ipZs+NCmU4XiuDkcScEvGB1H6aTFXfXWEUxwhtY7bKS0ydpxXbLCEif\\r\\nEOfxsBJimBYZa/O1yKK0a5FFm63Fk8/vNpvbHy5vL1+9/HT5dvPflzdvrz5+fvZ+80uJrY6HQ2xv\\r\\nrt6+u//L7fWnIt3nz366vr29/jD+8d3m8s3mZrig/P8v19e3X/9yUuJ/ub75dbzHq/8HUEsDBBQA\\r\\nAAAIABqC9lC0zxz5dgEAAEYDAAANAAAAeGwvc3R5bGVzLnhtbKVTTWvDMAz9K8Y/YGkKK2wkOWxQ\\r\\nGGyj0B52dRulMfgjs5XS7NdPttNkocedrPckPT05TuFxULBvAZBdtTK+5C1i95xl/tSCFv7BdmAo\\r\\n01inBRJ058x3DkTtQ5NW2Xq12mRaSMOrwvR6q9Gzk+0NlnzFs6porJmZnCeCSoUGdhGq5K9CyaOT\\r\\nsVZoqYZErwNxsso6hmQFQjMx/iel84SCy1FHS2NdILM0IR6eRKVSk4E1T0RVdAIRnNkSiD2RvEux\\r\\nMT4MHTk4OzHk60c+N8SDhhytq8Et9kxUVShokBqcPLfhRNtlIYloNQW1FGdrRPRw6xgDkj2BUvvw\\r\\nib6ahfa1Yemu3+pwzSysegvJ0BgmmQSC/l+1pP1vWdbJi8WXnrYxEX/3FmHnoJHXiK/Ncv40OhpZ\\r\\nTJ9YFh5HyT/Dm1OzBDv2UqE0I2plXYO5243kURzpUS/0qb6GRvQKD1Oy5HP8AbXs9dNUtQtrjVVz\\r\\n/B6+Yb6JA+c/p/oFUEsDBBQAAAAIABqC9lCXirscwAAAABMCAAALAAAAX3JlbHMvLnJlbHOdkrlu\\r\\nwzAMQH/F0J4wB9AhiDNl8RYE+QFWog/YEgWKRZ2/r9qlcZALGXk9PBLcHmlA7TiktoupGP0QUmla\\r\\n1bgBSLYlj2nOkUKu1CweNYfSQETbY0OwWiw+QC4ZZre9ZBanc6RXiFzXnaU92y9PQW+ArzpMcUJp\\r\\nSEszDvDN0n8y9/MMNUXlSiOVWxp40+X+duBJ0aEiWBaaRcnToh2lfx3H9pDT6a9jIrR6W+j5cWhU\\r\\nCo7cYyWMcWK0/jWCyQ/sfgBQSwMEFAAAAAgAGoL2UCoZxedIAQAAKQIAAA8AAAB4bC93b3JrYm9v\\r\\nay54bWyNUUFOwzAQ/ErkB5C2gkpUTS9UQCUEFUW9O8mGrGp7o/W2hf6BY3/AGcGV/1C+gZMoohIX\\r\\nTvbMrsYz4/GWeJUSraIna5xPVClSjeLYZyVY7U+oAhcmBbHVEiA/xr5i0LkvAcSaeNDrDWOr0anJ\\r\\nuNOac3wMSCATJBfImlgibP3vvIbRBj2maFCeE9XcDajIokOLO8gT1VORL2l7TYw7cqLNImMyJlH9\\r\\ndrAEFsz+0Iva5INOfcOITu91MJKoYS8IFshemo1GXwePGwjLLVoLXaIR4KkWuGJaV+gea5mQIj6K\\r\\n0fTQnW2JI/5PjVQUmMGUsrUFJ22PDKY26HyJlVeR0xYSddi/H17evj7236+fdazwzixvI0rwdlQY\\r\\njzAMeJa3LjtrORToIL8Naj7woaZszlF9NDqD07P+eahjbcxF4O7cDem8S9r90uQHUEsDBBQAAAAI\\r\\nABqC9lAkHpuirQAAAPgBAAAaAAAAeGwvX3JlbHMvd29ya2Jvb2sueG1sLnJlbHO1kT0OgzAMha8S\\r\\n5QA1UKlDBUxdWCsuEAXzIxISxa4Kty+FAZA6dGGyni1/78lOn2gUd26gtvMkRmsGymTL7O8ApFu0\\r\\nii7O4zBPahes4lmGBrzSvWoQkii6QdgzZJ7umaKcPP5DdHXdaXw4/bI48A8wvF3oqUVkKUoVGuRM\\r\\nwmi2NsFS4stMlqKoMhmKKpZwWiDiySBtaVZ9sE9OtOd5Fzf3Ra7N4wmu3wxweHT+AVBLAwQUAAAA\\r\\nCAAagvZQZZB5khkBAADPAwAAEwAAAFtDb250ZW50X1R5cGVzXS54bWytk01OwzAQha8SZVslLixY\\r\\noKYbYAtdcAFjTxqr/pNnWtLbM07aSqASFYVNrHjevM+el6zejxGw6J312JQdUXwUAlUHTmIdIniu\\r\\ntCE5SfyatiJKtZNbEPfL5YNQwRN4qih7lOvVM7Ryb6l46XkbTfBNmcBiWTyNwsxqShmjNUoS18XB\\r\\n6x+U6kSouXPQYGciLlhQiquEXPkdcOp7O0BKRkOxkYlepWOV6K1AOlrAetriyhlD2xoFOqi945Ya\\r\\nYwKpsQMgZ+vRdDFNJp4wjM+72fzBZgrIyk0KETmxBH/HnSPJ3VVkI0hkpq94IbL17PtBTluDvpHN\\r\\n4/0MaTfkgWJY5s/4e8YX/xvO8RHC7r8/sbzWThp/5ovhP15/AVBLAQIUABQAAAAIABqC9lAHQU1i\\r\\ngQAAALEAAAAQAAAAAAAAAAAAAACAAQAAAABkb2NQcm9wcy9hcHAueG1sUEsBAhQAFAAAAAgAGoL2\\r\\nUMSpP//uAAAAKwIAABEAAAAAAAAAAAAAAIABrwAAAGRvY1Byb3BzL2NvcmUueG1sUEsBAhQAFAAA\\r\\nAAgAGoL2UJlcnCMQBgAAnCcAABMAAAAAAAAAAAAAAIABzAEAAHhsL3RoZW1lL3RoZW1lMS54bWxQ\\r\\nSwECFAAUAAAACAAagvZQUEvkZ60cAAAUPgEAGAAAAAAAAAAAAAAAtoENCAAAeGwvd29ya3NoZWV0\\r\\ncy9zaGVldDEueG1sUEsBAhQAFAAAAAgAGoL2ULTPHPl2AQAARgMAAA0AAAAAAAAAAAAAAIAB8CQA\\r\\nAHhsL3N0eWxlcy54bWxQSwECFAAUAAAACAAagvZQl4q7HMAAAAATAgAACwAAAAAAAAAAAAAAgAGR\\r\\nJgAAX3JlbHMvLnJlbHNQSwECFAAUAAAACAAagvZQKhnF50gBAAApAgAADwAAAAAAAAAAAAAAgAF6\\r\\nJwAAeGwvd29ya2Jvb2sueG1sUEsBAhQAFAAAAAgAGoL2UCQem6KtAAAA+AEAABoAAAAAAAAAAAAA\\r\\nAIAB7ygAAHhsL19yZWxzL3dvcmtib29rLnhtbC5yZWxzUEsBAhQAFAAAAAgAGoL2UGWQeZIZAQAA\\r\\nzwMAABMAAAAAAAAAAAAAAIAB1CkAAFtDb250ZW50X1R5cGVzXS54bWxQSwUGAAAAAAkACQA+AgAA\\r\\nHisAAAAA\\r\\n\\r\\n--===============2686353223500112754==--\\r\\n.\\r\\n'\n"
     ]
    },
    {
     "name": "stdout",
     "output_type": "stream",
     "text": [
      "邮件发送成功\n",
      "2020-07-22 16:16:55.308578\n"
     ]
    },
    {
     "name": "stderr",
     "output_type": "stream",
     "text": [
      "reply: b'250 Ok: queued as \\r\\n'\n",
      "reply: retcode (250); Msg: b'Ok: queued as'\n",
      "data: (250, b'Ok: queued as')\n",
      "send: 'quit\\r\\n'\n",
      "reply: b'221 Bye\\r\\n'\n",
      "reply: retcode (221); Msg: b'Bye'\n"
     ]
    }
   ],
   "source": [
    "path = \"email_data\"\n",
    "main(path)"
   ]
  },
  {
   "cell_type": "code",
   "execution_count": null,
   "metadata": {},
   "outputs": [],
   "source": []
  },
  {
   "cell_type": "code",
   "execution_count": null,
   "metadata": {},
   "outputs": [],
   "source": []
  }
 ],
 "metadata": {
  "kernelspec": {
   "display_name": "Python 3",
   "language": "python",
   "name": "python3"
  },
  "language_info": {
   "codemirror_mode": {
    "name": "ipython",
    "version": 3
   },
   "file_extension": ".py",
   "mimetype": "text/x-python",
   "name": "python",
   "nbconvert_exporter": "python",
   "pygments_lexer": "ipython3",
   "version": "3.7.6"
  },
  "latex_envs": {
   "LaTeX_envs_menu_present": true,
   "autoclose": false,
   "autocomplete": true,
   "bibliofile": "biblio.bib",
   "cite_by": "apalike",
   "current_citInitial": 1,
   "eqLabelWithNumbers": true,
   "eqNumInitial": 1,
   "hotkeys": {
    "equation": "Ctrl-E",
    "itemize": "Ctrl-I"
   },
   "labels_anchors": false,
   "latex_user_defs": false,
   "report_style_numbering": false,
   "user_envs_cfg": false
  },
  "toc": {
   "base_numbering": 1,
   "nav_menu": {},
   "number_sections": true,
   "sideBar": true,
   "skip_h1_title": false,
   "title_cell": "Table of Contents",
   "title_sidebar": "Contents",
   "toc_cell": false,
   "toc_position": {},
   "toc_section_display": true,
   "toc_window_display": false
  }
 },
 "nbformat": 4,
 "nbformat_minor": 4
}
