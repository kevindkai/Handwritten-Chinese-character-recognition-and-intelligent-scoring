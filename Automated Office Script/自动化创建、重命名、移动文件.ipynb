{
 "cells": [
  {
   "cell_type": "markdown",
   "metadata": {},
   "source": [
    "# 创建文件夹\n"
   ]
  },
  {
   "cell_type": "code",
   "execution_count": null,
   "metadata": {},
   "outputs": [],
   "source": [
    "import os\n",
    "for i in range(5,10):\n",
    "    os.makedirs(\"ruan{}\".format(i))"
   ]
  },
  {
   "cell_type": "markdown",
   "metadata": {},
   "source": [
    "# 重命名文件夹"
   ]
  },
  {
   "cell_type": "code",
   "execution_count": null,
   "metadata": {},
   "outputs": [],
   "source": [
    "import os # 导入os模块\n",
    "from tqdm import tqdm  # tqdm进度条模块\n",
    "train_path = ''\n",
    "\n",
    "\n",
    "train_ids = os.listdir(train_path)\n",
    "\n",
    "for i in range(len(train_ids)):\n",
    "    old_train_name =  train_path+\"/\"+train_ids[i]  #旧文件名称（加地址）\n",
    "    new_train_name = train_path+\"/\"+\"d\"+ str(i+1) + '.jpg'  #新文件名称（加地址）\n",
    "    os.rename(old_train_name,new_train_name)"
   ]
  },
  {
   "cell_type": "markdown",
   "metadata": {},
   "source": [
    "# 移动文件"
   ]
  },
  {
   "cell_type": "code",
   "execution_count": null,
   "metadata": {},
   "outputs": [],
   "source": [
    "import os,shutil\n",
    "train_dirs = os.listdir(\"testdata9\")\n",
    "for i in train_dirs:\n",
    "    i = i.split(\".\")[0]\n",
    "    i = i.split(\"-\")[1]\n",
    "    orgin_path = \"testdata9/img9-{}.jpg\".format(i)\n",
    "    target_path = \"testdf/{}\".format(i)\n",
    "    shutil.move(orgin_path,target_path)"
   ]
  }
 ],
 "metadata": {
  "kernelspec": {
   "display_name": "Python 3.7.4 64-bit ('base': conda)",
   "language": "python",
   "name": "python37464bitbasecondad8faa91d1f494fd1bc5bfb220e602d60"
  },
  "language_info": {
   "codemirror_mode": {
    "name": "ipython",
    "version": 3
   },
   "file_extension": ".py",
   "mimetype": "text/x-python",
   "name": "python",
   "nbconvert_exporter": "python",
   "pygments_lexer": "ipython3",
   "version": "3.7.7"
  },
  "latex_envs": {
   "LaTeX_envs_menu_present": true,
   "autoclose": false,
   "autocomplete": true,
   "bibliofile": "biblio.bib",
   "cite_by": "apalike",
   "current_citInitial": 1,
   "eqLabelWithNumbers": true,
   "eqNumInitial": 1,
   "hotkeys": {
    "equation": "Ctrl-E",
    "itemize": "Ctrl-I"
   },
   "labels_anchors": false,
   "latex_user_defs": false,
   "report_style_numbering": false,
   "user_envs_cfg": false
  },
  "toc": {
   "base_numbering": 1,
   "nav_menu": {},
   "number_sections": true,
   "sideBar": true,
   "skip_h1_title": false,
   "title_cell": "Table of Contents",
   "title_sidebar": "Contents",
   "toc_cell": false,
   "toc_position": {},
   "toc_section_display": true,
   "toc_window_display": false
  }
 },
 "nbformat": 4,
 "nbformat_minor": 4
}
