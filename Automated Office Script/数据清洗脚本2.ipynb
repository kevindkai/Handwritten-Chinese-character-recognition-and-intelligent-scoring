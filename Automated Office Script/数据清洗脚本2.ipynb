{
 "cells": [
  {
   "cell_type": "markdown",
   "metadata": {},
   "source": [
    "# 加周数"
   ]
  },
  {
   "cell_type": "code",
   "execution_count": 31,
   "metadata": {
    "ExecuteTime": {
     "end_time": "2020-08-05T07:49:04.807316Z",
     "start_time": "2020-08-05T07:49:03.434846Z"
    }
   },
   "outputs": [
    {
     "data": {
      "text/html": [
       "<div>\n",
       "<style scoped>\n",
       "    .dataframe tbody tr th:only-of-type {\n",
       "        vertical-align: middle;\n",
       "    }\n",
       "\n",
       "    .dataframe tbody tr th {\n",
       "        vertical-align: top;\n",
       "    }\n",
       "\n",
       "    .dataframe thead th {\n",
       "        text-align: right;\n",
       "    }\n",
       "</style>\n",
       "<table border=\"1\" class=\"dataframe\">\n",
       "  <thead>\n",
       "    <tr style=\"text-align: right;\">\n",
       "      <th></th>\n",
       "      <th>采集日期</th>\n",
       "      <th>采集人</th>\n",
       "      <th>商品信息</th>\n",
       "      <th>店铺名</th>\n",
       "      <th>商品ID</th>\n",
       "      <th>日期</th>\n",
       "      <th>行业排名</th>\n",
       "      <th>交易金额</th>\n",
       "      <th>访客人数</th>\n",
       "      <th>搜索人数</th>\n",
       "      <th>搜索占比</th>\n",
       "      <th>uv价值</th>\n",
       "      <th>类别</th>\n",
       "    </tr>\n",
       "  </thead>\n",
       "  <tbody>\n",
       "    <tr>\n",
       "      <th>0</th>\n",
       "      <td>2020/8/3</td>\n",
       "      <td>zyc</td>\n",
       "      <td>六品堂田字格钢笔练字本米字格方格纸硬笔书法作品专用纸成人儿童小学生练字纸书法纸书写纸练习纸用...</td>\n",
       "      <td>六品堂旗舰店</td>\n",
       "      <td>527188951215</td>\n",
       "      <td>2018-07-02~2018-07-08</td>\n",
       "      <td>1 未上榜</td>\n",
       "      <td>173108</td>\n",
       "      <td>57910</td>\n",
       "      <td>63321</td>\n",
       "      <td>109.34%</td>\n",
       "      <td>2.99</td>\n",
       "      <td>书法用纸</td>\n",
       "    </tr>\n",
       "    <tr>\n",
       "      <th>1</th>\n",
       "      <td>2020/8/3</td>\n",
       "      <td>zyc</td>\n",
       "      <td>20本米字格硬笔书法纸小学生练字本回宫格钢笔练习专用纸田字格用纸书写楷书作品字帖初学者10本...</td>\n",
       "      <td>驰海办公专营店</td>\n",
       "      <td>529773982802</td>\n",
       "      <td>2018-07-02~2018-07-08</td>\n",
       "      <td>2 未上榜</td>\n",
       "      <td>83044</td>\n",
       "      <td>53149</td>\n",
       "      <td>55092</td>\n",
       "      <td>103.66%</td>\n",
       "      <td>1.56</td>\n",
       "      <td>书法用纸</td>\n",
       "    </tr>\n",
       "    <tr>\n",
       "      <th>2</th>\n",
       "      <td>2020/8/3</td>\n",
       "      <td>zyc</td>\n",
       "      <td>米字格硬笔书法练字本小学生田字格方格作品纸成人钢笔专用练字纸</td>\n",
       "      <td>书行文创</td>\n",
       "      <td>571889133478</td>\n",
       "      <td>2018-07-02~2018-07-08</td>\n",
       "      <td>3 未上榜</td>\n",
       "      <td>48595</td>\n",
       "      <td>24174</td>\n",
       "      <td>11101</td>\n",
       "      <td>45.92%</td>\n",
       "      <td>2.01</td>\n",
       "      <td>书法用纸</td>\n",
       "    </tr>\n",
       "    <tr>\n",
       "      <th>3</th>\n",
       "      <td>2020/8/3</td>\n",
       "      <td>zyc</td>\n",
       "      <td>米字格硬笔书法练字本小学生田字格作品纸成人钢笔专用练字纸批发</td>\n",
       "      <td>得力办公文具尚诚店</td>\n",
       "      <td>43029501186</td>\n",
       "      <td>2018-07-02~2018-07-08</td>\n",
       "      <td>4 未上榜</td>\n",
       "      <td>58176</td>\n",
       "      <td>19740</td>\n",
       "      <td>26016</td>\n",
       "      <td>131.79%</td>\n",
       "      <td>2.95</td>\n",
       "      <td>书法用纸</td>\n",
       "    </tr>\n",
       "    <tr>\n",
       "      <th>4</th>\n",
       "      <td>2020/8/3</td>\n",
       "      <td>zyc</td>\n",
       "      <td>【20本装】米字格硬笔书法纸练字本田字格本小学生钢笔用作品纸</td>\n",
       "      <td>鑫宏源办公用品专营店</td>\n",
       "      <td>556767923059</td>\n",
       "      <td>2018-07-02~2018-07-08</td>\n",
       "      <td>5 未上榜</td>\n",
       "      <td>17107</td>\n",
       "      <td>19291</td>\n",
       "      <td>19795</td>\n",
       "      <td>102.61%</td>\n",
       "      <td>0.89</td>\n",
       "      <td>书法用纸</td>\n",
       "    </tr>\n",
       "  </tbody>\n",
       "</table>\n",
       "</div>"
      ],
      "text/plain": [
       "       采集日期  采集人                                               商品信息  \\\n",
       "0  2020/8/3  zyc  六品堂田字格钢笔练字本米字格方格纸硬笔书法作品专用纸成人儿童小学生练字纸书法纸书写纸练习纸用...   \n",
       "1  2020/8/3  zyc  20本米字格硬笔书法纸小学生练字本回宫格钢笔练习专用纸田字格用纸书写楷书作品字帖初学者10本...   \n",
       "2  2020/8/3  zyc                     米字格硬笔书法练字本小学生田字格方格作品纸成人钢笔专用练字纸   \n",
       "3  2020/8/3  zyc                     米字格硬笔书法练字本小学生田字格作品纸成人钢笔专用练字纸批发   \n",
       "4  2020/8/3  zyc                     【20本装】米字格硬笔书法纸练字本田字格本小学生钢笔用作品纸   \n",
       "\n",
       "          店铺名          商品ID                     日期   行业排名    交易金额   访客人数  \\\n",
       "0      六品堂旗舰店  527188951215  2018-07-02~2018-07-08  1 未上榜  173108  57910   \n",
       "1     驰海办公专营店  529773982802  2018-07-02~2018-07-08  2 未上榜   83044  53149   \n",
       "2        书行文创  571889133478  2018-07-02~2018-07-08  3 未上榜   48595  24174   \n",
       "3   得力办公文具尚诚店   43029501186  2018-07-02~2018-07-08  4 未上榜   58176  19740   \n",
       "4  鑫宏源办公用品专营店  556767923059  2018-07-02~2018-07-08  5 未上榜   17107  19291   \n",
       "\n",
       "    搜索人数     搜索占比  uv价值    类别  \n",
       "0  63321  109.34%  2.99  书法用纸  \n",
       "1  55092  103.66%  1.56  书法用纸  \n",
       "2  11101   45.92%  2.01  书法用纸  \n",
       "3  26016  131.79%  2.95  书法用纸  \n",
       "4  19795  102.61%  0.89  书法用纸  "
      ]
     },
     "execution_count": 31,
     "metadata": {},
     "output_type": "execute_result"
    }
   ],
   "source": [
    "import pandas as pd\n",
    "data = pd.read_csv(\"商品_高流量_20200802.csv\",encoding='utf8')\n",
    "data.head(5)"
   ]
  },
  {
   "cell_type": "code",
   "execution_count": 27,
   "metadata": {
    "ExecuteTime": {
     "end_time": "2020-08-05T06:58:03.177504Z",
     "start_time": "2020-08-05T06:55:50.878445Z"
    }
   },
   "outputs": [
    {
     "name": "stderr",
     "output_type": "stream",
     "text": [
      "C:\\anaconda\\lib\\site-packages\\ipykernel_launcher.py:11: SettingWithCopyWarning: \n",
      "A value is trying to be set on a copy of a slice from a DataFrame\n",
      "\n",
      "See the caveats in the documentation: https://pandas.pydata.org/pandas-docs/stable/user_guide/indexing.html#returning-a-view-versus-a-copy\n",
      "  # This is added back by InteractiveShellApp.init_path()\n",
      "C:\\anaconda\\lib\\site-packages\\ipykernel_launcher.py:12: SettingWithCopyWarning: \n",
      "A value is trying to be set on a copy of a slice from a DataFrame\n",
      "\n",
      "See the caveats in the documentation: https://pandas.pydata.org/pandas-docs/stable/user_guide/indexing.html#returning-a-view-versus-a-copy\n",
      "  if sys.path[0] == '':\n"
     ]
    }
   ],
   "source": [
    "from datetime import datetime\n",
    "data[\"周数\"]= 0\n",
    "data[\"年度周数\"]= 0\n",
    "for i in range(len(data)):\n",
    "    date = data[\"日期\"][i]\n",
    "    time = date.split(\"~\")[0]\n",
    "    year,month,day = time.split(\"-\")\n",
    "    year,month,day = int(year),int(month),int(day)\n",
    "    week = datetime(year,month,day).isocalendar()[1]\n",
    "    week = str(week).zfill(1)\n",
    "    data[\"周数\"][i] = week\n",
    "    data[\"年度周数\"][i] = str(year)+week"
   ]
  },
  {
   "cell_type": "code",
   "execution_count": 30,
   "metadata": {
    "ExecuteTime": {
     "end_time": "2020-08-05T07:00:47.908128Z",
     "start_time": "2020-08-05T07:00:45.134206Z"
    }
   },
   "outputs": [],
   "source": [
    "data.to_csv(\"商品_高流量_加周数20200802.csv\",encoding=\"utf-8-sig\",index=None)"
   ]
  },
  {
   "cell_type": "markdown",
   "metadata": {},
   "source": [
    "# 去掉金额分隔符"
   ]
  },
  {
   "cell_type": "code",
   "execution_count": 55,
   "metadata": {
    "ExecuteTime": {
     "end_time": "2020-08-05T09:41:21.212596Z",
     "start_time": "2020-08-05T09:41:20.967109Z"
    }
   },
   "outputs": [],
   "source": [
    "import pandas as pd\n",
    "import os\n",
    "df={}\n",
    "names = os.listdir(\"jdlb\")\n",
    "# 读入数据并存储\n",
    "for name in names:\n",
    "    df[name]=pd.read_csv(\"jdlb/{}\".format(name))\n",
    "    df[name][\"采集日期\"]= \"2020-08-05\"\n",
    "    df[name][\"负责人\"]= \"zyc\"\n",
    "    df[name].dropna(axis=0,how=\"any\",inplace=True)\n",
    "dp=[] \n",
    "dfs=pd.DataFrame(dp)\n",
    "# 将多个dataframe合并\n",
    "for name in names:\n",
    "    dfs=dfs.append(df[name])\n",
    "    \n",
    "# 去掉千分位    \n",
    "colnames = [\"交易金额\",\"访客人数\",\"搜索人数\",\"收藏人数\",\"加购人数\",\"支付人数\"]\n",
    "for colname in colnames:\n",
    "    dfs[colname]=dfs[colname].str.replace(',', '').astype(float)\n",
    "    \n",
    "# 更换列的顺序    \n",
    "cols = list(dfs)\n",
    "cols.insert(0,cols.pop(cols.index('采集日期')))\n",
    "cols.insert(1,cols.pop(cols.index('负责人')))\n",
    "dfs = dfs.loc[:,cols]\n",
    "# 保存数据\n",
    "dfs.to_csv(\"去分隔符.csv\",encoding=\"utf-8-sig\",index=None)"
   ]
  },
  {
   "cell_type": "markdown",
   "metadata": {},
   "source": [
    "# 根据文件大小进行分类"
   ]
  },
  {
   "cell_type": "code",
   "execution_count": 77,
   "metadata": {
    "ExecuteTime": {
     "end_time": "2020-08-06T02:23:33.967334Z",
     "start_time": "2020-08-06T02:23:33.033661Z"
    }
   },
   "outputs": [],
   "source": [
    "import os,shutil\n",
    "# 创建“93k”和“13k”文件夹，分别存放大文件和小文件\n",
    "large_path = \"93k\"\n",
    "small_path = \"3k\"\n",
    "# 原始存放数据路径\n",
    "path = \"竞店分析\"\n",
    "files = os.listdir(path)\n",
    "for file in files:\n",
    "    file_path = path+\"/\"+file\n",
    "    fsize = os.path.getsize(file_path)//1024\n",
    "    if fsize>50:\n",
    "        shutil.move(file_path,large_path)\n",
    "    else:\n",
    "        shutil.move(file_path,small_path)"
   ]
  },
  {
   "cell_type": "code",
   "execution_count": 81,
   "metadata": {
    "ExecuteTime": {
     "end_time": "2020-08-06T02:32:59.375316Z",
     "start_time": "2020-08-06T02:32:26.812135Z"
    }
   },
   "outputs": [],
   "source": [
    "import pandas as pd\n",
    "import os\n",
    "df={}\n",
    "names = os.listdir(large_path)\n",
    "# 读入数据并存储\n",
    "for name in names:\n",
    "    df[name]=pd.read_csv(large_path+\"/{}\".format(name))\n",
    "    df[name][\"采集日期\"]= \"2020-08-05\"\n",
    "    df[name][\"负责人\"]= \"zyc\"\n",
    "    df[name].dropna(axis=0,how=\"any\",inplace=True)\n",
    "dp=[] \n",
    "dfs=pd.DataFrame(dp)\n",
    "# 将多个dataframe合并\n",
    "for name in names:\n",
    "    dfs=dfs.append(df[name])\n",
    "\n",
    "    \n",
    "# 更换列的顺序    \n",
    "cols = list(dfs)\n",
    "cols.insert(0,cols.pop(cols.index('采集日期')))\n",
    "cols.insert(1,cols.pop(cols.index('负责人')))\n",
    "dfs = dfs.loc[:,cols]\n",
    "# 保存数据\n",
    "dfs.to_csv(\"93k.csv\",encoding=\"utf-8-sig\",index=None)"
   ]
  },
  {
   "cell_type": "markdown",
   "metadata": {},
   "source": [
    "# 新增品类"
   ]
  },
  {
   "cell_type": "code",
   "execution_count": 86,
   "metadata": {
    "ExecuteTime": {
     "end_time": "2020-08-06T03:37:16.367957Z",
     "start_time": "2020-08-06T03:37:16.248114Z"
    }
   },
   "outputs": [],
   "source": [
    "import pandas as pd\n",
    "import os\n",
    "df={}\n",
    "path = \"生意参谋市场高流量\"\n",
    "names = os.listdir(path)\n",
    "# 读入数据并存储\n",
    "for name in names:\n",
    "    df[name]=pd.read_csv(path+\"/{}\".format(name))\n",
    "    cls = name.split(\".\")[0].split(\"_\")[-1]\n",
    "    df[name][\"采集日期\"]= \"2020-08-05\"\n",
    "    df[name][\"负责人\"]= \"zyc\"\n",
    "    if cls==\"练字板\": \n",
    "        df[name][\"品类\"]=\"练字帖/练字板\"\n",
    "    elif cls==\"硫酸纸\":\n",
    "        df[name][\"品类\"]=\"描图/硫酸纸\"\n",
    "    else:\n",
    "        df[name][\"品类\"]=cls\n",
    "    df[name].dropna(axis=0,how=\"any\",inplace=True)\n",
    "dp=[] \n",
    "dfs=pd.DataFrame(dp)\n",
    "# 将多个dataframe合并\n",
    "for name in names:\n",
    "    dfs=dfs.append(df[name])\n",
    "\n",
    "# 去掉千分位    \n",
    "colnames = [\"访客人数\",\"搜索人数\",\"交易金额\"]\n",
    "for colname in colnames:\n",
    "    dfs[colname]=dfs[colname].str.replace(',', '').astype(float)\n",
    "    \n",
    "# 更换列的顺序    \n",
    "cols = list(dfs)\n",
    "cols.insert(0,cols.pop(cols.index('采集日期')))\n",
    "cols.insert(1,cols.pop(cols.index('负责人')))\n",
    "dfs = dfs.loc[:,cols]\n",
    "# 保存数据\n",
    "dfs.to_csv(\"生意参谋市场高流量.csv\",encoding=\"utf-8-sig\",index=None)"
   ]
  },
  {
   "cell_type": "code",
   "execution_count": null,
   "metadata": {},
   "outputs": [],
   "source": []
  }
 ],
 "metadata": {
  "kernelspec": {
   "display_name": "Python 3",
   "language": "python",
   "name": "python3"
  },
  "language_info": {
   "codemirror_mode": {
    "name": "ipython",
    "version": 3
   },
   "file_extension": ".py",
   "mimetype": "text/x-python",
   "name": "python",
   "nbconvert_exporter": "python",
   "pygments_lexer": "ipython3",
   "version": "3.7.7"
  },
  "latex_envs": {
   "LaTeX_envs_menu_present": true,
   "autoclose": false,
   "autocomplete": true,
   "bibliofile": "biblio.bib",
   "cite_by": "apalike",
   "current_citInitial": 1,
   "eqLabelWithNumbers": true,
   "eqNumInitial": 1,
   "hotkeys": {
    "equation": "Ctrl-E",
    "itemize": "Ctrl-I"
   },
   "labels_anchors": false,
   "latex_user_defs": false,
   "report_style_numbering": false,
   "user_envs_cfg": false
  },
  "toc": {
   "base_numbering": 1,
   "nav_menu": {},
   "number_sections": true,
   "sideBar": true,
   "skip_h1_title": false,
   "title_cell": "Table of Contents",
   "title_sidebar": "Contents",
   "toc_cell": false,
   "toc_position": {},
   "toc_section_display": true,
   "toc_window_display": true
  }
 },
 "nbformat": 4,
 "nbformat_minor": 4
}
