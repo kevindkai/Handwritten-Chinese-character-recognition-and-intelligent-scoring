{
 "cells": [
  {
   "cell_type": "code",
   "execution_count": null,
   "metadata": {
    "_cell_guid": "b1076dfc-b9ad-4769-8c92-a6c4dae69d19",
    "_uuid": "8f2839f25d086af736a60e9eeb907d3b93b6e0e5"
   },
   "outputs": [],
   "source": [
    "# This Python 3 environment comes with many helpful analytics libraries installed\n",
    "# It is defined by the kaggle/python Docker image: https://github.com/kaggle/docker-python\n",
    "# For example, here's several helpful packages to load\n",
    "\n",
    "import numpy as np # linear algebra\n",
    "import pandas as pd # data processing, CSV file I/O (e.g. pd.read_csv)\n",
    "\n",
    "# Input data files are available in the read-only \"../input/\" directory\n",
    "# For example, running this (by clicking run or pressing Shift+Enter) will list all files under the input directory\n",
    "\n",
    "import os\n",
    "for dirname, _, filenames in os.walk('/kaggle/input/standard/'):\n",
    "    for filename in filenames:\n",
    "        print(os.path.join(dirname, filename))\n",
    "\n",
    "# You can write up to 5GB to the current directory (/kaggle/working/) that gets preserved as output when you create a version using \"Save & Run All\" \n",
    "# You can also write temporary files to /kaggle/temp/, but they won't be saved outside of the current session"
   ]
  },
  {
   "cell_type": "code",
   "execution_count": null,
   "metadata": {},
   "outputs": [],
   "source": [
    "import torch\n",
    "import torchvision\n",
    "from torchvision import datasets, models, transforms\n",
    "import os\n",
    "from torch.autograd import Variable\n",
    "import matplotlib.pyplot as plt\n",
    "from torch.utils.data import SubsetRandomSampler\n",
    "import time\n",
    "import numpy as np\n",
    "%matplotlib inline"
   ]
  },
  {
   "cell_type": "code",
   "execution_count": null,
   "metadata": {},
   "outputs": [],
   "source": [
    "data_transform = transforms.Compose([transforms.Scale([224,224]),\n",
    "                                        transforms.Resize([224,224]),\n",
    "                                        transforms.ToTensor(),\n",
    "                                        transforms.Normalize(mean=[0.5,0.5,0.5], std=[0.5,0.5,0.5])])\n",
    "\n",
    "image_datasets = datasets.ImageFolder(root =\"/kaggle/input/traindf/train\",transform = data_transform)\n",
    "print(image_datasets)\n",
    "N=len(image_datasets)\n",
    "print(N)\n",
    "batch_size=16"
   ]
  },
  {
   "cell_type": "code",
   "execution_count": null,
   "metadata": {},
   "outputs": [],
   "source": [
    "validation_split = .01\n",
    "shuffle_dataset = True\n",
    "random_seed= 42\n",
    "\n",
    "# Creating data indices for training and validation splits:\n",
    "dataset_size = len(image_datasets)\n",
    "indices = list(range(dataset_size))\n",
    "split = int(np.floor(validation_split * dataset_size))\n",
    "if shuffle_dataset :\n",
    "    np.random.seed(random_seed)\n",
    "    np.random.shuffle(indices)"
   ]
  },
  {
   "cell_type": "code",
   "execution_count": null,
   "metadata": {},
   "outputs": [],
   "source": [
    "train_indices_1,val_indices_1 = indices[split:],indices[:split]\n",
    "val_indices_2 = indices[split:2*split]\n",
    "train_indices_2=[]\n",
    "train_indices_3=[]\n",
    "train_indices_4=[]\n",
    "train_indices_5=[]\n",
    "for i in indices:\n",
    "    if i not in val_indices_2:\n",
    "        train_indices_2.append(i)\n",
    "val_indices_3=indices[2*split:3*split]\n",
    "for i in indices:\n",
    "    if i not in val_indices_3:\n",
    "        train_indices_3.append(i)\n",
    "val_indices_4=indices[3*split:4*split]\n",
    "for i in indices:\n",
    "    if i not in val_indices_4:\n",
    "        train_indices_4.append(i)\n",
    "val_indices_5=indices[4*split:]\n",
    "for i in indices:\n",
    "    if i not in val_indices_5:\n",
    "        train_indices_5.append(i)"
   ]
  },
  {
   "cell_type": "code",
   "execution_count": null,
   "metadata": {},
   "outputs": [],
   "source": [
    "# Creating PT data samplers and loaders:\n",
    "train_data = SubsetRandomSampler(train_indices_2)\n",
    "valid_data = SubsetRandomSampler(val_indices_2)\n",
    "\n",
    "train_loader = torch.utils.data.DataLoader(image_datasets, batch_size=batch_size, \n",
    "                                           sampler=train_data)\n",
    "val_loader = torch.utils.data.DataLoader(image_datasets, batch_size=batch_size,\n",
    "                                                sampler=valid_data)"
   ]
  },
  {
   "cell_type": "code",
   "execution_count": null,
   "metadata": {},
   "outputs": [],
   "source": [
    "X_example, y_example = next(iter(train_loader))\n",
    "example_classes = image_datasets.classes\n",
    "index_classes = image_datasets.class_to_idx\n",
    "print(example_classes)\n",
    "print(index_classes)"
   ]
  },
  {
   "cell_type": "code",
   "execution_count": null,
   "metadata": {},
   "outputs": [],
   "source": [
    "classes_index = {value:key for key,value in index_classes.items()}"
   ]
  },
  {
   "cell_type": "code",
   "execution_count": null,
   "metadata": {},
   "outputs": [],
   "source": [
    "# 根据value得到key\n",
    "list (index_classes.keys()) [list (index_classes.values()).index (172)]"
   ]
  },
  {
   "cell_type": "code",
   "execution_count": null,
   "metadata": {},
   "outputs": [],
   "source": [
    "img=torchvision.utils.make_grid(X_example)\n",
    "img=img.numpy().transpose([1,2,0])\n",
    "print([example_classes[i] for i in y_example])\n",
    "plt.imshow(img)\n",
    "plt.show()"
   ]
  },
  {
   "cell_type": "code",
   "execution_count": null,
   "metadata": {},
   "outputs": [],
   "source": [
    "model = models.densenet121(pretrained=True)\n",
    "Use_gpu = torch.cuda.is_available()\n",
    "device = torch.device(\"cuda:0\" if torch.cuda.is_available else \"cpu\")\n",
    "print(model)"
   ]
  },
  {
   "cell_type": "code",
   "execution_count": null,
   "metadata": {},
   "outputs": [],
   "source": [
    "#!pip install efficientnet_pytorch\n",
    "#from efficientnet_pytorch import EfficientNet\n",
    "#model=EfficientNet.from_pretrained('efficientnet-b5')\n",
    "#print(model)"
   ]
  },
  {
   "cell_type": "code",
   "execution_count": null,
   "metadata": {},
   "outputs": [],
   "source": [
    "for parma in model.parameters():\n",
    "    parma.requires_grad = True\n",
    "    model.classifier = torch.nn.Sequential(torch.nn.Linear(1024, 512),\n",
    "                                           torch.nn.Dropout(p=0.5),\n",
    "                                           torch.nn.Linear(512, 473))\n",
    "if Use_gpu:\n",
    "    model = model.cuda()\n",
    "model.to(device)"
   ]
  },
  {
   "cell_type": "code",
   "execution_count": null,
   "metadata": {},
   "outputs": [],
   "source": [
    "dataloader={\n",
    "    \"train\":train_loader,\n",
    "    \"valid\":val_loader\n",
    "}\n",
    "img_datasets={\n",
    "    \"train\":train_data,\n",
    "    \"valid\":valid_data\n",
    "}"
   ]
  },
  {
   "cell_type": "code",
   "execution_count": null,
   "metadata": {},
   "outputs": [],
   "source": [
    "cost = torch.nn.CrossEntropyLoss()\n",
    "optimizer = torch.optim.Adam(model.parameters())\n",
    "loss_f = torch.nn.CrossEntropyLoss()\n",
    "optimizer = torch.optim.Adam(model.parameters(), lr = 0.000001)\n",
    "epoch_n = 2"
   ]
  },
  {
   "cell_type": "code",
   "execution_count": null,
   "metadata": {},
   "outputs": [],
   "source": [
    "time_open = time.time()\n",
    "for epoch in range(epoch_n):\n",
    "    print(\"Epoch {}/{}\".format(epoch, epoch_n - 1))\n",
    "    print(\"-\"*10)\n",
    "    \n",
    "    for phase in [\"train\", \"valid\"]:\n",
    "        if phase == \"train\":\n",
    "            print(\"Training...\")\n",
    "            model.train(True)\n",
    "        else:\n",
    "            print(\"Validing...\")\n",
    "            model.train(False)\n",
    "            \n",
    "        running_loss = 0.0\n",
    "        running_corrects = 0\n",
    "    \n",
    "        for batch, data in enumerate(dataloader[phase], 1):\n",
    "            X, y = data\n",
    "            if Use_gpu:\n",
    "                X, y = Variable(X.cuda()), Variable(y.cuda())\n",
    "            else:\n",
    "                X, y = Variable(X), Variable(y)\n",
    "            X = X.to(device)\n",
    "            y = y.to(device)\n",
    "        \n",
    "            y_pred = model(X)\n",
    "            _, pred = torch.max(y_pred.data, 1)\n",
    "            optimizer.zero_grad()\n",
    "            loss = loss_f(y_pred, y)\n",
    "        \n",
    "            if phase == \"train\":\n",
    "                loss.backward()\n",
    "                optimizer.step()\n",
    "            \n",
    "            running_loss += loss.data\n",
    "            running_corrects += torch.sum(pred == y.data)\n",
    "               \n",
    "            if batch%500 == 0 and phase ==\"train\":\n",
    "                print(\"Batch {}, Train Loss:{:.4f}, Train ACC:{:.4f}%\".format(batch, running_loss/batch, 100*running_corrects/(16*batch)))\n",
    "\n",
    "        epoch_loss = running_loss*16/len(img_datasets[phase])\n",
    "        epoch_acc = 100*running_corrects/len(img_datasets[phase])\n",
    "        print(\"{} Loss:{:.4f} Acc:{:.4f}%\".format(phase, epoch_loss,epoch_acc))\n",
    "            \n",
    "time_end = time.time() - time_open\n",
    "print(time_end)"
   ]
  },
  {
   "cell_type": "code",
   "execution_count": null,
   "metadata": {},
   "outputs": [],
   "source": [
    "torch.save(model,\"efficientnet1.pkl\")"
   ]
  },
  {
   "cell_type": "code",
   "execution_count": null,
   "metadata": {},
   "outputs": [],
   "source": [
    "import torch\n",
    "model = torch.load('/kaggle/input/vggmodel/model.pkl')"
   ]
  },
  {
   "cell_type": "code",
   "execution_count": null,
   "metadata": {},
   "outputs": [],
   "source": [
    "test_datasets = datasets.ImageFolder(root =\"/kaggle/input/testdf/test_integrate\",\n",
    "                                         transform = data_transform)\n",
    "print(len(test_datasets))\n",
    "n=len(test_datasets)\n",
    "test_loader=torch.utils.data.DataLoader(test_datasets,batch_size=15,shuffle=False)"
   ]
  },
  {
   "cell_type": "code",
   "execution_count": null,
   "metadata": {},
   "outputs": [],
   "source": [
    "test_clasees = test_datasets.classes\n",
    "test_classes = test_datasets.class_to_idx\n",
    "print(test_clasees)\n",
    "print(test_classes)"
   ]
  },
  {
   "cell_type": "code",
   "execution_count": null,
   "metadata": {},
   "outputs": [],
   "source": [
    "Use_gpu = torch.cuda.is_available()\n",
    "device = torch.device(\"cuda:0\" if torch.cuda.is_available else \"cpu\")"
   ]
  },
  {
   "cell_type": "code",
   "execution_count": null,
   "metadata": {},
   "outputs": [],
   "source": [
    "prediction=[]\n",
    "for i, data in enumerate(test_loader):\n",
    "    X, y = data\n",
    "    X, y = Variable(X.cuda()), Variable(y.cuda())\n",
    "    X = X.to(device)\n",
    "    y = y.to(device)\n",
    "    y_pred = model(X)\n",
    "    _, pred = torch.max(y_pred.data, 1)\n",
    "    predict=pred.data.cpu().numpy()\n",
    "    #print(predict)\n",
    "    prediction.append(predict)"
   ]
  },
  {
   "cell_type": "code",
   "execution_count": null,
   "metadata": {},
   "outputs": [],
   "source": [
    "prediction=[]\n",
    "correct=0\n",
    "for i, data in enumerate(test_loader):\n",
    "    X, y = data\n",
    "    X, y = Variable(X.cuda()), Variable(y.cuda())\n",
    "    X = X.to(device)\n",
    "    y = y.to(device)\n",
    "    y_pred = model(X)\n",
    "    maxk=max((1,3))\n",
    "    y_resize = y.view(-1,1)\n",
    "    _,pred=y_pred.topk(maxk,1,True,True)\n",
    "    correct+=torch.eq(pred,y_resize).sum().float().item()\n",
    "    predict=pred.data.cpu().numpy()\n",
    "    print(predict)\n",
    "    prediction.append(predict)"
   ]
  },
  {
   "cell_type": "code",
   "execution_count": null,
   "metadata": {},
   "outputs": [],
   "source": [
    "correct/n"
   ]
  },
  {
   "cell_type": "code",
   "execution_count": null,
   "metadata": {},
   "outputs": [],
   "source": [
    "prediction"
   ]
  },
  {
   "cell_type": "code",
   "execution_count": null,
   "metadata": {},
   "outputs": [],
   "source": [
    "def evaluteTop5(model,test_loader):\n",
    "    model.eval()\n",
    "    correct=0\n",
    "    for x,y in test_loader:\n",
    "        x,y=x.to(device),y.to(device)\n",
    "        with torch.no_grad():\n",
    "            logits=model(x)\n",
    "            maxk=max((1,5))\n",
    "            y_resize=y.view(-1,1)\n",
    "            _,pred=logits.topk(maxk,1,True,True)\n",
    "            correct+=torch.eq(pred,y_resize).sum().float().item()\n",
    "    return correct"
   ]
  },
  {
   "cell_type": "code",
   "execution_count": null,
   "metadata": {},
   "outputs": [],
   "source": [
    "T = evaluteTop5(model,test_loader)"
   ]
  },
  {
   "cell_type": "code",
   "execution_count": null,
   "metadata": {},
   "outputs": [],
   "source": [
    "print(T)"
   ]
  },
  {
   "cell_type": "code",
   "execution_count": null,
   "metadata": {},
   "outputs": [],
   "source": [
    "# 根据value得到key\n",
    "#list (index_classes.keys()) [list (index_classes.values()).index (123)]"
   ]
  },
  {
   "cell_type": "code",
   "execution_count": null,
   "metadata": {},
   "outputs": [],
   "source": [
    "img_test=torchvision.utils.make_grid(X)\n",
    "img_test=img_test.numpy().transpose([1,2,0])\n",
    "#print([test_classes[i] for i in y])\n",
    "plt.figure(figsize=(12,80))\n",
    "plt.imshow(img_test)\n",
    "plt.show()"
   ]
  },
  {
   "cell_type": "code",
   "execution_count": null,
   "metadata": {},
   "outputs": [],
   "source": [
    "pred=[]\n",
    "for i in range(len(prediction)):\n",
    "    M = prediction[i]\n",
    "    for k in M:\n",
    "        pred.append(k)\n"
   ]
  },
  {
   "cell_type": "code",
   "execution_count": null,
   "metadata": {},
   "outputs": [],
   "source": [
    "pred_class=[]\n",
    "for i in pred:\n",
    "    d=classes_index[i]\n",
    "    pred_class.append(d)"
   ]
  },
  {
   "cell_type": "code",
   "execution_count": null,
   "metadata": {},
   "outputs": [],
   "source": [
    "p = np.arange(0,474)\n",
    "True_label=[]\n",
    "for i in range(473):\n",
    "    s=classes_index[i]\n",
    "    True_label.append(s)\n",
    "len(True_label)"
   ]
  },
  {
   "cell_type": "code",
   "execution_count": null,
   "metadata": {},
   "outputs": [],
   "source": [
    "import pandas as pd\n",
    "X={\"True_label\":True_label,\"Pred_label\":pred_class}\n",
    "X=pd.DataFrame(X)\n",
    "X.to_csv(\"standard.csv\")"
   ]
  },
  {
   "cell_type": "code",
   "execution_count": null,
   "metadata": {},
   "outputs": [],
   "source": [
    "import pandas as pd\n",
    "true=[]\n",
    "for i in range(len(prediction)):\n",
    "    sss=prediction[i]\n",
    "    true.append(sss)\n",
    "\n",
    "#true=np.array(true)\n",
    "#X=pd.DataFrame(true,columns=[\"Label\"])\n",
    "#X.to_csv(\"X.csv\")"
   ]
  },
  {
   "cell_type": "code",
   "execution_count": null,
   "metadata": {},
   "outputs": [],
   "source": [
    "p = np.arange(0,474)\n",
    "true=np.array(true)\n",
    "t=0\n",
    "F={}\n",
    "for i in true:\n",
    "    F[i]=i\n",
    "\n",
    "Q={}\n",
    "for i in p:\n",
    "    Q[i]=i"
   ]
  },
  {
   "cell_type": "code",
   "execution_count": null,
   "metadata": {},
   "outputs": [],
   "source": [
    "p = np.arange(0,474)\n",
    "A=[]\n",
    "B=[]\n",
    "for i in p:\n",
    "    A.append(i)\n",
    "for j in true:\n",
    "    B.append(j)"
   ]
  },
  {
   "cell_type": "code",
   "execution_count": null,
   "metadata": {},
   "outputs": [],
   "source": [
    "for i in range(474):\n",
    "    print(A[i]==B[i])"
   ]
  },
  {
   "cell_type": "code",
   "execution_count": null,
   "metadata": {},
   "outputs": [],
   "source": []
  }
 ],
 "metadata": {
  "kernelspec": {
   "display_name": "Python 3",
   "language": "python",
   "name": "python3"
  },
  "language_info": {
   "codemirror_mode": {
    "name": "ipython",
    "version": 3
   },
   "file_extension": ".py",
   "mimetype": "text/x-python",
   "name": "python",
   "nbconvert_exporter": "python",
   "pygments_lexer": "ipython3",
   "version": "3.7.6"
  },
  "toc": {
   "base_numbering": 1,
   "nav_menu": {},
   "number_sections": true,
   "sideBar": true,
   "skip_h1_title": false,
   "title_cell": "Table of Contents",
   "title_sidebar": "Contents",
   "toc_cell": false,
   "toc_position": {},
   "toc_section_display": true,
   "toc_window_display": false
  }
 },
 "nbformat": 4,
 "nbformat_minor": 4
}
