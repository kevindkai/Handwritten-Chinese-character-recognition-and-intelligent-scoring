{
 "cells": [
  {
   "cell_type": "code",
   "execution_count": null,
   "metadata": {},
   "outputs": [],
   "source": [
    "#使用交叉验证测量精度；每个折叠由StratifiedKFold执行分层抽样产生，其所包含的各个类的比例符合整体比例\n",
    "from sklearn.model_selection import StratifiedKFold\n",
    "from sklearn.base import clone\n",
    "skfolds=StratifiedKFold(n_splits=3,random_state=42)\n",
    "for train_index,test_index in skfolds.split(X_train,Y_train_5):\n",
    "    clone_clf=clone(sgd_clf)\n",
    "    X_train_folds=X_train[train_index]\n",
    "    Y_train_folds=(Y_train_5[train_index])\n",
    "    X_test_folds=X_train[test_index]\n",
    "    Y_test_folds=(Y_train_5[test_index])\n",
    "    clone_clf.fit(X_train_folds,Y_train_folds)\n",
    "    Y_pred=clone_clf.predict(X_test_folds)\n",
    "    n_correct=sum(Y_pred==Y_test_folds)\n",
    "    print(n_correct/len(Y_pred))"
   ]
  },
  {
   "cell_type": "code",
   "execution_count": null,
   "metadata": {},
   "outputs": [],
   "source": [
    "#使用cross_val_score()函数来评估SGDClassifier模型，采用K-fold交叉验证法，K-fold=3\n",
    "from sklearn.model_selection import cross_val_score\n",
    "cross_val_score(sgd_clf,X_train,Y_train_5,cv=3,scoring='accuracy')"
   ]
  },
  {
   "cell_type": "code",
   "execution_count": null,
   "metadata": {},
   "outputs": [],
   "source": [
    "#然而这组数据的空准确率就高达90%，说明accuracy不适合评估偏斜数据集(skewed dataset)，所以我们要用混淆矩阵，精度、召回率、AUC、ROC、F1分数来评估"
   ]
  },
  {
   "cell_type": "code",
   "execution_count": null,
   "metadata": {},
   "outputs": [],
   "source": [
    "#混淆矩阵\n",
    "from sklearn.metrics import confusion_matrix\n",
    "confusion_matrix(Y_train_5,Y_train_pred)"
   ]
  },
  {
   "cell_type": "code",
   "execution_count": null,
   "metadata": {},
   "outputs": [],
   "source": [
    "#精度和召回率\n",
    "from sklearn.metrics import precision_score,recall_score,precision_recall_curve\n",
    "print(precision_score(Y_train_5,Y_train_pred))\n",
    "print(recall_score(Y_train_5,Y_train_pred))"
   ]
  },
  {
   "cell_type": "code",
   "execution_count": null,
   "metadata": {},
   "outputs": [],
   "source": [
    "# F1分数\n",
    "from sklearn.metrics import f1_score\n",
    "f1_score(Y_train_5,Y_train_pred)"
   ]
  },
  {
   "cell_type": "code",
   "execution_count": null,
   "metadata": {},
   "outputs": [],
   "source": [
    "#(1)精度和召回率的权衡，精度增加，召回率下降；精度减小，召回率上升\n",
    "#(2)要理解这个权衡过程，我们来看看SGDClassifier如何进行分类决策。对于每个实例，它会基于决策函数计算出一个分值，如果该值大于阈值，则将该实例判为正类；\n",
    "#否则将其判为负类；于是，在增加阈值的情况下，我们可以增加召回率，但降低了精度\n",
    "#(3)sklearn不允许直接设置阈值，但是可以访问它用于预测的决策分数，调用decision_function\n",
    "Y_scores=sgd_clf.decision_function([some_digit])\n",
    "Y_scores\n",
    "threshold=0 # sklearn默认的阈值是0,可以通过改变阈值提高召回率\n",
    "Y_some_digit_pred=(Y_scores>threshold)"
   ]
  },
  {
   "cell_type": "code",
   "execution_count": null,
   "metadata": {},
   "outputs": [],
   "source": [
    "#要如何确定用什么样的阈值呢？首先，使用cross_val_predict()函数获取训练集中所有实例的分数，但是这次需要它返回的是决策分数而不是预测结果\n",
    "Y_scores=cross_val_predict(sgd_clf,X_train,Y_train_5,cv=3,method='decision_function')\n",
    "print(Y_scores)"
   ]
  },
  {
   "cell_type": "code",
   "execution_count": null,
   "metadata": {},
   "outputs": [],
   "source": [
    "#有了这些分数，可以使用precision_call_curve()函数来计算可能的阈值的精度和召回率\n",
    "from sklearn.metrics import precision_recall_curve\n",
    "precisions,recalls,thresholds=precision_recall_curve(Y_train_5,Y_scores)"
   ]
  },
  {
   "cell_type": "code",
   "execution_count": null,
   "metadata": {},
   "outputs": [],
   "source": [
    "#最后，使用matplotlib绘制精度和召回率相对于阈值的函数图\n",
    "import matplotlib.pyplot as plt\n",
    "def plot_precision_recall_vs_threshold(precisions,recalls,thresholds):\n",
    "    plt.plot(thresholds,precisions[:-1],'b--',label='Precision')\n",
    "    plt.plot(thresholds,recalls[:-1],'g--',label='Recall')\n",
    "    plt.xlabel('Threshold')\n",
    "    plt.legend(loc='upper left')\n",
    "    plt.ylim([0,-1])\n",
    "plot_precision_recall_vs_threshold(precisions,recalls,thresholds)\n",
    "plt.show()"
   ]
  },
  {
   "cell_type": "code",
   "execution_count": null,
   "metadata": {},
   "outputs": [],
   "source": [
    "Y_train_pred_90=(Y_scores>7000) #使准确率大于90%\n",
    "precision_score(Y_train_5,Y_train_pred_90)\n",
    "recall_score(Y_train_5,Y_train_pred_90)"
   ]
  },
  {
   "cell_type": "code",
   "execution_count": null,
   "metadata": {},
   "outputs": [],
   "source": [
    "# ROC曲线\n",
    "from sklearn.metrics import roc_curve\n",
    "fpr,tpr,thresholds=roc_curve(Y_train_5,Y_scores)\n",
    "def plot_roc_curve(fpr,tpr,label-None):\n",
    "    plt.plot(fpr,tpr,linewidth=2,label=label)\n",
    "    plt.plott([0,1],[0,1],'k--')\n",
    "    plt.axis([0,1,0,1])\n",
    "    plt.xlabel('False Positive Rate')\n",
    "    plt.ylabel('True Positive Rate')\n",
    "plt_roc_curve(fpr,tpr)\n",
    "plt.show()"
   ]
  },
  {
   "cell_type": "code",
   "execution_count": null,
   "metadata": {},
   "outputs": [],
   "source": [
    "from sklearn.metrics import roc_auc_score\n",
    "roc_auc_score(Y_train_5,Y_scores)"
   ]
  }
 ],
 "metadata": {
  "kernelspec": {
   "display_name": "Python 3",
   "language": "python",
   "name": "python3"
  },
  "language_info": {
   "codemirror_mode": {
    "name": "ipython",
    "version": 3
   },
   "file_extension": ".py",
   "mimetype": "text/x-python",
   "name": "python",
   "nbconvert_exporter": "python",
   "pygments_lexer": "ipython3",
   "version": "3.7.4"
  },
  "toc": {
   "base_numbering": 1,
   "nav_menu": {},
   "number_sections": true,
   "sideBar": true,
   "skip_h1_title": false,
   "title_cell": "Table of Contents",
   "title_sidebar": "Contents",
   "toc_cell": false,
   "toc_position": {},
   "toc_section_display": true,
   "toc_window_display": false
  }
 },
 "nbformat": 4,
 "nbformat_minor": 2
}
