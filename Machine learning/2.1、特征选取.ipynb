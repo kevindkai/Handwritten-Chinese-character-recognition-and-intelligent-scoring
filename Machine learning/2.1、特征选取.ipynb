{
 "cells": [
  {
   "cell_type": "code",
   "execution_count": 1,
   "metadata": {},
   "outputs": [],
   "source": [
    "import pandas as pd\n",
    "import numpy as np"
   ]
  },
  {
   "cell_type": "code",
   "execution_count": null,
   "metadata": {},
   "outputs": [],
   "source": [
    "#-------------------------------------特征选择的类型-----------------------------------------\n",
    "#一、 基于统计的特征选择(相关系数法；p值法)\n",
    "data.corr()\n",
    "import seaborn as sns\n",
    "import matplotlib.style as style\n",
    "style.use('fivethirtyeight')\n",
    "sns.heatmap(data.corr())"
   ]
  },
  {
   "cell_type": "code",
   "execution_count": null,
   "metadata": {},
   "outputs": [],
   "source": [
    "data.corr()['Y'] #特征和响应变量之间的相关性\n",
    "bool_index=data.corr()['Y'].abs()>0.2 #过滤器，找出相关系数大于0.2的bool索引\n",
    "highly_correlated_features=data.columns[bool_index] #存储与响应变量高度相关的特征\n",
    "highly_correlated_features=highly_correlated_features.drop('Y') #找出特征变量，删除响应变量\n",
    "X_subsetted=X[highly_correlated_features]\n",
    "get_best_model_and_accuracy(DT,tree_params,X_subsetted,Y)"
   ]
  },
  {
   "cell_type": "code",
   "execution_count": null,
   "metadata": {},
   "outputs": [],
   "source": [
    "#将相关性特征选择方法封装\n",
    "from sklearn.base import TransformerMixin,BaseEstimator\n",
    "class CustomCorrelationChooser(TransformerMixin,BaseEstimator):\n",
    "    def __init__(self,response,cols_to_keep=[].threshold=None):\n",
    "        self.response=response #保存响应变量\n",
    "        self.threshold=threshold #保存阈值\n",
    "        self.cols_to_keep=cols_to_keep #初始化一个变量，存放要保留的特征名\n",
    "    \n",
    "    def transform(self,X):\n",
    "        return X[self.cols_to_keep] #转换会选择合适的列\n",
    "    \n",
    "    def fit(self,X):\n",
    "        df=pd.concat([X,self.response],axis=1) #创建新的Dataframe，存放特征和响应\n",
    "        self.cols_to_keep=df.columns[df.corr()[df.columns[-1]].abs>self.threshold] #保留高于阈值的列的名称\n",
    "        self.cols_to_keep=[c for c in self.cols_to_keep if c in X.columns] #只保留X的列，删除响应变量\n",
    "        return self\n",
    "#实例化    \n",
    "ccc=CustomCorrelationChooser(threshold=0.2,response=Y)\n",
    "ccc.fit_transform(X)"
   ]
  },
  {
   "cell_type": "code",
   "execution_count": 10,
   "metadata": {},
   "outputs": [],
   "source": [
    "#将特征选择方法加入pipeline中\n",
    "from copy import deepcopy\n",
    "#使用响应变量初始化特征选择器\n",
    "ccc=CustomCorrelationChooser(response=Y)\n",
    "#创建流水线，包括选择器\n",
    "ccc_pipe=Pipeline([('correlation_select',ccc),('classifier',DT)])\n",
    "tree_pipe_params={'classifier_max_depth':[None,1,3,5,7,9,11,13,15,17,19]}\n",
    "#复制决策树参数\n",
    "tree_pipe_params=deepcopy(tree_pipe_params)\n",
    "#更新决策树的参数选择\n",
    "ccc_pipe_params.update({'correlation_select_threshold':[0,0.1,0.2,0.3]})\n",
    "#查看效果\n",
    "get_best_model_and_accuracy(ccc_pipe,ccc_pipe_params,X,Y)"
   ]
  },
  {
   "cell_type": "code",
   "execution_count": null,
   "metadata": {},
   "outputs": [],
   "source": [
    "#2.使用假设检验选择特征\n",
    "from sklearn.feature_selection import SelectKBest\n",
    "from sklearn.feature_selection import f_classif\n",
    "k_best=SelectKBest(f_classif,k=5)\n",
    "k_best.fit_transform(X,Y)\n",
    "k_best.pvalues_\n",
    "p_values=pd.DataFrame({'columns':X.columns,'p_value':k_best.pvalues_}).sort_values('p_value')\n",
    "#bool索引\n",
    "p_values['p_values']<0.05\n",
    "p_values[p_values['p_values']<0.05]"
   ]
  },
  {
   "cell_type": "code",
   "execution_count": null,
   "metadata": {},
   "outputs": [],
   "source": [
    "#用SelectKbest建立流水线\n",
    "select_k_pipe=Pipeline([('k_best',k_best),('classifier',DT)]) #建立流水线\n",
    "select_k_best_pipe_params=deepcopy(tree_pipe_params) \n",
    "select_k_best_pipe_params.update({'k_best_k':list(range(1,23))+['all']})\n",
    "print(select_k_best_pipe_params)\n",
    "#查看效果\n",
    "get_best_model_and_accuracy(select_k_pipe,select_k_best_pipe_params,X,Y)\n",
    "#查看选择的特征\n",
    "k_best=SelectKBest(f_classif,k=7)"
   ]
  },
  {
   "cell_type": "code",
   "execution_count": null,
   "metadata": {},
   "outputs": [],
   "source": [
    "#-----------------------二、基于模型的特征选择-----------------\n",
    "#使用机器学习选择特征(拟合一个决策树，从而输出特征重要性，然后进行筛选)\n",
    "tree=DecisionTreeClassifier()\n",
    "tree.fit(X,Y)\n",
    "importances=pd.DataFrame({'importance':tree.feature_importances_,'feature':X.columns}).sort_values('importance',ascending=False)\n",
    "from sklearn.feature_selection import SelectFromModel\n",
    "select_from_model=SelectFromModel(DecisionTreeClassifier(),threshold=0.05)\n",
    "selected=select_from_model.fit_transform(X,Y)"
   ]
  },
  {
   "cell_type": "code",
   "execution_count": null,
   "metadata": {},
   "outputs": [],
   "source": [
    "tree_pipe_params={'classifier_max_depth':[1,3,5,7,9]}\n",
    "from sklearn.pipeline import Pipeline\n",
    "#创建基于DecisionTreeClassifier的SelectFromModel\n",
    "select=SelectFromModel(DecisionTreeClassifier)\n",
    "select_from_pipe=Pipeline([('select',select),('classifier',DT)])\n",
    "select_from_pipe_params=deepcopy(tree_pipe_params)\n",
    "select_from_pipe_params.update({'select_threshold':[0.01,0.05,0.1,0.2,0.3,0.4,0.5,0.6,'mean','median','2.*mean'],'select_estimator_max_depth':[None,1,3,5,7,9]})\n",
    "print(select_from_pipe_params)\n",
    "get_best_model_and_accuracy(select_from_pipe,select_from_pipe_params,X,Y)\n"
   ]
  },
  {
   "cell_type": "code",
   "execution_count": null,
   "metadata": {},
   "outputs": [],
   "source": [
    "#设置流水线最佳参数\n",
    "select_from_pipe.set_params(**{'select_threshold':0.01,\n",
    "                              'select_estimator_max_depth':None,\n",
    "                              'classifier_max_depth':3})\n",
    "select_from_pipe.steps[0][1].fit(X,Y)\n",
    "X.columns[select_from_pipe.steps[0][1].get_support()]"
   ]
  }
 ],
 "metadata": {
  "kernelspec": {
   "display_name": "Python 3",
   "language": "python",
   "name": "python3"
  },
  "language_info": {
   "codemirror_mode": {
    "name": "ipython",
    "version": 3
   },
   "file_extension": ".py",
   "mimetype": "text/x-python",
   "name": "python",
   "nbconvert_exporter": "python",
   "pygments_lexer": "ipython3",
   "version": "3.7.7"
  },
  "toc": {
   "base_numbering": 1,
   "nav_menu": {},
   "number_sections": true,
   "sideBar": true,
   "skip_h1_title": false,
   "title_cell": "Table of Contents",
   "title_sidebar": "Contents",
   "toc_cell": false,
   "toc_position": {},
   "toc_section_display": true,
   "toc_window_display": false
  }
 },
 "nbformat": 4,
 "nbformat_minor": 2
}
