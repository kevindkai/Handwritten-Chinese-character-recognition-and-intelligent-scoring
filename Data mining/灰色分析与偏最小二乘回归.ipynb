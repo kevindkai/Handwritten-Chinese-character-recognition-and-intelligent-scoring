{
 "cells": [
  {
   "cell_type": "code",
   "execution_count": 1,
   "metadata": {},
   "outputs": [],
   "source": [
    "#灰色关联分析\n",
    "import pandas as pd\n",
    "import numpy as np\n",
    "from numpy import *\n",
    "import matplotlib.pyplot as plt\n",
    "%matplotlib inline"
   ]
  },
  {
   "cell_type": "code",
   "execution_count": 2,
   "metadata": {},
   "outputs": [
    {
     "name": "stdout",
     "output_type": "stream",
     "text": [
      "          x1        x2     x3     x4     x5        x6       x7     x8  \\\n",
      "0    59501.0  18138.36  113.1  113.2  115.9  0.030879   1890.7  827.7   \n",
      "1    68352.6  19613.37  101.4   92.4  103.8  0.033869   2323.7  819.2   \n",
      "2    79145.2  21522.30  101.2   99.3  104.9  0.034529   2749.9  797.2   \n",
      "3    93571.6  24444.68  118.5  126.1  106.7  0.034340   3403.5  760.4   \n",
      "4   114830.1  27679.94  114.1  132.6  114.8  0.031470   5064.5  694.5   \n",
      "5   133048.2  29983.81   97.6   63.7   63.0  0.034731   6894.9  683.1   \n",
      "6   158008.0  35909.07  110.9  115.7  118.1  0.038102   7923.1  676.9   \n",
      "7   187205.8  40339.62  116.5  125.3  114.6  0.039174   8757.8  645.9   \n",
      "8   214432.7  44845.72  102.7   99.4  106.6  0.040000  10996.4  631.2   \n",
      "9   242842.8  48943.94  103.2   98.9  104.5  0.040536  13478.8  619.3   \n",
      "10  271896.1  51851.12   99.8   98.9  104.5  0.042243  16573.8  614.3   \n",
      "11  300930.8  54205.34  101.7   85.7   98.9  0.045971  21042.7  622.4   \n",
      "12  332316.3  55659.89  103.4   95.8   99.5  0.046747  24853.1  664.2   \n",
      "13  366261.6  58059.76   96.5  102.1   98.7  0.043767  26708.0  675.2   \n",
      "\n",
      "          x9      y  \n",
      "0   0.087948   47.3  \n",
      "1   0.082695   12.4  \n",
      "2   0.078785    7.9  \n",
      "3   0.082531   42.1  \n",
      "4   0.084388  183.0  \n",
      "5   0.095008  131.6  \n",
      "6   0.089588  231.8  \n",
      "7   0.091862  341.5  \n",
      "8   0.089740  492.3  \n",
      "9   0.092215  510.4  \n",
      "10  0.093985  505.8  \n",
      "11  0.096979  462.0  \n",
      "12  0.099776  385.8  \n",
      "13  0.098181  503.3  \n",
      "          x1        x2     x3     x4     x5        x6       x7     x8  \\\n",
      "0    59501.0  18138.36  113.1  113.2  115.9  0.030879   1890.7  827.7   \n",
      "1    68352.6  19613.37  101.4   92.4  103.8  0.033869   2323.7  819.2   \n",
      "2    79145.2  21522.30  101.2   99.3  104.9  0.034529   2749.9  797.2   \n",
      "3    93571.6  24444.68  118.5  126.1  106.7  0.034340   3403.5  760.4   \n",
      "4   114830.1  27679.94  114.1  132.6  114.8  0.031470   5064.5  694.5   \n",
      "5   133048.2  29983.81   97.6   63.7   63.0  0.034731   6894.9  683.1   \n",
      "6   158008.0  35909.07  110.9  115.7  118.1  0.038102   7923.1  676.9   \n",
      "7   187205.8  40339.62  116.5  125.3  114.6  0.039174   8757.8  645.9   \n",
      "8   214432.7  44845.72  102.7   99.4  106.6  0.040000  10996.4  631.2   \n",
      "9   242842.8  48943.94  103.2   98.9  104.5  0.040536  13478.8  619.3   \n",
      "10  271896.1  51851.12   99.8   98.9  104.5  0.042243  16573.8  614.3   \n",
      "11  300930.8  54205.34  101.7   85.7   98.9  0.045971  21042.7  622.4   \n",
      "12  332316.3  55659.89  103.4   95.8   99.5  0.046747  24853.1  664.2   \n",
      "13  366261.6  58059.76   96.5  102.1   98.7  0.043767  26708.0  675.2   \n",
      "\n",
      "          x9      y  \n",
      "0   0.087948   47.3  \n",
      "1   0.082695   12.4  \n",
      "2   0.078785    7.9  \n",
      "3   0.082531   42.1  \n",
      "4   0.084388  183.0  \n",
      "5   0.095008  131.6  \n",
      "6   0.089588  231.8  \n",
      "7   0.091862  341.5  \n",
      "8   0.089740  492.3  \n",
      "9   0.092215  510.4  \n",
      "10  0.093985  505.8  \n",
      "11  0.096979  462.0  \n",
      "12  0.099776  385.8  \n",
      "13  0.098181  503.3  \n"
     ]
    }
   ],
   "source": [
    "data=pd.read_excel(\"C:\\\\Users\\\\kw\\\\Desktop\\\\data.xlsx\")\n",
    "print(data)\n",
    "#data.index=data[\"year\"]\n",
    "#data=data.drop(columns=[\"year\"],axis=1)\n",
    "print(data)\n",
    "data=pd.DataFrame(data)"
   ]
  },
  {
   "cell_type": "code",
   "execution_count": 3,
   "metadata": {},
   "outputs": [
    {
     "name": "stdout",
     "output_type": "stream",
     "text": [
      "          0         1         2         3         4         5         6  \\\n",
      "0  1.000000  0.872500  0.542809  0.572885  0.557907  0.844745  0.901699   \n",
      "1  0.872500  1.000000  0.530860  0.539898  0.578391  0.849405  0.813773   \n",
      "2  0.542809  0.530860  1.000000  0.751511  0.610076  0.573214  0.555838   \n",
      "3  0.581088  0.548906  0.757811  1.000000  0.736676  0.599948  0.570762   \n",
      "4  0.566773  0.586986  0.618658  0.737172  1.000000  0.585937  0.533476   \n",
      "5  0.844745  0.849405  0.573214  0.591761  0.577099  1.000000  0.784781   \n",
      "6  0.901699  0.813773  0.555838  0.562545  0.524261  0.784781  1.000000   \n",
      "7  0.527135  0.503026  0.616186  0.554193  0.558849  0.505937  0.538589   \n",
      "8  0.800466  0.814390  0.563364  0.589885  0.569593  0.824367  0.742136   \n",
      "9  0.793453  0.846603  0.521934  0.522415  0.563910  0.751257  0.761332   \n",
      "\n",
      "          7         8         9  \n",
      "0  0.527135  0.789190  0.792143  \n",
      "1  0.503026  0.803622  0.845518  \n",
      "2  0.616186  0.546013  0.519825  \n",
      "3  0.563250  0.581066  0.529357  \n",
      "4  0.567570  0.561168  0.570967  \n",
      "5  0.505937  0.814799  0.749709  \n",
      "6  0.538589  0.728141  0.759967  \n",
      "7  1.000000  0.472788  0.490640  \n",
      "8  0.491307  1.000000  0.751646  \n",
      "9  0.492563  0.740332  1.000000  \n"
     ]
    }
   ],
   "source": [
    "def GRA_ONE(gray,m=0):\n",
    "    gray=(gray-gray.min())/(gray.max()-gray.min()) #标准化\n",
    "    std=gray.iloc[:,m]  #参考数列\n",
    "    ce=gray.iloc[:,0:]  #比较数列\n",
    "    n,m=ce.shape[0],ce.shape[1]  #计算行列\n",
    "    \n",
    "    a=zeros([m,n])\n",
    "    for i in range(m):\n",
    "        for j in range(n):\n",
    "            a[i,j]=abs(ce.iloc[j,i]-std[j])\n",
    "            \n",
    "    c,d=np.amax(a),np.amin(a)\n",
    "    \n",
    "    result=np.zeros([m,n])\n",
    "    for i in range(m):\n",
    "        for j in range(n):\n",
    "            result[i,j]=(d+0.5*c)/(a[i,j]+0.5*c)\n",
    "            \n",
    "    result2=np.zeros(m)\n",
    "    for i in range(m):\n",
    "        result2[i]=np.mean(result[i,:])\n",
    "        RT=pd.DataFrame(result2)\n",
    "        \n",
    "    return RT\n",
    "\n",
    "def GRA(Data_Frame):\n",
    "    list_columns=[str(s) for s in range(len(Data_Frame.columns)) if s not in [None]]\n",
    "    df_local=pd.DataFrame(columns=list_columns)\n",
    "    for i in range(len(Data_Frame.columns)):\n",
    "        df_local.iloc[:,i]=GRA_ONE(Data_Frame,m=i)[0]\n",
    "    return df_local\n",
    "\n",
    "\n",
    "data_gra=GRA(data)\n",
    "result=data_gra.sort_values\n",
    "print(data_gra)\n"
   ]
  },
  {
   "cell_type": "code",
   "execution_count": 4,
   "metadata": {},
   "outputs": [],
   "source": [
    "grey=pd.DataFrame(data_gra)"
   ]
  },
  {
   "cell_type": "code",
   "execution_count": 5,
   "metadata": {},
   "outputs": [
    {
     "data": {
      "text/html": [
       "<div>\n",
       "<style scoped>\n",
       "    .dataframe tbody tr th:only-of-type {\n",
       "        vertical-align: middle;\n",
       "    }\n",
       "\n",
       "    .dataframe tbody tr th {\n",
       "        vertical-align: top;\n",
       "    }\n",
       "\n",
       "    .dataframe thead th {\n",
       "        text-align: right;\n",
       "    }\n",
       "</style>\n",
       "<table border=\"1\" class=\"dataframe\">\n",
       "  <thead>\n",
       "    <tr style=\"text-align: right;\">\n",
       "      <th></th>\n",
       "      <th>0</th>\n",
       "      <th>1</th>\n",
       "      <th>2</th>\n",
       "      <th>3</th>\n",
       "      <th>4</th>\n",
       "      <th>5</th>\n",
       "      <th>6</th>\n",
       "      <th>7</th>\n",
       "      <th>8</th>\n",
       "      <th>9</th>\n",
       "    </tr>\n",
       "  </thead>\n",
       "  <tbody>\n",
       "    <tr>\n",
       "      <th>0</th>\n",
       "      <td>1.000000</td>\n",
       "      <td>0.872500</td>\n",
       "      <td>0.542809</td>\n",
       "      <td>0.572885</td>\n",
       "      <td>0.557907</td>\n",
       "      <td>0.844745</td>\n",
       "      <td>0.901699</td>\n",
       "      <td>0.527135</td>\n",
       "      <td>0.789190</td>\n",
       "      <td>0.792143</td>\n",
       "    </tr>\n",
       "    <tr>\n",
       "      <th>1</th>\n",
       "      <td>0.872500</td>\n",
       "      <td>1.000000</td>\n",
       "      <td>0.530860</td>\n",
       "      <td>0.539898</td>\n",
       "      <td>0.578391</td>\n",
       "      <td>0.849405</td>\n",
       "      <td>0.813773</td>\n",
       "      <td>0.503026</td>\n",
       "      <td>0.803622</td>\n",
       "      <td>0.845518</td>\n",
       "    </tr>\n",
       "    <tr>\n",
       "      <th>2</th>\n",
       "      <td>0.542809</td>\n",
       "      <td>0.530860</td>\n",
       "      <td>1.000000</td>\n",
       "      <td>0.751511</td>\n",
       "      <td>0.610076</td>\n",
       "      <td>0.573214</td>\n",
       "      <td>0.555838</td>\n",
       "      <td>0.616186</td>\n",
       "      <td>0.546013</td>\n",
       "      <td>0.519825</td>\n",
       "    </tr>\n",
       "    <tr>\n",
       "      <th>3</th>\n",
       "      <td>0.581088</td>\n",
       "      <td>0.548906</td>\n",
       "      <td>0.757811</td>\n",
       "      <td>1.000000</td>\n",
       "      <td>0.736676</td>\n",
       "      <td>0.599948</td>\n",
       "      <td>0.570762</td>\n",
       "      <td>0.563250</td>\n",
       "      <td>0.581066</td>\n",
       "      <td>0.529357</td>\n",
       "    </tr>\n",
       "    <tr>\n",
       "      <th>4</th>\n",
       "      <td>0.566773</td>\n",
       "      <td>0.586986</td>\n",
       "      <td>0.618658</td>\n",
       "      <td>0.737172</td>\n",
       "      <td>1.000000</td>\n",
       "      <td>0.585937</td>\n",
       "      <td>0.533476</td>\n",
       "      <td>0.567570</td>\n",
       "      <td>0.561168</td>\n",
       "      <td>0.570967</td>\n",
       "    </tr>\n",
       "    <tr>\n",
       "      <th>5</th>\n",
       "      <td>0.844745</td>\n",
       "      <td>0.849405</td>\n",
       "      <td>0.573214</td>\n",
       "      <td>0.591761</td>\n",
       "      <td>0.577099</td>\n",
       "      <td>1.000000</td>\n",
       "      <td>0.784781</td>\n",
       "      <td>0.505937</td>\n",
       "      <td>0.814799</td>\n",
       "      <td>0.749709</td>\n",
       "    </tr>\n",
       "    <tr>\n",
       "      <th>6</th>\n",
       "      <td>0.901699</td>\n",
       "      <td>0.813773</td>\n",
       "      <td>0.555838</td>\n",
       "      <td>0.562545</td>\n",
       "      <td>0.524261</td>\n",
       "      <td>0.784781</td>\n",
       "      <td>1.000000</td>\n",
       "      <td>0.538589</td>\n",
       "      <td>0.728141</td>\n",
       "      <td>0.759967</td>\n",
       "    </tr>\n",
       "    <tr>\n",
       "      <th>7</th>\n",
       "      <td>0.527135</td>\n",
       "      <td>0.503026</td>\n",
       "      <td>0.616186</td>\n",
       "      <td>0.554193</td>\n",
       "      <td>0.558849</td>\n",
       "      <td>0.505937</td>\n",
       "      <td>0.538589</td>\n",
       "      <td>1.000000</td>\n",
       "      <td>0.472788</td>\n",
       "      <td>0.490640</td>\n",
       "    </tr>\n",
       "    <tr>\n",
       "      <th>8</th>\n",
       "      <td>0.800466</td>\n",
       "      <td>0.814390</td>\n",
       "      <td>0.563364</td>\n",
       "      <td>0.589885</td>\n",
       "      <td>0.569593</td>\n",
       "      <td>0.824367</td>\n",
       "      <td>0.742136</td>\n",
       "      <td>0.491307</td>\n",
       "      <td>1.000000</td>\n",
       "      <td>0.751646</td>\n",
       "    </tr>\n",
       "    <tr>\n",
       "      <th>9</th>\n",
       "      <td>0.793453</td>\n",
       "      <td>0.846603</td>\n",
       "      <td>0.521934</td>\n",
       "      <td>0.522415</td>\n",
       "      <td>0.563910</td>\n",
       "      <td>0.751257</td>\n",
       "      <td>0.761332</td>\n",
       "      <td>0.492563</td>\n",
       "      <td>0.740332</td>\n",
       "      <td>1.000000</td>\n",
       "    </tr>\n",
       "  </tbody>\n",
       "</table>\n",
       "</div>"
      ],
      "text/plain": [
       "          0         1         2         3         4         5         6  \\\n",
       "0  1.000000  0.872500  0.542809  0.572885  0.557907  0.844745  0.901699   \n",
       "1  0.872500  1.000000  0.530860  0.539898  0.578391  0.849405  0.813773   \n",
       "2  0.542809  0.530860  1.000000  0.751511  0.610076  0.573214  0.555838   \n",
       "3  0.581088  0.548906  0.757811  1.000000  0.736676  0.599948  0.570762   \n",
       "4  0.566773  0.586986  0.618658  0.737172  1.000000  0.585937  0.533476   \n",
       "5  0.844745  0.849405  0.573214  0.591761  0.577099  1.000000  0.784781   \n",
       "6  0.901699  0.813773  0.555838  0.562545  0.524261  0.784781  1.000000   \n",
       "7  0.527135  0.503026  0.616186  0.554193  0.558849  0.505937  0.538589   \n",
       "8  0.800466  0.814390  0.563364  0.589885  0.569593  0.824367  0.742136   \n",
       "9  0.793453  0.846603  0.521934  0.522415  0.563910  0.751257  0.761332   \n",
       "\n",
       "          7         8         9  \n",
       "0  0.527135  0.789190  0.792143  \n",
       "1  0.503026  0.803622  0.845518  \n",
       "2  0.616186  0.546013  0.519825  \n",
       "3  0.563250  0.581066  0.529357  \n",
       "4  0.567570  0.561168  0.570967  \n",
       "5  0.505937  0.814799  0.749709  \n",
       "6  0.538589  0.728141  0.759967  \n",
       "7  1.000000  0.472788  0.490640  \n",
       "8  0.491307  1.000000  0.751646  \n",
       "9  0.492563  0.740332  1.000000  "
      ]
     },
     "execution_count": 5,
     "metadata": {},
     "output_type": "execute_result"
    }
   ],
   "source": [
    "grey"
   ]
  },
  {
   "cell_type": "code",
   "execution_count": 6,
   "metadata": {},
   "outputs": [],
   "source": [
    "grey.to_csv(\"C:\\\\Users\\\\kw\\\\Desktop\\\\cor.csv\")"
   ]
  },
  {
   "cell_type": "code",
   "execution_count": 7,
   "metadata": {},
   "outputs": [],
   "source": [
    "from sklearn.cross_decomposition import PLSRegression"
   ]
  },
  {
   "cell_type": "code",
   "execution_count": 8,
   "metadata": {},
   "outputs": [],
   "source": [
    "X=data[['x1','x5','x6','x8','x9']]\n",
    "Y=data['y']"
   ]
  },
  {
   "cell_type": "code",
   "execution_count": 9,
   "metadata": {},
   "outputs": [
    {
     "data": {
      "text/plain": [
       "PLSRegression(copy=True, max_iter=500, n_components=2, scale=True, tol=1e-06)"
      ]
     },
     "execution_count": 9,
     "metadata": {},
     "output_type": "execute_result"
    }
   ],
   "source": [
    "plsr=PLSRegression()\n",
    "plsr.fit(X,Y)"
   ]
  },
  {
   "cell_type": "code",
   "execution_count": 10,
   "metadata": {},
   "outputs": [
    {
     "data": {
      "text/plain": [
       "array([[ 59.29184186],\n",
       "       [ 43.43487139],\n",
       "       [ 46.15143494],\n",
       "       [-78.89689428],\n",
       "       [ 29.64077831]])"
      ]
     },
     "execution_count": 10,
     "metadata": {},
     "output_type": "execute_result"
    }
   ],
   "source": [
    "plsr.coef_"
   ]
  },
  {
   "cell_type": "code",
   "execution_count": 11,
   "metadata": {},
   "outputs": [
    {
     "data": {
      "text/plain": [
       "(array([[-2.46560633, -0.01204703],\n",
       "        [-2.43472971, -0.50180466],\n",
       "        [-2.43409681, -0.11468485],\n",
       "        [-1.85956685,  0.07577154],\n",
       "        [-1.43506071,  0.97143322],\n",
       "        [-0.18586967, -2.67863955],\n",
       "        [-0.09739163,  0.99972242],\n",
       "        [ 0.53297374,  0.8892687 ],\n",
       "        [ 0.71195857,  0.59897252],\n",
       "        [ 1.16627662,  0.45219478],\n",
       "        [ 1.63702012,  0.40814153],\n",
       "        [ 2.29579463, -0.15008896],\n",
       "        [ 2.43222602, -0.4840759 ],\n",
       "        [ 2.136072  , -0.45416377]]),\n",
       " array([-1.12289501, -1.29461536, -1.31675695, -1.14848085, -0.45520301,\n",
       "        -0.70810919, -0.21508975,  0.32467306,  1.0666624 ,  1.1557208 ,\n",
       "         1.13308717,  0.91757568,  0.54264473,  1.12078629]))"
      ]
     },
     "execution_count": 11,
     "metadata": {},
     "output_type": "execute_result"
    }
   ],
   "source": [
    "plsr.fit_transform(X,Y)"
   ]
  },
  {
   "cell_type": "code",
   "execution_count": 13,
   "metadata": {},
   "outputs": [
    {
     "data": {
      "text/plain": [
       "'nipals'"
      ]
     },
     "execution_count": 13,
     "metadata": {},
     "output_type": "execute_result"
    }
   ],
   "source": [
    "plsr.algorithm"
   ]
  },
  {
   "cell_type": "code",
   "execution_count": 14,
   "metadata": {},
   "outputs": [
    {
     "data": {
      "text/plain": [
       "2"
      ]
     },
     "execution_count": 14,
     "metadata": {},
     "output_type": "execute_result"
    }
   ],
   "source": [
    "plsr.n_components"
   ]
  },
  {
   "cell_type": "code",
   "execution_count": 15,
   "metadata": {},
   "outputs": [
    {
     "data": {
      "text/plain": [
       "'A'"
      ]
     },
     "execution_count": 15,
     "metadata": {},
     "output_type": "execute_result"
    }
   ],
   "source": [
    "plsr.mode"
   ]
  },
  {
   "cell_type": "code",
   "execution_count": 16,
   "metadata": {},
   "outputs": [
    {
     "data": {
      "text/plain": [
       "<bound method BaseEstimator.get_params of PLSRegression(copy=True, max_iter=500, n_components=2, scale=True, tol=1e-06)>"
      ]
     },
     "execution_count": 16,
     "metadata": {},
     "output_type": "execute_result"
    }
   ],
   "source": [
    "plsr.get_params"
   ]
  },
  {
   "cell_type": "code",
   "execution_count": 17,
   "metadata": {},
   "outputs": [
    {
     "data": {
      "text/plain": [
       "array([[ 0.52556666,  0.0166592 ],\n",
       "       [-0.11903909,  0.99116488],\n",
       "       [ 0.51147121,  0.03170249],\n",
       "       [-0.47389356, -0.20062994],\n",
       "       [ 0.49154671, -0.278546  ]])"
      ]
     },
     "execution_count": 17,
     "metadata": {},
     "output_type": "execute_result"
    }
   ],
   "source": [
    "plsr.x_loadings_"
   ]
  },
  {
   "cell_type": "code",
   "execution_count": null,
   "metadata": {},
   "outputs": [],
   "source": []
  }
 ],
 "metadata": {
  "kernelspec": {
   "display_name": "Python 3",
   "language": "python",
   "name": "python3"
  },
  "language_info": {
   "codemirror_mode": {
    "name": "ipython",
    "version": 3
   },
   "file_extension": ".py",
   "mimetype": "text/x-python",
   "name": "python",
   "nbconvert_exporter": "python",
   "pygments_lexer": "ipython3",
   "version": "3.7.4"
  },
  "toc": {
   "base_numbering": 1,
   "nav_menu": {},
   "number_sections": true,
   "sideBar": true,
   "skip_h1_title": false,
   "title_cell": "Table of Contents",
   "title_sidebar": "Contents",
   "toc_cell": false,
   "toc_position": {},
   "toc_section_display": true,
   "toc_window_display": false
  }
 },
 "nbformat": 4,
 "nbformat_minor": 2
}
